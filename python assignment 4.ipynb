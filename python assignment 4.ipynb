{
 "cells": [
  {
   "cell_type": "markdown",
   "metadata": {},
   "source": [
    "1.1 Write a Python Program(with class concepts) to find the area of the triangle using the below  formula. \n",
    "area = (s*(s-a)*(s-b)*(s-c)) ** 0.5 \n",
    "Function to take the length of the sides of triangle from user should be defined in the parent  class and function to calculate the area should be defined in subclass. \n"
   ]
  },
  {
   "cell_type": "code",
   "execution_count": 20,
   "metadata": {},
   "outputs": [
    {
     "name": "stdout",
     "output_type": "stream",
     "text": [
      "Enter the Dimensions of the triangel:3 4 5\n",
      "area =  6.0\n"
     ]
    }
   ],
   "source": [
    "import math\n",
    "class triangle:\n",
    "    def Input(self):\n",
    "        a,b,c = map(int,input(\"Enter the Dimensions of the triangel:\").split(\" \"))\n",
    "        self.x=a\n",
    "        self.y=b\n",
    "        self.z=c\n",
    "    \n",
    "class area(triangle):\n",
    "    def triangel_area(self):\n",
    "        s = (self.x+self.y+self.z)/2\n",
    "        Area = math.sqrt(s*(s-self.x)*(s-self.y)*(s-self.z))\n",
    "        print('area = ',Area)\n",
    "    \n",
    "if __name__=='__main__':\n",
    "    a = area()\n",
    "    a.Input()\n",
    "    a.triangel_area()\n",
    "    \n",
    "        "
   ]
  },
  {
   "cell_type": "markdown",
   "metadata": {},
   "source": []
  },
  {
   "cell_type": "markdown",
   "metadata": {},
   "source": [
    "1.2 Write a function filter_long_words() that takes a list of words and an integer n and returns  the list of words that are longer than n. \n"
   ]
  },
  {
   "cell_type": "code",
   "execution_count": 25,
   "metadata": {},
   "outputs": [
    {
     "data": {
      "text/plain": [
       "['123456', 'python']"
      ]
     },
     "execution_count": 25,
     "metadata": {},
     "output_type": "execute_result"
    }
   ],
   "source": [
    "def filter_long_words(lst,n):\n",
    "    new_lst = []\n",
    "    for i in lst:\n",
    "        if len(i)>n:\n",
    "            new_lst.append(i)\n",
    "    return new_lst\n",
    "\n",
    "words = ['abc','123456','python','java']\n",
    "grater = filter_long_words(words,4)\n",
    "grater"
   ]
  },
  {
   "cell_type": "code",
   "execution_count": null,
   "metadata": {},
   "outputs": [],
   "source": []
  },
  {
   "cell_type": "markdown",
   "metadata": {},
   "source": [
    "2.1 Write a Python program using function concept that maps list of words into a list of integers  representing the lengths of the corresponding words. \n",
    "Hint: If a list [ ab,cde,erty] is passed on to the python function output should come as [2,3,4] Here 2,3 and 4 are the lengths of the words in the list. \n"
   ]
  },
  {
   "cell_type": "code",
   "execution_count": 28,
   "metadata": {},
   "outputs": [
    {
     "data": {
      "text/plain": [
       "[3, 6, 6, 4]"
      ]
     },
     "execution_count": 28,
     "metadata": {},
     "output_type": "execute_result"
    }
   ],
   "source": [
    "def string_lenght(lst):\n",
    "    length_lst = []\n",
    "    for i in lst:\n",
    "        length_lst.append(len(i))\n",
    "    return length_lst\n",
    "        \n",
    "words = ['abc','123456','python','java']\n",
    "lenth = string_lenght(words)\n",
    "lenth"
   ]
  },
  {
   "cell_type": "code",
   "execution_count": null,
   "metadata": {},
   "outputs": [],
   "source": []
  },
  {
   "cell_type": "markdown",
   "metadata": {},
   "source": [
    "2.2 Write a Python function which takes a character (i.e. a string of length 1) and returns True if  it is a vowel, False otherwise. \n"
   ]
  },
  {
   "cell_type": "code",
   "execution_count": 34,
   "metadata": {},
   "outputs": [
    {
     "name": "stdout",
     "output_type": "stream",
     "text": [
      "enter a character : i\n"
     ]
    },
    {
     "data": {
      "text/plain": [
       "True"
      ]
     },
     "execution_count": 34,
     "metadata": {},
     "output_type": "execute_result"
    }
   ],
   "source": [
    "def vowel_verification(c):\n",
    "    c = c.lower()\n",
    "    if (c=='a')|(c=='e')|(c=='i')|(c=='o')|(c=='u'):\n",
    "        return True\n",
    "    else:\n",
    "        return False\n",
    "    \n",
    "a = input(\"enter a character : \")\n",
    "x = vowel_verification(a)\n",
    "x"
   ]
  },
  {
   "cell_type": "code",
   "execution_count": null,
   "metadata": {},
   "outputs": [],
   "source": []
  }
 ],
 "metadata": {
  "kernelspec": {
   "display_name": "Python 3",
   "language": "python",
   "name": "python3"
  },
  "language_info": {
   "codemirror_mode": {
    "name": "ipython",
    "version": 3
   },
   "file_extension": ".py",
   "mimetype": "text/x-python",
   "name": "python",
   "nbconvert_exporter": "python",
   "pygments_lexer": "ipython3",
   "version": "3.6.5"
  }
 },
 "nbformat": 4,
 "nbformat_minor": 2
}
