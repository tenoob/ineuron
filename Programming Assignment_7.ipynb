{
  "nbformat": 4,
  "nbformat_minor": 0,
  "metadata": {
    "colab": {
      "name": "Untitled28.ipynb",
      "provenance": [],
      "authorship_tag": "ABX9TyPLRTMEaJcJ6SE08RsUlFUQ",
      "include_colab_link": true
    },
    "kernelspec": {
      "name": "python3",
      "display_name": "Python 3"
    },
    "language_info": {
      "name": "python"
    }
  },
  "cells": [
    {
      "cell_type": "markdown",
      "metadata": {
        "id": "view-in-github",
        "colab_type": "text"
      },
      "source": [
        "<a href=\"https://colab.research.google.com/github/tenoob/ineuron/blob/main/Programming%20Assignment_7.ipynb\" target=\"_parent\"><img src=\"https://colab.research.google.com/assets/colab-badge.svg\" alt=\"Open In Colab\"/></a>"
      ]
    },
    {
      "cell_type": "markdown",
      "source": [
        "1.Write a Python Program to find sum of array?"
      ],
      "metadata": {
        "id": "NC1E9m7EcNZg"
      }
    },
    {
      "cell_type": "code",
      "execution_count": 1,
      "metadata": {
        "colab": {
          "base_uri": "https://localhost:8080/"
        },
        "id": "a5j52cHRcDnV",
        "outputId": "1c12efb5-0554-4f01-98c7-55f273a49d61"
      },
      "outputs": [
        {
          "output_type": "stream",
          "name": "stdout",
          "text": [
            "sum of  [1, 2, 3, 4, 5] = 15\n"
          ]
        }
      ],
      "source": [
        "lst = [1,2,3,4,5]\n",
        "\n",
        "print(\"sum of \",lst,'=',sum(lst))"
      ]
    },
    {
      "cell_type": "markdown",
      "source": [
        "2.Write a Python Program to find largest element in an array?"
      ],
      "metadata": {
        "id": "T26I5l_Mctch"
      }
    },
    {
      "cell_type": "code",
      "source": [
        "lst = [1,2,3,4,5]\n",
        "print(\"largest element in the list\",lst,'=',max(lst))"
      ],
      "metadata": {
        "colab": {
          "base_uri": "https://localhost:8080/"
        },
        "id": "HSokyiphcnjR",
        "outputId": "24c3c198-0412-4882-c97e-76ecd3a4ab89"
      },
      "execution_count": 2,
      "outputs": [
        {
          "output_type": "stream",
          "name": "stdout",
          "text": [
            "largest element in the list [1, 2, 3, 4, 5] = 5\n"
          ]
        }
      ]
    },
    {
      "cell_type": "markdown",
      "source": [
        "3.Write a Python Program for array rotation?"
      ],
      "metadata": {
        "id": "nmmF9lDPc9WO"
      }
    },
    {
      "cell_type": "code",
      "source": [
        "lst = [1,2,3,4,5,]\n",
        "rotation = 2\n",
        "\n",
        "temp = []\n",
        "i=0\n",
        "while i<rotation:\n",
        "    temp.append(lst[i])\n",
        "    i+=1\n",
        "i=0\n",
        "while rotation<len(lst):\n",
        "    lst[i]=lst[rotation]\n",
        "    i+=1\n",
        "    rotation+=1\n",
        "lst[:] = lst[:i]+temp\n",
        "\n",
        "print(lst)"
      ],
      "metadata": {
        "colab": {
          "base_uri": "https://localhost:8080/"
        },
        "id": "KKEZ3byQc3qU",
        "outputId": "78cc9143-68f2-4450-e1a3-6c827d5b804c"
      },
      "execution_count": 6,
      "outputs": [
        {
          "output_type": "stream",
          "name": "stdout",
          "text": [
            "[3, 4, 5, 1, 2]\n"
          ]
        }
      ]
    },
    {
      "cell_type": "markdown",
      "source": [
        "4.Write a Python Program to Split the array and add the first part to the end?"
      ],
      "metadata": {
        "id": "UrCgyquRekpo"
      }
    },
    {
      "cell_type": "code",
      "source": [
        "lst = [1,2,3,4,5]\n",
        "split_index = 2 \n",
        "lst = lst[split_index:]+lst[:split_index]\n",
        "print(\"list after split = \",lst)"
      ],
      "metadata": {
        "colab": {
          "base_uri": "https://localhost:8080/"
        },
        "id": "N--x_qRJeLTx",
        "outputId": "f57ef9b9-e8da-4a3a-eafb-e83a5c4f23ea"
      },
      "execution_count": 9,
      "outputs": [
        {
          "output_type": "stream",
          "name": "stdout",
          "text": [
            "list after split =  [3, 4, 5, 1, 2]\n"
          ]
        }
      ]
    },
    {
      "cell_type": "markdown",
      "source": [
        "5.Write a Python Program to check if given array is Monotonic?"
      ],
      "metadata": {
        "id": "q9K_1gCKfSlZ"
      }
    },
    {
      "cell_type": "code",
      "source": [
        "def mon(A):\n",
        "    return (all(A[i] <= A[i + 1] for i in range(len(A) - 1)) or\n",
        "            all(A[i] >= A[i + 1] for i in range(len(A) - 1)))\n",
        "  \n",
        "\n",
        "\n",
        "lst = [1,2,3,4,5]\n",
        "print(mon(lst))"
      ],
      "metadata": {
        "colab": {
          "base_uri": "https://localhost:8080/"
        },
        "id": "OWu8WcxOe_ZJ",
        "outputId": "b57b1701-dd40-4c65-a544-06e2130e16d2"
      },
      "execution_count": 12,
      "outputs": [
        {
          "output_type": "stream",
          "name": "stdout",
          "text": [
            "True\n"
          ]
        }
      ]
    },
    {
      "cell_type": "code",
      "source": [
        ""
      ],
      "metadata": {
        "id": "Z3r2H-3zgXgy"
      },
      "execution_count": null,
      "outputs": []
    }
  ]
}