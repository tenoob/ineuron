{
  "nbformat": 4,
  "nbformat_minor": 0,
  "metadata": {
    "colab": {
      "name": "Untitled25.ipynb",
      "provenance": [],
      "authorship_tag": "ABX9TyMT/xxbdbnvLIODMAoqbjsr",
      "include_colab_link": true
    },
    "kernelspec": {
      "name": "python3",
      "display_name": "Python 3"
    },
    "language_info": {
      "name": "python"
    }
  },
  "cells": [
    {
      "cell_type": "markdown",
      "metadata": {
        "id": "view-in-github",
        "colab_type": "text"
      },
      "source": [
        "<a href=\"https://colab.research.google.com/github/tenoob/ineuron/blob/main/Assignment_7.ipynb\" target=\"_parent\"><img src=\"https://colab.research.google.com/assets/colab-badge.svg\" alt=\"Open In Colab\"/></a>"
      ]
    },
    {
      "cell_type": "markdown",
      "source": [
        "1.What is the name of the feature responsible for generating Regex objects?"
      ],
      "metadata": {
        "id": "ZaywRk6J_MQU"
      }
    },
    {
      "cell_type": "code",
      "execution_count": 1,
      "metadata": {
        "id": "dmpRs-Xm_HkB",
        "colab": {
          "base_uri": "https://localhost:8080/"
        },
        "outputId": "54dc867e-80d7-456f-f371-551148a45a52"
      },
      "outputs": [
        {
          "output_type": "stream",
          "name": "stdout",
          "text": [
            "re.compile()\n"
          ]
        }
      ],
      "source": [
        "print(\"re.compile()\")"
      ]
    },
    {
      "cell_type": "markdown",
      "source": [
        "2.Why do raw strings often appear in Regex objects?"
      ],
      "metadata": {
        "id": "lp_DFhALjmyg"
      }
    },
    {
      "cell_type": "code",
      "source": [
        "print(\"so backslashes do not have to be escaped\")"
      ],
      "metadata": {
        "colab": {
          "base_uri": "https://localhost:8080/"
        },
        "id": "sZ1DNtSfji0n",
        "outputId": "6c9b484e-444b-4e60-99cb-f8e0d6f52b1f"
      },
      "execution_count": 2,
      "outputs": [
        {
          "output_type": "stream",
          "name": "stdout",
          "text": [
            "so backslashes do not have to be escaped\n"
          ]
        }
      ]
    },
    {
      "cell_type": "markdown",
      "source": [
        "3.What is the return value of the search() method?"
      ],
      "metadata": {
        "id": "Fhwe2S_Aj3P5"
      }
    },
    {
      "cell_type": "code",
      "source": [
        "print(\"it returns match objects\")"
      ],
      "metadata": {
        "colab": {
          "base_uri": "https://localhost:8080/"
        },
        "id": "VI53bitUj0EG",
        "outputId": "b7031fbb-3214-4716-e641-18b049be1a63"
      },
      "execution_count": 3,
      "outputs": [
        {
          "output_type": "stream",
          "name": "stdout",
          "text": [
            "it returns match objects\n"
          ]
        }
      ]
    },
    {
      "cell_type": "markdown",
      "source": [
        "4.From a Match item, how do you get the actual strings that match the pattern?"
      ],
      "metadata": {
        "id": "kfPsJqsTkFaP"
      }
    },
    {
      "cell_type": "code",
      "source": [
        "print(\"by using group() method\")"
      ],
      "metadata": {
        "colab": {
          "base_uri": "https://localhost:8080/"
        },
        "id": "pwJYR-e4kCkM",
        "outputId": "1a7d53d4-7396-4559-a2da-65f0810ad79e"
      },
      "execution_count": 4,
      "outputs": [
        {
          "output_type": "stream",
          "name": "stdout",
          "text": [
            "by using group() method\n"
          ]
        }
      ]
    },
    {
      "cell_type": "markdown",
      "source": [
        "5.In the regex which created from the r&#39;(\\d\\d\\d)-(\\d\\d\\d-\\d\\d\\d\\d)&#39;, what does group zero cover?\n",
        "Group 2? Group 1?"
      ],
      "metadata": {
        "id": "HBR6ffo9kTK2"
      }
    },
    {
      "cell_type": "code",
      "source": [
        "print(\"group 0 is entire match\")\n",
        "print(\"group 1 is first parentheses match\")\n",
        "print(\"group 2 is second parentheses match\")"
      ],
      "metadata": {
        "colab": {
          "base_uri": "https://localhost:8080/"
        },
        "id": "jxgokGhVkQu3",
        "outputId": "904e9bd8-df47-4f56-d352-fbe450b75b69"
      },
      "execution_count": 5,
      "outputs": [
        {
          "output_type": "stream",
          "name": "stdout",
          "text": [
            "group 0 is entire match\n",
            "group 1 is first parentheses match\n",
            "group 2 is second parentheses match\n"
          ]
        }
      ]
    },
    {
      "cell_type": "markdown",
      "source": [
        "6.In standard expression syntax, parentheses and intervals have distinct meanings. How can you tell\n",
        "a regex that you want it to fit real parentheses and periods?"
      ],
      "metadata": {
        "id": "hxL0jUtYks1a"
      }
    },
    {
      "cell_type": "code",
      "source": [
        "print(\"by using a backslash before them like \\. , \\) \")"
      ],
      "metadata": {
        "colab": {
          "base_uri": "https://localhost:8080/"
        },
        "id": "6YwNPM63ko0H",
        "outputId": "019e835a-217b-47e2-cf7d-80b1bdb2e2f8"
      },
      "execution_count": 7,
      "outputs": [
        {
          "output_type": "stream",
          "name": "stdout",
          "text": [
            "by using a backslash before them like \\. , \\) \n"
          ]
        }
      ]
    },
    {
      "cell_type": "markdown",
      "source": [
        "7.The findall() method returns a string list or a list of string tuples. What causes it to return one of\n",
        "the two options?"
      ],
      "metadata": {
        "id": "HI9Zv6JQlGU_"
      }
    },
    {
      "cell_type": "code",
      "source": [
        "print(\"list is return if regex has no group \")\n",
        "print(\"list of string tuples is return if regex has group\")"
      ],
      "metadata": {
        "colab": {
          "base_uri": "https://localhost:8080/"
        },
        "id": "X7NkmXzrk8TE",
        "outputId": "d35f1389-46d0-4aa6-c030-793fa3077138"
      },
      "execution_count": 8,
      "outputs": [
        {
          "output_type": "stream",
          "name": "stdout",
          "text": [
            "list is return if regex has no group \n",
            "list of string tuples is return if regex has group\n"
          ]
        }
      ]
    },
    {
      "cell_type": "markdown",
      "source": [
        "8.In standard expressions, what does the | character mean?"
      ],
      "metadata": {
        "id": "z5fB_F-tlhPb"
      }
    },
    {
      "cell_type": "code",
      "source": [
        "print(\"| represents or , example A|B = A or B\")"
      ],
      "metadata": {
        "colab": {
          "base_uri": "https://localhost:8080/"
        },
        "id": "QQGnlAs-ld8k",
        "outputId": "dc6255ea-f800-4d1d-c181-309ae2b4d220"
      },
      "execution_count": 9,
      "outputs": [
        {
          "output_type": "stream",
          "name": "stdout",
          "text": [
            "| represents or , example A|B = A or B\n"
          ]
        }
      ]
    },
    {
      "cell_type": "markdown",
      "source": [
        "9.In regular expressions, what does the character stand for?"
      ],
      "metadata": {
        "id": "x_aAw81Xl6ko"
      }
    },
    {
      "cell_type": "code",
      "source": [
        "print(\"for match 0 or 1 of the preceding group or signnify nongreedy matching\")"
      ],
      "metadata": {
        "colab": {
          "base_uri": "https://localhost:8080/"
        },
        "id": "nc4MLlRhlzZx",
        "outputId": "634bce60-a204-49ba-9d49-3046e6a43fd6"
      },
      "execution_count": 10,
      "outputs": [
        {
          "output_type": "stream",
          "name": "stdout",
          "text": [
            "for match 0 or 1 of the preceding group or signnify nongreedy matching\n"
          ]
        }
      ]
    },
    {
      "cell_type": "markdown",
      "source": [
        "10.In regular expressions, what is the difference between the + and * characters?"
      ],
      "metadata": {
        "id": "TY9PJnpamR0c"
      }
    },
    {
      "cell_type": "code",
      "source": [
        "print(\"+ matches 1 or more\")\n",
        "print(\"* matches 0 or more\")"
      ],
      "metadata": {
        "colab": {
          "base_uri": "https://localhost:8080/"
        },
        "id": "HF15dh9gmOyH",
        "outputId": "98c183fd-223e-42ec-8ff8-89a402b55372"
      },
      "execution_count": 11,
      "outputs": [
        {
          "output_type": "stream",
          "name": "stdout",
          "text": [
            "+ matches 1 or more\n",
            "* matches 0 or more\n"
          ]
        }
      ]
    },
    {
      "cell_type": "markdown",
      "source": [
        "11.What is the difference between {4} and {4,5} in regular expression?"
      ],
      "metadata": {
        "id": "p8rLrmjHmf2l"
      }
    },
    {
      "cell_type": "code",
      "source": [
        "print(\"{4} denotes 4 instances exactly matched in preceding group \")\n",
        "print(\"{4,5} denotes 4and 5 matched instances\")"
      ],
      "metadata": {
        "colab": {
          "base_uri": "https://localhost:8080/"
        },
        "id": "aOZk0muJmdhU",
        "outputId": "a1f708e8-5349-4af3-cefd-1ed2355ee548"
      },
      "execution_count": 12,
      "outputs": [
        {
          "output_type": "stream",
          "name": "stdout",
          "text": [
            "{4} denotes 4 instances exactly matched in preceding group \n",
            "{4,5} denotes 4and 5 matched instances\n"
          ]
        }
      ]
    },
    {
      "cell_type": "markdown",
      "source": [
        "12.What do you mean by the \\d, \\w, and \\s shorthand character classes signify in regular\n",
        "expressions?"
      ],
      "metadata": {
        "id": "GF0Yo5cjnPgB"
      }
    },
    {
      "cell_type": "code",
      "source": [
        "print(\"\\d denotes match a single digit character\")\n",
        "print(\"\\w denotes match a single word character\")\n",
        "print(\"\\s denotes match a single space character\")"
      ],
      "metadata": {
        "colab": {
          "base_uri": "https://localhost:8080/"
        },
        "id": "CTc6CND6nLNb",
        "outputId": "ef33a7e2-3ef3-4b40-c842-d9bb8e22c061"
      },
      "execution_count": 13,
      "outputs": [
        {
          "output_type": "stream",
          "name": "stdout",
          "text": [
            "\\d denotes digit character\n",
            "\\w denotes word character\n",
            "\\s denotes space character\n"
          ]
        }
      ]
    },
    {
      "cell_type": "markdown",
      "source": [
        "13.What do means by \\D, \\W, and \\S shorthand character classes signify in regular expressions?"
      ],
      "metadata": {
        "id": "8z3Oh3ggnmbk"
      }
    },
    {
      "cell_type": "code",
      "source": [
        "print(\"\\D denotes match a character which is not a digit character\")\n",
        "print(\"\\W denotes match a character which is not a word character\")\n",
        "print(\"\\S denotes match a character which is not a space  character\")"
      ],
      "metadata": {
        "colab": {
          "base_uri": "https://localhost:8080/"
        },
        "id": "EI5LmzBpngLJ",
        "outputId": "65ba3d72-2ec6-47d1-8296-7e37e947eabf"
      },
      "execution_count": 15,
      "outputs": [
        {
          "output_type": "stream",
          "name": "stdout",
          "text": [
            "\\D denotes match a character which is not a digit character\n",
            "\\W denotes match a character which is not a word character\n",
            "\\S denotes match a character which is not a space  character\n"
          ]
        }
      ]
    },
    {
      "cell_type": "markdown",
      "source": [
        "14.What is the difference between .*? and .*?"
      ],
      "metadata": {
        "id": "IE9SCXHOoQFa"
      }
    },
    {
      "cell_type": "code",
      "source": [
        "print(\"(.*?) matches any character any number of times as few number of times as possible to make regex match\" )\n",
        "print(\"(.*)? matches a group of 0 or 1 times that group consist of any lenght of character\")"
      ],
      "metadata": {
        "colab": {
          "base_uri": "https://localhost:8080/"
        },
        "id": "rIVEAi9UoGde",
        "outputId": "797e2e1e-78bb-4b00-e0db-a3b9fe516da3"
      },
      "execution_count": 16,
      "outputs": [
        {
          "output_type": "stream",
          "name": "stdout",
          "text": [
            "(.*?) matches any character any number of times as few number of times as possible to make regex match\n",
            "(.*)? matches a group of 0 or 1 times that group consist of any lenght of character\n"
          ]
        }
      ]
    },
    {
      "cell_type": "markdown",
      "source": [
        "15.What is the syntax for matching both numbers and lowercase letters with a character class?"
      ],
      "metadata": {
        "id": "Ydeb2J7rpm9S"
      }
    },
    {
      "cell_type": "code",
      "source": [
        "print(\"[a-z0-9] or [0-9a-z]\")"
      ],
      "metadata": {
        "colab": {
          "base_uri": "https://localhost:8080/"
        },
        "id": "WPBWRjz8phZb",
        "outputId": "68693754-c3ca-4612-8c28-f067635ac622"
      },
      "execution_count": 17,
      "outputs": [
        {
          "output_type": "stream",
          "name": "stdout",
          "text": [
            "[a-z0-9] or [0-9a-z]\n"
          ]
        }
      ]
    },
    {
      "cell_type": "markdown",
      "source": [
        "16.What is the procedure for making a normal expression in regax case insensitive?"
      ],
      "metadata": {
        "id": "VLRyh46Sp6VF"
      }
    },
    {
      "cell_type": "code",
      "source": [
        "print(\"in re.compile() passing re.l or re.IGNORECASE as 2nd argument\")"
      ],
      "metadata": {
        "colab": {
          "base_uri": "https://localhost:8080/"
        },
        "id": "0m1sUVvwp2Lr",
        "outputId": "bd48ab24-c114-4e7a-a80f-b8b4ff63ec55"
      },
      "execution_count": 18,
      "outputs": [
        {
          "output_type": "stream",
          "name": "stdout",
          "text": [
            "in re.compile() passing re.l or re.IGNORECASE as 2nd argument\n"
          ]
        }
      ]
    },
    {
      "cell_type": "markdown",
      "source": [
        "17.What does the . character normally match? What does it match if re.DOTALL is passed as 2nd\n",
        "argument in re.compile()?"
      ],
      "metadata": {
        "id": "1Qrq5VjwqZau"
      }
    },
    {
      "cell_type": "code",
      "source": [
        "print(\". matches any character except newline character\")\n",
        "print('by passing re.DOTALL() . will match all character including newline character also')"
      ],
      "metadata": {
        "colab": {
          "base_uri": "https://localhost:8080/"
        },
        "id": "fNA7oXsjqUFV",
        "outputId": "5e340a2d-6f16-49c9-a4ef-02b6f71a8003"
      },
      "execution_count": 19,
      "outputs": [
        {
          "output_type": "stream",
          "name": "stdout",
          "text": [
            ". matches any character except newline character\n",
            "by passing re.DOTALL() . will match all character including newline character also\n"
          ]
        }
      ]
    },
    {
      "cell_type": "markdown",
      "source": [
        "18.If numReg = re.compile(r&#39;\\d+&#39;), what will numRegex.sub(&#39;X&#39;, &#39;11 drummers, 10 pipers, five rings, 4\n",
        "hen&#39;) return?"
      ],
      "metadata": {
        "id": "yYeDors9q3Yx"
      }
    },
    {
      "cell_type": "code",
      "source": [
        "print(\"X drummers,x pipers,five rings, X hen\")"
      ],
      "metadata": {
        "colab": {
          "base_uri": "https://localhost:8080/"
        },
        "id": "uNVmewbGq0yi",
        "outputId": "715aa66d-c75d-4d04-9994-7424ece5cdd8"
      },
      "execution_count": 20,
      "outputs": [
        {
          "output_type": "stream",
          "name": "stdout",
          "text": [
            "X drummers,x pipers,five rings, X hen\n"
          ]
        }
      ]
    },
    {
      "cell_type": "markdown",
      "source": [
        "19.What does passing re.VERBOSE as the 2nd argument to re.compile() allow to do?"
      ],
      "metadata": {
        "id": "d9IjzBgirR5A"
      }
    },
    {
      "cell_type": "code",
      "source": [
        "print(\"allows to add whitespaces and comments to the strings passed\")"
      ],
      "metadata": {
        "colab": {
          "base_uri": "https://localhost:8080/"
        },
        "id": "4NAv2O4BrNaJ",
        "outputId": "13184877-b6d5-46c3-b0a4-571462356e52"
      },
      "execution_count": 21,
      "outputs": [
        {
          "output_type": "stream",
          "name": "stdout",
          "text": [
            "allows to add whitespaces and comments to the strings passed\n"
          ]
        }
      ]
    },
    {
      "cell_type": "markdown",
      "source": [
        "20.How would you write a regex that match a number with comma for every three digits? It must\n",
        "match the given following:\n",
        "&#39;42&#39;\n",
        "&#39;1,234&#39;\n",
        "&#39;6,368,745&#39;\n",
        "\n",
        "but not the following:\n",
        "&#39;12,34,567&#39; (which has only two digits between the commas)\n",
        "&#39;1234&#39; (which lacks commas)"
      ],
      "metadata": {
        "id": "XFuP1jVirjVX"
      }
    },
    {
      "cell_type": "code",
      "source": [
        "print(\"re.compile(r'^\\d{1,3}(,\\d{3})*$')\")"
      ],
      "metadata": {
        "colab": {
          "base_uri": "https://localhost:8080/"
        },
        "id": "IChnumpKrd2n",
        "outputId": "ba440020-b424-43a1-a91a-0178185f0ebc"
      },
      "execution_count": 22,
      "outputs": [
        {
          "output_type": "stream",
          "name": "stdout",
          "text": [
            "re.compile(r'^\\d{1,3}(,\\d{3})*$')\n"
          ]
        }
      ]
    },
    {
      "cell_type": "markdown",
      "source": [
        "21.How would you write a regex that matches the full name of someone whose last name is\n",
        "Watanabe? You can assume that the first name that comes before it will always be one word that\n",
        "begins with a capital letter. The regex must match the following:\n",
        "&#39;Haruto Watanabe&#39;\n",
        "&#39;Alice Watanabe&#39;\n",
        "&#39;RoboCop Watanabe&#39;\n",
        "but not the following:\n",
        "&#39;haruto Watanabe&#39; (where the first name is not capitalized)\n",
        "&#39;Mr. Watanabe&#39; (where the preceding word has a nonletter character)\n",
        "&#39;Watanabe&#39; (which has no first name)\n",
        "&#39;Haruto watanabe&#39; (where Watanabe is not capitalized)"
      ],
      "metadata": {
        "id": "wJGz0Ttbr-Pm"
      }
    },
    {
      "cell_type": "code",
      "source": [
        "print(\"re.compile(r'[A-Z][a-z]*\\sWatanabe')\")"
      ],
      "metadata": {
        "colab": {
          "base_uri": "https://localhost:8080/"
        },
        "id": "QMvf9Q-jr5LA",
        "outputId": "d2af577f-149a-4f33-9ff1-856198ac783c"
      },
      "execution_count": 24,
      "outputs": [
        {
          "output_type": "stream",
          "name": "stdout",
          "text": [
            "re.compile(r'[A-Z][a-z]*\\sWatanabe')\n"
          ]
        }
      ]
    },
    {
      "cell_type": "markdown",
      "source": [
        "22.How would you write a regex that matches a sentence where the first word is either Alice, Bob,\n",
        "or Carol; the second word is either eats, pets, or throws; the third word is apples, cats, or baseballs;\n",
        "and the sentence ends with a period? This regex should be case-insensitive. It must match the\n",
        "following:\n",
        "&#39;Alice eats apples.&#39;\n",
        "&#39;Bob pets cats.&#39;\n",
        "&#39;Carol throws baseballs.&#39;\n",
        "&#39;Alice throws Apples.&#39;\n",
        "&#39;BOB EATS CATS.&#39;\n",
        "but not the following:\n",
        "&#39;RoboCop eats apples.&#39;\n",
        "&#39;ALICE THROWS FOOTBALLS.&#39;\n",
        "&#39;Carol eats 7 cats.&#39;"
      ],
      "metadata": {
        "id": "o1zmmlSJshiC"
      }
    },
    {
      "cell_type": "code",
      "source": [
        "print(\"re.compile(r'(Alice|Bob|Carol)\\s(eats|pets|throws)\\s(apples|cats|baseballs)\\.',re.IGNORECASE)\")"
      ],
      "metadata": {
        "colab": {
          "base_uri": "https://localhost:8080/"
        },
        "id": "i9wJNu-_sbJY",
        "outputId": "746bd2c7-78bc-4149-9277-473cfb2e6c7c"
      },
      "execution_count": 25,
      "outputs": [
        {
          "output_type": "stream",
          "name": "stdout",
          "text": [
            "re.compile(r'(Alice|Bob|Carol)\\s(eats|pets|throws)\\s(apples|cats|baseballs)\\.',re.IGNORECASE)\n"
          ]
        }
      ]
    },
    {
      "cell_type": "code",
      "source": [
        ""
      ],
      "metadata": {
        "id": "3YeneSDzs-9H"
      },
      "execution_count": null,
      "outputs": []
    }
  ]
}