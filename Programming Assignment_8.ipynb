{
  "nbformat": 4,
  "nbformat_minor": 0,
  "metadata": {
    "colab": {
      "name": "Untitled29.ipynb",
      "provenance": [],
      "authorship_tag": "ABX9TyNg6JBkrEHBoFPGrlsOzY7M",
      "include_colab_link": true
    },
    "kernelspec": {
      "name": "python3",
      "display_name": "Python 3"
    },
    "language_info": {
      "name": "python"
    }
  },
  "cells": [
    {
      "cell_type": "markdown",
      "metadata": {
        "id": "view-in-github",
        "colab_type": "text"
      },
      "source": [
        "<a href=\"https://colab.research.google.com/github/tenoob/ineuron/blob/main/Programming%20Assignment_8.ipynb\" target=\"_parent\"><img src=\"https://colab.research.google.com/assets/colab-badge.svg\" alt=\"Open In Colab\"/></a>"
      ]
    },
    {
      "cell_type": "markdown",
      "source": [
        "1.Write a Python Program to Add Two Matrices?"
      ],
      "metadata": {
        "id": "009MkwRWhQPS"
      }
    },
    {
      "cell_type": "code",
      "execution_count": 8,
      "metadata": {
        "colab": {
          "base_uri": "https://localhost:8080/"
        },
        "id": "cdC1WbVzhIZF",
        "outputId": "af592cd7-0857-4ee6-ed35-4506d65833c3"
      },
      "outputs": [
        {
          "output_type": "stream",
          "name": "stdout",
          "text": [
            "[1, 3, 5]\n",
            "[13, 13, 13]\n",
            "[13, 13, 13]\n"
          ]
        }
      ],
      "source": [
        "a = [[1,2,3],[4,5,6],[7,8,9]]\n",
        "b = [[0,1,2],[9,8,7],[6,5,4]]\n",
        "\n",
        "\n",
        "ans = [[a[i][j] + b[i][j] for j in range(len(a[0]))]\n",
        "                 for i in range(len(a))   ]\n",
        "\n",
        "for i in ans:\n",
        "    print(i)"
      ]
    },
    {
      "cell_type": "markdown",
      "source": [
        "2.Write a Python Program to Multiply Two Matrices?"
      ],
      "metadata": {
        "id": "WSznwtDoj69A"
      }
    },
    {
      "cell_type": "code",
      "source": [
        "A = [[1,2,3],[4,5,6],[7,8,9]]\n",
        "B = [[0,1,2],[9,8,7],[6,5,4]]\n",
        "\n",
        "if len(A[0]) == len(B):\n",
        "    ans = [[sum(a * b for a, b in zip(A_row, B_col))\n",
        "                        for B_col in zip(*B)]\n",
        "                                for A_row in A]\n",
        "    for i in ans:\n",
        "        print(i)\n",
        "else:\n",
        "    print('matrix are not of same dimensions')\n"
      ],
      "metadata": {
        "colab": {
          "base_uri": "https://localhost:8080/"
        },
        "id": "MRyn95BNigCS",
        "outputId": "9bdd0dc1-aba3-4087-9300-d839fe42a2da"
      },
      "execution_count": 14,
      "outputs": [
        {
          "output_type": "stream",
          "name": "stdout",
          "text": [
            "[36, 32, 28]\n",
            "[81, 74, 67]\n",
            "[126, 116, 106]\n"
          ]
        }
      ]
    },
    {
      "cell_type": "markdown",
      "source": [
        "3.Write a Python Program to Transpose a Matrix?"
      ],
      "metadata": {
        "id": "BpaNQBv8mjJR"
      }
    },
    {
      "cell_type": "code",
      "source": [
        "A = [[1,2,3],[4,5,6],[7,8,9]]\n",
        "\n",
        "ans = [[A[j][i] for j in range(len(A))] for i in range(len(A[0]))]\n",
        "\n",
        "for r in ans:\n",
        "   print(r)"
      ],
      "metadata": {
        "colab": {
          "base_uri": "https://localhost:8080/"
        },
        "id": "1hFs00mzlqEP",
        "outputId": "73d41c64-f2b0-4b8b-df91-24affe47e578"
      },
      "execution_count": 15,
      "outputs": [
        {
          "output_type": "stream",
          "name": "stdout",
          "text": [
            "[1, 4, 7]\n",
            "[2, 5, 8]\n",
            "[3, 6, 9]\n"
          ]
        }
      ]
    },
    {
      "cell_type": "markdown",
      "source": [
        "4.Write a Python Program to Sort Words in Alphabetic Order?"
      ],
      "metadata": {
        "id": "L1An0A_TnCok"
      }
    },
    {
      "cell_type": "code",
      "source": [
        "string = 'Hello welcome to this program '\n",
        "\n",
        "lst = [i.lower() for i in string.split()]\n",
        "lst.sort()\n",
        "print(lst)"
      ],
      "metadata": {
        "colab": {
          "base_uri": "https://localhost:8080/"
        },
        "id": "suXFtrKkm1uN",
        "outputId": "45a9c138-2c3b-4e4e-f285-76c49a81d164"
      },
      "execution_count": 16,
      "outputs": [
        {
          "output_type": "stream",
          "name": "stdout",
          "text": [
            "['hello', 'program', 'this', 'to', 'welcome']\n"
          ]
        }
      ]
    },
    {
      "cell_type": "markdown",
      "source": [
        "5.Write a Python Program to Remove Punctuation From a String?"
      ],
      "metadata": {
        "id": "HreXG9vinexp"
      }
    },
    {
      "cell_type": "code",
      "source": [
        "import re\n",
        "string = 'Hello, welcome to this program :! '\n",
        "\n",
        "ans = re.sub(r'[^\\w\\s]','',string)\n",
        "print(ans)\n"
      ],
      "metadata": {
        "colab": {
          "base_uri": "https://localhost:8080/"
        },
        "id": "qMbH1cJknaJD",
        "outputId": "fc60bd47-c0aa-4bfa-f02a-ed2d74494cf6"
      },
      "execution_count": 19,
      "outputs": [
        {
          "output_type": "stream",
          "name": "stdout",
          "text": [
            "Hello welcome to this program  \n"
          ]
        }
      ]
    },
    {
      "cell_type": "code",
      "source": [
        ""
      ],
      "metadata": {
        "id": "DXuwDFadoCXY"
      },
      "execution_count": null,
      "outputs": []
    }
  ]
}