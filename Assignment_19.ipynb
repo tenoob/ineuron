{
  "nbformat": 4,
  "nbformat_minor": 0,
  "metadata": {
    "colab": {
      "name": "Assignment_19.ipynb",
      "provenance": [],
      "authorship_tag": "ABX9TyPG+afxxh2FP/Er3RT7jXMG",
      "include_colab_link": true
    },
    "kernelspec": {
      "name": "python3",
      "display_name": "Python 3"
    },
    "language_info": {
      "name": "python"
    }
  },
  "cells": [
    {
      "cell_type": "markdown",
      "metadata": {
        "id": "view-in-github",
        "colab_type": "text"
      },
      "source": [
        "<a href=\"https://colab.research.google.com/github/tenoob/ineuron/blob/main/Assignment_19.ipynb\" target=\"_parent\"><img src=\"https://colab.research.google.com/assets/colab-badge.svg\" alt=\"Open In Colab\"/></a>"
      ]
    },
    {
      "cell_type": "markdown",
      "source": [
        "1. Make a class called Thing with no contents and print it. Then, create an object called example\n",
        "from this class and also print it. Are the printed values the same or different?"
      ],
      "metadata": {
        "id": "1DOJ1GMocNkj"
      }
    },
    {
      "cell_type": "code",
      "execution_count": 1,
      "metadata": {
        "colab": {
          "base_uri": "https://localhost:8080/"
        },
        "id": "pnFLsOQHbtNy",
        "outputId": "dd9e76bd-61e4-4d19-d419-275252eca118"
      },
      "outputs": [
        {
          "output_type": "stream",
          "name": "stdout",
          "text": [
            "<class '__main__.Thing'>\n",
            "<__main__.Thing object at 0x7fcd32c3e6d0>\n"
          ]
        }
      ],
      "source": [
        "class Thing:\n",
        "    pass\n",
        "print(Thing)\n",
        "\n",
        "example = Thing()\n",
        "print(example)"
      ]
    },
    {
      "cell_type": "markdown",
      "source": [
        "2. Create a new class called Thing2 and add the value &#39;abc&#39; to the letters class attribute. Letters\n",
        "should be printed."
      ],
      "metadata": {
        "id": "yn5b9fy5dQES"
      }
    },
    {
      "cell_type": "code",
      "source": [
        "class Thing2:\n",
        "    letters = 'abc'\n",
        "\n",
        "exp = Thing2()\n",
        "print(exp.letters)"
      ],
      "metadata": {
        "colab": {
          "base_uri": "https://localhost:8080/"
        },
        "id": "kcJtOq-KdLnm",
        "outputId": "959d5cc1-d5ba-43b8-cc8c-61ea12c65595"
      },
      "execution_count": 4,
      "outputs": [
        {
          "output_type": "stream",
          "name": "stdout",
          "text": [
            "abc\n"
          ]
        }
      ]
    },
    {
      "cell_type": "markdown",
      "source": [
        "3. Make yet another class called, of course, Thing3. This time, assign the value &#39;xyz&#39; to an instance\n",
        "(object) attribute called letters. Print letters. Do you need to make an object from the class to do\n",
        "this?"
      ],
      "metadata": {
        "id": "UGlO-bntd5Hr"
      }
    },
    {
      "cell_type": "code",
      "source": [
        "class Thing3:\n",
        "    def __init__(self):\n",
        "        self.letters = 'xyz'\n",
        "\n",
        "print(Thing3.letters)\n",
        "\n"
      ],
      "metadata": {
        "colab": {
          "base_uri": "https://localhost:8080/",
          "height": 225
        },
        "id": "mUovPbwmdjY7",
        "outputId": "a4b7f8b2-4562-4fb3-daa0-2f51ad0fefaf"
      },
      "execution_count": 5,
      "outputs": [
        {
          "output_type": "error",
          "ename": "AttributeError",
          "evalue": "ignored",
          "traceback": [
            "\u001b[0;31m---------------------------------------------------------------------------\u001b[0m",
            "\u001b[0;31mAttributeError\u001b[0m                            Traceback (most recent call last)",
            "\u001b[0;32m<ipython-input-5-f3f233b3b654>\u001b[0m in \u001b[0;36m<module>\u001b[0;34m()\u001b[0m\n\u001b[1;32m      3\u001b[0m         \u001b[0mself\u001b[0m\u001b[0;34m.\u001b[0m\u001b[0mletters\u001b[0m \u001b[0;34m=\u001b[0m \u001b[0;34m'xyz'\u001b[0m\u001b[0;34m\u001b[0m\u001b[0;34m\u001b[0m\u001b[0m\n\u001b[1;32m      4\u001b[0m \u001b[0;34m\u001b[0m\u001b[0m\n\u001b[0;32m----> 5\u001b[0;31m \u001b[0mprint\u001b[0m\u001b[0;34m(\u001b[0m\u001b[0mThing3\u001b[0m\u001b[0;34m.\u001b[0m\u001b[0mletters\u001b[0m\u001b[0;34m)\u001b[0m\u001b[0;34m\u001b[0m\u001b[0;34m\u001b[0m\u001b[0m\n\u001b[0m\u001b[1;32m      6\u001b[0m \u001b[0;34m\u001b[0m\u001b[0m\n",
            "\u001b[0;31mAttributeError\u001b[0m: type object 'Thing3' has no attribute 'letters'"
          ]
        }
      ]
    },
    {
      "cell_type": "code",
      "source": [
        "obj = Thing3()\n",
        "print(obj.letters)"
      ],
      "metadata": {
        "colab": {
          "base_uri": "https://localhost:8080/"
        },
        "id": "wvGxy85aem2y",
        "outputId": "c6beb91d-a308-401c-b450-e532aa54532a"
      },
      "execution_count": 6,
      "outputs": [
        {
          "output_type": "stream",
          "name": "stdout",
          "text": [
            "xyz\n"
          ]
        }
      ]
    },
    {
      "cell_type": "markdown",
      "source": [
        "4. Create an Element class with the instance attributes name, symbol, and number. Create a class\n",
        "object with the values &#39;Hydrogen,&#39; &#39;H,&#39; and 1."
      ],
      "metadata": {
        "id": "oIwAYDpMe5xX"
      }
    },
    {
      "cell_type": "code",
      "source": [
        "class Element:\n",
        "    def __init__(self,name, symbol,number):\n",
        "        self.name = name\n",
        "        self.symbol = symbol\n",
        "        self.number = number\n",
        "\n",
        "obj = Element('Hydrogen', 'H', 1)"
      ],
      "metadata": {
        "id": "AxOj0nm6e2P3"
      },
      "execution_count": 8,
      "outputs": []
    },
    {
      "cell_type": "markdown",
      "source": [
        "5. Make a dictionary with these keys and values: &#39;name&#39;: &#39;Hydrogen&#39;, &#39;symbol&#39;: &#39;H&#39;, &#39;number&#39;: 1. Then,\n",
        "create an object called hydrogen from class Element using this dictionary."
      ],
      "metadata": {
        "id": "aS_ompgpfmHv"
      }
    },
    {
      "cell_type": "code",
      "source": [
        "dictionary = {'name': 'Hydrogen', 'symbol': 'H', 'number': 1}\n",
        "hydrogen = Element(dictionary['name'],dictionary['symbol'],dictionary['number'])\n",
        "print(hydrogen.name,hydrogen.symbol,hydrogen.number)"
      ],
      "metadata": {
        "colab": {
          "base_uri": "https://localhost:8080/"
        },
        "id": "GfLL2bn0fMCN",
        "outputId": "0833c9f0-859f-4ad5-b9c5-9c5c9cd2399c"
      },
      "execution_count": 12,
      "outputs": [
        {
          "output_type": "stream",
          "name": "stdout",
          "text": [
            "Hydrogen H 1\n"
          ]
        }
      ]
    },
    {
      "cell_type": "markdown",
      "source": [
        "6. For the Element class, define a method called dump() that prints the values of the object’s\n",
        "attributes (name, symbol, and number). Create the hydrogen object from this new definition and\n",
        "use dump() to print its attributes."
      ],
      "metadata": {
        "id": "CVYWWuGhgmGj"
      }
    },
    {
      "cell_type": "code",
      "source": [
        "class Element:\n",
        "    def __init__(self,name, symbol,number):\n",
        "        self.name = name\n",
        "        self.symbol = symbol\n",
        "        self.number = number\n",
        "\n",
        "    def dump(self):\n",
        "        print(self.name , self.symbol , self.number)\n",
        "\n",
        "hydrogen  = Element('Hydrogen', 'H', 1)\n",
        "hydrogen.dump()"
      ],
      "metadata": {
        "colab": {
          "base_uri": "https://localhost:8080/"
        },
        "id": "5oLuNhQ1f3hc",
        "outputId": "73cdb62e-bade-443f-9fe6-380b40ce8488"
      },
      "execution_count": 22,
      "outputs": [
        {
          "output_type": "stream",
          "name": "stdout",
          "text": [
            "Hydrogen H 1\n"
          ]
        }
      ]
    },
    {
      "cell_type": "markdown",
      "source": [
        "7. Call print(hydrogen). In the definition of Element, change the name of method dump to __str__,\n",
        "create a new hydrogen object, and call print(hydrogen) again."
      ],
      "metadata": {
        "id": "dRZteJjYhTnv"
      }
    },
    {
      "cell_type": "code",
      "source": [
        "print(hydrogen)\n"
      ],
      "metadata": {
        "colab": {
          "base_uri": "https://localhost:8080/"
        },
        "id": "_jRskBs9jPcu",
        "outputId": "e82f8836-78b1-47b8-91a4-890e834cc7b2"
      },
      "execution_count": 23,
      "outputs": [
        {
          "output_type": "stream",
          "name": "stdout",
          "text": [
            "<__main__.Element object at 0x7fcd2a9b5190>\n"
          ]
        }
      ]
    },
    {
      "cell_type": "code",
      "source": [
        "\n",
        "class Element:\n",
        "    def __init__(self,name, symbol,number):\n",
        "        self.name = name\n",
        "        self.symbol = symbol\n",
        "        self.number = number\n",
        "\n",
        "    def __str__(self):\n",
        "        return (\"{%s} , {%s} , {%s}\"%(self.name , self.symbol , self.number))\n",
        "\n",
        "hydrogen = Element(**dictionary)\n",
        "print(hydrogen)\n"
      ],
      "metadata": {
        "colab": {
          "base_uri": "https://localhost:8080/"
        },
        "id": "fLfAaF4fhPai",
        "outputId": "b772936a-66a7-4731-e06b-d20277a5b58f"
      },
      "execution_count": 24,
      "outputs": [
        {
          "output_type": "stream",
          "name": "stdout",
          "text": [
            "{Hydrogen} , {H} , {1}\n"
          ]
        }
      ]
    },
    {
      "cell_type": "markdown",
      "source": [
        "8. Modify Element to make the attributes name, symbol, and number private. Define a getter\n",
        "property for each to return its value."
      ],
      "metadata": {
        "id": "FKCIeL9hjZaN"
      }
    },
    {
      "cell_type": "code",
      "source": [
        "class Element:\n",
        "    def __init__(self,name, symbol,number):\n",
        "        self.__name = name\n",
        "        self.__symbol = symbol\n",
        "        self.__number = number\n",
        "\n",
        "    @property\n",
        "    def name(self):\n",
        "        return self.__name\n",
        "        \n",
        "    @property\n",
        "    def symbol(self):\n",
        "        return self.__symbol\n",
        "        \n",
        "    @property\n",
        "    def number(self):\n",
        "        return self.__number\n",
        "\n",
        "hydrogen = Element(**dictionary)\n",
        "print(hydrogen.name,hydrogen.symbol,hydrogen.number)"
      ],
      "metadata": {
        "colab": {
          "base_uri": "https://localhost:8080/"
        },
        "id": "Sn2a34jCiOD4",
        "outputId": "610a0057-621a-4e0b-e658-ca14c2dbda1a"
      },
      "execution_count": 27,
      "outputs": [
        {
          "output_type": "stream",
          "name": "stdout",
          "text": [
            "Hydrogen H 1\n"
          ]
        }
      ]
    },
    {
      "cell_type": "markdown",
      "source": [
        "9. Define three classes: Bear, Rabbit, and Octothorpe. For each, define only one method: eats(). This\n",
        "should return &#39;berries&#39; (Bear), &#39;clover&#39; (Rabbit), or &#39;campers&#39; (Octothorpe). Create one object from\n",
        "each and print what it eats."
      ],
      "metadata": {
        "id": "XlQ0mmGxkKfl"
      }
    },
    {
      "cell_type": "code",
      "source": [
        "class Bear:\n",
        "    def eats(self):\n",
        "        return \"berries\"\n",
        "\n",
        "class Rabbit:\n",
        "    def eats(self):\n",
        "        return \"clover\"\n",
        "\n",
        "class Octothorpe:\n",
        "    def eats(self):\n",
        "        return \"campers\"\n",
        "\n",
        "bear = Bear()\n",
        "print(bear.eats())\n",
        "\n",
        "rabbit = Rabbit()\n",
        "print(rabbit.eats())\n",
        "\n",
        "octo = Octothorpe()\n",
        "print(octo.eats())"
      ],
      "metadata": {
        "colab": {
          "base_uri": "https://localhost:8080/"
        },
        "id": "KcJTPJwlj_9Z",
        "outputId": "0f295977-16a1-45f2-bfe5-1b804cf17e2a"
      },
      "execution_count": 29,
      "outputs": [
        {
          "output_type": "stream",
          "name": "stdout",
          "text": [
            "berries\n",
            "clover\n",
            "campers\n"
          ]
        }
      ]
    },
    {
      "cell_type": "markdown",
      "source": [
        "10. Define these classes: Laser, Claw, and SmartPhone. Each has only one method: does(). This\n",
        "returns &#39;disintegrate&#39; (Laser), &#39;crush&#39; (Claw), or &#39;ring&#39; (SmartPhone). Then, define the class Robot that\n",
        "has one instance (object) of each of these. Define a does() method for the Robot that prints what its\n",
        "component objects do."
      ],
      "metadata": {
        "id": "Wyd5rYE9lGcw"
      }
    },
    {
      "cell_type": "code",
      "source": [
        "class Laser:\n",
        "    def does(self):\n",
        "        return \"disintegrate\"\n",
        "\n",
        "class Claw:\n",
        "    def does(self):\n",
        "        return \"crush\"\n",
        "\n",
        "class SmartPhone:\n",
        "    def does(self):\n",
        "        return \"ring\"\n",
        "\n",
        "\n",
        "class Robot:\n",
        "    def __init__(self):\n",
        "        self.laser = Laser()\n",
        "        self.claw = Claw()\n",
        "        self.smartphone = SmartPhone()\n",
        "        \n",
        "    def does(self):\n",
        "        return ('laser - %s , claw - %s , smartphone - %s' % (self.laser.does(),self.claw.does(),self.smartphone.does() ))\n",
        "\n",
        "\n",
        "robo = Robot()\n",
        "print(robo.does())"
      ],
      "metadata": {
        "colab": {
          "base_uri": "https://localhost:8080/"
        },
        "id": "GS_QlEykk4qf",
        "outputId": "ef1da943-80da-4810-9c72-c477b757da2d"
      },
      "execution_count": 32,
      "outputs": [
        {
          "output_type": "stream",
          "name": "stdout",
          "text": [
            "laser - disintegrate , claw - crush , smartphone - ring\n"
          ]
        }
      ]
    },
    {
      "cell_type": "code",
      "source": [
        ""
      ],
      "metadata": {
        "id": "tPOnPfl9mHO9"
      },
      "execution_count": null,
      "outputs": []
    }
  ]
}