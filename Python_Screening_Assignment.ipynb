{
  "nbformat": 4,
  "nbformat_minor": 0,
  "metadata": {
    "colab": {
      "name": "Python Screening Assignment.ipynb",
      "provenance": [],
      "authorship_tag": "ABX9TyM4R+/ZZ2O3qWd3hh2L01eK",
      "include_colab_link": true
    },
    "kernelspec": {
      "name": "python3",
      "display_name": "Python 3"
    },
    "language_info": {
      "name": "python"
    }
  },
  "cells": [
    {
      "cell_type": "markdown",
      "metadata": {
        "id": "view-in-github",
        "colab_type": "text"
      },
      "source": [
        "<a href=\"https://colab.research.google.com/github/tenoob/ineuron/blob/main/Python_Screening_Assignment.ipynb\" target=\"_parent\"><img src=\"https://colab.research.google.com/assets/colab-badge.svg\" alt=\"Open In Colab\"/></a>"
      ]
    },
    {
      "cell_type": "markdown",
      "source": [
        "Create a function in python to read the text file and replace specific content\n",
        "of the file.\n",
        "\n",
        "File name example.txt\n",
        "Origin file content This is a placement assignment\n",
        "Replace string Placement should be replaced by\n",
        "\n",
        "screening.\n",
        "\n",
        "Replaced file content This is a screening assignment"
      ],
      "metadata": {
        "id": "vy7KbTBHBhon"
      }
    },
    {
      "cell_type": "code",
      "source": [
        "def replace(file ,old_word,new_word):\n",
        "    f = open(file, \"r\")\n",
        "    data = f.read()\n",
        "    data = data.replace(old_word,new_word)\n",
        "    print(data)"
      ],
      "metadata": {
        "id": "UMHXBr8CAK7L"
      },
      "execution_count": null,
      "outputs": []
    },
    {
      "cell_type": "code",
      "source": [
        "replace('example.txt','placement','screening')"
      ],
      "metadata": {
        "colab": {
          "base_uri": "https://localhost:8080/"
        },
        "id": "oMxt3iZ4BTs7",
        "outputId": "1d3732ea-778b-4e04-c2f0-1ab6f05196f5"
      },
      "execution_count": null,
      "outputs": [
        {
          "output_type": "stream",
          "name": "stdout",
          "text": [
            "This is a screening assignment\n"
          ]
        }
      ]
    },
    {
      "cell_type": "markdown",
      "source": [
        "2. Demonstrate use of abstract class, multiple inheritance and decorator in\n",
        "python using examples."
      ],
      "metadata": {
        "id": "uK6Q8OTBBn2N"
      }
    },
    {
      "cell_type": "code",
      "source": [
        "from abc import ABC,abstractmethod\n",
        "\n",
        "class Student(ABC):\n",
        "    def __init__(self, name , uid) :\n",
        "        self.name = name\n",
        "        self.uid = uid\n",
        "\n",
        "    def details(self):\n",
        "        return f\"{self.name} ,{self.uid}\"\n",
        "\n",
        "    #abs method\n",
        "    def grade_sheet(self):\n",
        "        pass\n",
        "\n",
        "\n",
        "class CSE(Student):\n",
        "    def __init__(self,name,uid,grade):\n",
        "        super().__init__(name,uid)\n",
        "        self.grade = grade\n",
        "\n",
        "    def grade_sheet(self):\n",
        "        return self.grade\n",
        "\n",
        "\n",
        "class Hospitality(Student):\n",
        "    def __init__(self,name,uid,ratings,hours):\n",
        "        super().__init__(name,uid)\n",
        "        self.ratings=ratings\n",
        "        self.hours = hours\n",
        "\n",
        "    def grade_sheet(self):\n",
        "        return self.ratings*self.hours\n",
        "\n",
        "\n",
        "class Report:\n",
        "    def __init__(self):\n",
        "        self.student_lst = []\n",
        "\n",
        "    def new_data(self,Student):\n",
        "        self.student_lst.append(Student)\n",
        "\n",
        "    def print(self):\n",
        "        print(\"Name \\t ID \\t Scores\")\n",
        "        for i in self.student_lst:\n",
        "            print(f\"{i.name} \\t {i.uid} \\t {i.grade_sheet()} \")\n",
        "\n",
        "\n",
        "if __name__ == '__main__':\n",
        "    report = Report()\n",
        "    report.new_data(CSE(\"Anand\",'#bcs512',78))\n",
        "    report.new_data(Hospitality(\"Raj\",'#hs512',4,12))\n",
        "    report.new_data(CSE(\"Shivam\",'#bcs342',48))\n",
        "    report.new_data(CSE(\"Neha\",'#bcs223',90))\n",
        "    report.new_data(Hospitality(\"Ritu\",'#hs012',5,16))\n",
        "    report.new_data(Hospitality(\"Tanuj\",'#hs526',6,10))\n",
        "\n",
        "\n",
        "\n",
        "    report.print()"
      ],
      "metadata": {
        "colab": {
          "base_uri": "https://localhost:8080/"
        },
        "id": "FBj3TqoSBkvp",
        "outputId": "ec30caa9-5779-47b2-b62b-316ebd04f79e"
      },
      "execution_count": null,
      "outputs": [
        {
          "output_type": "stream",
          "name": "stdout",
          "text": [
            "Name \t ID \t Scores\n",
            "Anand \t #bcs512 \t 78 \n",
            "Raj \t #hs512 \t 48 \n",
            "Shivam \t #bcs342 \t 48 \n",
            "Neha \t #bcs223 \t 90 \n",
            "Ritu \t #hs012 \t 80 \n",
            "Tanuj \t #hs526 \t 60 \n"
          ]
        }
      ]
    },
    {
      "cell_type": "code",
      "source": [
        "class Fish:\n",
        "    def swim(self):\n",
        "        print(\"i can swim\")\n",
        "\n",
        "class Animal:\n",
        "    def walk(self):\n",
        "        print(\"i can walk\")\n",
        "\n",
        "class Bird:\n",
        "    def fly(self):\n",
        "        print(\"i can fly\")\n",
        "\n",
        "#multiple inheritence\n",
        "class Duck(Animal,Bird):\n",
        "    pass\n",
        "\n",
        "\n",
        "if __name__ == '-__main__':\n",
        "    dc = Duck()\n",
        "    print(dc.fly())\n",
        "    print(dc.walk())"
      ],
      "metadata": {
        "id": "bnahd6S9LG73"
      },
      "execution_count": null,
      "outputs": []
    },
    {
      "cell_type": "code",
      "source": [
        "def my_decorator(func):\n",
        "    def wrapper():\n",
        "        print(\"Something is happening before the function is called.\")\n",
        "        func()\n",
        "        print(\"Something is happening after the function is called.\")\n",
        "    return wrapper\n",
        "\n",
        "def say_whee():\n",
        "    print(\"Whee!\")\n",
        "\n",
        "say_whee = my_decorator(say_whee)"
      ],
      "metadata": {
        "id": "0RR1XZ94RWyL"
      },
      "execution_count": 25,
      "outputs": []
    },
    {
      "cell_type": "code",
      "source": [
        ""
      ],
      "metadata": {
        "id": "Gpc2g4tMVGHh"
      },
      "execution_count": null,
      "outputs": []
    }
  ]
}