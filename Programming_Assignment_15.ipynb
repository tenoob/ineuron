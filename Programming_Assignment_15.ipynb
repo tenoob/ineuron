{
  "nbformat": 4,
  "nbformat_minor": 0,
  "metadata": {
    "colab": {
      "name": "Programming Assignment_15.ipynb",
      "provenance": [],
      "authorship_tag": "ABX9TyPWX/b6RhRzFK+LdiAPkdPk",
      "include_colab_link": true
    },
    "kernelspec": {
      "name": "python3",
      "display_name": "Python 3"
    },
    "language_info": {
      "name": "python"
    }
  },
  "cells": [
    {
      "cell_type": "markdown",
      "metadata": {
        "id": "view-in-github",
        "colab_type": "text"
      },
      "source": [
        "<a href=\"https://colab.research.google.com/github/tenoob/ineuron/blob/main/Programming_Assignment_15.ipynb\" target=\"_parent\"><img src=\"https://colab.research.google.com/assets/colab-badge.svg\" alt=\"Open In Colab\"/></a>"
      ]
    },
    {
      "cell_type": "markdown",
      "source": [
        "Question 1:\n",
        "Please write a program using generator to print the numbers which can be divisible by 5 and\n",
        "7 between 0 and n in comma separated form while n is input by console.\n",
        "Example:\n",
        "If the following n is given as input to the program:\n",
        "100\n",
        "Then, the output of the program should be:\n",
        "0,35,70"
      ],
      "metadata": {
        "id": "rv02BWOfuMV1"
      }
    },
    {
      "cell_type": "code",
      "execution_count": 7,
      "metadata": {
        "colab": {
          "base_uri": "https://localhost:8080/"
        },
        "id": "9nd3-MzhuIQz",
        "outputId": "88f6ffef-70e7-4e81-a055-06271f700a2b"
      },
      "outputs": [
        {
          "output_type": "stream",
          "name": "stdout",
          "text": [
            "Enter the range :100\n",
            "0,35,70\n"
          ]
        }
      ],
      "source": [
        "def divFiveSeven(n):\n",
        "    for i in range(n+1):\n",
        "        if i%5==0 and i%7==0:\n",
        "            yield i\n",
        "\n",
        "try :\n",
        "    n = int(input(\"Enter the range :\"))\n",
        "    lst = []\n",
        "    for i in divFiveSeven(n):\n",
        "        lst.append(str(i))\n",
        "    print(','.join(lst))\n",
        "except Exception as e:\n",
        "    print(\"Error :\",e)"
      ]
    },
    {
      "cell_type": "markdown",
      "source": [
        "Question 2:\n",
        "Please write a program using generator to print the even numbers between 0 and n in comma\n",
        "separated form while n is input by console.\n",
        "Example:\n",
        "If the following n is given as input to the program:\n",
        "10\n",
        "Then, the output of the program should be:\n",
        "0,2,4,6,8,10"
      ],
      "metadata": {
        "id": "me3Skf_nwN4o"
      }
    },
    {
      "cell_type": "code",
      "source": [
        "def divEven(n):\n",
        "    for i in range(n+1):\n",
        "        if i%2==0:\n",
        "            yield i\n",
        "\n",
        "try :\n",
        "    n = int(input(\"Enter the range :\"))\n",
        "    lst = []\n",
        "    for i in divEven(n):\n",
        "        lst.append(str(i))\n",
        "    print(','.join(lst))\n",
        "except Exception as e:\n",
        "    print(\"Error :\",e)"
      ],
      "metadata": {
        "colab": {
          "base_uri": "https://localhost:8080/"
        },
        "id": "TcFXHuKIusWe",
        "outputId": "d787af4f-2877-4ca6-854f-e8a629205352"
      },
      "execution_count": 8,
      "outputs": [
        {
          "output_type": "stream",
          "name": "stdout",
          "text": [
            "Enter the range :10\n",
            "0,2,4,6,8,10\n"
          ]
        }
      ]
    },
    {
      "cell_type": "markdown",
      "source": [
        "Question 3:\n",
        "The Fibonacci Sequence is computed based on the following formula:\n",
        "f(n)=0 if n=0\n",
        "f(n)=1 if n=1\n",
        "f(n)=f(n-1)+f(n-2) if n&gt;1\n",
        "Please write a program using list comprehension to print the Fibonacci Sequence in comma\n",
        "separated form with a given n input by console.\n",
        "Example:\n",
        "If the following n is given as input to the program:\n",
        "7\n",
        "\n",
        "Then, the output of the program should be:\n",
        "0,1,1,2,3,5,8,13"
      ],
      "metadata": {
        "id": "9R9PHMZrwgG9"
      }
    },
    {
      "cell_type": "code",
      "source": [
        "def fibo(n):\n",
        "    if n==0:\n",
        "        return 0\n",
        "    elif n==1:\n",
        "        return 1\n",
        "    else:\n",
        "        return fibo(n-1)+fibo(n-2)\n",
        "\n",
        "try :\n",
        "    n = int(input(\"Enter the range :\"))\n",
        "    lst = [ str(fibo(i)) for i in range(n+1)]\n",
        "    print(','.join(lst))\n",
        "except Exception as e:\n",
        "    print(\"Error :\",e)"
      ],
      "metadata": {
        "colab": {
          "base_uri": "https://localhost:8080/"
        },
        "id": "XMaryR6IwbUJ",
        "outputId": "c6b29a21-d2c1-4e59-acc9-088a7a90e671"
      },
      "execution_count": 11,
      "outputs": [
        {
          "output_type": "stream",
          "name": "stdout",
          "text": [
            "Enter the range :7\n",
            "0,1,1,2,3,5,8,13\n"
          ]
        }
      ]
    },
    {
      "cell_type": "markdown",
      "source": [
        "Question 4:\n",
        "Assuming that we have some email addresses in the &quot;username@companyname.com&quot; format,\n",
        "please write program to print the user name of a given email address. Both user names and\n",
        "company names are composed of letters only.\n",
        "Example:\n",
        "If the following email address is given as input to the program:\n",
        "john@google.com\n",
        "Then, the output of the program should be:\n",
        "john"
      ],
      "metadata": {
        "id": "IA0sVDbGx8XD"
      }
    },
    {
      "cell_type": "code",
      "source": [
        "try:\n",
        "    mail = input(\"Enter id :\").split(\"@\")\n",
        "    print(mail[0])\n",
        "except Exception as e:\n",
        "    print(\"Error :\",e)"
      ],
      "metadata": {
        "colab": {
          "base_uri": "https://localhost:8080/"
        },
        "id": "ZZ_wouJExjwl",
        "outputId": "ff8be987-b862-4cc3-984a-8236a7c9e673"
      },
      "execution_count": 12,
      "outputs": [
        {
          "output_type": "stream",
          "name": "stdout",
          "text": [
            "Enter id :john@google.com\n",
            "john\n"
          ]
        }
      ]
    },
    {
      "cell_type": "markdown",
      "source": [
        "Question 5:\n",
        "Define a class named Shape and its subclass Square. The Square class has an init function\n",
        "which takes a length as argument. Both classes have a area function which can print the area\n",
        "of the shape where Shape&#39;s area is 0 by default."
      ],
      "metadata": {
        "id": "ds-NpP7CymF8"
      }
    },
    {
      "cell_type": "code",
      "source": [
        "class Shape:\n",
        "    def __init__(self):\n",
        "        self.length = 0\n",
        "        self.area = 0\n",
        "\n",
        "    def Area(self):\n",
        "        return self.area\n",
        "\n",
        "class Square(Shape):\n",
        "    def __init__(self,len):\n",
        "        Shape.__init__(self)\n",
        "        self.length=len\n",
        "        self.area = len*len\n",
        "\n",
        "    def Area(self):\n",
        "        return self.area\n",
        "\n",
        "\n",
        "squ = Square(3)\n",
        "print(squ.Area())"
      ],
      "metadata": {
        "colab": {
          "base_uri": "https://localhost:8080/"
        },
        "id": "0SJ4bn8pyXOu",
        "outputId": "686a6884-8ca4-4eba-ec46-51f581c30dc2"
      },
      "execution_count": 14,
      "outputs": [
        {
          "output_type": "stream",
          "name": "stdout",
          "text": [
            "9\n"
          ]
        }
      ]
    },
    {
      "cell_type": "code",
      "source": [
        ""
      ],
      "metadata": {
        "id": "684KVOhX0VQs"
      },
      "execution_count": null,
      "outputs": []
    }
  ]
}