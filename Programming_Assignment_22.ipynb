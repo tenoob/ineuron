{
  "nbformat": 4,
  "nbformat_minor": 0,
  "metadata": {
    "colab": {
      "name": "Programming Assignment_22.ipynb",
      "provenance": [],
      "authorship_tag": "ABX9TyNmMJtg5Tbxc+eki0qwrvuV",
      "include_colab_link": true
    },
    "kernelspec": {
      "name": "python3",
      "display_name": "Python 3"
    },
    "language_info": {
      "name": "python"
    }
  },
  "cells": [
    {
      "cell_type": "markdown",
      "metadata": {
        "id": "view-in-github",
        "colab_type": "text"
      },
      "source": [
        "<a href=\"https://colab.research.google.com/github/tenoob/ineuron/blob/main/Programming_Assignment_22.ipynb\" target=\"_parent\"><img src=\"https://colab.research.google.com/assets/colab-badge.svg\" alt=\"Open In Colab\"/></a>"
      ]
    },
    {
      "cell_type": "markdown",
      "source": [
        "Question1\n",
        "Create a function that takes three parameters where:\n",
        " x is the start of the range (inclusive).\n",
        " y is the end of the range (inclusive).\n",
        " n is the divisor to be checked against.\n",
        "Return an ordered list with numbers in the range that are divisible by the third parameter n.\n",
        "Return an empty list if there are no numbers that are divisible by n.\n",
        "Examples\n",
        "list_operation(1, 10, 3) ➞ [3, 6, 9]\n",
        "list_operation(7, 9, 2) ➞ [8]\n",
        "list_operation(15, 20, 7) ➞ []"
      ],
      "metadata": {
        "id": "qb5n4wjpvpwi"
      }
    },
    {
      "cell_type": "code",
      "execution_count": 2,
      "metadata": {
        "colab": {
          "base_uri": "https://localhost:8080/"
        },
        "id": "GjF-TqQ3u-wW",
        "outputId": "3faa25fa-c22f-4d48-c4ba-9ec67ca04939"
      },
      "outputs": [
        {
          "output_type": "stream",
          "name": "stdout",
          "text": [
            "[3, 6, 9]\n",
            "[8]\n",
            "[]\n"
          ]
        }
      ],
      "source": [
        "def list_operation(a,b,c):\n",
        "    sum=[]\n",
        "    for i in range(a,b+1):\n",
        "        if i%c==0:\n",
        "            sum.append(i)\n",
        "\n",
        "    return sum\n",
        "\n",
        "print(list_operation(1,10,3))\n",
        "print(list_operation(7,9,2))\n",
        "print(list_operation(15,20,7))\n",
        "\n",
        "\n"
      ]
    },
    {
      "cell_type": "markdown",
      "source": [
        "Question2\n",
        "Create a function that takes in two lists and returns True if the second list follows the first list\n",
        "by one element, and False otherwise. In other words, determine if the second list is the first\n",
        "list shifted to the right by 1.\n",
        "Examples\n",
        "simon_says([1, 2], [5, 1]) ➞ True\n",
        "simon_says([1, 2], [5, 5]) ➞ False\n",
        "simon_says([1, 2, 3, 4, 5], [0, 1, 2, 3, 4]) ➞ True\n",
        "simon_says([1, 2, 3, 4, 5], [5, 5, 1, 2, 3]) ➞ False\n",
        "Notes\n",
        " Both input lists will be of the same length, and will have a minimum length of 2.\n",
        " The values of the 0-indexed element in the second list and the n-1th indexed element\n",
        "in the first list do not matter."
      ],
      "metadata": {
        "id": "g64AiZjWwjdd"
      }
    },
    {
      "cell_type": "code",
      "source": [
        "def simon_says(lst1,lst2):\n",
        "    if len(lst2)>len(lst1):\n",
        "        return False\n",
        "    else:\n",
        "        for i in range(1,len(lst2)):\n",
        "            if lst2[i]==lst1[i-1]:\n",
        "                continue\n",
        "            else:\n",
        "                return False\n",
        "\n",
        "    return True\n",
        "\n",
        "print(simon_says([1, 2], [5, 1]))\n",
        "print(simon_says([1, 2], [5, 5]))\n",
        "print(simon_says([1, 2, 3, 4, 5], [0, 1, 2, 3, 4]))\n",
        "print(simon_says([1, 2, 3, 4, 5], [5, 5, 1, 2, 3]))"
      ],
      "metadata": {
        "colab": {
          "base_uri": "https://localhost:8080/"
        },
        "id": "7ERj9Lv8wX7W",
        "outputId": "38069e58-c292-4f9c-9300-b8a8561ea8a8"
      },
      "execution_count": 3,
      "outputs": [
        {
          "output_type": "stream",
          "name": "stdout",
          "text": [
            "True\n",
            "False\n",
            "True\n",
            "False\n"
          ]
        }
      ]
    },
    {
      "cell_type": "markdown",
      "source": [
        "Question3\n",
        "A group of friends have decided to start a secret society. The name will be the first letter of\n",
        "each of their names, sorted in alphabetical order.\n",
        "Create a function that takes in a list of names and returns the name of the secret society.\n",
        "\n",
        "Examples\n",
        "society_name([&quot;Adam&quot;, &quot;Sarah&quot;, &quot;Malcolm&quot;]) ➞ &quot;AMS&quot;\n",
        "society_name([&quot;Harry&quot;, &quot;Newt&quot;, &quot;Luna&quot;, &quot;Cho&quot;]) ➞ &quot;CHLN&quot;\n",
        "society_name([&quot;Phoebe&quot;, &quot;Chandler&quot;, &quot;Rachel&quot;, &quot;Ross&quot;, &quot;Monica&quot;, &quot;Joey&quot;])"
      ],
      "metadata": {
        "id": "6z9QXmK0xi1o"
      }
    },
    {
      "cell_type": "code",
      "source": [
        "def society_name(lst):\n",
        "    name_lst= [i[0] for i in lst]\n",
        "    name_lst.sort()\n",
        "    return ''.join(name_lst)\n",
        "\n",
        "print(society_name([\"Adam\", \"Sarah\", \"Malcolm\"]))\n",
        "print(society_name([\"Harry\", \"Newt\", \"Luna\", \"Cho\"]))\n",
        "print(society_name([\"Phoebe\", \"Chandler\", \"Rachel\", \"Ross\", \"Monica\", \"Joey\"]))"
      ],
      "metadata": {
        "colab": {
          "base_uri": "https://localhost:8080/"
        },
        "id": "tIsUuIX5xe7F",
        "outputId": "c7e0e2f1-96bc-4251-e354-041760eb22a1"
      },
      "execution_count": 6,
      "outputs": [
        {
          "output_type": "stream",
          "name": "stdout",
          "text": [
            "AMS\n",
            "CHLN\n",
            "CJMPRR\n"
          ]
        }
      ]
    },
    {
      "cell_type": "markdown",
      "source": [
        "Question4\n",
        "An isogram is a word that has no duplicate letters. Create a function that takes a string and\n",
        "returns either True or False depending on whether or not it&#39;s an &quot;isogram&quot;.\n",
        "Examples\n",
        "is_isogram(&quot;Algorism&quot;) ➞ True\n",
        "is_isogram(&quot;PasSword&quot;) ➞ False\n",
        "# Not case sensitive.\n",
        "is_isogram(&quot;Consecutive&quot;) ➞ False\n",
        "Notes\n",
        " Ignore letter case (should not be case sensitive).\n",
        " All test cases contain valid one word strings."
      ],
      "metadata": {
        "id": "fTaJeyIFyUTj"
      }
    },
    {
      "cell_type": "code",
      "source": [
        "def is_isogram(string):\n",
        "    string = string.lower()\n",
        "    words = list(set(string))\n",
        "\n",
        "    for i in words:\n",
        "        if string.count(i)>1:\n",
        "            return False\n",
        "            break\n",
        "    return True\n",
        "\n",
        "print(is_isogram(\"Algorism\"))\n",
        "print(is_isogram(\"PasSword\"))"
      ],
      "metadata": {
        "colab": {
          "base_uri": "https://localhost:8080/"
        },
        "id": "-7XJLi6VyJ_P",
        "outputId": "88f109f8-fba0-4f86-f7cc-cc5f28027d69"
      },
      "execution_count": 7,
      "outputs": [
        {
          "output_type": "stream",
          "name": "stdout",
          "text": [
            "True\n",
            "False\n"
          ]
        }
      ]
    },
    {
      "cell_type": "markdown",
      "source": [
        "Question5\n",
        "Create a function that takes a string and returns True or False, depending on whether the\n",
        "characters are in order or not.\n",
        "Examples\n",
        "is_in_order(&quot;abc&quot;) ➞ True\n",
        "is_in_order(&quot;edabit&quot;) ➞ False\n",
        "is_in_order(&quot;123&quot;) ➞ True\n",
        "is_in_order(&quot;xyzz&quot;) ➞ True\n",
        "Notes\n",
        "You don&#39;t have to handle empty strings."
      ],
      "metadata": {
        "id": "py_mg3tGy8Oq"
      }
    },
    {
      "cell_type": "code",
      "source": [
        "def is_in_order(string):\n",
        "    word = [i for i in string]\n",
        "    word.sort()\n",
        "\n",
        "    word = ''.join(word)\n",
        "\n",
        "    if word==string:\n",
        "        return True\n",
        "    else:\n",
        "        return False\n",
        "\n",
        "print(is_in_order(\"abc\"))\n",
        "print(is_in_order(\"edabit\"))\n",
        "print(is_in_order(\"123\"))\n",
        "print(is_in_order(\"xyzz\"))"
      ],
      "metadata": {
        "colab": {
          "base_uri": "https://localhost:8080/"
        },
        "id": "8OayK0kJy1tF",
        "outputId": "76a9505a-9150-49c9-a91e-2d5327e8ff08"
      },
      "execution_count": 8,
      "outputs": [
        {
          "output_type": "stream",
          "name": "stdout",
          "text": [
            "True\n",
            "False\n",
            "True\n",
            "True\n"
          ]
        }
      ]
    },
    {
      "cell_type": "code",
      "source": [
        ""
      ],
      "metadata": {
        "id": "1u4hxjFfziNV"
      },
      "execution_count": null,
      "outputs": []
    }
  ]
}