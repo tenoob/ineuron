{
  "nbformat": 4,
  "nbformat_minor": 0,
  "metadata": {
    "colab": {
      "name": "Untitled39.ipynb",
      "provenance": [],
      "authorship_tag": "ABX9TyNZUntEfI0JK6Or0rFoS4QG",
      "include_colab_link": true
    },
    "kernelspec": {
      "name": "python3",
      "display_name": "Python 3"
    },
    "language_info": {
      "name": "python"
    }
  },
  "cells": [
    {
      "cell_type": "markdown",
      "metadata": {
        "id": "view-in-github",
        "colab_type": "text"
      },
      "source": [
        "<a href=\"https://colab.research.google.com/github/tenoob/ineuron/blob/main/Assignment_14.ipynb\" target=\"_parent\"><img src=\"https://colab.research.google.com/assets/colab-badge.svg\" alt=\"Open In Colab\"/></a>"
      ]
    },
    {
      "cell_type": "markdown",
      "source": [
        "1.What does RGBA stand for?"
      ],
      "metadata": {
        "id": "7wTswv81nbiN"
      }
    },
    {
      "cell_type": "code",
      "execution_count": 1,
      "metadata": {
        "colab": {
          "base_uri": "https://localhost:8080/"
        },
        "id": "sw6MmaT4nXHo",
        "outputId": "6ab0de4d-fef1-41e2-dc5e-46ef95a6b34b"
      },
      "outputs": [
        {
          "output_type": "stream",
          "name": "stdout",
          "text": [
            "Red-Green-Blue-Alpha\n"
          ]
        }
      ],
      "source": [
        "print(\"Red-Green-Blue-Alpha\")"
      ]
    },
    {
      "cell_type": "markdown",
      "source": [
        "2.From the Pillow module, how do you get the RGBA value of any images?"
      ],
      "metadata": {
        "id": "-gNK9eOZn540"
      }
    },
    {
      "cell_type": "code",
      "source": [
        "from PIL import Image\n",
        "  \n",
        "img = Image.open('profile.jpg')\n",
        "rgba = img.convert(\"RGBA\")\n",
        "print(rgba)"
      ],
      "metadata": {
        "colab": {
          "base_uri": "https://localhost:8080/"
        },
        "id": "aygr3aRgn3Vg",
        "outputId": "5598d647-30b6-4a00-cae5-472c1034ca42"
      },
      "execution_count": 7,
      "outputs": [
        {
          "output_type": "stream",
          "name": "stdout",
          "text": [
            "<PIL.Image.Image image mode=RGBA size=507x513 at 0x7FD5712C17D0>\n"
          ]
        }
      ]
    },
    {
      "cell_type": "markdown",
      "source": [
        "3.What is a box tuple, and how does it work?"
      ],
      "metadata": {
        "id": "lBAIDByUo5qO"
      }
    },
    {
      "cell_type": "code",
      "source": [
        "print(\"his means Pillow is expecting a tuple of four integer coordinates that represent a rectangular region in an image. The four integers are, in order, Left , Top , Right, Bottom\")"
      ],
      "metadata": {
        "colab": {
          "base_uri": "https://localhost:8080/"
        },
        "id": "VsyquOwbozCz",
        "outputId": "9e9d8a43-f9e8-41cc-9407-cd04b8d697d6"
      },
      "execution_count": 3,
      "outputs": [
        {
          "output_type": "stream",
          "name": "stdout",
          "text": [
            "his means Pillow is expecting a tuple of four integer coordinates that represent a rectangular region in an image. The four integers are, in order, Left , Top , Right, Bottom\n"
          ]
        }
      ]
    },
    {
      "cell_type": "markdown",
      "source": [
        "4.Use your image and load in notebook then, How can you find out the width and height of an\n",
        "Image object?\n"
      ],
      "metadata": {
        "id": "Atb3V6Swp5sU"
      }
    },
    {
      "cell_type": "code",
      "source": [
        "from PIL import Image\n",
        "  \n",
        "# get image\n",
        "filepath = \"profile.jpg\"\n",
        "img = Image.open(filepath)\n",
        "  \n",
        "# get width and height\n",
        "width = img.width\n",
        "height = img.height\n",
        "  \n",
        "# display width and height\n",
        "print(\"The height of the image is: \", height)\n",
        "print(\"The width of the image is: \", width)"
      ],
      "metadata": {
        "colab": {
          "base_uri": "https://localhost:8080/"
        },
        "id": "mfg6cPssp3Io",
        "outputId": "abd52da2-89d2-478f-d4a8-6f17d5c75057"
      },
      "execution_count": 4,
      "outputs": [
        {
          "output_type": "stream",
          "name": "stdout",
          "text": [
            "The height of the image is:  513\n",
            "The width of the image is:  507\n"
          ]
        }
      ]
    },
    {
      "cell_type": "markdown",
      "source": [
        "5.What method would you call to get Image object for a 100×100 image, excluding the lower-left\n",
        "quarter of it?"
      ],
      "metadata": {
        "id": "a-kCvSaqqy-i"
      }
    },
    {
      "cell_type": "code",
      "source": [
        "print(\"paste() method\")"
      ],
      "metadata": {
        "colab": {
          "base_uri": "https://localhost:8080/"
        },
        "id": "alqjD3pSqhCi",
        "outputId": "b83a223b-9d42-43a7-bb9d-83f27d18e5e9"
      },
      "execution_count": 8,
      "outputs": [
        {
          "output_type": "stream",
          "name": "stdout",
          "text": [
            "paste method\n"
          ]
        }
      ]
    },
    {
      "cell_type": "markdown",
      "source": [
        "6.After making changes to an Image object, how could you save it as an image file?"
      ],
      "metadata": {
        "id": "p60JzeFysdMx"
      }
    },
    {
      "cell_type": "code",
      "source": [
        "print(\"by using .save()\")"
      ],
      "metadata": {
        "colab": {
          "base_uri": "https://localhost:8080/"
        },
        "id": "mwZ6kVY3sWVg",
        "outputId": "04664552-94f1-48e0-ad25-422583cd5fee"
      },
      "execution_count": 9,
      "outputs": [
        {
          "output_type": "stream",
          "name": "stdout",
          "text": [
            "by using .save()\n"
          ]
        }
      ]
    },
    {
      "cell_type": "markdown",
      "source": [
        "7.What module contains Pillow’s shape-drawing code?"
      ],
      "metadata": {
        "id": "95vgugW4s2Z9"
      }
    },
    {
      "cell_type": "code",
      "source": [
        "print(\"ImageDraw()\")"
      ],
      "metadata": {
        "colab": {
          "base_uri": "https://localhost:8080/"
        },
        "id": "teL9FRK_sywa",
        "outputId": "361c1da7-22ea-40f3-8f1b-3dc1d5c4f935"
      },
      "execution_count": 10,
      "outputs": [
        {
          "output_type": "stream",
          "name": "stdout",
          "text": [
            "ImageDraw()\n"
          ]
        }
      ]
    },
    {
      "cell_type": "markdown",
      "source": [
        "8.Image objects do not have drawing methods. What kind of object does? How do you get this kind\n",
        "of object?"
      ],
      "metadata": {
        "id": "8dQlad4rtM4U"
      }
    },
    {
      "cell_type": "code",
      "source": [
        "print(\"ImageDraw() has\")\n",
        "print(\"by draw = ImageDraw.Draw(image)\")"
      ],
      "metadata": {
        "colab": {
          "base_uri": "https://localhost:8080/"
        },
        "id": "t8GDoNyqtKO5",
        "outputId": "65f2915e-5b64-4831-c048-55224b622420"
      },
      "execution_count": 11,
      "outputs": [
        {
          "output_type": "stream",
          "name": "stdout",
          "text": [
            "ImageDraw() has\n",
            "by draw = ImageDraw.Draw(image)\n"
          ]
        }
      ]
    },
    {
      "cell_type": "code",
      "source": [
        ""
      ],
      "metadata": {
        "id": "EibibyzhuK1K"
      },
      "execution_count": null,
      "outputs": []
    }
  ]
}