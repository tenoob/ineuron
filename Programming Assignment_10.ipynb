{
  "nbformat": 4,
  "nbformat_minor": 0,
  "metadata": {
    "colab": {
      "name": "Untitled32.ipynb",
      "provenance": [],
      "authorship_tag": "ABX9TyPym9k2lA5jh0ajR7H3t+J9",
      "include_colab_link": true
    },
    "kernelspec": {
      "name": "python3",
      "display_name": "Python 3"
    },
    "language_info": {
      "name": "python"
    }
  },
  "cells": [
    {
      "cell_type": "markdown",
      "metadata": {
        "id": "view-in-github",
        "colab_type": "text"
      },
      "source": [
        "<a href=\"https://colab.research.google.com/github/tenoob/ineuron/blob/main/Programming%20Assignment_10.ipynb\" target=\"_parent\"><img src=\"https://colab.research.google.com/assets/colab-badge.svg\" alt=\"Open In Colab\"/></a>"
      ]
    },
    {
      "cell_type": "markdown",
      "source": [
        "1.Write a Python program to find sum of elements in list?"
      ],
      "metadata": {
        "id": "5BkjVZMayAxw"
      }
    },
    {
      "cell_type": "code",
      "execution_count": 1,
      "metadata": {
        "colab": {
          "base_uri": "https://localhost:8080/"
        },
        "id": "o4yoUNx2x_aB",
        "outputId": "c57dccc3-c53e-43a4-f76a-186a4913042f"
      },
      "outputs": [
        {
          "output_type": "stream",
          "name": "stdout",
          "text": [
            "sum =  15\n"
          ]
        }
      ],
      "source": [
        "lst = [1,2,3,4,5]\n",
        "print('sum = ', sum(lst))"
      ]
    },
    {
      "cell_type": "markdown",
      "source": [
        "2.Write a Python program to Multiply all numbers in the list?"
      ],
      "metadata": {
        "id": "xyVlu6uDyNIG"
      }
    },
    {
      "cell_type": "code",
      "source": [
        "lst = [1,2,3,4,5]\n",
        "mul = 1\n",
        "\n",
        "for i in lst:\n",
        "    mul*=i\n",
        "\n",
        "print(\"miltiplication = \",mul)"
      ],
      "metadata": {
        "colab": {
          "base_uri": "https://localhost:8080/"
        },
        "id": "CbY7Lf7nyJsH",
        "outputId": "9f29b5ac-8ed9-4642-e93e-b0a5b1c2ac02"
      },
      "execution_count": 3,
      "outputs": [
        {
          "output_type": "stream",
          "name": "stdout",
          "text": [
            "miltiplication =  120\n"
          ]
        }
      ]
    },
    {
      "cell_type": "markdown",
      "source": [
        "3.Write a Python program to find smallest number in a list?"
      ],
      "metadata": {
        "id": "9FWw_4FwyusX"
      }
    },
    {
      "cell_type": "code",
      "source": [
        "lst = [1,2,3,4,5]\n",
        "\n",
        "print(min(lst))"
      ],
      "metadata": {
        "colab": {
          "base_uri": "https://localhost:8080/"
        },
        "id": "AGQTEGq2yr1Q",
        "outputId": "bb580768-0646-4310-ddb3-238734274e3a"
      },
      "execution_count": 4,
      "outputs": [
        {
          "output_type": "stream",
          "name": "stdout",
          "text": [
            "1\n"
          ]
        }
      ]
    },
    {
      "cell_type": "markdown",
      "source": [
        "4.Write a Python program to find largest number in a list?"
      ],
      "metadata": {
        "id": "y7UDywzZy6lt"
      }
    },
    {
      "cell_type": "code",
      "source": [
        "lst = [1,2,3,4,5]\n",
        "print(max(lst))"
      ],
      "metadata": {
        "colab": {
          "base_uri": "https://localhost:8080/"
        },
        "id": "XCyYFY84y3my",
        "outputId": "3a769a4e-8113-4efa-844f-5f1eed3243f2"
      },
      "execution_count": 5,
      "outputs": [
        {
          "output_type": "stream",
          "name": "stdout",
          "text": [
            "5\n"
          ]
        }
      ]
    },
    {
      "cell_type": "markdown",
      "source": [
        "5.Write a Python program to find second largest number in a list?"
      ],
      "metadata": {
        "id": "BSaA-KAWzCgo"
      }
    },
    {
      "cell_type": "code",
      "source": [
        "lat = [1,2,3,4,5]\n",
        "lst.sort()\n",
        "print(lst[-2])"
      ],
      "metadata": {
        "colab": {
          "base_uri": "https://localhost:8080/"
        },
        "id": "PaFm7GqEy-4t",
        "outputId": "f80b161b-e12a-4bc6-a67a-430155a1180c"
      },
      "execution_count": 6,
      "outputs": [
        {
          "output_type": "stream",
          "name": "stdout",
          "text": [
            "4\n"
          ]
        }
      ]
    },
    {
      "cell_type": "markdown",
      "source": [
        "6.Write a Python program to find N largest elements from a list?"
      ],
      "metadata": {
        "id": "5OaD-8ddzxPY"
      }
    },
    {
      "cell_type": "code",
      "source": [
        "try:\n",
        "    lst = [1,2,7,45,5,6]\n",
        "    x = int(input(\"enter the index :\"))\n",
        "    lst.sort()\n",
        "    print(lst[-(x)])\n",
        "except Exception as e:\n",
        "    print(e)"
      ],
      "metadata": {
        "colab": {
          "base_uri": "https://localhost:8080/"
        },
        "id": "yv1sHNHpzthI",
        "outputId": "2ddd9fbb-6c0c-4587-a6b4-be5b99f648f9"
      },
      "execution_count": 9,
      "outputs": [
        {
          "output_type": "stream",
          "name": "stdout",
          "text": [
            "enter the index3\n",
            "6\n"
          ]
        }
      ]
    },
    {
      "cell_type": "markdown",
      "source": [
        "7.Write a Python program to print even numbers in a list?"
      ],
      "metadata": {
        "id": "neXAXNX-0Wdy"
      }
    },
    {
      "cell_type": "code",
      "source": [
        "lst = [1,2,3,4,5,6,7]\n",
        "\n",
        "lst_even = [i for i in lst if i%2==0]\n",
        "print(lst_even)"
      ],
      "metadata": {
        "colab": {
          "base_uri": "https://localhost:8080/"
        },
        "id": "coF3RO54z_UG",
        "outputId": "94f6ca46-86a8-4d49-fb53-f941119585e6"
      },
      "execution_count": 10,
      "outputs": [
        {
          "output_type": "stream",
          "name": "stdout",
          "text": [
            "[2, 4, 6]\n"
          ]
        }
      ]
    },
    {
      "cell_type": "markdown",
      "source": [
        "8.Write a Python program to print odd numbers in a List?"
      ],
      "metadata": {
        "id": "IGgwNJfn0sWN"
      }
    },
    {
      "cell_type": "code",
      "source": [
        "lst = [1,2,3,4,5,6,7]\n",
        "\n",
        "lst_odd = [i for i in lst if i%2!=0]\n",
        "print(lst_odd)"
      ],
      "metadata": {
        "colab": {
          "base_uri": "https://localhost:8080/"
        },
        "id": "R7Ndfy240nSe",
        "outputId": "c235bc8a-3180-43c9-a64b-298cf4a0d61b"
      },
      "execution_count": 11,
      "outputs": [
        {
          "output_type": "stream",
          "name": "stdout",
          "text": [
            "[1, 3, 5, 7]\n"
          ]
        }
      ]
    },
    {
      "cell_type": "markdown",
      "source": [
        "9.Write a Python program to Remove empty List from List?"
      ],
      "metadata": {
        "id": "CEeQI6OK01WX"
      }
    },
    {
      "cell_type": "code",
      "source": [
        "lst = [1,2,[],3,[],4,5,6]\n",
        "print(list(filter(None,lst)))"
      ],
      "metadata": {
        "colab": {
          "base_uri": "https://localhost:8080/"
        },
        "id": "IGDPlo-e0xYg",
        "outputId": "d40c33a9-cc0b-4c5c-953c-5d3bc57011eb"
      },
      "execution_count": 12,
      "outputs": [
        {
          "output_type": "stream",
          "name": "stdout",
          "text": [
            "[1, 2, 3, 4, 5, 6]\n"
          ]
        }
      ]
    },
    {
      "cell_type": "markdown",
      "source": [
        "10.Write a Python program to Cloning or Copying a list?"
      ],
      "metadata": {
        "id": "un3lolB01L4b"
      }
    },
    {
      "cell_type": "code",
      "source": [
        "lst = [1,2,3,4,5,6,7]\n",
        "lst2 = lst[:]\n",
        "print(\"original list\",lst)\n",
        "print('copyed list',lst2)"
      ],
      "metadata": {
        "colab": {
          "base_uri": "https://localhost:8080/"
        },
        "id": "SooXFkxJ1Hk0",
        "outputId": "d86345cf-42bc-4382-a8f9-65066f74695f"
      },
      "execution_count": 13,
      "outputs": [
        {
          "output_type": "stream",
          "name": "stdout",
          "text": [
            "original list [1, 2, 3, 4, 5, 6, 7]\n",
            "copyed list [1, 2, 3, 4, 5, 6, 7]\n"
          ]
        }
      ]
    },
    {
      "cell_type": "markdown",
      "source": [
        "11.Write a Python program to Count occurrences of an element in a list?"
      ],
      "metadata": {
        "id": "9Bm1WVUu1gSA"
      }
    },
    {
      "cell_type": "code",
      "source": [
        "try:\n",
        "    lst = [1,2,7,1,2,3,5,2,1,2]\n",
        "    count=0\n",
        "    x = int(input(\"enter the element :\"))\n",
        "    for i in lst:\n",
        "        if i==x:\n",
        "            count+=1\n",
        "\n",
        "    print(x,\"occured\",count,\"times\")\n",
        "except Exception as e:\n",
        "    print(e)"
      ],
      "metadata": {
        "colab": {
          "base_uri": "https://localhost:8080/"
        },
        "id": "2rrIZ3Y-1clh",
        "outputId": "2a368d1f-38a1-4bc9-c605-32fc0daa85e3"
      },
      "execution_count": 14,
      "outputs": [
        {
          "output_type": "stream",
          "name": "stdout",
          "text": [
            "enter the element :2\n",
            "2 occured 4 times\n"
          ]
        }
      ]
    },
    {
      "cell_type": "code",
      "source": [
        ""
      ],
      "metadata": {
        "id": "l-J9Saug2AFA"
      },
      "execution_count": null,
      "outputs": []
    }
  ]
}