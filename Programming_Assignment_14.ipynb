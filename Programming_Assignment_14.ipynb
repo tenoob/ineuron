{
  "nbformat": 4,
  "nbformat_minor": 0,
  "metadata": {
    "colab": {
      "name": "Programming Assignment_14.ipynb",
      "provenance": [],
      "authorship_tag": "ABX9TyPezwCw9Bs4v0WItipgjiJt",
      "include_colab_link": true
    },
    "kernelspec": {
      "name": "python3",
      "display_name": "Python 3"
    },
    "language_info": {
      "name": "python"
    }
  },
  "cells": [
    {
      "cell_type": "markdown",
      "metadata": {
        "id": "view-in-github",
        "colab_type": "text"
      },
      "source": [
        "<a href=\"https://colab.research.google.com/github/tenoob/ineuron/blob/main/Programming_Assignment_14.ipynb\" target=\"_parent\"><img src=\"https://colab.research.google.com/assets/colab-badge.svg\" alt=\"Open In Colab\"/></a>"
      ]
    },
    {
      "cell_type": "markdown",
      "source": [
        "Question 1:\n",
        "Define a class with a generator which can iterate the numbers, which are divisible by\n",
        "7, between a given range 0 and n."
      ],
      "metadata": {
        "id": "k32qjChscVax"
      }
    },
    {
      "cell_type": "code",
      "execution_count": 3,
      "metadata": {
        "colab": {
          "base_uri": "https://localhost:8080/"
        },
        "id": "vvDiDX8NPfxD",
        "outputId": "7f67ff4d-cd5c-45bd-fe6d-ad874b244576"
      },
      "outputs": [
        {
          "output_type": "stream",
          "name": "stdout",
          "text": [
            "Enter the range :70\n",
            "0\n",
            "7\n",
            "14\n",
            "21\n",
            "28\n",
            "35\n",
            "42\n",
            "49\n",
            "56\n",
            "63\n",
            "70\n"
          ]
        }
      ],
      "source": [
        "def divSeven(n):\n",
        "    for i in range(n+1):\n",
        "        if i%7==0:\n",
        "            yield i\n",
        "\n",
        "try :\n",
        "    n = int(input(\"Enter the range :\"))\n",
        "    for i in divSeven(n):\n",
        "        print(i)\n",
        "except Exception as e:\n",
        "    print(\"Error :\",e)"
      ]
    },
    {
      "cell_type": "markdown",
      "source": [
        "Question 2:\n",
        "Write a program to compute the frequency of the words from the input. The output\n",
        "should output after sorting the key alphanumerically.\n",
        "Suppose the following input is supplied to the program:\n",
        "New to Python or choosing between Python 2 and Python 3? Read Python 2 or\n",
        "Python 3.\n",
        "Then, the output should be:\n",
        "2:2\n",
        "3.:1\n",
        "3?:1\n",
        "New:1\n",
        "Python:5\n",
        "Read:1\n",
        "and:1\n",
        "between:1\n",
        "choosing:1\n",
        "or:2\n",
        "to:1"
      ],
      "metadata": {
        "id": "eNJjm8jNiExI"
      }
    },
    {
      "cell_type": "code",
      "source": [
        "try:\n",
        "    statement = input().split(\" \")\n",
        "\n",
        "    unique_words = list(set(statement))\n",
        "    unique_words.sort()\n",
        "\n",
        "\n",
        "    for i in unique_words:\n",
        "        print(i,\":\",statement.count(i))\n",
        "\n",
        "\n",
        "except Exception as e:\n",
        "    print(\"Error :\",e)"
      ],
      "metadata": {
        "colab": {
          "base_uri": "https://localhost:8080/"
        },
        "id": "TZrp1e-Bgu0U",
        "outputId": "1a7650e2-faa8-46e8-9685-b7e584608f9f"
      },
      "execution_count": 12,
      "outputs": [
        {
          "output_type": "stream",
          "name": "stdout",
          "text": [
            "New to Python or choosing between Python 2 and Python 3? Read Python 2 or Python 3.\n",
            "2 : 2\n",
            "3. : 1\n",
            "3? : 1\n",
            "New : 1\n",
            "Python : 5\n",
            "Read : 1\n",
            "and : 1\n",
            "between : 1\n",
            "choosing : 1\n",
            "or : 2\n",
            "to : 1\n"
          ]
        }
      ]
    },
    {
      "cell_type": "markdown",
      "source": [
        "Question 3:\n",
        "\n",
        "Define a class Person and its two child classes: Male and Female. All classes have a\n",
        "method &quot;getGender&quot; which can print &quot;Male&quot; for Male class and &quot;Female&quot; for Female\n",
        "class."
      ],
      "metadata": {
        "id": "Z8LybIOcmPeS"
      }
    },
    {
      "cell_type": "code",
      "source": [
        "class Person:\n",
        "    def getGender(self):\n",
        "        return \"404\"\n",
        "\n",
        "class Male(Person):\n",
        "    def getGender(self):\n",
        "        return \"Male\"\n",
        "\n",
        "class Female(Person):\n",
        "    def getGender(self):\n",
        "        return \"Female\"\n",
        "\n",
        "try:\n",
        "    man = Male()\n",
        "    women = Female()\n",
        "\n",
        "    print(man.getGender())\n",
        "    print(women.getGender())\n",
        "except Exception as e:\n",
        "    print(\"Error : \",e)"
      ],
      "metadata": {
        "colab": {
          "base_uri": "https://localhost:8080/"
        },
        "id": "Wkknj68ckJxd",
        "outputId": "5c8e01a8-b3c5-4d34-a390-6308b1f4002f"
      },
      "execution_count": 14,
      "outputs": [
        {
          "output_type": "stream",
          "name": "stdout",
          "text": [
            "Male\n",
            "Female\n"
          ]
        }
      ]
    },
    {
      "cell_type": "markdown",
      "source": [
        "Question 4:\n",
        "Please write a program to generate all sentences where subject is in [&quot;I&quot;, &quot;You&quot;] and\n",
        "verb is in [&quot;Play&quot;, &quot;Love&quot;] and the object is in [&quot;Hockey&quot;,&quot;Football&quot;]."
      ],
      "metadata": {
        "id": "LdyB45Lfnwr6"
      }
    },
    {
      "cell_type": "code",
      "source": [
        "try:\n",
        "    subject = [\"I\", \"You\"]\n",
        "    verb =  [\"Play\", \"Love\"]\n",
        "    Object = [\"Hockey\",\"Football\"]\n",
        "\n",
        "    for i in subject:\n",
        "        for j in verb:\n",
        "            for k in Object:\n",
        "                print(i,j,k)\n",
        "\n",
        "except Exception as e:\n",
        "    print(\"Error : \",e)"
      ],
      "metadata": {
        "colab": {
          "base_uri": "https://localhost:8080/"
        },
        "id": "7iYd4KywneLx",
        "outputId": "c101b202-7613-45e4-eb47-7e8f88c03020"
      },
      "execution_count": 17,
      "outputs": [
        {
          "output_type": "stream",
          "name": "stdout",
          "text": [
            "I Play Hockey\n",
            "I Play Football\n",
            "I Love Hockey\n",
            "I Love Football\n",
            "You Play Hockey\n",
            "You Play Football\n",
            "You Love Hockey\n",
            "You Love Football\n"
          ]
        }
      ]
    },
    {
      "cell_type": "markdown",
      "source": [
        "Question 5:\n",
        "Please write a program to compress and decompress the string &quot;hello world!hello\n",
        "world!hello world!hello world!&quot;."
      ],
      "metadata": {
        "id": "dms3YJdIo8Kp"
      }
    },
    {
      "cell_type": "code",
      "source": [
        "import zlib\n",
        "\n",
        "try:\n",
        "    statement = bytes(\"hello world!hello world!hello world!hello world!\",'utf-8')\n",
        "    comprees = zlib.compress(statement)\n",
        "    print(\"Compress : \",comprees)\n",
        "    print(\"Decompress : \", zlib.decompress(comprees))\n",
        "except Exception as e:\n",
        "    print(\"Error : \",e)"
      ],
      "metadata": {
        "colab": {
          "base_uri": "https://localhost:8080/"
        },
        "id": "wGtXlnTQoYiZ",
        "outputId": "3522b5d6-d11f-4569-d2ec-e0d10d51d405"
      },
      "execution_count": 21,
      "outputs": [
        {
          "output_type": "stream",
          "name": "stdout",
          "text": [
            "Compress :  b'x\\x9c\\xcbH\\xcd\\xc9\\xc9W(\\xcf/\\xcaIQ\\xcc \\x82\\r\\x00\\xbd[\\x11\\xf5'\n",
            "Decompress :  b'hello world!hello world!hello world!hello world!'\n"
          ]
        }
      ]
    },
    {
      "cell_type": "markdown",
      "source": [
        "Question 6:\n",
        "Please write a binary search function which searches an item in a sorted list. The\n",
        "function should return the index of element to be searched in the list."
      ],
      "metadata": {
        "id": "M2UhZtbTq0TB"
      }
    },
    {
      "cell_type": "code",
      "source": [
        "def binaryTree(lst,left,right,ele):\n",
        "    if right>=left:\n",
        "        mid = (right+left)//2\n",
        "        if lst[mid]==ele:\n",
        "            return mid\n",
        "\n",
        "        elif lst[mid]>ele:\n",
        "            return binaryTree(lst,left,mid,ele)\n",
        "        else:\n",
        "            return binaryTree(lst,mid+1,right,ele)\n",
        "    else:\n",
        "        return -1\n",
        "\n",
        "\n",
        "try:\n",
        "    lst = list(map(int,input(\"Enter a Sorted list : \").split(' ')))\n",
        "    ele = int(input(\"Enter element to be searched : \"))\n",
        "    result = binaryTree(lst,0,len(lst),ele)\n",
        "    if result ==-1:\n",
        "        raise Exception(\"Not present\")\n",
        "    else:\n",
        "        print(\"Index = \",result+1)\n",
        "except Exception as e:\n",
        "    print(\"Error : \",e)"
      ],
      "metadata": {
        "colab": {
          "base_uri": "https://localhost:8080/"
        },
        "id": "Cl3nEJdhp6r3",
        "outputId": "9ee0d097-6d36-4b69-bbdf-98751c4c38c5"
      },
      "execution_count": 26,
      "outputs": [
        {
          "output_type": "stream",
          "name": "stdout",
          "text": [
            "Enter a Sorted list : 1 2 5 6 7 12 23 46 345\n",
            "Enter element to be searched : 6\n",
            "Index =  4\n"
          ]
        }
      ]
    },
    {
      "cell_type": "code",
      "source": [
        ""
      ],
      "metadata": {
        "id": "ldIKzbris9P3"
      },
      "execution_count": null,
      "outputs": []
    }
  ]
}