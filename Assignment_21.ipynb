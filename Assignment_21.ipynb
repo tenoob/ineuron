{
  "nbformat": 4,
  "nbformat_minor": 0,
  "metadata": {
    "colab": {
      "name": "Assignment_21.ipynb",
      "provenance": [],
      "authorship_tag": "ABX9TyMxpRo67BmbmGWyPvcCJrnk",
      "include_colab_link": true
    },
    "kernelspec": {
      "name": "python3",
      "display_name": "Python 3"
    },
    "language_info": {
      "name": "python"
    }
  },
  "cells": [
    {
      "cell_type": "markdown",
      "metadata": {
        "id": "view-in-github",
        "colab_type": "text"
      },
      "source": [
        "<a href=\"https://colab.research.google.com/github/tenoob/ineuron/blob/main/Assignment_21.ipynb\" target=\"_parent\"><img src=\"https://colab.research.google.com/assets/colab-badge.svg\" alt=\"Open In Colab\"/></a>"
      ]
    },
    {
      "cell_type": "markdown",
      "source": [
        "1. Add the current date to the text file today.txt as a string."
      ],
      "metadata": {
        "id": "6hzPpgnzOKXO"
      }
    },
    {
      "cell_type": "code",
      "execution_count": 3,
      "metadata": {
        "id": "aQME-aanN5Tg"
      },
      "outputs": [],
      "source": [
        "from datetime import date\n",
        "date = str(date.today())\n",
        "\n",
        "with open(\"today.txt\",'w') as f:\n",
        "    f.write(date)"
      ]
    },
    {
      "cell_type": "markdown",
      "source": [
        "2. Read the text file today.txt into the string today_string"
      ],
      "metadata": {
        "id": "DXMHlH-JPjCu"
      }
    },
    {
      "cell_type": "code",
      "source": [
        "file = open('today.txt','r')\n",
        "today_string = str(file.read())"
      ],
      "metadata": {
        "id": "ClSuC9e3PIyZ"
      },
      "execution_count": 9,
      "outputs": []
    },
    {
      "cell_type": "markdown",
      "source": [
        "3. Parse the date from today_string."
      ],
      "metadata": {
        "id": "RJgCgvKRQbsf"
      }
    },
    {
      "cell_type": "code",
      "source": [
        "from datetime import datetime\n",
        "date_time = datetime.strptime(today_string, '%Y-%m-%d')"
      ],
      "metadata": {
        "id": "9NF4lDz3P4fi"
      },
      "execution_count": 19,
      "outputs": []
    },
    {
      "cell_type": "markdown",
      "source": [
        "4. List the files in your current directory"
      ],
      "metadata": {
        "id": "PWiPG9uXSsLY"
      }
    },
    {
      "cell_type": "code",
      "source": [
        "import os\n",
        "arr = os.listdir('.')\n",
        "print(arr)"
      ],
      "metadata": {
        "colab": {
          "base_uri": "https://localhost:8080/"
        },
        "id": "lzEWa6ZMRddy",
        "outputId": "be5d1bfc-0661-4533-ec16-ec1404fa731b"
      },
      "execution_count": 22,
      "outputs": [
        {
          "output_type": "stream",
          "name": "stdout",
          "text": [
            "['.config', 'today.txt', 'sample_data']\n"
          ]
        }
      ]
    },
    {
      "cell_type": "markdown",
      "source": [
        "5. Create a list of all of the files in your parent directory (minimum five files should be available)."
      ],
      "metadata": {
        "id": "QRqB9MtCTEV3"
      }
    },
    {
      "cell_type": "code",
      "source": [
        "files_lst = os.listdir('.')\n",
        "files_lst"
      ],
      "metadata": {
        "colab": {
          "base_uri": "https://localhost:8080/"
        },
        "id": "VFh9zmCcS0qv",
        "outputId": "e7b4043b-10bc-4fd4-8729-2869444370de"
      },
      "execution_count": 23,
      "outputs": [
        {
          "output_type": "execute_result",
          "data": {
            "text/plain": [
              "['.config',\n",
              " 'mypic.jpg',\n",
              " 'today.txt',\n",
              " 'profile.jpg',\n",
              " 'Scan 11-Mar-2020.pdf',\n",
              " 'Scan 11-Mar-2020 (1).pdf',\n",
              " 'sample_data']"
            ]
          },
          "metadata": {},
          "execution_count": 23
        }
      ]
    },
    {
      "cell_type": "markdown",
      "source": [
        "6. Use multiprocessing to create three separate processes. Make each one wait a random number of\n",
        "seconds between one and five, print the current time, and then exit."
      ],
      "metadata": {
        "id": "UPSLG2dUT5qi"
      }
    },
    {
      "cell_type": "code",
      "source": [
        "import multiprocessing\n",
        "import random\n",
        "import time\n",
        "\n",
        "def worker(name: str) -> None:\n",
        "    print(f'Started worker {name}')\n",
        "    worker_time = random.choice(range(1, 5))\n",
        "    time.sleep(worker_time)\n",
        "    print(f'{name} worker finished in {worker_time} seconds')\n",
        "\n",
        "if __name__ == '__main__':\n",
        "    processes = []\n",
        "    for i in range(3):\n",
        "        process = multiprocessing.Process(target=worker, \n",
        "                                          args=(f'computer_{i}',))\n",
        "        processes.append(process)\n",
        "        process.start()\n",
        "        \n",
        "    for proc in processes:\n",
        "        proc.join()"
      ],
      "metadata": {
        "colab": {
          "base_uri": "https://localhost:8080/"
        },
        "id": "qaDFhJedTttA",
        "outputId": "6277d10d-bc49-4b8c-f264-ed4396d75624"
      },
      "execution_count": 24,
      "outputs": [
        {
          "output_type": "stream",
          "name": "stdout",
          "text": [
            "Started worker computer_0\n",
            "Started worker computer_1\n",
            "Started worker computer_2\n",
            "computer_0 worker finished in 1 seconds\n",
            "computer_1 worker finished in 4 seconds\n",
            "computer_2 worker finished in 4 seconds\n"
          ]
        }
      ]
    },
    {
      "cell_type": "markdown",
      "source": [
        "7. Create a date object of your day of birth."
      ],
      "metadata": {
        "id": "vLq8eh6CUjLs"
      }
    },
    {
      "cell_type": "code",
      "source": [
        "bd = datetime(2001,3,19)\n",
        "print(bd)"
      ],
      "metadata": {
        "colab": {
          "base_uri": "https://localhost:8080/"
        },
        "id": "Vsr5oVS5UdrG",
        "outputId": "dabb5a21-9d67-4a3e-c975-d36c5b038796"
      },
      "execution_count": 27,
      "outputs": [
        {
          "output_type": "stream",
          "name": "stdout",
          "text": [
            "2001-03-19 00:00:00\n"
          ]
        }
      ]
    },
    {
      "cell_type": "markdown",
      "source": [
        "8. What day of the week was your day of birth?"
      ],
      "metadata": {
        "id": "h_fHsEuqVOEG"
      }
    },
    {
      "cell_type": "code",
      "source": [
        "year, week_num, day_of_week = bd.isocalendar()\n",
        "days = [\"sunday\",\"Monday\",\"Tuesday\",\"Wednesday\",\"Thursday\",\"Friday\",\"Saturday\",]\n",
        "\n",
        "print(days[day_of_week])"
      ],
      "metadata": {
        "colab": {
          "base_uri": "https://localhost:8080/"
        },
        "id": "mTCmzwXXU7HN",
        "outputId": "5cd8d1d3-ddf1-433e-868b-143ceec88f0a"
      },
      "execution_count": 29,
      "outputs": [
        {
          "output_type": "stream",
          "name": "stdout",
          "text": [
            "Monday\n"
          ]
        }
      ]
    },
    {
      "cell_type": "markdown",
      "source": [
        "9. When will you be (or when were you) 10,000 days old?"
      ],
      "metadata": {
        "id": "rCd5PV3vV_mt"
      }
    },
    {
      "cell_type": "code",
      "source": [
        "import datetime\n",
        "day = bd + datetime.timedelta(days=10000)\n",
        "print(day)"
      ],
      "metadata": {
        "colab": {
          "base_uri": "https://localhost:8080/"
        },
        "id": "2kvVfPSsVnwG",
        "outputId": "180d0a59-c429-4a59-9e57-65b698605a67"
      },
      "execution_count": 32,
      "outputs": [
        {
          "output_type": "stream",
          "name": "stdout",
          "text": [
            "2028-08-04 00:00:00\n"
          ]
        }
      ]
    },
    {
      "cell_type": "code",
      "source": [
        ""
      ],
      "metadata": {
        "id": "oH069PRuWRZ4"
      },
      "execution_count": null,
      "outputs": []
    }
  ]
}