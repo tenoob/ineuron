{
  "nbformat": 4,
  "nbformat_minor": 0,
  "metadata": {
    "colab": {
      "name": "Untitled40.ipynb",
      "provenance": [],
      "authorship_tag": "ABX9TyNWLs5h4TMF6uuMrMHY3Ppg",
      "include_colab_link": true
    },
    "kernelspec": {
      "name": "python3",
      "display_name": "Python 3"
    },
    "language_info": {
      "name": "python"
    }
  },
  "cells": [
    {
      "cell_type": "markdown",
      "metadata": {
        "id": "view-in-github",
        "colab_type": "text"
      },
      "source": [
        "<a href=\"https://colab.research.google.com/github/tenoob/ineuron/blob/main/Assignment_15.ipynb\" target=\"_parent\"><img src=\"https://colab.research.google.com/assets/colab-badge.svg\" alt=\"Open In Colab\"/></a>"
      ]
    },
    {
      "cell_type": "markdown",
      "source": [
        "1.How many seconds are in an hour? Use the interactive interpreter as a calculator and multiply the\n",
        "number of seconds in a minute (60) by the number of minutes in an hour (also 60).\n",
        "sol. 60"
      ],
      "metadata": {
        "id": "EIzHQrjby3ul"
      }
    },
    {
      "cell_type": "code",
      "execution_count": 1,
      "metadata": {
        "colab": {
          "base_uri": "https://localhost:8080/"
        },
        "id": "oItyNfPbubOv",
        "outputId": "ea831346-c6d0-4b82-db9a-f7bf716c3980"
      },
      "outputs": [
        {
          "output_type": "execute_result",
          "data": {
            "text/plain": [
              "3600"
            ]
          },
          "metadata": {},
          "execution_count": 1
        }
      ],
      "source": [
        "60*60"
      ]
    },
    {
      "cell_type": "markdown",
      "source": [
        "2.Assign the result from the previous task (seconds in an hour) to a variable called\n",
        "seconds_per_hour."
      ],
      "metadata": {
        "id": "wUU0WtkNzQW3"
      }
    },
    {
      "cell_type": "code",
      "source": [
        "seconds_per_hour = 60*60"
      ],
      "metadata": {
        "id": "9u11K4_UzE0y"
      },
      "execution_count": 2,
      "outputs": []
    },
    {
      "cell_type": "markdown",
      "source": [
        "3.How many seconds do you think there are in a day? Make use of the variables seconds per hour\n",
        "and minutes per hour."
      ],
      "metadata": {
        "id": "TWtC9eY5zcEy"
      }
    },
    {
      "cell_type": "code",
      "source": [
        "seconds_per_hour*24"
      ],
      "metadata": {
        "colab": {
          "base_uri": "https://localhost:8080/"
        },
        "id": "6bFS7GChzc2v",
        "outputId": "2e035eb0-f64a-41ef-9e47-d2d47a05585e"
      },
      "execution_count": 3,
      "outputs": [
        {
          "output_type": "execute_result",
          "data": {
            "text/plain": [
              "86400"
            ]
          },
          "metadata": {},
          "execution_count": 3
        }
      ]
    },
    {
      "cell_type": "markdown",
      "source": [
        "4.Calculate seconds per day again, but this time save the result in a variable called seconds_per_day"
      ],
      "metadata": {
        "id": "EzAqhKebzjvS"
      }
    },
    {
      "cell_type": "code",
      "source": [
        "seconds_per_day  = seconds_per_hour*24"
      ],
      "metadata": {
        "id": "30b6GrGDzgkJ"
      },
      "execution_count": 4,
      "outputs": []
    },
    {
      "cell_type": "markdown",
      "source": [
        "5.Divide seconds_per_day by seconds_per_hour. Use floating-point (/) division."
      ],
      "metadata": {
        "id": "F-WHmLCqzqwx"
      }
    },
    {
      "cell_type": "code",
      "source": [
        "seconds_per_day/seconds_per_hour"
      ],
      "metadata": {
        "colab": {
          "base_uri": "https://localhost:8080/"
        },
        "id": "wzgvhC9SzniX",
        "outputId": "96c38ee3-ba32-4447-89a1-619dbb299953"
      },
      "execution_count": 5,
      "outputs": [
        {
          "output_type": "execute_result",
          "data": {
            "text/plain": [
              "24.0"
            ]
          },
          "metadata": {},
          "execution_count": 5
        }
      ]
    },
    {
      "cell_type": "markdown",
      "source": [
        "6.Divide seconds_per_day by seconds_per_hour, using integer (//) division. Did this number agree\n",
        "with the floating-point value from the previous question, aside from the final .0?"
      ],
      "metadata": {
        "id": "LjG4dHevzyjE"
      }
    },
    {
      "cell_type": "code",
      "source": [
        "print(seconds_per_day//seconds_per_hour)\n",
        "print(\"yes\")"
      ],
      "metadata": {
        "colab": {
          "base_uri": "https://localhost:8080/"
        },
        "id": "TUqV0FtLzvCI",
        "outputId": "ff69c39a-e92d-4ba3-ecd0-090b7913663f"
      },
      "execution_count": 8,
      "outputs": [
        {
          "output_type": "stream",
          "name": "stdout",
          "text": [
            "24\n",
            "yes\n"
          ]
        }
      ]
    },
    {
      "cell_type": "markdown",
      "source": [
        "7.Write a generator, genPrimes, that returns the sequence of prime numbers on successive calls to\n",
        "its next() method: 2, 3, 5, 7, 11, ..."
      ],
      "metadata": {
        "id": "xnO7RxLQ0Gis"
      }
    },
    {
      "cell_type": "code",
      "source": [
        "def getPrimes():\n",
        "    prime = []\n",
        "    i=1\n",
        "    while True:\n",
        "        i+=1\n",
        "        for p in prime:\n",
        "            if i%p==0:\n",
        "                break\n",
        "            else:\n",
        "                prime.append(i)\n",
        "                yield i\n",
        "\n",
        "\n",
        "x = getPrimes()\n",
        "\n"
      ],
      "metadata": {
        "id": "mMW8Bljoz_DU"
      },
      "execution_count": 9,
      "outputs": []
    },
    {
      "cell_type": "code",
      "source": [
        ""
      ],
      "metadata": {
        "id": "WeLWKPJZ1SMn"
      },
      "execution_count": null,
      "outputs": []
    }
  ]
}