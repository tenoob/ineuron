{
  "nbformat": 4,
  "nbformat_minor": 0,
  "metadata": {
    "colab": {
      "name": "Untitled24.ipynb",
      "provenance": [],
      "authorship_tag": "ABX9TyM6UtGf0rub8a7+m5BsrMzn",
      "include_colab_link": true
    },
    "kernelspec": {
      "name": "python3",
      "display_name": "Python 3"
    },
    "language_info": {
      "name": "python"
    }
  },
  "cells": [
    {
      "cell_type": "markdown",
      "metadata": {
        "id": "view-in-github",
        "colab_type": "text"
      },
      "source": [
        "<a href=\"https://colab.research.google.com/github/tenoob/ineuron/blob/main/Programming%20Assignment_6.ipynb\" target=\"_parent\"><img src=\"https://colab.research.google.com/assets/colab-badge.svg\" alt=\"Open In Colab\"/></a>"
      ]
    },
    {
      "cell_type": "markdown",
      "source": [
        "1.Write a Python Program to Display Fibonacci Sequence Using Recursion?"
      ],
      "metadata": {
        "id": "iWIpVUdGcDr8"
      }
    },
    {
      "cell_type": "code",
      "execution_count": 2,
      "metadata": {
        "colab": {
          "base_uri": "https://localhost:8080/"
        },
        "id": "sbBmtSKnb1j0",
        "outputId": "603329f2-e783-4cf5-eb18-cf7dbc7d054d"
      },
      "outputs": [
        {
          "output_type": "stream",
          "name": "stdout",
          "text": [
            "Enter the number5\n",
            "1\n",
            "1\n",
            "2\n",
            "3\n",
            "5\n"
          ]
        }
      ],
      "source": [
        "def fibo(n):\n",
        "    if n==1 or n==2:\n",
        "        return 1\n",
        "    else:\n",
        "        return (fibo(n-1)+fibo(n-2))\n",
        "\n",
        "try:\n",
        "    a = int(input(\"Enter the number\"))\n",
        "    for i in range(1,a+1):\n",
        "        print(fibo(i))\n",
        "except Exception as e:\n",
        "    print(\"Error :\",e)"
      ]
    },
    {
      "cell_type": "markdown",
      "source": [
        "2.Write a Python Program to Find Factorial of Number Using Recursion?"
      ],
      "metadata": {
        "id": "Ig-k2DhVc19I"
      }
    },
    {
      "cell_type": "code",
      "source": [
        "def factorial(n):\n",
        "    if n==1:\n",
        "        return 1\n",
        "    else: \n",
        "        return n*factorial(n-1)\n",
        "\n",
        "\n",
        "try:\n",
        "    a = int(input(\"Enter the number:\"))\n",
        "    print(\"{}! = {}\".format(a,factorial(a)))\n",
        "except Exception as e:\n",
        "    print(\"Error :\",e)   "
      ],
      "metadata": {
        "colab": {
          "base_uri": "https://localhost:8080/"
        },
        "id": "z5ep1KV-crbZ",
        "outputId": "c509569b-322e-4c74-9e64-34b15f6593e0"
      },
      "execution_count": 5,
      "outputs": [
        {
          "output_type": "stream",
          "name": "stdout",
          "text": [
            "Enter the number:4\n",
            "4! = 24\n"
          ]
        }
      ]
    },
    {
      "cell_type": "markdown",
      "source": [
        "3.Write a Python Program to calculate your Body Mass Index?"
      ],
      "metadata": {
        "id": "uRsYW5nVdlau"
      }
    },
    {
      "cell_type": "code",
      "source": [
        "try:\n",
        "    a = float(input(\"Input your height in Feet: \"))\n",
        "    b = float(input(\"Input your weight in Kilogram: \"))\n",
        "    print(\"BMI is: \", round(b / (a * a), 2))\n",
        "except Exception as e:\n",
        "    print(\"Error :\",e)   "
      ],
      "metadata": {
        "colab": {
          "base_uri": "https://localhost:8080/"
        },
        "id": "Hy2-PRUTdXFx",
        "outputId": "a6a773a7-8da6-47f4-d3cc-400f2481c7b1"
      },
      "execution_count": 6,
      "outputs": [
        {
          "output_type": "stream",
          "name": "stdout",
          "text": [
            "Input your height in Feet: 5.8\n",
            "Input your weight in Kilogram: 80\n",
            "BMI is:  2.38\n"
          ]
        }
      ]
    },
    {
      "cell_type": "markdown",
      "source": [
        "4.Write a Python Program to calculate the natural logarithm of any number?"
      ],
      "metadata": {
        "id": "U6gbPVT4eUOW"
      }
    },
    {
      "cell_type": "code",
      "source": [
        "from math import log \n",
        "try:\n",
        "    a = float(input(\"Enter the number\"))\n",
        "    print(\" log({})={}\".format(a,log(a)))\n",
        "except Exception as e:\n",
        "    print(\"Error :\",e)   "
      ],
      "metadata": {
        "colab": {
          "base_uri": "https://localhost:8080/"
        },
        "id": "Ck4PEeR8d94y",
        "outputId": "b1b761c4-1aec-494e-cdc6-54f39db07a75"
      },
      "execution_count": 7,
      "outputs": [
        {
          "output_type": "stream",
          "name": "stdout",
          "text": [
            "Enter the number5\n",
            " log(5.0)=1.6094379124341003\n"
          ]
        }
      ]
    },
    {
      "cell_type": "markdown",
      "source": [
        "5.Write a Python Program for cube sum of first n natural numbers?"
      ],
      "metadata": {
        "id": "E1MNTtmifHKy"
      }
    },
    {
      "cell_type": "code",
      "source": [
        "try:\n",
        "    a = int(input(\"Enter the number:\"))\n",
        "    sum=0\n",
        "    for i in range(1,a+1):\n",
        "        sum+=i**3\n",
        "    print(\"cube sum of first {} natural numbers = {}\".format(a,sum))\n",
        "except Exception as e:\n",
        "    print(\"Error :\",e)   "
      ],
      "metadata": {
        "colab": {
          "base_uri": "https://localhost:8080/"
        },
        "id": "pzy0StEEezCL",
        "outputId": "c171ea3c-430c-40a5-a557-2681f0923906"
      },
      "execution_count": 8,
      "outputs": [
        {
          "output_type": "stream",
          "name": "stdout",
          "text": [
            "Enter the number5\n",
            "cube sum of first 5 natural numbers = 225\n"
          ]
        }
      ]
    },
    {
      "cell_type": "code",
      "source": [
        ""
      ],
      "metadata": {
        "id": "P5-ze8XJf5I8"
      },
      "execution_count": null,
      "outputs": []
    }
  ]
}