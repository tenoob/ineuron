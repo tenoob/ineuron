{
  "nbformat": 4,
  "nbformat_minor": 0,
  "metadata": {
    "colab": {
      "name": "Untitled37.ipynb",
      "provenance": [],
      "authorship_tag": "ABX9TyNZcEEx+xDf5xC2EIS9fQXp",
      "include_colab_link": true
    },
    "kernelspec": {
      "name": "python3",
      "display_name": "Python 3"
    },
    "language_info": {
      "name": "python"
    }
  },
  "cells": [
    {
      "cell_type": "markdown",
      "metadata": {
        "id": "view-in-github",
        "colab_type": "text"
      },
      "source": [
        "<a href=\"https://colab.research.google.com/github/tenoob/ineuron/blob/main/Programming%20Assignment_12.ipynb\" target=\"_parent\"><img src=\"https://colab.research.google.com/assets/colab-badge.svg\" alt=\"Open In Colab\"/></a>"
      ]
    },
    {
      "cell_type": "markdown",
      "source": [
        "1.Write a Python program to Extract Unique values dictionary values?"
      ],
      "metadata": {
        "id": "2qFTZrOMpL_L"
      }
    },
    {
      "cell_type": "code",
      "execution_count": 2,
      "metadata": {
        "colab": {
          "base_uri": "https://localhost:8080/"
        },
        "id": "MGkeCL5ZpD8m",
        "outputId": "3cbf7099-9730-4ba0-b9df-62fd45294e50"
      },
      "outputs": [
        {
          "output_type": "stream",
          "name": "stdout",
          "text": [
            "unique element are : [1, 2, 3, 4, 5, 6, 7]\n"
          ]
        }
      ],
      "source": [
        "dic = {'a':[1,1,2,3,4,4],\n",
        "       'b':[1,4,2,5,6,7]}\n",
        "\n",
        "lst = list(sorted({i for ele in dic.values() for i in ele }))\n",
        "print(\"unique element are :\",lst)"
      ]
    },
    {
      "cell_type": "markdown",
      "source": [
        "2.Write a Python program to find the sum of all items in a dictionary?"
      ],
      "metadata": {
        "id": "vmHrXrBypzLF"
      }
    },
    {
      "cell_type": "code",
      "source": [
        "dic = {'a':10,'b':15,'c':17}\n",
        "\n",
        "total = 0\n",
        "for i in dic.values():\n",
        "    total+=i\n",
        "\n",
        "print(\"total =\",total)"
      ],
      "metadata": {
        "colab": {
          "base_uri": "https://localhost:8080/"
        },
        "id": "UMNJmq62puEw",
        "outputId": "774a071f-43c2-4f2c-a8c6-963395f866b6"
      },
      "execution_count": 3,
      "outputs": [
        {
          "output_type": "stream",
          "name": "stdout",
          "text": [
            "total = 42\n"
          ]
        }
      ]
    },
    {
      "cell_type": "markdown",
      "source": [
        "3.Write a Python program to Merging two Dictionaries?"
      ],
      "metadata": {
        "id": "sNyXbqnZqTi4"
      }
    },
    {
      "cell_type": "code",
      "source": [
        "dic_1 = {'a':'1','b':'2','c':'3'}\n",
        "dic_2 = {'x' : [1,2,3]}\n",
        "\n",
        "dic_1.update(dic_2)\n",
        "print(\"Merged dicrionary = \",dic_1)"
      ],
      "metadata": {
        "colab": {
          "base_uri": "https://localhost:8080/"
        },
        "id": "oUC8YzzzqPuT",
        "outputId": "aea309d5-0f80-4158-91ad-6de3f3689de2"
      },
      "execution_count": 5,
      "outputs": [
        {
          "output_type": "stream",
          "name": "stdout",
          "text": [
            "Merged dicrionary =  {'a': '1', 'b': '2', 'c': '3', 'x': [1, 2, 3]}\n"
          ]
        }
      ]
    },
    {
      "cell_type": "markdown",
      "source": [
        "4.Write a Python program to convert key-values list to flat dictionary?"
      ],
      "metadata": {
        "id": "H9gCF0wHq4vF"
      }
    },
    {
      "cell_type": "code",
      "source": [
        "dic = {'a':[1,2,3,4] , 'b':[1,4,9,16]}\n",
        "\n",
        "dic_2 = dict(zip(dic['a'],dic['b']))\n",
        "print(dic_2)"
      ],
      "metadata": {
        "colab": {
          "base_uri": "https://localhost:8080/"
        },
        "id": "JPmGS3wRqyjV",
        "outputId": "d01bf18d-71fb-4ed2-d838-1c4126a348dd"
      },
      "execution_count": 7,
      "outputs": [
        {
          "output_type": "stream",
          "name": "stdout",
          "text": [
            "{1: 1, 2: 4, 3: 9, 4: 16}\n"
          ]
        }
      ]
    },
    {
      "cell_type": "markdown",
      "source": [
        "5.Write a Python program to insertion at the beginning in OrderedDict?"
      ],
      "metadata": {
        "id": "qvVXtjxeredY"
      }
    },
    {
      "cell_type": "code",
      "source": [
        "from collections import OrderedDict\n",
        "\n",
        "dic_1 = OrderedDict([('abc','1'),(\"pqr\",'2'),(\"xyz\",'3')])\n",
        "dic_1.update({'mno':'6'})\n",
        "dic_1.move_to_end('mno',last=False)\n",
        "\n",
        "print(dic_1)"
      ],
      "metadata": {
        "colab": {
          "base_uri": "https://localhost:8080/"
        },
        "id": "oXeoK3xurWV4",
        "outputId": "c9b34012-de08-4170-9c60-b69f5530f8a1"
      },
      "execution_count": 9,
      "outputs": [
        {
          "output_type": "stream",
          "name": "stdout",
          "text": [
            "OrderedDict([('mno', '6'), ('abc', '1'), ('pqr', '2'), ('xyz', '3')])\n"
          ]
        }
      ]
    },
    {
      "cell_type": "markdown",
      "source": [
        "6.Write a Python program to check order of character in string using OrderedDict()?"
      ],
      "metadata": {
        "id": "ylMBakPhsowq"
      }
    },
    {
      "cell_type": "code",
      "source": [
        "from collections import OrderedDict\n",
        "\n",
        "string = 'Hey'\n",
        "pattern = 'er'\n",
        "flag = False\n",
        "dic = OrderedDict.fromkeys(string)\n",
        "length = 0\n",
        "for key,value in dic.items():\n",
        "    if key==pattern[length]:\n",
        "        length+=1\n",
        "\n",
        "    if length==len(pattern):\n",
        "        flag = True\n",
        "\n",
        "\n",
        "if flag==True:\n",
        "    print(\"in oreder\")\n",
        "else:\n",
        "    print('not in order')"
      ],
      "metadata": {
        "colab": {
          "base_uri": "https://localhost:8080/"
        },
        "id": "nczv4_p2sXls",
        "outputId": "96fbf805-db66-478d-e1b6-f241b55d1c15"
      },
      "execution_count": 15,
      "outputs": [
        {
          "output_type": "stream",
          "name": "stdout",
          "text": [
            "not in order\n"
          ]
        }
      ]
    },
    {
      "cell_type": "markdown",
      "source": [
        "7.Write a Python program to sort Python Dictionaries by Key or Value?"
      ],
      "metadata": {
        "id": "F13Cf7eAuUMv"
      }
    },
    {
      "cell_type": "code",
      "source": [
        "dic = {1:['a','b'] , 4:['xy',12],2:['xyx',122], }\n",
        "\n",
        "sorted_dic = dict(sorted(dic.items(),key = lambda x:x[0],))\n",
        "print(sorted_dic)"
      ],
      "metadata": {
        "colab": {
          "base_uri": "https://localhost:8080/"
        },
        "id": "Y8BHqJkBtph_",
        "outputId": "1b1b92af-3274-4ccf-ff0a-484a42f72e0c"
      },
      "execution_count": 17,
      "outputs": [
        {
          "output_type": "stream",
          "name": "stdout",
          "text": [
            "{1: ['a', 'b'], 2: ['xyx', 122], 4: ['xy', 12]}\n"
          ]
        }
      ]
    },
    {
      "cell_type": "code",
      "source": [
        ""
      ],
      "metadata": {
        "id": "L-xslgAsu3Y5"
      },
      "execution_count": null,
      "outputs": []
    }
  ]
}