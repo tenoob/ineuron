{
  "nbformat": 4,
  "nbformat_minor": 0,
  "metadata": {
    "colab": {
      "name": "Untitled20.ipynb",
      "provenance": [],
      "authorship_tag": "ABX9TyPwu0bBawsKHXxOWItfeG/k",
      "include_colab_link": true
    },
    "kernelspec": {
      "name": "python3",
      "display_name": "Python 3"
    },
    "language_info": {
      "name": "python"
    }
  },
  "cells": [
    {
      "cell_type": "markdown",
      "metadata": {
        "id": "view-in-github",
        "colab_type": "text"
      },
      "source": [
        "<a href=\"https://colab.research.google.com/github/tenoob/ineuron/blob/main/Assignment_5.ipynb\" target=\"_parent\"><img src=\"https://colab.research.google.com/assets/colab-badge.svg\" alt=\"Open In Colab\"/></a>"
      ]
    },
    {
      "cell_type": "markdown",
      "source": [
        "1.What does an empty dictionary&#39;s code look like?"
      ],
      "metadata": {
        "id": "Wvs1K5JotHbT"
      }
    },
    {
      "cell_type": "code",
      "execution_count": 1,
      "metadata": {
        "colab": {
          "base_uri": "https://localhost:8080/"
        },
        "id": "3v0fmslPrEcs",
        "outputId": "05616b32-45fd-4680-90a2-459f22ed4a00"
      },
      "outputs": [
        {
          "output_type": "stream",
          "name": "stdout",
          "text": [
            " {}\n"
          ]
        }
      ],
      "source": [
        "print(\" {}\")"
      ]
    },
    {
      "cell_type": "markdown",
      "source": [
        "2.What is the value of a dictionary value with the key &#39;foo&#39; and the value 42?"
      ],
      "metadata": {
        "id": "snc4Tm5-tV8P"
      }
    },
    {
      "cell_type": "code",
      "source": [
        "dic = {}\n",
        "dic['foo'] =42\n",
        "dic"
      ],
      "metadata": {
        "colab": {
          "base_uri": "https://localhost:8080/"
        },
        "id": "T5cG_e2StRs9",
        "outputId": "8121c1ea-2b20-42d6-f4ed-3ecc03a193a8"
      },
      "execution_count": 2,
      "outputs": [
        {
          "output_type": "execute_result",
          "data": {
            "text/plain": [
              "{'foo': 42}"
            ]
          },
          "metadata": {},
          "execution_count": 2
        }
      ]
    },
    {
      "cell_type": "markdown",
      "source": [
        "3.What is the most significant distinction between a dictionary and a list?"
      ],
      "metadata": {
        "id": "Nydt9neDtklE"
      }
    },
    {
      "cell_type": "code",
      "source": [
        "print(\"all element are stored as key value pair and there is no order in which they are stored\")\n",
        "print(\"in a list they are stored in an order\")"
      ],
      "metadata": {
        "colab": {
          "base_uri": "https://localhost:8080/"
        },
        "id": "2YRmR3ZwtgFP",
        "outputId": "38f2e2d0-247b-499c-8748-ba87e31ccd9e"
      },
      "execution_count": 3,
      "outputs": [
        {
          "output_type": "stream",
          "name": "stdout",
          "text": [
            "all element are stored as key value pair and there is no order in which they are stored\n",
            "in a list they are stored in an order\n"
          ]
        }
      ]
    },
    {
      "cell_type": "markdown",
      "source": [
        "4.What happens if you try to access spam[&#39;foo&#39;] if spam is {&#39;bar&#39;: 100}?"
      ],
      "metadata": {
        "id": "j2vPye7TuWMb"
      }
    },
    {
      "cell_type": "code",
      "source": [
        "print(\"we get a error\")\n"
      ],
      "metadata": {
        "colab": {
          "base_uri": "https://localhost:8080/"
        },
        "id": "WgSZYjgFuK_w",
        "outputId": "753a0ee1-e24f-4d2a-efd3-c0bdb5e6bc2a"
      },
      "execution_count": 5,
      "outputs": [
        {
          "output_type": "stream",
          "name": "stdout",
          "text": [
            "we get a error\n"
          ]
        }
      ]
    },
    {
      "cell_type": "markdown",
      "source": [
        "5.If a dictionary is stored in spam, what is the difference between the expressions &#39;cat&#39; in spam and\n",
        "&#39;cat&#39; in spam.keys()?"
      ],
      "metadata": {
        "id": "kTcKeIJbuqQ7"
      }
    },
    {
      "cell_type": "code",
      "source": [
        "print(\"There is no difference\")"
      ],
      "metadata": {
        "colab": {
          "base_uri": "https://localhost:8080/"
        },
        "id": "buPMxsQJujMa",
        "outputId": "e6c94729-66e2-40cc-cc14-9335332c1b38"
      },
      "execution_count": 7,
      "outputs": [
        {
          "output_type": "stream",
          "name": "stdout",
          "text": [
            "There is no difference\n"
          ]
        }
      ]
    },
    {
      "cell_type": "markdown",
      "source": [
        "6.If a dictionary is stored in spam, what is the difference between the expressions &#39;cat&#39; in spam and\n",
        "&#39;cat&#39; in spam.values()?"
      ],
      "metadata": {
        "id": "s9cYIv7IwKzU"
      }
    },
    {
      "cell_type": "code",
      "source": [
        "print(\"cat in spam checks if there is a key by the name of cat\")\n",
        "print(\"cat in spam.values checks if there is a value cat for a given key in spam\")"
      ],
      "metadata": {
        "colab": {
          "base_uri": "https://localhost:8080/"
        },
        "id": "LzjL4eRswFRS",
        "outputId": "8bf0b5f4-b076-4bd8-b68d-c0a466f210ae"
      },
      "execution_count": 8,
      "outputs": [
        {
          "output_type": "stream",
          "name": "stdout",
          "text": [
            "cat in spam checks if there is a key by the name of cat\n",
            "cat in spam.values checks if there is a value cat for a given key in spam\n"
          ]
        }
      ]
    },
    {
      "cell_type": "markdown",
      "source": [
        "7.What is a shortcut for the following code?\n",
        "if &#39;color&#39; not in spam:\n",
        "spam[&#39;color&#39;] = &#39;black&#39;"
      ],
      "metadata": {
        "id": "kO7oahiPwrnJ"
      }
    },
    {
      "cell_type": "code",
      "source": [
        "print(\"spam.setdefault('color','black')\")"
      ],
      "metadata": {
        "colab": {
          "base_uri": "https://localhost:8080/"
        },
        "id": "WW_dTTYVwnsC",
        "outputId": "130741d7-4403-4f7e-db76-7092dddf9eb4"
      },
      "execution_count": 9,
      "outputs": [
        {
          "output_type": "stream",
          "name": "stdout",
          "text": [
            "spam.setdefault('color','black')\n"
          ]
        }
      ]
    },
    {
      "cell_type": "markdown",
      "source": [
        "8.How do you &quot;pretty print&quot; dictionary values using which module and function?"
      ],
      "metadata": {
        "id": "HNdEM2-QxJ3f"
      }
    },
    {
      "cell_type": "code",
      "source": [
        "import pprint\n",
        "pprint.pprint(dic)"
      ],
      "metadata": {
        "colab": {
          "base_uri": "https://localhost:8080/"
        },
        "id": "lORU7Z-bxHBh",
        "outputId": "f688733d-5155-4575-d8a5-d9b4c41f04f2"
      },
      "execution_count": 11,
      "outputs": [
        {
          "output_type": "stream",
          "name": "stdout",
          "text": [
            "{'foo': 42}\n"
          ]
        }
      ]
    },
    {
      "cell_type": "code",
      "source": [
        ""
      ],
      "metadata": {
        "id": "5X_WxSq3xRcP"
      },
      "execution_count": null,
      "outputs": []
    }
  ]
}