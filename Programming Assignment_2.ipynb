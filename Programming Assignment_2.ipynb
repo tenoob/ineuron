{
  "nbformat": 4,
  "nbformat_minor": 0,
  "metadata": {
    "colab": {
      "name": "Untitled16.ipynb",
      "provenance": [],
      "authorship_tag": "ABX9TyMD5uuahF0cYDT5/SMv0D5c",
      "include_colab_link": true
    },
    "kernelspec": {
      "name": "python3",
      "display_name": "Python 3"
    },
    "language_info": {
      "name": "python"
    }
  },
  "cells": [
    {
      "cell_type": "markdown",
      "metadata": {
        "id": "view-in-github",
        "colab_type": "text"
      },
      "source": [
        "<a href=\"https://colab.research.google.com/github/tenoob/ineuron/blob/main/Programming%20Assignment_2.ipynb\" target=\"_parent\"><img src=\"https://colab.research.google.com/assets/colab-badge.svg\" alt=\"Open In Colab\"/></a>"
      ]
    },
    {
      "cell_type": "markdown",
      "source": [
        "1.Write a Python program to convert kilometers to miles?"
      ],
      "metadata": {
        "id": "dfIeLllSneJF"
      }
    },
    {
      "cell_type": "code",
      "execution_count": 20,
      "metadata": {
        "colab": {
          "base_uri": "https://localhost:8080/"
        },
        "id": "YWjmnpaLmeI9",
        "outputId": "0574d00d-82cb-4387-c78d-4cab02cc1876"
      },
      "outputs": [
        {
          "output_type": "stream",
          "name": "stdout",
          "text": [
            "Enter the distance(in km)1\n",
            "1.0 km = 0.6214 miles\n"
          ]
        }
      ],
      "source": [
        "try:\n",
        "    a = float(input(\"Enter the distance(in km)\"))\n",
        "    b = a*0.6214\n",
        "    print(\"{} km = {} miles\".format(a,b))\n",
        "except Exception as e:\n",
        "    print(\"Error:\",e)"
      ]
    },
    {
      "cell_type": "markdown",
      "source": [
        "2.Write a Python program to convert Celsius to Fahrenheit?"
      ],
      "metadata": {
        "id": "DgH7A-G4oKmY"
      }
    },
    {
      "cell_type": "code",
      "source": [
        "try:\n",
        "    a = float(input(\"Enter the temperature in Celsius\"))\n",
        "    b = a*(9/5)+32\n",
        "    print(\"{} celsius = {} fahrenheit\".format(a,b))\n",
        "except Exception as e:\n",
        "    print(\"Error :\",e)"
      ],
      "metadata": {
        "colab": {
          "base_uri": "https://localhost:8080/"
        },
        "id": "Xnk0qsFeoCpB",
        "outputId": "189863b5-9c97-4f5a-f1c2-174b4eb7faf5"
      },
      "execution_count": 8,
      "outputs": [
        {
          "output_type": "stream",
          "name": "stdout",
          "text": [
            "Enter the temperature in Celsius32\n",
            "32.0 celsius = 89.6 fahrenheit\n"
          ]
        }
      ]
    },
    {
      "cell_type": "markdown",
      "source": [
        "3.Write a Python program to display calendar?"
      ],
      "metadata": {
        "id": "Nm3yHIl8qBwg"
      }
    },
    {
      "cell_type": "code",
      "source": [
        "import calendar\n",
        "\n",
        "try:\n",
        "    yr = int(input(\"Enter year: \"))\n",
        "    mth = int(input(\"Enter month: \"))\n",
        "    if mth not in range(1,13):\n",
        "        raise Exception(\"Invlaid month\")\n",
        "\n",
        "    print(calendar.month(yr,mth))\n",
        "except Exception as e:\n",
        "    print(\"Error :\",e)"
      ],
      "metadata": {
        "colab": {
          "base_uri": "https://localhost:8080/"
        },
        "id": "lxEGAxUcp0CR",
        "outputId": "5d85e04b-9633-4c09-a933-a9085db428c2"
      },
      "execution_count": 21,
      "outputs": [
        {
          "output_type": "stream",
          "name": "stdout",
          "text": [
            "Enter year: 2021\n",
            "Enter month: 1\n",
            "    January 2021\n",
            "Mo Tu We Th Fr Sa Su\n",
            "             1  2  3\n",
            " 4  5  6  7  8  9 10\n",
            "11 12 13 14 15 16 17\n",
            "18 19 20 21 22 23 24\n",
            "25 26 27 28 29 30 31\n",
            "\n"
          ]
        }
      ]
    },
    {
      "cell_type": "markdown",
      "source": [
        "4.Write a Python program to solve quadratic equation?"
      ],
      "metadata": {
        "id": "ZAV1aBHAr4Fu"
      }
    },
    {
      "cell_type": "code",
      "source": [
        "from cmath import sqrt as sq\n",
        "\n",
        "try:\n",
        "    a = int(input(\"Enter a: \"))\n",
        "    b = int(input(\"Enter b: \"))\n",
        "    c = int(input(\"Enter c: \"))\n",
        "\n",
        "    \n",
        "    x = (-b-sq((b**2)-(4*a*c)))/(2*a)\n",
        "    y = (-b+sq((b**2)-(4*a*c)))/(2*a)\n",
        "\n",
        "    print(\"solutions are {} , {}\".format(x,y))\n",
        "except Exception as e:\n",
        "    print(\"Error : {}\".format(e))"
      ],
      "metadata": {
        "colab": {
          "base_uri": "https://localhost:8080/"
        },
        "id": "W0wmj7nCqXW1",
        "outputId": "4b28edfc-f2d6-4b2d-a39b-20fd8afb1c1d"
      },
      "execution_count": 17,
      "outputs": [
        {
          "output_type": "stream",
          "name": "stdout",
          "text": [
            "Enter a: 1\n",
            "Enter b: 5\n",
            "Enter c: 6\n",
            "solutions are (-3+0j) , (-2+0j)\n"
          ]
        }
      ]
    },
    {
      "cell_type": "markdown",
      "source": [
        "5.Write a Python program to swap two variables without temp variable?"
      ],
      "metadata": {
        "id": "9RoZ32trt4Dc"
      }
    },
    {
      "cell_type": "code",
      "source": [
        "try:\n",
        "    a = int(input(\"Enter first number: \"))\n",
        "    b = int(input(\"Enter second number\"))\n",
        "    a,b = b,a\n",
        "    print('a = {} , b = {}'.format(a,b))\n",
        "except Exception as e:\n",
        "    print(\"Error : {}\".format(e))"
      ],
      "metadata": {
        "colab": {
          "base_uri": "https://localhost:8080/"
        },
        "id": "LR53qPaqtNba",
        "outputId": "d66d753b-53b9-4736-8a00-dc89d64983a5"
      },
      "execution_count": 19,
      "outputs": [
        {
          "output_type": "stream",
          "name": "stdout",
          "text": [
            "Enter first number: 12\n",
            "Enter second number34\n",
            "a = 34 , b = 12\n"
          ]
        }
      ]
    },
    {
      "cell_type": "code",
      "source": [
        ""
      ],
      "metadata": {
        "id": "-fpiPad9uLFd"
      },
      "execution_count": null,
      "outputs": []
    }
  ]
}