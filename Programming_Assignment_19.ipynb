{
  "nbformat": 4,
  "nbformat_minor": 0,
  "metadata": {
    "colab": {
      "name": "Programming Assignment_19.ipynb",
      "provenance": [],
      "authorship_tag": "ABX9TyP1SKwQvR6E5FDuVcVVOIm5",
      "include_colab_link": true
    },
    "kernelspec": {
      "name": "python3",
      "display_name": "Python 3"
    },
    "language_info": {
      "name": "python"
    }
  },
  "cells": [
    {
      "cell_type": "markdown",
      "metadata": {
        "id": "view-in-github",
        "colab_type": "text"
      },
      "source": [
        "<a href=\"https://colab.research.google.com/github/tenoob/ineuron/blob/main/Programming_Assignment_19.ipynb\" target=\"_parent\"><img src=\"https://colab.research.google.com/assets/colab-badge.svg\" alt=\"Open In Colab\"/></a>"
      ]
    },
    {
      "cell_type": "markdown",
      "source": [
        "Question1\n",
        "Create a function that takes a string and returns a string in which each character is repeated\n",
        "once.\n",
        "Examples\n",
        "double_char(&quot;String&quot;) ➞ &quot;SSttrriinngg&quot;\n",
        "double_char(&quot;Hello World!&quot;) ➞ &quot;HHeelllloo WWoorrlldd!!&quot;\n",
        "double_char(&quot;1234!_ &quot;) ➞ &quot;11223344!!__ &quot;"
      ],
      "metadata": {
        "id": "yDP7nl7UET7k"
      }
    },
    {
      "cell_type": "code",
      "execution_count": 2,
      "metadata": {
        "colab": {
          "base_uri": "https://localhost:8080/"
        },
        "id": "LYFFNsP5EJsa",
        "outputId": "788a6d4c-6c0d-4e0b-ad28-5a602fab48ea"
      },
      "outputs": [
        {
          "output_type": "stream",
          "name": "stdout",
          "text": [
            "SSttrriinngg\n"
          ]
        }
      ],
      "source": [
        "def double_char(str):\n",
        "    newstr = [i*2 for i in str]\n",
        "    return \"\".join(newstr)\n",
        "\n",
        "print(double_char('String'))"
      ]
    },
    {
      "cell_type": "markdown",
      "source": [
        "Question2\n",
        "Create a function that reverses a boolean value and returns the string &quot;boolean expected&quot;\n",
        "if another variable type is given.\n",
        "Examples\n",
        "reverse(True) ➞ False\n",
        "reverse(False) ➞ True\n",
        "reverse(0) ➞ &quot;boolean expected&quot;\n",
        "reverse(None) ➞ &quot;boolean expected&quot;"
      ],
      "metadata": {
        "id": "JBOxc_EIEvp2"
      }
    },
    {
      "cell_type": "code",
      "source": [
        "def reverse(exp):\n",
        "    if exp == bool:\n",
        "        return not exp\n",
        "    else:\n",
        "        return \"boolean expected\"\n",
        "\n",
        "print(reverse(None))"
      ],
      "metadata": {
        "colab": {
          "base_uri": "https://localhost:8080/"
        },
        "id": "SF8IUjvwEqeU",
        "outputId": "793b55ce-4828-4078-b346-093e118ae845"
      },
      "execution_count": 6,
      "outputs": [
        {
          "output_type": "stream",
          "name": "stdout",
          "text": [
            "boolean expected\n"
          ]
        }
      ]
    },
    {
      "cell_type": "markdown",
      "source": [
        "Question3\n",
        "Create a function that returns the thickness (in meters) of a piece of paper after folding it n\n",
        "number of times. The paper starts off with a thickness of 0.5mm.\n",
        "Examples\n",
        "num_layers(1) ➞ &quot;0.001m&quot;\n",
        "# Paper folded once is 1mm (equal to 0.001m)\n",
        "num_layers(4) ➞ &quot;0.008m&quot;\n",
        "# Paper folded 4 times is 8mm (equal to 0.008m)\n",
        "num_layers(21) ➞ &quot;1048.576m&quot;\n",
        "# Paper folded 21 times is 1048576mm (equal to 1048.576m)"
      ],
      "metadata": {
        "id": "4HNCfadRF4uf"
      }
    },
    {
      "cell_type": "code",
      "source": [
        "def num_layers(n):\n",
        "    return (2**(n-1))/1000\n",
        "\n",
        "\n",
        "a = int(input())\n",
        "print(num_layers(a),'m')"
      ],
      "metadata": {
        "colab": {
          "base_uri": "https://localhost:8080/"
        },
        "id": "uXEcniFSFGBa",
        "outputId": "540ea60c-b7d7-49c1-e20c-5d47ee895439"
      },
      "execution_count": 9,
      "outputs": [
        {
          "output_type": "stream",
          "name": "stdout",
          "text": [
            "21\n",
            "1048.576 m\n"
          ]
        }
      ]
    },
    {
      "cell_type": "markdown",
      "source": [
        "Question4\n",
        "\n",
        "Create a function that takes a single string as argument and returns an ordered list containing\n",
        "the indices of all capital letters in the string.\n",
        "Examples\n",
        "index_of_caps(&quot;eDaBiT&quot;) ➞ [1, 3, 5]\n",
        "index_of_caps(&quot;eQuINoX&quot;) ➞ [1, 3, 4, 6]\n",
        "index_of_caps(&quot;determine&quot;) ➞ []\n",
        "index_of_caps(&quot;STRIKE&quot;) ➞ [0, 1, 2, 3, 4, 5]\n",
        "index_of_caps(&quot;sUn&quot;) ➞ [1]"
      ],
      "metadata": {
        "id": "UT9GYytEHMi7"
      }
    },
    {
      "cell_type": "code",
      "source": [
        "def index_of_caps(str):\n",
        "    lst = []\n",
        "    for i in range(len(str)):\n",
        "        if str[i].isupper():\n",
        "            lst.append(i)\n",
        "\n",
        "    return lst\n",
        "\n",
        "try:\n",
        "    str = input()\n",
        "    print(index_of_caps(str))\n",
        "except Exception as e:\n",
        "    print(\"Error : \",e)"
      ],
      "metadata": {
        "colab": {
          "base_uri": "https://localhost:8080/"
        },
        "id": "YR9LcobnG1-3",
        "outputId": "d0cfee1e-f30e-4284-df82-16be6daa9303"
      },
      "execution_count": 10,
      "outputs": [
        {
          "output_type": "stream",
          "name": "stdout",
          "text": [
            "eDaBiT\n",
            "[1, 3, 5]\n"
          ]
        }
      ]
    },
    {
      "cell_type": "markdown",
      "source": [
        "Question5\n",
        "Using list comprehensions, create a function that finds all even numbers from 1 to the given\n",
        "number.\n",
        "Examples\n",
        "find_even_nums(8) ➞ [2, 4, 6, 8]\n",
        "find_even_nums(4) ➞ [2, 4]\n",
        "find_even_nums(2) ➞ [2]"
      ],
      "metadata": {
        "id": "2-fbWjUmH4mF"
      }
    },
    {
      "cell_type": "code",
      "source": [
        "def find_even_nums(n):\n",
        "    lst = [ i for i in range(1,n+1) if i%2==0]\n",
        "    return lst\n",
        "\n",
        "\n",
        "try:\n",
        "    n = int(input())\n",
        "    print(find_even_nums(n))\n",
        "except Exception as e:\n",
        "    print(\"Error : \",e)"
      ],
      "metadata": {
        "colab": {
          "base_uri": "https://localhost:8080/"
        },
        "id": "bnHidlgVHwgr",
        "outputId": "3517a7b5-9eea-46e2-f6c6-b61b5f8dc6c2"
      },
      "execution_count": 11,
      "outputs": [
        {
          "output_type": "stream",
          "name": "stdout",
          "text": [
            "8\n",
            "[2, 4, 6, 8]\n"
          ]
        }
      ]
    },
    {
      "cell_type": "code",
      "source": [
        ""
      ],
      "metadata": {
        "id": "J_DqYiiQISn4"
      },
      "execution_count": null,
      "outputs": []
    }
  ]
}