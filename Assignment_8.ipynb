{
  "nbformat": 4,
  "nbformat_minor": 0,
  "metadata": {
    "colab": {
      "name": "Untitled26.ipynb",
      "provenance": [],
      "authorship_tag": "ABX9TyMBrfoUW60simui5YT8Mv0C",
      "include_colab_link": true
    },
    "kernelspec": {
      "name": "python3",
      "display_name": "Python 3"
    },
    "language_info": {
      "name": "python"
    }
  },
  "cells": [
    {
      "cell_type": "markdown",
      "metadata": {
        "id": "view-in-github",
        "colab_type": "text"
      },
      "source": [
        "<a href=\"https://colab.research.google.com/github/tenoob/ineuron/blob/main/Assignment_8.ipynb\" target=\"_parent\"><img src=\"https://colab.research.google.com/assets/colab-badge.svg\" alt=\"Open In Colab\"/></a>"
      ]
    },
    {
      "cell_type": "code",
      "source": [
        "!pip install pyinputplus\n"
      ],
      "metadata": {
        "colab": {
          "base_uri": "https://localhost:8080/"
        },
        "id": "OJa34Cm4Q_4R",
        "outputId": "6a00d868-b2c4-46b8-bcbf-7f05dee96ba0"
      },
      "execution_count": 5,
      "outputs": [
        {
          "output_type": "stream",
          "name": "stdout",
          "text": [
            "Collecting pyinputplus\n",
            "  Downloading PyInputPlus-0.2.12.tar.gz (20 kB)\n",
            "  Installing build dependencies ... \u001b[?25l\u001b[?25hdone\n",
            "  Getting requirements to build wheel ... \u001b[?25l\u001b[?25hdone\n",
            "    Preparing wheel metadata ... \u001b[?25l\u001b[?25hdone\n",
            "Collecting pysimplevalidate>=0.2.7\n",
            "  Downloading PySimpleValidate-0.2.12.tar.gz (22 kB)\n",
            "  Installing build dependencies ... \u001b[?25l\u001b[?25hdone\n",
            "  Getting requirements to build wheel ... \u001b[?25l\u001b[?25hdone\n",
            "    Preparing wheel metadata ... \u001b[?25l\u001b[?25hdone\n",
            "Collecting stdiomask>=0.0.3\n",
            "  Downloading stdiomask-0.0.6.tar.gz (3.6 kB)\n",
            "  Installing build dependencies ... \u001b[?25l\u001b[?25hdone\n",
            "  Getting requirements to build wheel ... \u001b[?25l\u001b[?25hdone\n",
            "    Preparing wheel metadata ... \u001b[?25l\u001b[?25hdone\n",
            "Building wheels for collected packages: pyinputplus, pysimplevalidate, stdiomask\n",
            "  Building wheel for pyinputplus (PEP 517) ... \u001b[?25l\u001b[?25hdone\n",
            "  Created wheel for pyinputplus: filename=PyInputPlus-0.2.12-py3-none-any.whl size=11315 sha256=e6177341ebb040fdc6b9af40b682c21624f6366b1ee2638efa0461eee77a97e5\n",
            "  Stored in directory: /root/.cache/pip/wheels/e7/33/73/719f8f1bd984d39face880fd22f6c5ef1b85f726e84c687094\n",
            "  Building wheel for pysimplevalidate (PEP 517) ... \u001b[?25l\u001b[?25hdone\n",
            "  Created wheel for pysimplevalidate: filename=PySimpleValidate-0.2.12-py3-none-any.whl size=16193 sha256=4e5388399a7dda55a32e65d1d7061c0f1f705e8e4be13c6679e936cd7c79d999\n",
            "  Stored in directory: /root/.cache/pip/wheels/5a/8b/6c/2925d22b93860bdc9b8ce02c3d2cf79336606f7469cef66065\n",
            "  Building wheel for stdiomask (PEP 517) ... \u001b[?25l\u001b[?25hdone\n",
            "  Created wheel for stdiomask: filename=stdiomask-0.0.6-py3-none-any.whl size=3321 sha256=fc68d85b6d7243cd63744d7a29ba8e3fc40a5fe9deaf5227462e98652e5443a0\n",
            "  Stored in directory: /root/.cache/pip/wheels/cf/13/89/64d0d3b167759523f4c1e68f883bbc30e7bfa27050edeb418e\n",
            "Successfully built pyinputplus pysimplevalidate stdiomask\n",
            "Installing collected packages: stdiomask, pysimplevalidate, pyinputplus\n",
            "Successfully installed pyinputplus-0.2.12 pysimplevalidate-0.2.12 stdiomask-0.0.6\n"
          ]
        }
      ]
    },
    {
      "cell_type": "markdown",
      "source": [
        "1.Is the Python Standard Library included with PyInputPlus?"
      ],
      "metadata": {
        "id": "iG8HUWBCPDF8"
      }
    },
    {
      "cell_type": "code",
      "execution_count": 1,
      "metadata": {
        "colab": {
          "base_uri": "https://localhost:8080/"
        },
        "id": "wf4r_8A9OsXG",
        "outputId": "1ee67b70-73fb-4c17-b6ca-144ff79b8206"
      },
      "outputs": [
        {
          "output_type": "stream",
          "name": "stdout",
          "text": [
            "No PyInputPlus is not included with the standard python library\n"
          ]
        }
      ],
      "source": [
        "print(\"No PyInputPlus is not included with the standard python library\")"
      ]
    },
    {
      "cell_type": "markdown",
      "source": [
        "2.Why is PyInputPlus commonly imported with import pyinputplus as pypi?"
      ],
      "metadata": {
        "id": "nzO3cBz2PRzV"
      }
    },
    {
      "cell_type": "code",
      "source": [
        "print(\"so to give it a shorter name as pypi instead of writting pyinputplus each time\")"
      ],
      "metadata": {
        "colab": {
          "base_uri": "https://localhost:8080/"
        },
        "id": "6-cxUS5YPPPu",
        "outputId": "091e7272-65bc-4734-f285-ab987866dd9b"
      },
      "execution_count": 2,
      "outputs": [
        {
          "output_type": "stream",
          "name": "stdout",
          "text": [
            "so to give it a shorter name as pypi instead of writting pyinputplus each time\n"
          ]
        }
      ]
    },
    {
      "cell_type": "markdown",
      "source": [
        "3.How do you distinguish between inputInt() and inputFloat()?"
      ],
      "metadata": {
        "id": "wTUIAYiiPjTc"
      }
    },
    {
      "cell_type": "code",
      "source": [
        "print(\"inputInt() accepts interger value \")\n",
        "print(\"inputFloat() accpets float value\")"
      ],
      "metadata": {
        "colab": {
          "base_uri": "https://localhost:8080/"
        },
        "id": "pQs-dsLmPgDA",
        "outputId": "815192d1-1a79-4823-c6cf-ce1ac07bebb0"
      },
      "execution_count": 3,
      "outputs": [
        {
          "output_type": "stream",
          "name": "stdout",
          "text": [
            "inputInt() accepts interger value \n",
            "inputFloat() accpets float value\n"
          ]
        }
      ]
    },
    {
      "cell_type": "markdown",
      "source": [
        "4.Using PyInputPlus, how do you ensure that the user enters a whole number between 0 and 99?"
      ],
      "metadata": {
        "id": "Up4qmGrnQS-k"
      }
    },
    {
      "cell_type": "code",
      "source": [
        "print(\"They have arguments as greaterThan and lessThan \")\n",
        "import pyinputplus as pyip\n",
        "res = pyip.inputNum(\"Enter number in range(0-99)\", greaterThan=0,lessThan=100)"
      ],
      "metadata": {
        "colab": {
          "base_uri": "https://localhost:8080/"
        },
        "id": "rDz1IGjJQO3T",
        "outputId": "dd237480-136e-416d-99b7-ccaeb7dbe63b"
      },
      "execution_count": 7,
      "outputs": [
        {
          "name": "stdout",
          "output_type": "stream",
          "text": [
            "They have arguments as greaterThan and lessThan \n",
            "Enter number in range(0-99)66\n"
          ]
        }
      ]
    },
    {
      "cell_type": "markdown",
      "source": [
        "5.What is transferred to the keyword arguments allowRegexes and blockRegexes?"
      ],
      "metadata": {
        "id": "LG8rVLEDRIZ2"
      }
    },
    {
      "cell_type": "code",
      "source": [
        "print(\"a list of regular expression string\")\n",
        "res = pyip.inputNum(allowRegexes=[r'(a|e|i|o|u)'])\n"
      ],
      "metadata": {
        "colab": {
          "base_uri": "https://localhost:8080/"
        },
        "id": "aZUw6ldaQ0kU",
        "outputId": "8e15577a-e7b0-4aa2-e3e7-e399c3eff80d"
      },
      "execution_count": 8,
      "outputs": [
        {
          "name": "stdout",
          "output_type": "stream",
          "text": [
            "a list of regular expression string\n",
            "ae\n"
          ]
        }
      ]
    },
    {
      "cell_type": "markdown",
      "source": [
        "6.If a blank input is entered three times, what does inputStr(limit=3) do?"
      ],
      "metadata": {
        "id": "dEL7kstbSGTI"
      }
    },
    {
      "cell_type": "code",
      "source": [
        "print(\"limit is used to give n number of attempts to the user to enter valid input before pyinputplus gives up\")\n",
        "\n",
        "res = pyip.inputNum(\"enter number (max 2 attempts)\",limit=2)"
      ],
      "metadata": {
        "colab": {
          "base_uri": "https://localhost:8080/"
        },
        "id": "r_sMXypRSBbR",
        "outputId": "06196b31-c0bd-4aae-f63a-b593deff49e7"
      },
      "execution_count": 10,
      "outputs": [
        {
          "name": "stdout",
          "output_type": "stream",
          "text": [
            "limit is used to give n number of attempts to the user to enter valid input before pyinputplus gives up\n",
            "enter number (max 2 attempts)ab\n",
            "'ab' is not a number.\n",
            "enter number (max 2 attempts)3\n"
          ]
        }
      ]
    },
    {
      "cell_type": "markdown",
      "source": [
        "7.If blank input is entered three times, what does inputStr(limit=3, default=&#39;hello&#39;) do?"
      ],
      "metadata": {
        "id": "c1jm8qZRS9oy"
      }
    },
    {
      "cell_type": "code",
      "source": [
        "print(\"limit gives n attempts for user to enter proper input\")\n",
        "print(\"if the user is unable to enter proper input in the given limit then the value stored in default is passed\")\n",
        "\n",
        "res = pyip.inputNum(\"enter number (max 2 attempts)\",limit=2,default='unable to enter')\n",
        "print(\"res = \",res)"
      ],
      "metadata": {
        "colab": {
          "base_uri": "https://localhost:8080/"
        },
        "id": "eaMGi8CYSrGt",
        "outputId": "b0ca1476-051c-4725-8922-cc08a772b00c"
      },
      "execution_count": 14,
      "outputs": [
        {
          "output_type": "stream",
          "name": "stdout",
          "text": [
            "limit gives n attempts for user to enter proper input\n",
            "if the user is unable to enter proper input in the given limit then the value stored in default is passed\n",
            "enter number (max 2 attempts)abc\n",
            "'abc' is not a number.\n",
            "enter number (max 2 attempts)xyz\n",
            "'xyz' is not a number.\n",
            "res =  unable to enter\n"
          ]
        }
      ]
    },
    {
      "cell_type": "code",
      "source": [
        ""
      ],
      "metadata": {
        "id": "6VkJSbaaTY_U"
      },
      "execution_count": null,
      "outputs": []
    }
  ]
}