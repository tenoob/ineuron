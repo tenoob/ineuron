{
  "nbformat": 4,
  "nbformat_minor": 0,
  "metadata": {
    "colab": {
      "name": "Untitled36.ipynb",
      "provenance": [],
      "authorship_tag": "ABX9TyNprd0eoFSIoge0B/nkLyAI",
      "include_colab_link": true
    },
    "kernelspec": {
      "name": "python3",
      "display_name": "Python 3"
    },
    "language_info": {
      "name": "python"
    }
  },
  "cells": [
    {
      "cell_type": "markdown",
      "metadata": {
        "id": "view-in-github",
        "colab_type": "text"
      },
      "source": [
        "<a href=\"https://colab.research.google.com/github/tenoob/ineuron/blob/main/Assignment_13.ipynb\" target=\"_parent\"><img src=\"https://colab.research.google.com/assets/colab-badge.svg\" alt=\"Open In Colab\"/></a>"
      ]
    },
    {
      "cell_type": "markdown",
      "source": [
        "1.What advantages do Excel spreadsheets have over CSV spreadsheets?"
      ],
      "metadata": {
        "id": "qA7GmKjEpl0K"
      }
    },
    {
      "cell_type": "code",
      "execution_count": 1,
      "metadata": {
        "colab": {
          "base_uri": "https://localhost:8080/"
        },
        "id": "84vCeuPApj6j",
        "outputId": "99d2ea1f-647a-4066-ae83-f09915549c65"
      },
      "outputs": [
        {
          "output_type": "stream",
          "name": "stdout",
          "text": [
            "Excel can perform VBA Coding, functions, formulas and create summaries easily when compared to CSV.\n",
            "Reading large data set is much easier for the end-user to read, comprehend and understand when compared to CSV\n"
          ]
        }
      ],
      "source": [
        "print(\"Excel can perform VBA Coding, functions, formulas and create summaries easily when compared to CSV.\")\n",
        "print(\"Reading large data set is much easier for the end-user to read, comprehend and understand when compared to CSV\")"
      ]
    },
    {
      "cell_type": "markdown",
      "source": [
        "2.What do you pass to csv.reader() and csv.writer() to create reader and writer objects?"
      ],
      "metadata": {
        "id": "OI6b_x1XqJNk"
      }
    },
    {
      "cell_type": "code",
      "source": [
        "print(\"csv file , delimiter\")"
      ],
      "metadata": {
        "colab": {
          "base_uri": "https://localhost:8080/"
        },
        "id": "-6F8NdSoqG88",
        "outputId": "3a54d3a0-57ed-4281-8ab5-b9afcda6c783"
      },
      "execution_count": 2,
      "outputs": [
        {
          "output_type": "stream",
          "name": "stdout",
          "text": [
            "csv file , delimiter\n"
          ]
        }
      ]
    },
    {
      "cell_type": "markdown",
      "source": [
        "3.What modes do File objects for reader and writer objects need to be opened in?"
      ],
      "metadata": {
        "id": "RQQf-xEpqoJi"
      }
    },
    {
      "cell_type": "code",
      "source": [
        "print(\"for reading 'r' \")\n",
        "print(\"for writing 'w' \")"
      ],
      "metadata": {
        "colab": {
          "base_uri": "https://localhost:8080/"
        },
        "id": "5uRxm8ouql52",
        "outputId": "3a8022cb-f58b-4c85-ab64-5c54b2237533"
      },
      "execution_count": 3,
      "outputs": [
        {
          "output_type": "stream",
          "name": "stdout",
          "text": [
            "for reading 'r' \n",
            "for writing 'w' \n"
          ]
        }
      ]
    },
    {
      "cell_type": "markdown",
      "source": [
        "4.What method takes a list argument and writes it to a CSV file?"
      ],
      "metadata": {
        "id": "dAEP0FVrrYBO"
      }
    },
    {
      "cell_type": "code",
      "source": [
        "print('csvwriter.writerow(row)')"
      ],
      "metadata": {
        "colab": {
          "base_uri": "https://localhost:8080/"
        },
        "id": "p94NW_hqrU_g",
        "outputId": "5b9c3d96-5299-46e3-f089-475f9c66c0b4"
      },
      "execution_count": 4,
      "outputs": [
        {
          "output_type": "stream",
          "name": "stdout",
          "text": [
            "csvwriter.writerow(row)\n"
          ]
        }
      ]
    },
    {
      "cell_type": "markdown",
      "source": [
        "5.What do the keyword arguments delimiter and line terminator do?"
      ],
      "metadata": {
        "id": "yBiVRVevrrru"
      }
    },
    {
      "cell_type": "code",
      "source": [
        "print(\"line terminator is the character that comes at the end of a row.\")"
      ],
      "metadata": {
        "colab": {
          "base_uri": "https://localhost:8080/"
        },
        "id": "ztZOr2lbrm44",
        "outputId": "32a1d5d5-53dd-4a0d-afb9-07a7e251783f"
      },
      "execution_count": 5,
      "outputs": [
        {
          "output_type": "stream",
          "name": "stdout",
          "text": [
            "line terminator is the character that comes at the end of a row.\n"
          ]
        }
      ]
    },
    {
      "cell_type": "markdown",
      "source": [
        "6.What function takes a string of JSON data and returns a Python data structure?"
      ],
      "metadata": {
        "id": "Ew9b4p-vr8cw"
      }
    },
    {
      "cell_type": "code",
      "source": [
        "print(\"decode()\")"
      ],
      "metadata": {
        "colab": {
          "base_uri": "https://localhost:8080/"
        },
        "id": "WSVrQHECr4XZ",
        "outputId": "300eb8d5-cd37-4e34-94c8-d2da4a722f4c"
      },
      "execution_count": 6,
      "outputs": [
        {
          "output_type": "stream",
          "name": "stdout",
          "text": [
            "loads()\n"
          ]
        }
      ]
    },
    {
      "cell_type": "markdown",
      "source": [
        "7.What function takes a Python data structure and returns a string of JSON data?"
      ],
      "metadata": {
        "id": "Py1AILhpsHV2"
      }
    },
    {
      "cell_type": "code",
      "source": [
        "print('dump()')"
      ],
      "metadata": {
        "colab": {
          "base_uri": "https://localhost:8080/"
        },
        "id": "JDb0cOuYsEpf",
        "outputId": "3874bfb1-ed6b-4d63-acd4-4f2af2e5f3fd"
      },
      "execution_count": 7,
      "outputs": [
        {
          "output_type": "stream",
          "name": "stdout",
          "text": [
            "dump()\n"
          ]
        }
      ]
    },
    {
      "cell_type": "code",
      "source": [
        ""
      ],
      "metadata": {
        "id": "sdIMmbe-soAK"
      },
      "execution_count": null,
      "outputs": []
    }
  ]
}