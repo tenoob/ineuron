{
  "nbformat": 4,
  "nbformat_minor": 0,
  "metadata": {
    "colab": {
      "name": "Untitled35.ipynb",
      "provenance": [],
      "authorship_tag": "ABX9TyOSdF0ep5RIipNYzehjFeTn",
      "include_colab_link": true
    },
    "kernelspec": {
      "name": "python3",
      "display_name": "Python 3"
    },
    "language_info": {
      "name": "python"
    }
  },
  "cells": [
    {
      "cell_type": "markdown",
      "metadata": {
        "id": "view-in-github",
        "colab_type": "text"
      },
      "source": [
        "<a href=\"https://colab.research.google.com/github/tenoob/ineuron/blob/main/Assignment_12.ipynb\" target=\"_parent\"><img src=\"https://colab.research.google.com/assets/colab-badge.svg\" alt=\"Open In Colab\"/></a>"
      ]
    },
    {
      "cell_type": "markdown",
      "source": [
        "1.In what modes should the PdfFileReader() and PdfFileWriter() File objects will be opened?"
      ],
      "metadata": {
        "id": "bcMvLxfqjxfa"
      }
    },
    {
      "cell_type": "code",
      "execution_count": 1,
      "metadata": {
        "colab": {
          "base_uri": "https://localhost:8080/"
        },
        "id": "YFSYlItVjuOw",
        "outputId": "714d6fa9-8448-4d19-f41b-032a8545cc1b"
      },
      "outputs": [
        {
          "output_type": "stream",
          "name": "stdout",
          "text": [
            "read binary 'rb' for PdfFileReader()\n",
            "write binary 'wb' for PdfFileWriter()\n"
          ]
        }
      ],
      "source": [
        "print(\"read binary 'rb' for PdfFileReader()\")\n",
        "print(\"write binary 'wb' for PdfFileWriter()\")"
      ]
    },
    {
      "cell_type": "markdown",
      "source": [
        "2.From a PdfFileReader object, how do you get a Page object for page 5?"
      ],
      "metadata": {
        "id": "d6iMUgPKkUap"
      }
    },
    {
      "cell_type": "code",
      "source": [
        "print(\"by calling getPage(4) as  they start from 0\")"
      ],
      "metadata": {
        "colab": {
          "base_uri": "https://localhost:8080/"
        },
        "id": "zhqR76_vkRgY",
        "outputId": "247e141f-21c9-4cc1-8ab4-03e76cdb7927"
      },
      "execution_count": 2,
      "outputs": [
        {
          "output_type": "stream",
          "name": "stdout",
          "text": [
            "by calling getPage(4) as  they start from 0\n"
          ]
        }
      ]
    },
    {
      "cell_type": "markdown",
      "source": [
        "3.What PdfFileReader variable stores the number of pages in the PDF document?"
      ],
      "metadata": {
        "id": "5WcrUdK7klpO"
      }
    },
    {
      "cell_type": "code",
      "source": [
        "print(\"numPages\")"
      ],
      "metadata": {
        "colab": {
          "base_uri": "https://localhost:8080/"
        },
        "id": "GI2M_GxDkhw3",
        "outputId": "2ea7e3b9-3e06-4096-e784-9097dca24419"
      },
      "execution_count": 3,
      "outputs": [
        {
          "output_type": "stream",
          "name": "stdout",
          "text": [
            "numPages\n"
          ]
        }
      ]
    },
    {
      "cell_type": "markdown",
      "source": [
        "4.If a PdfFileReader object’s PDF is encrypted with the password swordfish, what must you do\n",
        "before you can obtain Page objects from it?"
      ],
      "metadata": {
        "id": "2GVvW45sku84"
      }
    },
    {
      "cell_type": "code",
      "source": [
        "print('by calling decrypt(\"swordfish\")')"
      ],
      "metadata": {
        "colab": {
          "base_uri": "https://localhost:8080/"
        },
        "id": "_qTV2mZfkspq",
        "outputId": "c821ba61-b74a-488d-da85-e94ab0a44c30"
      },
      "execution_count": 4,
      "outputs": [
        {
          "output_type": "stream",
          "name": "stdout",
          "text": [
            "by calling decrypt(\"swordfish\")\n"
          ]
        }
      ]
    },
    {
      "cell_type": "markdown",
      "source": [
        "5.What methods do you use to rotate a page?"
      ],
      "metadata": {
        "id": "khC7H4DYlALd"
      }
    },
    {
      "cell_type": "code",
      "source": [
        "print(\"by using rotateClockwise()\")"
      ],
      "metadata": {
        "colab": {
          "base_uri": "https://localhost:8080/"
        },
        "id": "ymc8xtQtk8cK",
        "outputId": "83c6efee-2b9e-4333-fd5d-dc57bd0de244"
      },
      "execution_count": 5,
      "outputs": [
        {
          "output_type": "stream",
          "name": "stdout",
          "text": [
            "by using rotateClockwise()\n"
          ]
        }
      ]
    },
    {
      "cell_type": "markdown",
      "source": [
        "6.What is the difference between a Run object and a Paragraph object?"
      ],
      "metadata": {
        "id": "37VsX3Q5li2W"
      }
    },
    {
      "cell_type": "code",
      "source": [
        "print(\"paragraph starts on a new line and contain multiple runs\")\n",
        "print(\"runs are contigouos groups of characters within a group\")"
      ],
      "metadata": {
        "colab": {
          "base_uri": "https://localhost:8080/"
        },
        "id": "5SO29shOlf5q",
        "outputId": "3e797ea7-caa7-4850-9b7e-7a07ce49e367"
      },
      "execution_count": 6,
      "outputs": [
        {
          "output_type": "stream",
          "name": "stdout",
          "text": [
            "paragraph starts on a new line and contain multiple runs\n",
            "runs are contigouos groups of characters within a group\n"
          ]
        }
      ]
    },
    {
      "cell_type": "markdown",
      "source": [
        "7.How do you obtain a list of Paragraph objects for a Document object that’s stored in a variable\n",
        "named doc?"
      ],
      "metadata": {
        "id": "jsOq8kAGmENf"
      }
    },
    {
      "cell_type": "code",
      "source": [
        "print(\"by usign doc = docx.Document('demo.docx)\")\n",
        "print(\"we open a .docx file in Python, call docx.Document(), and pass the filename demo.docx. This will return a Document object, which has a paragraphs attribute that is a list of Paragraph objects\")"
      ],
      "metadata": {
        "colab": {
          "base_uri": "https://localhost:8080/"
        },
        "id": "6tgMsTfimA9z",
        "outputId": "e86895d9-e44d-416a-be4c-7dd10924c862"
      },
      "execution_count": 8,
      "outputs": [
        {
          "output_type": "stream",
          "name": "stdout",
          "text": [
            "by usign doc = docx.Document('demo.docx)\n",
            "we open a .docx file in Python, call docx.Document(), and pass the filename demo.docx. This will return a Document object, which has a paragraphs attribute that is a list of Paragraph objects\n"
          ]
        }
      ]
    },
    {
      "cell_type": "markdown",
      "source": [
        "8.What type of object has bold, underline, italic, strike, and outline variables?"
      ],
      "metadata": {
        "id": "amR-xUodm4_s"
      }
    },
    {
      "cell_type": "code",
      "source": [
        "print(\"Run object\")"
      ],
      "metadata": {
        "colab": {
          "base_uri": "https://localhost:8080/"
        },
        "id": "yfISjQ6dmyV4",
        "outputId": "624eda19-7d65-4b50-fde7-0c6be17de977"
      },
      "execution_count": 9,
      "outputs": [
        {
          "output_type": "stream",
          "name": "stdout",
          "text": [
            "Run object\n"
          ]
        }
      ]
    },
    {
      "cell_type": "markdown",
      "source": [
        "9.What is the difference between False, True, and None for the bold variable?"
      ],
      "metadata": {
        "id": "NGuqrkynnk22"
      }
    },
    {
      "cell_type": "code",
      "source": [
        "print(\"Runs can be further styled using text attributes. Each attribute can be set to one of three values: True (the attribute is always enabled, no matter what other styles are applied to the run), False (the attribute is always disabled), or None (defaults to whatever the run’s style is set to)\")"
      ],
      "metadata": {
        "colab": {
          "base_uri": "https://localhost:8080/"
        },
        "id": "DO2J0_7Tnibq",
        "outputId": "353cfa28-f6cd-4f1e-fc6a-820a5694caa7"
      },
      "execution_count": 10,
      "outputs": [
        {
          "output_type": "stream",
          "name": "stdout",
          "text": [
            "Runs can be further styled using text attributes. Each attribute can be set to one of three values: True (the attribute is always enabled, no matter what other styles are applied to the run), False (the attribute is always disabled), or None (defaults to whatever the run’s style is set to)\n"
          ]
        }
      ]
    },
    {
      "cell_type": "markdown",
      "source": [
        "10.How do you create a Document object for a new Word document?"
      ],
      "metadata": {
        "id": "G7oX-y9PoYDg"
      }
    },
    {
      "cell_type": "code",
      "source": [
        "print(\"by calling the docx.Document() function\")"
      ],
      "metadata": {
        "colab": {
          "base_uri": "https://localhost:8080/"
        },
        "id": "f81q1OPZoUYW",
        "outputId": "14fc7aa0-d5e5-4eb6-99e1-8c9a3db69c7d"
      },
      "execution_count": 11,
      "outputs": [
        {
          "output_type": "stream",
          "name": "stdout",
          "text": [
            "by calling the docx.Document() function\n"
          ]
        }
      ]
    },
    {
      "cell_type": "markdown",
      "source": [
        "11.How do you add a paragraph with the text &#39;Hello, there!&#39; to a Document object stored in a\n",
        "variable named doc?"
      ],
      "metadata": {
        "id": "pr61WStYojR2"
      }
    },
    {
      "cell_type": "code",
      "source": [
        "print(\"doc.add_paragraph('hello there!')\")"
      ],
      "metadata": {
        "colab": {
          "base_uri": "https://localhost:8080/"
        },
        "id": "RTnZSQCQohD3",
        "outputId": "325ff08e-9979-4ccb-9e17-4bc45765abd9"
      },
      "execution_count": 12,
      "outputs": [
        {
          "output_type": "stream",
          "name": "stdout",
          "text": [
            "doc.add_paragraph('hello there!')\n"
          ]
        }
      ]
    },
    {
      "cell_type": "markdown",
      "source": [
        "12.What integers represent the levels of headings available in Word documents?"
      ],
      "metadata": {
        "id": "dxsnbbJno3fp"
      }
    },
    {
      "cell_type": "code",
      "source": [
        "print(\"integers 1 to 4 \")"
      ],
      "metadata": {
        "colab": {
          "base_uri": "https://localhost:8080/"
        },
        "id": "t4vb--1Bo0x3",
        "outputId": "a98bd620-e884-46e8-9e32-e480619a3f95"
      },
      "execution_count": 13,
      "outputs": [
        {
          "output_type": "stream",
          "name": "stdout",
          "text": [
            "integers 1 to 4 \n"
          ]
        }
      ]
    },
    {
      "cell_type": "code",
      "source": [
        ""
      ],
      "metadata": {
        "id": "5eiOTEe1pOPF"
      },
      "execution_count": null,
      "outputs": []
    }
  ]
}