{
  "nbformat": 4,
  "nbformat_minor": 0,
  "metadata": {
    "colab": {
      "name": "Assignment_17.ipynb",
      "provenance": [],
      "authorship_tag": "ABX9TyP7xqmWwtmE8j4CkvriEFQw",
      "include_colab_link": true
    },
    "kernelspec": {
      "name": "python3",
      "display_name": "Python 3"
    },
    "language_info": {
      "name": "python"
    }
  },
  "cells": [
    {
      "cell_type": "markdown",
      "metadata": {
        "id": "view-in-github",
        "colab_type": "text"
      },
      "source": [
        "<a href=\"https://colab.research.google.com/github/tenoob/ineuron/blob/main/Assignment_17.ipynb\" target=\"_parent\"><img src=\"https://colab.research.google.com/assets/colab-badge.svg\" alt=\"Open In Colab\"/></a>"
      ]
    },
    {
      "cell_type": "markdown",
      "source": [
        "1. Assign the value 7 to the variable guess_me. Then, write the conditional tests (if, else, and elif) to\n",
        "print the string &#39;too low&#39; if guess_me is less than 7, &#39;too high&#39; if greater than 7, and &#39;just right&#39; if equal\n",
        "to 7."
      ],
      "metadata": {
        "id": "fAC0t24pI2i3"
      }
    },
    {
      "cell_type": "code",
      "execution_count": 2,
      "metadata": {
        "colab": {
          "base_uri": "https://localhost:8080/"
        },
        "id": "Ed7-w2-bIxMu",
        "outputId": "c5e52e9b-4aae-495f-cad9-a47fc68b6195"
      },
      "outputs": [
        {
          "output_type": "stream",
          "name": "stdout",
          "text": [
            "just right\n"
          ]
        }
      ],
      "source": [
        "guess_me = 7\n",
        "if guess_me<7:\n",
        "    print(\"string low\")\n",
        "elif guess_me>7:\n",
        "    print(\"too high\")\n",
        "else:\n",
        "    print(\"just right\")"
      ]
    },
    {
      "cell_type": "markdown",
      "source": [
        "2. Assign the value 7 to the variable guess_me and the value 1 to the variable start. Write a while\n",
        "loop that compares start with guess_me. Print too low if start is less than guess me. If start equals\n",
        "guess_me, print &#39;found it!&#39; and exit the loop. If start is greater than guess_me, print &#39;oops&#39; and exit\n",
        "the loop. Increment start at the end of the loop."
      ],
      "metadata": {
        "id": "GUSNi08vJlOF"
      }
    },
    {
      "cell_type": "code",
      "source": [
        "guess_me = 7\n",
        "start  = 1\n",
        "\n",
        "while True:\n",
        "    if start<guess_me:\n",
        "        print(\"too loo\")\n",
        "    elif start>guess_me:\n",
        "        print(\"oops\")\n",
        "        break\n",
        "    else:\n",
        "        print('found it')\n",
        "        break\n",
        "    start+=1\n",
        "    "
      ],
      "metadata": {
        "colab": {
          "base_uri": "https://localhost:8080/"
        },
        "id": "onvyyjQ5Je_Z",
        "outputId": "a990f4a1-a5c3-4486-fd09-70ac37e51bf7"
      },
      "execution_count": 5,
      "outputs": [
        {
          "output_type": "stream",
          "name": "stdout",
          "text": [
            "too loo\n",
            "too loo\n",
            "too loo\n",
            "too loo\n",
            "too loo\n",
            "too loo\n",
            "found it\n"
          ]
        }
      ]
    },
    {
      "cell_type": "markdown",
      "source": [
        "3. Print the following values of the list [3, 2, 1, 0] using a for loop."
      ],
      "metadata": {
        "id": "V1Js2l4SLYF4"
      }
    },
    {
      "cell_type": "code",
      "source": [
        "lst = [3,2,1,0]\n",
        "for i in lst:\n",
        "    print(i)"
      ],
      "metadata": {
        "colab": {
          "base_uri": "https://localhost:8080/"
        },
        "id": "pS_zBcGqKf0I",
        "outputId": "19546aa8-082a-4db9-f037-cb62e72a5c58"
      },
      "execution_count": 9,
      "outputs": [
        {
          "output_type": "stream",
          "name": "stdout",
          "text": [
            "3\n",
            "2\n",
            "1\n",
            "0\n"
          ]
        }
      ]
    },
    {
      "cell_type": "markdown",
      "source": [
        "4. Use a list comprehension to make a list of the even numbers in range(10)"
      ],
      "metadata": {
        "id": "QEAZBbG9L2PO"
      }
    },
    {
      "cell_type": "code",
      "source": [
        "lst = [i for i in range(10) if i%2==0]\n",
        "lst"
      ],
      "metadata": {
        "colab": {
          "base_uri": "https://localhost:8080/"
        },
        "id": "sbCJTuhJLdlh",
        "outputId": "cf76f9a9-c141-49a2-be06-221631aa341d"
      },
      "execution_count": 10,
      "outputs": [
        {
          "output_type": "execute_result",
          "data": {
            "text/plain": [
              "[0, 2, 4, 6, 8]"
            ]
          },
          "metadata": {},
          "execution_count": 10
        }
      ]
    },
    {
      "cell_type": "markdown",
      "source": [
        "5. Use a dictionary comprehension to create the dictionary squares. Use range(10) to return the\n",
        "keys, and use the square of each key as its value."
      ],
      "metadata": {
        "id": "jrB8uraYMHjI"
      }
    },
    {
      "cell_type": "code",
      "source": [
        "dic = {i:i*i for i in range(10)}\n",
        "dic\n"
      ],
      "metadata": {
        "colab": {
          "base_uri": "https://localhost:8080/"
        },
        "id": "d4vt65x7MDuV",
        "outputId": "c5129254-a048-433c-9ade-70dfe09c3f80"
      },
      "execution_count": 12,
      "outputs": [
        {
          "output_type": "execute_result",
          "data": {
            "text/plain": [
              "{0: 0, 1: 1, 2: 4, 3: 9, 4: 16, 5: 25, 6: 36, 7: 49, 8: 64, 9: 81}"
            ]
          },
          "metadata": {},
          "execution_count": 12
        }
      ]
    },
    {
      "cell_type": "markdown",
      "source": [
        "6. Construct the set odd from the odd numbers in the range using a set comprehension (10)."
      ],
      "metadata": {
        "id": "cE0r7rzrMxIy"
      }
    },
    {
      "cell_type": "code",
      "source": [
        "sets = {i for i in range(10) if i%2==1}\n",
        "sets"
      ],
      "metadata": {
        "colab": {
          "base_uri": "https://localhost:8080/"
        },
        "id": "qmgZtJhyMXOA",
        "outputId": "98d1fb6b-1e44-4970-fa3a-c56e372fc7aa"
      },
      "execution_count": 13,
      "outputs": [
        {
          "output_type": "execute_result",
          "data": {
            "text/plain": [
              "{1, 3, 5, 7, 9}"
            ]
          },
          "metadata": {},
          "execution_count": 13
        }
      ]
    },
    {
      "cell_type": "markdown",
      "source": [
        "7. Use a generator comprehension to return the string &#39;Got &#39; and a number for the numbers in\n",
        "range(10). Iterate through this by using a for loop.\n"
      ],
      "metadata": {
        "id": "hlFDz2nUNI5H"
      }
    },
    {
      "cell_type": "code",
      "source": [
        "lst = (\"got \"+str(i) for i in range(10))\n",
        "for i in lst:\n",
        "    print(i)"
      ],
      "metadata": {
        "colab": {
          "base_uri": "https://localhost:8080/"
        },
        "id": "IhBwo5n3NFNr",
        "outputId": "e470c73a-bc42-4e9c-e265-76eafc0054e6"
      },
      "execution_count": 19,
      "outputs": [
        {
          "output_type": "stream",
          "name": "stdout",
          "text": [
            "got 0\n",
            "got 1\n",
            "got 2\n",
            "got 3\n",
            "got 4\n",
            "got 5\n",
            "got 6\n",
            "got 7\n",
            "got 8\n",
            "got 9\n"
          ]
        }
      ]
    },
    {
      "cell_type": "markdown",
      "source": [
        "8. Define a function called good that returns the list [&#39;Harry&#39;, &#39;Ron&#39;, &#39;Hermione&#39;]."
      ],
      "metadata": {
        "id": "HkQTjl-BOc_v"
      }
    },
    {
      "cell_type": "code",
      "source": [
        "def good():\n",
        "    return ['Harry', 'Ron', 'Hermione']\n",
        "print(good())"
      ],
      "metadata": {
        "colab": {
          "base_uri": "https://localhost:8080/"
        },
        "id": "7L1_6d23NsU8",
        "outputId": "76eb4fab-db89-41e0-deef-72293bcdb434"
      },
      "execution_count": 20,
      "outputs": [
        {
          "output_type": "stream",
          "name": "stdout",
          "text": [
            "['Harry', 'Ron', 'Hermione']\n"
          ]
        }
      ]
    },
    {
      "cell_type": "markdown",
      "source": [
        "9. Define a generator function called get_odds that returns the odd numbers from range(10). Use a\n",
        "for loop to find and print the third value returned."
      ],
      "metadata": {
        "id": "GkfZt0bbOsNf"
      }
    },
    {
      "cell_type": "code",
      "source": [
        "def get_odds():\n",
        "    lst = (i for i in range(10) if i%2==1)\n",
        "    return lst\n",
        "\n",
        "ans = get_odds()\n",
        "count=0\n",
        "for i in ans:\n",
        "    if count==2:\n",
        "        print(i)\n",
        "        break\n",
        "    count+=1"
      ],
      "metadata": {
        "colab": {
          "base_uri": "https://localhost:8080/"
        },
        "id": "JyiYzIfVOoN3",
        "outputId": "6b3d5d3f-a6cd-43a0-915b-31a456a03b4c"
      },
      "execution_count": 21,
      "outputs": [
        {
          "output_type": "stream",
          "name": "stdout",
          "text": [
            "5\n"
          ]
        }
      ]
    },
    {
      "cell_type": "markdown",
      "source": [
        "10. Define an exception called OopsException. Raise this exception to see what happens. Then write\n",
        "the code to catch this exception and print &#39;Caught an oops&#39;."
      ],
      "metadata": {
        "id": "CS0-qjwVQI_e"
      }
    },
    {
      "cell_type": "code",
      "source": [
        "class OOpsException(Exception):\n",
        "    pass\n",
        "\n",
        "def codeError(a):\n",
        "    raise OOpsException(a)\n",
        "\n",
        "try:\n",
        "    a = 5\n",
        "    if a != 10:\n",
        "        codeError(a)\n",
        "except OOpsException as e:\n",
        "    print('Caught an oops')\n",
        "\n"
      ],
      "metadata": {
        "colab": {
          "base_uri": "https://localhost:8080/"
        },
        "id": "DnGmeoNwP3OK",
        "outputId": "7aef7466-2e70-4f33-9c9e-beb22ca0d98f"
      },
      "execution_count": 30,
      "outputs": [
        {
          "output_type": "stream",
          "name": "stdout",
          "text": [
            "Caught an oops\n"
          ]
        }
      ]
    },
    {
      "cell_type": "markdown",
      "source": [
        "11. Use zip() to make a dictionary called movies that pairs these lists: titles = [&#39;Creature of Habit&#39;,\n",
        "&#39;Crewel Fate&#39;] and plots = [&#39;A nun turns into a monster&#39;, &#39;A haunted yarn shop&#39;]."
      ],
      "metadata": {
        "id": "US3Va31vSGpm"
      }
    },
    {
      "cell_type": "code",
      "source": [
        "titles = ['Creature of Habit', 'Crewel Fate']\n",
        "plots = ['A nun turns into a monster', 'A haunted yarn shop']\n",
        "\n",
        "movies = dict(zip(titles,plots))\n",
        "movies"
      ],
      "metadata": {
        "colab": {
          "base_uri": "https://localhost:8080/"
        },
        "id": "epwOSFD-RR-0",
        "outputId": "34768791-d8b6-4568-d5c6-3c09eb736eb4"
      },
      "execution_count": 34,
      "outputs": [
        {
          "output_type": "execute_result",
          "data": {
            "text/plain": [
              "{'Creature of Habit': 'A nun turns into a monster',\n",
              " 'Crewel Fate': 'A haunted yarn shop'}"
            ]
          },
          "metadata": {},
          "execution_count": 34
        }
      ]
    },
    {
      "cell_type": "code",
      "source": [
        ""
      ],
      "metadata": {
        "id": "r0H3qSpgSmJs"
      },
      "execution_count": null,
      "outputs": []
    }
  ]
}