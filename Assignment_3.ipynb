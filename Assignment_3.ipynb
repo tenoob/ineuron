{
  "nbformat": 4,
  "nbformat_minor": 0,
  "metadata": {
    "colab": {
      "name": "Untitled15.ipynb",
      "provenance": [],
      "authorship_tag": "ABX9TyMYnvJUsWUo9L5nfau9A8V0",
      "include_colab_link": true
    },
    "kernelspec": {
      "name": "python3",
      "display_name": "Python 3"
    },
    "language_info": {
      "name": "python"
    }
  },
  "cells": [
    {
      "cell_type": "markdown",
      "metadata": {
        "id": "view-in-github",
        "colab_type": "text"
      },
      "source": [
        "<a href=\"https://colab.research.google.com/github/tenoob/ineuron/blob/main/Assignment_3.ipynb\" target=\"_parent\"><img src=\"https://colab.research.google.com/assets/colab-badge.svg\" alt=\"Open In Colab\"/></a>"
      ]
    },
    {
      "cell_type": "markdown",
      "source": [
        "1.Why are functions advantageous to have in your programs?"
      ],
      "metadata": {
        "id": "Cqh7SgEpsd2Z"
      }
    },
    {
      "cell_type": "code",
      "execution_count": 1,
      "metadata": {
        "colab": {
          "base_uri": "https://localhost:8080/"
        },
        "id": "cuCAEoxiq8_O",
        "outputId": "715d7d45-2f49-487b-e2a0-b45a634e7ed1"
      },
      "outputs": [
        {
          "output_type": "stream",
          "name": "stdout",
          "text": [
            "Functions are use full as they help to reduce code dublicate\n"
          ]
        }
      ],
      "source": [
        "print(\"Functions are use full as they help to reduce code dublicate\")"
      ]
    },
    {
      "cell_type": "markdown",
      "source": [
        "2.When does the code in a function run: when it&#39;s specified or when it&#39;s called?"
      ],
      "metadata": {
        "id": "E9QvQ8D8wkRE"
      }
    },
    {
      "cell_type": "code",
      "source": [
        "print(\"a function runs, when it is called \")"
      ],
      "metadata": {
        "colab": {
          "base_uri": "https://localhost:8080/"
        },
        "id": "bGbt92rWwhXC",
        "outputId": "e8b3f237-0137-44b6-f32e-339b721dafa4"
      },
      "execution_count": 2,
      "outputs": [
        {
          "output_type": "stream",
          "name": "stdout",
          "text": [
            "a function runs, when it is called \n"
          ]
        }
      ]
    },
    {
      "cell_type": "markdown",
      "source": [
        "3.What statement creates a function?"
      ],
      "metadata": {
        "id": "1--Xf3wT2s1p"
      }
    },
    {
      "cell_type": "code",
      "source": [
        "print(\"def keyword is used to define a function\")"
      ],
      "metadata": {
        "colab": {
          "base_uri": "https://localhost:8080/"
        },
        "id": "GqX2jdyw2pNH",
        "outputId": "56162174-7a21-4636-c7b7-7bb1d7a3e2a9"
      },
      "execution_count": 3,
      "outputs": [
        {
          "output_type": "stream",
          "name": "stdout",
          "text": [
            "def keyword is used to define a function\n"
          ]
        }
      ]
    },
    {
      "cell_type": "markdown",
      "source": [
        "4.What is the difference between a function and a function call?"
      ],
      "metadata": {
        "id": "dFUsfV5225Zl"
      }
    },
    {
      "cell_type": "code",
      "source": [
        "print(\"a function consist of the def and all its code in the def clause\")\n",
        "print(\"a function call is when the execution of the funtion takes place to return a value\")"
      ],
      "metadata": {
        "colab": {
          "base_uri": "https://localhost:8080/"
        },
        "id": "Q9_LWlEz221N",
        "outputId": "055111f7-68d2-4edf-ba16-8ebeab9141e0"
      },
      "execution_count": 4,
      "outputs": [
        {
          "output_type": "stream",
          "name": "stdout",
          "text": [
            "a function consist of the def and all its code in the def clause\n",
            "a function call is when the execution of the funtion takes place to return a value\n"
          ]
        }
      ]
    },
    {
      "cell_type": "markdown",
      "source": [
        "5.How many global scopes are there in a Python program? How many local scopes?"
      ],
      "metadata": {
        "id": "R-VnST8Y3YbC"
      }
    },
    {
      "cell_type": "code",
      "source": [
        "print(\"in python is 1 global scope\")\n",
        "print(\"during a function call a local scope is created\")"
      ],
      "metadata": {
        "colab": {
          "base_uri": "https://localhost:8080/"
        },
        "id": "H-rwgMPL3VK5",
        "outputId": "306b3d0e-ea6b-4376-8d60-2583435a4890"
      },
      "execution_count": 6,
      "outputs": [
        {
          "output_type": "stream",
          "name": "stdout",
          "text": [
            "in python is 1 global scope\n",
            "during a function call a local scope is created\n"
          ]
        }
      ]
    },
    {
      "cell_type": "markdown",
      "source": [
        "6.What happens to variables in a local scope when the function call returns?"
      ],
      "metadata": {
        "id": "FFaJ8guZ3yCd"
      }
    },
    {
      "cell_type": "code",
      "source": [
        "print(\"the variables are forgottern when a local scope is destroyed\")"
      ],
      "metadata": {
        "colab": {
          "base_uri": "https://localhost:8080/"
        },
        "id": "qpY1JR353jdE",
        "outputId": "6def5eb4-fb0d-4641-c180-55e620afbd81"
      },
      "execution_count": 7,
      "outputs": [
        {
          "output_type": "stream",
          "name": "stdout",
          "text": [
            "the variables are forgottern when a local scope is destroyed\n"
          ]
        }
      ]
    },
    {
      "cell_type": "markdown",
      "source": [
        "7.What is the concept of a return value? Is it possible to have a return value in an expression?\n",
        "\n"
      ],
      "metadata": {
        "id": "fjugnv7l4KOJ"
      }
    },
    {
      "cell_type": "code",
      "source": [
        "print(\"return value is a value which is returned by a function after it has done its part\")\n",
        "print(\"yes a return value can be a part of an expression\")"
      ],
      "metadata": {
        "colab": {
          "base_uri": "https://localhost:8080/"
        },
        "id": "3Qc6m3Q74GxZ",
        "outputId": "6a562da1-4687-4596-e3e6-228e2aa5b073"
      },
      "execution_count": 8,
      "outputs": [
        {
          "output_type": "stream",
          "name": "stdout",
          "text": [
            "return value is a value which is returned by a function after it has done its part\n",
            "yes a return value can be a part of an expression\n"
          ]
        }
      ]
    },
    {
      "cell_type": "markdown",
      "source": [
        "8.If a function does not have a return statement, what is the return value of a call to that function?"
      ],
      "metadata": {
        "id": "9i_Pcxkz43z4"
      }
    },
    {
      "cell_type": "code",
      "source": [
        "print(\"in that case the function returns None\")"
      ],
      "metadata": {
        "colab": {
          "base_uri": "https://localhost:8080/"
        },
        "id": "m0oA6IQd420x",
        "outputId": "4c65a128-91e1-4614-f322-9883423ae420"
      },
      "execution_count": 9,
      "outputs": [
        {
          "output_type": "stream",
          "name": "stdout",
          "text": [
            "in that case the function returns None\n"
          ]
        }
      ]
    },
    {
      "cell_type": "markdown",
      "source": [
        "9.How do you make a function variable refer to the global variable?"
      ],
      "metadata": {
        "id": "GrrZSztY5KAY"
      }
    },
    {
      "cell_type": "code",
      "source": [
        "print(\"by using a global statement\")"
      ],
      "metadata": {
        "colab": {
          "base_uri": "https://localhost:8080/"
        },
        "id": "M2GiYen15FqT",
        "outputId": "1d789824-dc83-40b1-a94a-e24b41480084"
      },
      "execution_count": 10,
      "outputs": [
        {
          "output_type": "stream",
          "name": "stdout",
          "text": [
            "by using a global statement\n"
          ]
        }
      ]
    },
    {
      "cell_type": "markdown",
      "source": [
        "10.What is the data type of None?"
      ],
      "metadata": {
        "id": "An_AuNUb6Op6"
      }
    },
    {
      "cell_type": "code",
      "source": [
        "print(\"its NoneType\")"
      ],
      "metadata": {
        "colab": {
          "base_uri": "https://localhost:8080/"
        },
        "id": "e6SsaPGO6L2s",
        "outputId": "48cf3c25-7b88-4ec9-ea51-c94b35e2931a"
      },
      "execution_count": 11,
      "outputs": [
        {
          "output_type": "stream",
          "name": "stdout",
          "text": [
            "its NoneType\n"
          ]
        }
      ]
    },
    {
      "cell_type": "markdown",
      "source": [
        "11.What does the sentence import areallyourpetsnamederic do?"
      ],
      "metadata": {
        "id": "s2RnCek46cLW"
      }
    },
    {
      "cell_type": "code",
      "source": [
        "print(\"it imports a module by the name of areallyourpetsnamederic\")"
      ],
      "metadata": {
        "colab": {
          "base_uri": "https://localhost:8080/"
        },
        "id": "bfBuC0eW6WU4",
        "outputId": "66b33eab-cbc1-41c4-b2de-6664dc2b4e9c"
      },
      "execution_count": 12,
      "outputs": [
        {
          "output_type": "stream",
          "name": "stdout",
          "text": [
            "it imports a module by the name of areallyourpetsnamederic\n"
          ]
        }
      ]
    },
    {
      "cell_type": "markdown",
      "source": [
        "12.If you had a bacon() feature in a spam module, what would you call it after importing spam?"
      ],
      "metadata": {
        "id": "tAXYNEhi65ga"
      }
    },
    {
      "cell_type": "code",
      "source": [
        "print('by using spam.bacon()')"
      ],
      "metadata": {
        "colab": {
          "base_uri": "https://localhost:8080/"
        },
        "id": "p6JByphO64xP",
        "outputId": "5b4ef864-3325-4f40-96b5-2feb9a2f1fe0"
      },
      "execution_count": 13,
      "outputs": [
        {
          "output_type": "stream",
          "name": "stdout",
          "text": [
            "by using spam.bacon()\n"
          ]
        }
      ]
    },
    {
      "cell_type": "markdown",
      "source": [
        "13.What can you do to save a programme from crashing if it encounters an error?"
      ],
      "metadata": {
        "id": "fv9uUF3-7Lax"
      }
    },
    {
      "cell_type": "code",
      "source": [
        "print(\"by using a try except block\")"
      ],
      "metadata": {
        "colab": {
          "base_uri": "https://localhost:8080/"
        },
        "id": "ii8RK0gN7Ifg",
        "outputId": "94166a68-7d1c-42b3-cbc2-da0e28386298"
      },
      "execution_count": 14,
      "outputs": [
        {
          "output_type": "stream",
          "name": "stdout",
          "text": [
            "by using a try except block\n"
          ]
        }
      ]
    },
    {
      "cell_type": "markdown",
      "source": [
        "14.What is the purpose of the try clause? What is the purpose of the except clause?"
      ],
      "metadata": {
        "id": "ulRSHuZT7gfx"
      }
    },
    {
      "cell_type": "code",
      "source": [
        "print(\"try block contains all the code which we think can cause any error\")\n",
        "print(\"except block contain code which will execute if any error occurs\")"
      ],
      "metadata": {
        "colab": {
          "base_uri": "https://localhost:8080/"
        },
        "id": "w58QpeRN7c5x",
        "outputId": "777a9a34-caed-4850-c6a7-04a85432e7cc"
      },
      "execution_count": 16,
      "outputs": [
        {
          "output_type": "stream",
          "name": "stdout",
          "text": [
            "try block contains all the code which we think can cause any error\n",
            "except block contain code which will execute if any error occurs\n"
          ]
        }
      ]
    },
    {
      "cell_type": "code",
      "source": [
        ""
      ],
      "metadata": {
        "id": "_2cekRkq7_uG"
      },
      "execution_count": null,
      "outputs": []
    }
  ]
}