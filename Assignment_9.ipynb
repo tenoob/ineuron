{
  "nbformat": 4,
  "nbformat_minor": 0,
  "metadata": {
    "colab": {
      "name": "Untitled27.ipynb",
      "provenance": [],
      "authorship_tag": "ABX9TyOsCXRsdFEq9RgBTR+bmhjZ",
      "include_colab_link": true
    },
    "kernelspec": {
      "name": "python3",
      "display_name": "Python 3"
    },
    "language_info": {
      "name": "python"
    }
  },
  "cells": [
    {
      "cell_type": "markdown",
      "metadata": {
        "id": "view-in-github",
        "colab_type": "text"
      },
      "source": [
        "<a href=\"https://colab.research.google.com/github/tenoob/ineuron/blob/main/Assignment_9.ipynb\" target=\"_parent\"><img src=\"https://colab.research.google.com/assets/colab-badge.svg\" alt=\"Open In Colab\"/></a>"
      ]
    },
    {
      "cell_type": "markdown",
      "source": [
        "1.To what does a relative path refer?"
      ],
      "metadata": {
        "id": "6IeI0KZBWatl"
      }
    },
    {
      "cell_type": "code",
      "execution_count": 1,
      "metadata": {
        "colab": {
          "base_uri": "https://localhost:8080/"
        },
        "id": "YczTR0UIV8b2",
        "outputId": "663ca13e-07b4-42f9-9bc7-b8a0f0a98876"
      },
      "outputs": [
        {
          "output_type": "stream",
          "name": "stdout",
          "text": [
            "location relative to current directory or folder\n"
          ]
        }
      ],
      "source": [
        "print(\"location relative to current directory or folder\")"
      ]
    },
    {
      "cell_type": "markdown",
      "source": [
        "2.What does an absolute path start with your operating system?"
      ],
      "metadata": {
        "id": "duJTlWIcWqC5"
      }
    },
    {
      "cell_type": "code",
      "source": [
        "print(\"the absolute path refers to the complete path from the base or root directory to the sub directory\")"
      ],
      "metadata": {
        "colab": {
          "base_uri": "https://localhost:8080/"
        },
        "id": "-Lav10AzWnvR",
        "outputId": "2314e961-80b0-43e6-b6a0-270d5b7b9050"
      },
      "execution_count": 2,
      "outputs": [
        {
          "output_type": "stream",
          "name": "stdout",
          "text": [
            "the absolute path refers to the complete path from the base or root directory to the sub directory\n"
          ]
        }
      ]
    },
    {
      "cell_type": "markdown",
      "source": [
        "3.What do the functions os.getcwd() and os.chdir() do?"
      ],
      "metadata": {
        "id": "_dXJHPdNXDJo"
      }
    },
    {
      "cell_type": "code",
      "source": [
        "print(\"os.getcwd() gives the current working directory\")\n",
        "print(\"os.chdir() is used to change directory\")"
      ],
      "metadata": {
        "colab": {
          "base_uri": "https://localhost:8080/"
        },
        "id": "Ddygqw-UXAFf",
        "outputId": "7f559e85-3df6-42a5-c268-ef6181615e6c"
      },
      "execution_count": 3,
      "outputs": [
        {
          "output_type": "stream",
          "name": "stdout",
          "text": [
            "os.getcwd() gives the current working directory\n",
            "os.chdir() is used to change directory\n"
          ]
        }
      ]
    },
    {
      "cell_type": "markdown",
      "source": [
        "4.What are the . and .. folders?"
      ],
      "metadata": {
        "id": "pD8KqqCSXh7Z"
      }
    },
    {
      "cell_type": "markdown",
      "source": [
        "4. What are the . and .. folders?"
      ],
      "metadata": {
        "id": "f4RvZpprXhxC"
      }
    },
    {
      "cell_type": "code",
      "source": [
        "print(\". refers to the current folder\")\n",
        "print(\".. refers to one path level up or parent folder\")"
      ],
      "metadata": {
        "colab": {
          "base_uri": "https://localhost:8080/"
        },
        "id": "SpNCJIN8XdLe",
        "outputId": "45a4ce23-a550-4e68-ea39-4bc8a70aad26"
      },
      "execution_count": 4,
      "outputs": [
        {
          "output_type": "stream",
          "name": "stdout",
          "text": [
            ". refers to the current path level\n",
            ".. refers to one path level up\n"
          ]
        }
      ]
    },
    {
      "cell_type": "markdown",
      "source": [
        "5.In C:\\bacon\\eggs\\spam.txt, which part is the dir name, and which part is the base name?"
      ],
      "metadata": {
        "id": "A9KQV743Z8WV"
      }
    },
    {
      "cell_type": "code",
      "source": [
        "print(\"C:\\bacon\\eggs is the dir name\")\n",
        "print(\"spam.txt is the base name\")"
      ],
      "metadata": {
        "colab": {
          "base_uri": "https://localhost:8080/"
        },
        "id": "Y6NHhCB1Z4vi",
        "outputId": "78edea37-f3fc-4cea-c3b1-046f4dd02777"
      },
      "execution_count": 5,
      "outputs": [
        {
          "output_type": "stream",
          "name": "stdout",
          "text": [
            "C:\bacon\\eggs is the dir name\n",
            "spam.txt is the base name\n"
          ]
        }
      ]
    },
    {
      "cell_type": "markdown",
      "source": [
        "6.What are the three “mode” arguments that can be passed to the open() function?"
      ],
      "metadata": {
        "id": "ogXHrUaPaeH-"
      }
    },
    {
      "cell_type": "code",
      "source": [
        "print(\"read mode 'r\")\n",
        "print(\"write mode 'w\")\n",
        "print(\"append mode 'a\")"
      ],
      "metadata": {
        "colab": {
          "base_uri": "https://localhost:8080/"
        },
        "id": "e38Lf10TabFO",
        "outputId": "adf81220-3202-4fbc-97ee-8c90e54c0d1b"
      },
      "execution_count": 6,
      "outputs": [
        {
          "output_type": "stream",
          "name": "stdout",
          "text": [
            "read mode 'r\n",
            "write mode 'w\n",
            "append mode 'a\n"
          ]
        }
      ]
    },
    {
      "cell_type": "markdown",
      "source": [
        "7.What happens if an existing file is opened in write mode?"
      ],
      "metadata": {
        "id": "_u00XWBPatxm"
      }
    },
    {
      "cell_type": "code",
      "source": [
        "print(\"it is erased and overwritten completely\")"
      ],
      "metadata": {
        "colab": {
          "base_uri": "https://localhost:8080/"
        },
        "id": "H4dT-FlaarKC",
        "outputId": "39449c97-bc52-42b4-e360-fb151cc62546"
      },
      "execution_count": 7,
      "outputs": [
        {
          "output_type": "stream",
          "name": "stdout",
          "text": [
            "it is erased and overwritten completely\n"
          ]
        }
      ]
    },
    {
      "cell_type": "markdown",
      "source": [
        "8.How do you tell the difference between read() and readlines()?"
      ],
      "metadata": {
        "id": "tcKNwr5SbAF2"
      }
    },
    {
      "cell_type": "code",
      "source": [
        "print(\"read() returns the content of the file as a single string\")\n",
        "print(\"readlines() returns a list of string for each line \")"
      ],
      "metadata": {
        "colab": {
          "base_uri": "https://localhost:8080/"
        },
        "id": "GJV8vbmLa70e",
        "outputId": "d44d83df-f0e3-4c46-b7a3-cf38cd6218fc"
      },
      "execution_count": 8,
      "outputs": [
        {
          "output_type": "stream",
          "name": "stdout",
          "text": [
            "read() returns the content of the file as a single string\n",
            "readlines() returns a list of string for each line \n"
          ]
        }
      ]
    },
    {
      "cell_type": "markdown",
      "source": [
        "9.What data structure does a shelf value resemble?"
      ],
      "metadata": {
        "id": "cd6rRA-bbotB"
      }
    },
    {
      "cell_type": "code",
      "source": [
        "print(\"it resembles a dictonary value like keys and values\")"
      ],
      "metadata": {
        "colab": {
          "base_uri": "https://localhost:8080/"
        },
        "id": "9TCQYm_YbmVX",
        "outputId": "f2a08f13-ff8a-41f8-e805-9921fcaa1e15"
      },
      "execution_count": 9,
      "outputs": [
        {
          "output_type": "stream",
          "name": "stdout",
          "text": [
            "it resembles a dictonary value like keys and values\n"
          ]
        }
      ]
    },
    {
      "cell_type": "code",
      "source": [
        ""
      ],
      "metadata": {
        "id": "e4QopcL9b4qz"
      },
      "execution_count": null,
      "outputs": []
    }
  ]
}