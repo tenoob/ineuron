{
  "nbformat": 4,
  "nbformat_minor": 0,
  "metadata": {
    "colab": {
      "name": "Untitled13.ipynb",
      "provenance": [],
      "authorship_tag": "ABX9TyPEyTQ3YkApAlw58ki/DZN4",
      "include_colab_link": true
    },
    "kernelspec": {
      "name": "python3",
      "display_name": "Python 3"
    },
    "language_info": {
      "name": "python"
    }
  },
  "cells": [
    {
      "cell_type": "markdown",
      "metadata": {
        "id": "view-in-github",
        "colab_type": "text"
      },
      "source": [
        "<a href=\"https://colab.research.google.com/github/tenoob/ineuron/blob/main/Assignment_1.ipynb\" target=\"_parent\"><img src=\"https://colab.research.google.com/assets/colab-badge.svg\" alt=\"Open In Colab\"/></a>"
      ]
    },
    {
      "cell_type": "markdown",
      "source": [
        "1. In the below elements which of them are values or an expression? eg:- values can be integer or string and expressions will be mathematical operators.\n",
        "*\n",
        "&#39;hello&#39;\n",
        "-87.8\n",
        "-\n",
        "/\n",
        "+\n",
        "6"
      ],
      "metadata": {
        "id": "uoq7shocvlzc"
      }
    },
    {
      "cell_type": "markdown",
      "source": [
        "values are 'hello' , -87.8 , 6 <br>\n",
        "expressions are * - / +"
      ],
      "metadata": {
        "id": "OhRqL91_vuNL"
      }
    },
    {
      "cell_type": "markdown",
      "source": [
        "2. What is the difference between string and variable?"
      ],
      "metadata": {
        "id": "R3kov33bwWcl"
      }
    },
    {
      "cell_type": "code",
      "source": [
        "'''A string is a character or a collection of characters together.a string can be anything like a name of person like 'Sam' or location like 'London' or a sentence.\n",
        "'''\n",
        "print(\"this is a string\")\n",
        "'''\n",
        "A variable is a symbol which is used to store infornation in itself. like a=5, here a is a variable as it stoers the value 5 in itself.\n",
        "'''\n",
        "a=5\n",
        "print('a=',a)"
      ],
      "metadata": {
        "colab": {
          "base_uri": "https://localhost:8080/"
        },
        "id": "qA0qLFHZxOxi",
        "outputId": "971b698c-7a92-4ee0-9d05-caf78f7a9822"
      },
      "execution_count": 8,
      "outputs": [
        {
          "output_type": "stream",
          "name": "stdout",
          "text": [
            "this is a string\n",
            "a= 5\n"
          ]
        }
      ]
    },
    {
      "cell_type": "markdown",
      "source": [
        "3. Describe three different data types."
      ],
      "metadata": {
        "id": "VVjtjD6IzgMz"
      }
    },
    {
      "cell_type": "code",
      "execution_count": 14,
      "metadata": {
        "colab": {
          "base_uri": "https://localhost:8080/"
        },
        "id": "AfYPP60OvNB-",
        "outputId": "b569b63b-e545-430d-e55a-658b6bca5a94"
      },
      "outputs": [
        {
          "output_type": "stream",
          "name": "stdout",
          "text": [
            "<class 'str'>\n",
            "strings are represented as str in short they are characters or a group of characters\n",
            "<class 'int'>\n",
            "integer or int for short are data type which is used to represent numbers in python and other programming languages\n",
            "<class 'bool'>\n",
            "boolean or bool for short is used when we want to use true or false type of condition\n"
          ]
        }
      ],
      "source": [
        "\"\"\"3 different data types are string , integer and boolean\n",
        "\"\"\"\n",
        "print(type('this is a string'))\n",
        "print(\"strings are represented as str in short they are characters or a group of characters\")\n",
        "print(type(5))\n",
        "print(\"integer or int for short are data type which is used to represent numbers in python and other programming languages\")\n",
        "print(type(True))\n",
        "print(\"boolean or bool for short is used when we want to use true or false type of condition\")"
      ]
    },
    {
      "cell_type": "markdown",
      "source": [
        "4. What is an expression made up of? What do all expressions do?"
      ],
      "metadata": {
        "id": "4BsBae7F2NyS"
      }
    },
    {
      "cell_type": "code",
      "source": [
        "print(\"\")"
      ],
      "metadata": {
        "id": "LQ88QmG9z_B3"
      },
      "execution_count": null,
      "outputs": []
    }
  ]
}