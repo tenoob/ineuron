{
  "nbformat": 4,
  "nbformat_minor": 0,
  "metadata": {
    "colab": {
      "name": "Untitled13.ipynb",
      "provenance": [],
      "authorship_tag": "ABX9TyPpO7LrCAMIZQcdYvYP0cNE",
      "include_colab_link": true
    },
    "kernelspec": {
      "name": "python3",
      "display_name": "Python 3"
    },
    "language_info": {
      "name": "python"
    }
  },
  "cells": [
    {
      "cell_type": "markdown",
      "metadata": {
        "id": "view-in-github",
        "colab_type": "text"
      },
      "source": [
        "<a href=\"https://colab.research.google.com/github/tenoob/ineuron/blob/main/Assignment_1.ipynb\" target=\"_parent\"><img src=\"https://colab.research.google.com/assets/colab-badge.svg\" alt=\"Open In Colab\"/></a>"
      ]
    },
    {
      "cell_type": "markdown",
      "source": [
        "1. In the below elements which of them are values or an expression? eg:- values can be integer or string and expressions will be mathematical operators.\n",
        "*\n",
        "&#39;hello&#39;\n",
        "-87.8\n",
        "-\n",
        "/\n",
        "+\n",
        "6"
      ],
      "metadata": {
        "id": "uoq7shocvlzc"
      }
    },
    {
      "cell_type": "markdown",
      "source": [
        "values are 'hello' , -87.8 , 6 <br>\n",
        "expressions are * - / +"
      ],
      "metadata": {
        "id": "OhRqL91_vuNL"
      }
    },
    {
      "cell_type": "markdown",
      "source": [
        "2. What is the difference between string and variable?"
      ],
      "metadata": {
        "id": "R3kov33bwWcl"
      }
    },
    {
      "cell_type": "code",
      "source": [
        "print(\"A string is a character or a collection of characters together.a string can be anything like a name of person like 'Sam' or location like 'London' or a sentence.\")\n",
        "print(\"this is a string\")\n",
        "\n",
        "print('A variable is a symbol which is used to store infornation in itself. like a=5, here a is a variable as it stoers the value 5 in itself.')\n",
        "a=5\n",
        "print('a=',a)"
      ],
      "metadata": {
        "colab": {
          "base_uri": "https://localhost:8080/"
        },
        "id": "qA0qLFHZxOxi",
        "outputId": "984c7da0-a1c8-43be-a9be-f47592746d36"
      },
      "execution_count": 2,
      "outputs": [
        {
          "output_type": "stream",
          "name": "stdout",
          "text": [
            "A string is a character or a collection of characters together.a string can be anything like a name of person like 'Sam' or location like 'London' or a sentence.\n",
            "this is a string\n",
            "A variable is a symbol which is used to store infornation in itself. like a=5, here a is a variable as it stoers the value 5 in itself.\n",
            "a= 5\n"
          ]
        }
      ]
    },
    {
      "cell_type": "markdown",
      "source": [
        "3. Describe three different data types."
      ],
      "metadata": {
        "id": "VVjtjD6IzgMz"
      }
    },
    {
      "cell_type": "code",
      "execution_count": null,
      "metadata": {
        "colab": {
          "base_uri": "https://localhost:8080/"
        },
        "id": "AfYPP60OvNB-",
        "outputId": "b569b63b-e545-430d-e55a-658b6bca5a94"
      },
      "outputs": [
        {
          "output_type": "stream",
          "name": "stdout",
          "text": [
            "<class 'str'>\n",
            "strings are represented as str in short they are characters or a group of characters\n",
            "<class 'int'>\n",
            "integer or int for short are data type which is used to represent numbers in python and other programming languages\n",
            "<class 'bool'>\n",
            "boolean or bool for short is used when we want to use true or false type of condition\n"
          ]
        }
      ],
      "source": [
        "\"\"\"3 different data types are string , integer and boolean\n",
        "\"\"\"\n",
        "print(type('this is a string'))\n",
        "print(\"strings are represented as str in short they are characters or a group of characters\")\n",
        "print(type(5))\n",
        "print(\"integer or int for short are data type which is used to represent numbers in python and other programming languages\")\n",
        "print(type(True))\n",
        "print(\"boolean or bool for short is used when we want to use true or false type of condition\")"
      ]
    },
    {
      "cell_type": "markdown",
      "source": [
        "4. What is an expression made up of? What do all expressions do?"
      ],
      "metadata": {
        "id": "4BsBae7F2NyS"
      }
    },
    {
      "cell_type": "code",
      "source": [
        "print(\"expression are made of variables,operators and functions\")\n",
        "print(\"expressions are evaluated by the python interpreter and displays the result\")"
      ],
      "metadata": {
        "id": "LQ88QmG9z_B3",
        "outputId": "2448b7d7-f1b7-43c3-d02a-88f42f50512e",
        "colab": {
          "base_uri": "https://localhost:8080/"
        }
      },
      "execution_count": 4,
      "outputs": [
        {
          "output_type": "stream",
          "name": "stdout",
          "text": [
            "expression are made of variables,operators and functions\n",
            "expressions are evaluated by the python interpreter and displays the result\n"
          ]
        }
      ]
    },
    {
      "cell_type": "markdown",
      "source": [
        "5. This assignment statements, like spam = 10. What is the difference between an\n",
        "expression and a statement?"
      ],
      "metadata": {
        "id": "5g_RdLYEKHwQ"
      }
    },
    {
      "cell_type": "code",
      "source": [
        "print(\"expression are made of variables, operators and function like a = 5+4\")\n",
        "print(\"statement is like predefine python command like print statement which the python interpreter executes\")"
      ],
      "metadata": {
        "id": "B4fHW2EoJvW_",
        "outputId": "37fd21de-e69c-4db7-9a3b-ad9bb68fef8b",
        "colab": {
          "base_uri": "https://localhost:8080/"
        }
      },
      "execution_count": 5,
      "outputs": [
        {
          "output_type": "stream",
          "name": "stdout",
          "text": [
            "expression are made of variables, operators and function like a = 5+4\n",
            "statement is like predefine python command like print statement which the python interpreter executes\n"
          ]
        }
      ]
    },
    {
      "cell_type": "markdown",
      "source": [
        "6. After running the following code, what does the variable bacon contain?\n",
        "bacon = 22\n",
        "bacon + 1"
      ],
      "metadata": {
        "id": "FqTCNuUcMsXz"
      }
    },
    {
      "cell_type": "code",
      "source": [
        "print(\"initially we are assigning bacon as 22 then we are doing bacon+1 which will return 23 as output.\")\n",
        "print(\"but as 23 is not assigned to bacon, the value inside bacon is still 22\")"
      ],
      "metadata": {
        "id": "MR-xCF5TLYu6",
        "outputId": "b289a6e7-fd03-44b0-f1a0-8da0175e085e",
        "colab": {
          "base_uri": "https://localhost:8080/"
        }
      },
      "execution_count": 6,
      "outputs": [
        {
          "output_type": "stream",
          "name": "stdout",
          "text": [
            "initially we are assigning bacon as 22 then we are doing bacon+1 which will return 23 as output.\n",
            "but as 23 is not assigned to bacon, the value inside bacon is still 22\n"
          ]
        }
      ]
    },
    {
      "cell_type": "markdown",
      "source": [
        "7. 7. What should the values of the following two terms be?\n",
        "&#39;spam&#39; + &#39;spamspam&#39;\n",
        "&#39;spam&#39; * 3"
      ],
      "metadata": {
        "id": "ddktEbn3ORzo"
      }
    },
    {
      "cell_type": "code",
      "source": [
        "print(\"answer is spamspamspam in both cases\")"
      ],
      "metadata": {
        "id": "CgXlnXvGNXA0",
        "outputId": "76b73cc6-1303-4c29-fba1-4a171c9b845c",
        "colab": {
          "base_uri": "https://localhost:8080/"
        }
      },
      "execution_count": 9,
      "outputs": [
        {
          "output_type": "stream",
          "name": "stdout",
          "text": [
            "answer is spamspamspam in both cases\n"
          ]
        }
      ]
    },
    {
      "cell_type": "markdown",
      "source": [
        "8. Why is eggs a valid variable name while 100 is invalid?"
      ],
      "metadata": {
        "id": "1SidC8ILQd9Z"
      }
    },
    {
      "cell_type": "code",
      "source": [
        "print(\"egg is valid variable as it is string like while we cannot use 100 as its integer and variable cannot be integers \")"
      ],
      "metadata": {
        "id": "t5MdgIOQNZSM",
        "outputId": "fc5fa3f1-d573-4af2-d082-0c70e8f2c310",
        "colab": {
          "base_uri": "https://localhost:8080/"
        }
      },
      "execution_count": 10,
      "outputs": [
        {
          "output_type": "stream",
          "name": "stdout",
          "text": [
            "egg is valid variable as it is string like while we cannot use 100 as its integer and variable cannot be integers \n"
          ]
        }
      ]
    },
    {
      "cell_type": "markdown",
      "source": [
        "9. What three functions can be used to get the integer, floating-point number, or string\n",
        "version of a value?"
      ],
      "metadata": {
        "id": "RKxKvfoyWnx1"
      }
    },
    {
      "cell_type": "markdown",
      "source": [
        "int()  , float() , str()"
      ],
      "metadata": {
        "id": "_rwZ7y1CWyoa"
      }
    },
    {
      "cell_type": "markdown",
      "source": [
        "10. Why does this expression cause an error? How can you fix it?\n",
        "&#39;I have eaten &#39; + 99 + &#39; burritos.&#39;"
      ],
      "metadata": {
        "id": "Gz5Gr_xgW-La"
      }
    },
    {
      "cell_type": "code",
      "source": [
        "print(\"this expression has integer 99 which is been added to string which causes error\")\n",
        "print(\"this can be fixed by typecasting \")"
      ],
      "metadata": {
        "id": "rzznkOhJNZ-K",
        "outputId": "8ff01215-235e-4cf1-c822-5ca48c4af3b8",
        "colab": {
          "base_uri": "https://localhost:8080/"
        }
      },
      "execution_count": 11,
      "outputs": [
        {
          "output_type": "stream",
          "name": "stdout",
          "text": [
            "this expression has integer 99 which is been added to string which causes error\n",
            "this can be fixed by typecasting \n"
          ]
        }
      ]
    },
    {
      "cell_type": "code",
      "source": [
        ""
      ],
      "metadata": {
        "id": "jM5EnfajZOB-"
      },
      "execution_count": null,
      "outputs": []
    }
  ]
}