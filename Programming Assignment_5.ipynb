{
  "nbformat": 4,
  "nbformat_minor": 0,
  "metadata": {
    "colab": {
      "name": "Untitled23.ipynb",
      "provenance": [],
      "authorship_tag": "ABX9TyMjDqAV9IsnRBXO0vqcDc/k",
      "include_colab_link": true
    },
    "kernelspec": {
      "name": "python3",
      "display_name": "Python 3"
    },
    "language_info": {
      "name": "python"
    }
  },
  "cells": [
    {
      "cell_type": "markdown",
      "metadata": {
        "id": "view-in-github",
        "colab_type": "text"
      },
      "source": [
        "<a href=\"https://colab.research.google.com/github/tenoob/ineuron/blob/main/Programming%20Assignment_5.ipynb\" target=\"_parent\"><img src=\"https://colab.research.google.com/assets/colab-badge.svg\" alt=\"Open In Colab\"/></a>"
      ]
    },
    {
      "cell_type": "markdown",
      "source": [
        "1.Write a Python Program to Find LCM?"
      ],
      "metadata": {
        "id": "qHOjCMk7RdwC"
      }
    },
    {
      "cell_type": "code",
      "execution_count": 2,
      "metadata": {
        "colab": {
          "base_uri": "https://localhost:8080/"
        },
        "id": "vVFz1jR8RZWY",
        "outputId": "3833ab1d-3fe7-4a63-8648-a4b58e1b1b53"
      },
      "outputs": [
        {
          "output_type": "stream",
          "name": "stdout",
          "text": [
            "Enter x:3\n",
            "Enter y:4\n",
            "LCM of 3,4 = 12\n"
          ]
        }
      ],
      "source": [
        "try:\n",
        "    a = int(input(\"Enter x:\"))\n",
        "    b = int(input(\"Enter y:\"))\n",
        "\n",
        "    if a>b:\n",
        "        highest = a\n",
        "    else:\n",
        "        highest = b\n",
        "\n",
        "    while(True):\n",
        "        if (highest%a==0) and (highest%b==0):\n",
        "            lcm = highest\n",
        "            break\n",
        "        highest+=1\n",
        "\n",
        "    print(\"LCM of {},{} = {}\".format(a,b,lcm))\n",
        "except Exception as e:\n",
        "    print(\"Error :\",e)"
      ]
    },
    {
      "cell_type": "markdown",
      "source": [
        "2.Write a Python Program to Find HCF?"
      ],
      "metadata": {
        "id": "zDM8FdFjVChi"
      }
    },
    {
      "cell_type": "code",
      "source": [
        "try:\n",
        "    a = int(input(\"Enter x:\"))\n",
        "    b = int(input(\"Enter y:\"))\n",
        "\n",
        "    if a>b:\n",
        "        smallest = a\n",
        "    else:\n",
        "        smallest = b\n",
        "\n",
        "    for i in range(1,smallest+1):\n",
        "        if (a%i==0) and (b%i==0):\n",
        "            hcf=i\n",
        "        \n",
        "\n",
        "    print(\"HCF of {},{} = {}\".format(a,b,hcf))\n",
        "except Exception as e:\n",
        "    print(\"Error :\",e)"
      ],
      "metadata": {
        "colab": {
          "base_uri": "https://localhost:8080/"
        },
        "id": "L8ww6wR2U2lj",
        "outputId": "b553e631-2e58-4c17-9bea-f1054e322734"
      },
      "execution_count": 3,
      "outputs": [
        {
          "output_type": "stream",
          "name": "stdout",
          "text": [
            "Enter x:4\n",
            "Enter y:6\n",
            "HCF of 4,6 = 2\n"
          ]
        }
      ]
    },
    {
      "cell_type": "markdown",
      "source": [
        "3.Write a Python Program to Convert Decimal to Binary, Octal and Hexadecimal?"
      ],
      "metadata": {
        "id": "FTvo95FMVpmN"
      }
    },
    {
      "cell_type": "code",
      "source": [
        "try:\n",
        "    a = int(input(\"Enter the number: \"))\n",
        "    print(\"Decimal {} = {} in binary\".format(a,bin(a)))\n",
        "    print(\"Decimal {} = {} in Octal\".format(a,oct(a)))\n",
        "    print(\"Decimal {} = {} in Hexadecimal\".format(a,hex(a)))\n",
        "except Exception as e:\n",
        "    print(\"Error :\",e)"
      ],
      "metadata": {
        "colab": {
          "base_uri": "https://localhost:8080/"
        },
        "id": "t0HAhzfqVjgK",
        "outputId": "d99820b9-0579-49d9-d0ee-622f76d27c09"
      },
      "execution_count": 6,
      "outputs": [
        {
          "output_type": "stream",
          "name": "stdout",
          "text": [
            "Enter the number100\n",
            "Decimal 100 = 0b1100100 in binary\n",
            "Decimal 100 = 0o144 in Octal\n",
            "Decimal 100 = 0x64 in Hexadecimal\n"
          ]
        }
      ]
    },
    {
      "cell_type": "markdown",
      "source": [
        "4.Write a Python Program To Find ASCII value of a character?"
      ],
      "metadata": {
        "id": "zuShyc3nWrc4"
      }
    },
    {
      "cell_type": "code",
      "source": [
        "try:\n",
        "    a = input(\"Enter the character: \")\n",
        "    if len(a)>1:\n",
        "        raise Exception(\"lenght of character should be 1\")\n",
        "    print(ord(a))\n",
        "except Exception as e:\n",
        "    print(\"Error :\",e)"
      ],
      "metadata": {
        "colab": {
          "base_uri": "https://localhost:8080/"
        },
        "id": "sHcyc0ktWanX",
        "outputId": "903d3865-19bd-4737-be91-edb77c5d2072"
      },
      "execution_count": 8,
      "outputs": [
        {
          "output_type": "stream",
          "name": "stdout",
          "text": [
            "Enter the charactera\n",
            "97\n"
          ]
        }
      ]
    },
    {
      "cell_type": "markdown",
      "source": [
        "5.Write a Python Program to Make a Simple Calculator with 4 basic mathematical operations?"
      ],
      "metadata": {
        "id": "RzNUr_8hYKE1"
      }
    },
    {
      "cell_type": "code",
      "source": [
        "try:\n",
        "    a = float(input(\"Enter the first number:\"))\n",
        "    operator = input(\"Enter the operation:\")\n",
        "    b = float(input(\"Enter the second number:\"))\n",
        "    \"\"\"if a.isdigit()==False or b.isdigit()==False :\n",
        "        raise Exception(\"input should be numbers only\")\"\"\"\n",
        "    if operator not in ['+','-','*','/']:\n",
        "        raise Exception(\"operator not supported\")\n",
        "    \n",
        "    if operator=='+':\n",
        "        print(\"{} + {} = {}\".format(a,b,a+b))\n",
        "    elif operator=='-':\n",
        "        print(\"{} - {} = {}\".format(a,b,a-b))\n",
        "    elif operator=='*':\n",
        "        print(\"{} * {} = {}\".format(a,b,a*b))\n",
        "    elif operator=='/':\n",
        "        print(\"{} / {} = {}\".format(a,b,a/b))\n",
        "\n",
        "\n",
        "except Exception as e:\n",
        "    print(\"Error :\",e)\n"
      ],
      "metadata": {
        "colab": {
          "base_uri": "https://localhost:8080/"
        },
        "id": "Qfkl1HTKXsYb",
        "outputId": "ce2f811e-d8ae-431c-ed4d-4aecba453a3c"
      },
      "execution_count": 20,
      "outputs": [
        {
          "output_type": "stream",
          "name": "stdout",
          "text": [
            "Enter the first number:12\n",
            "Enter the operation:+\n",
            "Enter the second number:1\n",
            "12.0 + 1.0 = 13.0\n"
          ]
        }
      ]
    },
    {
      "cell_type": "code",
      "source": [
        "2"
      ],
      "metadata": {
        "id": "wFOfAAxuZWex"
      },
      "execution_count": null,
      "outputs": []
    }
  ]
}