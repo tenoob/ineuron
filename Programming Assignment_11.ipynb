{
  "nbformat": 4,
  "nbformat_minor": 0,
  "metadata": {
    "colab": {
      "name": "Untitled33.ipynb",
      "provenance": [],
      "authorship_tag": "ABX9TyM0h+9uDksnN/DwB40Il5J1",
      "include_colab_link": true
    },
    "kernelspec": {
      "name": "python3",
      "display_name": "Python 3"
    },
    "language_info": {
      "name": "python"
    }
  },
  "cells": [
    {
      "cell_type": "markdown",
      "metadata": {
        "id": "view-in-github",
        "colab_type": "text"
      },
      "source": [
        "<a href=\"https://colab.research.google.com/github/tenoob/ineuron/blob/main/Programming%20Assignment_11.ipynb\" target=\"_parent\"><img src=\"https://colab.research.google.com/assets/colab-badge.svg\" alt=\"Open In Colab\"/></a>"
      ]
    },
    {
      "cell_type": "markdown",
      "source": [
        "1.Write a Python program to find words which are greater than given length k?"
      ],
      "metadata": {
        "id": "Uonk070kTPhA"
      }
    },
    {
      "cell_type": "code",
      "execution_count": 5,
      "metadata": {
        "colab": {
          "base_uri": "https://localhost:8080/"
        },
        "id": "KWw5Cd5jTGFo",
        "outputId": "80803707-3843-4f64-b7eb-8a0a740cd5db"
      },
      "outputs": [
        {
          "output_type": "stream",
          "name": "stdout",
          "text": [
            "Enter the String :orem Ipsum is simply dummy text of the printing and typesetting industry. Lorem Ipsum has been the industry's standard dummy text ever since the 1500s, when an unknown printer took a galley of type and scrambled it to make a type specimen book\n",
            "Enter length :6\n",
            "The words are : printing typesetting industry. industry's standard unknown printer scrambled specimen\n"
          ]
        }
      ],
      "source": [
        "try:\n",
        "    string = input(\"Enter the String :\")\n",
        "    lenght = int(input(\"Enter length :\"))\n",
        "    lst = list(string.split(\" \"))\n",
        "    out_lst = []\n",
        "    for i in lst:\n",
        "        if len(i)>lenght:\n",
        "            out_lst.append(i)\n",
        "\n",
        "    print(\"The words are :\",\" \".join(out_lst))\n",
        "except Exception as e:\n",
        "    print(\"Error : \",e)"
      ]
    },
    {
      "cell_type": "markdown",
      "source": [
        "2.Write a Python program for removing i-th character from a string?"
      ],
      "metadata": {
        "id": "EAA6u65NU8fY"
      }
    },
    {
      "cell_type": "code",
      "source": [
        "try:\n",
        "    string = input(\"Enter the String :\")\n",
        "    length = int(input(\"Enter the index to be removed :\"))\n",
        "    \n",
        "    string = string[:length-1]+string[length:]\n",
        "    print(\"modified string is :\", string)\n",
        "\n",
        "except Exception as e:\n",
        "    print(\"Error : \",e)"
      ],
      "metadata": {
        "colab": {
          "base_uri": "https://localhost:8080/"
        },
        "id": "J5AgnoDGUEIC",
        "outputId": "a4812f58-3b90-4da6-ef7a-d989ef50e540"
      },
      "execution_count": 11,
      "outputs": [
        {
          "output_type": "stream",
          "name": "stdout",
          "text": [
            "Enter the String :HelloA world\n",
            "Enter the index to be removed :6\n",
            "modified string is : Hello world\n"
          ]
        }
      ]
    },
    {
      "cell_type": "markdown",
      "source": [
        "3.Write a Python program to split and join a string?"
      ],
      "metadata": {
        "id": "Bqp_0SHuWLDe"
      }
    },
    {
      "cell_type": "code",
      "source": [
        "string = \"Hello World welcome to python programming\"\n",
        "string = string.split(\" \")\n",
        "print(\"Split string = \",string)\n",
        "string = \"#\".join(string)\n",
        "print(\"join string =\",string)"
      ],
      "metadata": {
        "colab": {
          "base_uri": "https://localhost:8080/"
        },
        "id": "JeL9IoE3Vgtb",
        "outputId": "6b902975-e3f5-426b-db47-602ec5ef33e6"
      },
      "execution_count": 12,
      "outputs": [
        {
          "output_type": "stream",
          "name": "stdout",
          "text": [
            "Split string =  ['Hello', 'World', 'welcome', 'to', 'python', 'programming']\n",
            "join string = Hello#World#welcome#to#python#programming\n"
          ]
        }
      ]
    },
    {
      "cell_type": "markdown",
      "source": [
        "4.Write a Python to check if a given string is binary string or not?"
      ],
      "metadata": {
        "id": "q_0kHkypWvZu"
      }
    },
    {
      "cell_type": "code",
      "source": [
        "import re\n",
        "try:\n",
        "    x = input(\"Enter the binary string: \")\n",
        "    regex = re.compile('[^01]')\n",
        "\n",
        "    if len(regex.findall(x)):\n",
        "        raise Exception(\"Not a Binary input\")\n",
        "    else:\n",
        "        print(\"Valid input\")\n",
        "except Exception as e:\n",
        "    print(\"Error : \",e)"
      ],
      "metadata": {
        "colab": {
          "base_uri": "https://localhost:8080/"
        },
        "id": "R7l-1aQYWp1s",
        "outputId": "641a1b06-8e60-423e-d7db-99ed8aa7879c"
      },
      "execution_count": 18,
      "outputs": [
        {
          "output_type": "stream",
          "name": "stdout",
          "text": [
            "Enter the binary string :110\n",
            "Valid input\n"
          ]
        }
      ]
    },
    {
      "cell_type": "markdown",
      "source": [
        "5.Write a Python program to find uncommon words from two Strings?"
      ],
      "metadata": {
        "id": "kzOo8cqTX28K"
      }
    },
    {
      "cell_type": "code",
      "source": [
        "string_1 = input(\"Enter the first string: \")\n",
        "string_2 = input(\"Enter the second string: \")\n",
        "\n",
        "count = {}\n",
        "\n",
        "for word in string_1.split():\n",
        "    count[word] = count.get(word,0)+1\n",
        "\n",
        "for word in string_2.split():\n",
        "    count[word] = count.get(word,0)+1\n",
        "\n",
        "lst = [word for word in count if count[word]==1]\n",
        "print(\"the uncommon words are : \",\" \".join(lst))"
      ],
      "metadata": {
        "colab": {
          "base_uri": "https://localhost:8080/"
        },
        "id": "O2XN_NwIXVLp",
        "outputId": "7789b065-00dc-4ea2-b3bf-7edd9bffbe16"
      },
      "execution_count": 19,
      "outputs": [
        {
          "output_type": "stream",
          "name": "stdout",
          "text": [
            "Enter the first string: hi my name is ram\n",
            "Enter the second string: hi i am brother of ram\n",
            "the uncommon words are :  my name is i am brother of\n"
          ]
        }
      ]
    },
    {
      "cell_type": "markdown",
      "source": [
        "6.Write a Python to find all duplicate characters in string?"
      ],
      "metadata": {
        "id": "Aq_xrtXFZ3Az"
      }
    },
    {
      "cell_type": "code",
      "source": [
        "string = input(\"Enter the string :\")\n",
        "\n",
        "count = []\n",
        "\n",
        "for ch in string:\n",
        "    if string.count(ch)>1:\n",
        "        if ch not in count:\n",
        "            count.append(ch)\n",
        "    \n",
        "print(\"All dublicate characters are:\",' '.join(count))"
      ],
      "metadata": {
        "colab": {
          "base_uri": "https://localhost:8080/"
        },
        "id": "p6iPHaExYUJu",
        "outputId": "383a37a3-2b25-4f66-bf43-dd351efc46a2"
      },
      "execution_count": 26,
      "outputs": [
        {
          "output_type": "stream",
          "name": "stdout",
          "text": [
            "Enter the string :anand\n",
            "All dublicate characters are: a n\n"
          ]
        }
      ]
    },
    {
      "cell_type": "markdown",
      "source": [
        "7.Write a Python Program to check if a string contains any special character?"
      ],
      "metadata": {
        "id": "GR-FZAYVbZzx"
      }
    },
    {
      "cell_type": "code",
      "source": [
        "regex = re.compile('[!@#$%^&*()_{}~:<>?/\\|]')\n",
        "string = input(\"Enter the string :\")\n",
        "if regex.search(string)==None:\n",
        "    print(\"Special characters not present \")\n",
        "else:\n",
        "    print(\"Special characters  present\")"
      ],
      "metadata": {
        "colab": {
          "base_uri": "https://localhost:8080/"
        },
        "id": "ztwzSItAafOD",
        "outputId": "17eb9c9c-9fbb-4d38-e9c6-ab0caf0bf1d5"
      },
      "execution_count": 27,
      "outputs": [
        {
          "output_type": "stream",
          "name": "stdout",
          "text": [
            "Enter the string :Hello :)\n",
            "Special characters  present\n"
          ]
        }
      ]
    },
    {
      "cell_type": "code",
      "source": [
        ""
      ],
      "metadata": {
        "id": "6escM-IucDDr"
      },
      "execution_count": null,
      "outputs": []
    }
  ]
}