{
  "nbformat": 4,
  "nbformat_minor": 0,
  "metadata": {
    "colab": {
      "name": "Untitled14.ipynb",
      "provenance": [],
      "authorship_tag": "ABX9TyN1V32saCaeK8J5i1yqA2Ih",
      "include_colab_link": true
    },
    "kernelspec": {
      "name": "python3",
      "display_name": "Python 3"
    },
    "language_info": {
      "name": "python"
    }
  },
  "cells": [
    {
      "cell_type": "markdown",
      "metadata": {
        "id": "view-in-github",
        "colab_type": "text"
      },
      "source": [
        "<a href=\"https://colab.research.google.com/github/tenoob/ineuron/blob/main/Assignment_2.ipynb\" target=\"_parent\"><img src=\"https://colab.research.google.com/assets/colab-badge.svg\" alt=\"Open In Colab\"/></a>"
      ]
    },
    {
      "cell_type": "markdown",
      "source": [
        "1.What are the two values of the Boolean data type? How do you write them?"
      ],
      "metadata": {
        "id": "z15ADSd4xolm"
      }
    },
    {
      "cell_type": "code",
      "execution_count": 1,
      "metadata": {
        "colab": {
          "base_uri": "https://localhost:8080/"
        },
        "id": "B2f6nvU0rZZH",
        "outputId": "afd68d90-648b-44d6-b445-a1fb705d5437"
      },
      "outputs": [
        {
          "output_type": "stream",
          "name": "stdout",
          "text": [
            "True and Flase are the two values of the boolean data type\n"
          ]
        }
      ],
      "source": [
        "print(\"True and Flase are the two values of the boolean data type\")\n",
        "a = True\n",
        "b = False"
      ]
    },
    {
      "cell_type": "markdown",
      "source": [
        "2.What are the three different types of Boolean operators?"
      ],
      "metadata": {
        "id": "tW4EgXZKyLpZ"
      }
    },
    {
      "cell_type": "code",
      "source": [
        "print(\"The 3 different boolean operators are AND , OR and NOT\")"
      ],
      "metadata": {
        "colab": {
          "base_uri": "https://localhost:8080/"
        },
        "id": "WEnPqc4IyFlg",
        "outputId": "301f86f2-c056-4834-9d4b-065670a5ccf0"
      },
      "execution_count": 2,
      "outputs": [
        {
          "output_type": "stream",
          "name": "stdout",
          "text": [
            "The 3 different boolean operators are AND , OR and NOT\n"
          ]
        }
      ]
    },
    {
      "cell_type": "markdown",
      "source": [
        "3.Make a list of each Boolean operator&#39;s truth tables (i.e. every possible combination of Boolean\n",
        "values for the operator and what it evaluate )."
      ],
      "metadata": {
        "id": "x4RBvBeGylA3"
      }
    },
    {
      "cell_type": "markdown",
      "source": [
        "![image.png](data:image/png;base64,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)"
      ],
      "metadata": {
        "id": "y7d1Pa6yz_B8"
      }
    },
    {
      "cell_type": "markdown",
      "source": [
        "4.What are the values of the following expressions?\n",
        "(5 &gt; 4) and (3 == 5)\n",
        "not (5 &gt; 4)\n",
        "(5 &gt; 4) or (3 == 5)\n",
        "not ((5 &gt; 4) or (3 == 5))\n",
        "(True and True) and (True == False)\n",
        "(not False) or (not True)"
      ],
      "metadata": {
        "id": "6qAfXmju25as"
      }
    },
    {
      "cell_type": "code",
      "source": [
        "print(5>4 and 3==5)\n",
        "print(not(5>4))\n",
        "print(5>4 or 3==5)\n",
        "print(not(5>4 or 3==5))\n",
        "print((True and True) and(True==False))\n",
        "print((not False) or (not True))"
      ],
      "metadata": {
        "colab": {
          "base_uri": "https://localhost:8080/"
        },
        "id": "axblhnX2yigG",
        "outputId": "395b505f-dfb2-4951-b314-7c2ebc5654ef"
      },
      "execution_count": 9,
      "outputs": [
        {
          "output_type": "stream",
          "name": "stdout",
          "text": [
            "False\n",
            "False\n",
            "True\n",
            "False\n",
            "False\n",
            "True\n"
          ]
        }
      ]
    },
    {
      "cell_type": "markdown",
      "source": [
        "5.What are the six comparison operators?"
      ],
      "metadata": {
        "id": "etz8ASYK3tTW"
      }
    },
    {
      "cell_type": "code",
      "source": [
        "print(\"==\")\n",
        "print(\"!=\")\n",
        "print(\"<=\")\n",
        "print(\">=\")\n",
        "print(\"<\")\n",
        "print(\">\")"
      ],
      "metadata": {
        "colab": {
          "base_uri": "https://localhost:8080/"
        },
        "id": "RxAz_yPS3HnX",
        "outputId": "b05fa862-bdfc-45fc-b76e-de240451c11c"
      },
      "execution_count": 10,
      "outputs": [
        {
          "output_type": "stream",
          "name": "stdout",
          "text": [
            "==\n",
            "!=\n",
            "<=\n",
            ">=\n",
            "<\n",
            ">\n"
          ]
        }
      ]
    },
    {
      "cell_type": "markdown",
      "source": [
        "6.How do you tell the difference between the equal to and assignment operators?Describe a\n",
        "condition and when you would use one."
      ],
      "metadata": {
        "id": "pJ6i7m6R4w94"
      }
    },
    {
      "cell_type": "code",
      "source": [
        "print(\"in assignment operator we use single '=' while in equal to we use double '==' \")\n",
        "print(\"when we want to assign a value to a variable we use single equal sign like\")\n",
        "a=5\n",
        "print(\"we use equal to mostly for if condition when we want to check if a variable has the desire value which we want\")\n",
        "if a==10:\n",
        "    print(\"a is equal to 10\")"
      ],
      "metadata": {
        "colab": {
          "base_uri": "https://localhost:8080/"
        },
        "id": "8K5KcGPt4Tw5",
        "outputId": "cb3f6e86-c8f8-4511-d22f-df7683c8c5ca"
      },
      "execution_count": 11,
      "outputs": [
        {
          "output_type": "stream",
          "name": "stdout",
          "text": [
            "in assignment operator we use single '=' while in equal to we use double '==' \n",
            "when we want to assign a value to a variable we use single equal sign like\n",
            "we use equal to mostly for if condition when we want to check if a variable has the desire value which we want\n"
          ]
        }
      ]
    },
    {
      "cell_type": "markdown",
      "source": [
        "7. Identify the three blocks in this code:\n",
        "spam = 0\n",
        "if spam == 10:\n",
        "print(&#39;eggs&#39;)\n",
        "if spam &gt; 5:\n",
        "print(&#39;bacon&#39;)\n",
        "else:\n",
        "print(&#39;ham&#39;)\n",
        "print(&#39;spam&#39;)\n",
        "print(&#39;spam&#39;)"
      ],
      "metadata": {
        "id": "L5Pfa8Xo-PF2"
      }
    },
    {
      "cell_type": "code",
      "source": [
        "spam = 0 \n",
        "if spam == 10: \n",
        "    print('eggs') \n",
        "    if spam > 5: \n",
        "        print('bacon') \n",
        "    else: \n",
        "        print('ham') \n",
        "    print('spam') \n",
        "print('spam')"
      ],
      "metadata": {
        "colab": {
          "base_uri": "https://localhost:8080/"
        },
        "id": "JIoxJilN-JdN",
        "outputId": "49a983db-9f6d-412a-ce83-6aedaed40440"
      },
      "execution_count": 12,
      "outputs": [
        {
          "output_type": "stream",
          "name": "stdout",
          "text": [
            "spam\n"
          ]
        }
      ]
    },
    {
      "cell_type": "markdown",
      "source": [
        "8.Write code that prints Hello if 1 is stored in spam, prints Howdy if 2 is stored in spam, and prints\n",
        "Greetings! if anything else is stored in spam."
      ],
      "metadata": {
        "id": "JNnSXbm6Biao"
      }
    },
    {
      "cell_type": "code",
      "source": [
        "spam = 5\n",
        "if spam == 1:\n",
        "    print('Hello')\n",
        "elif spam == 2:\n",
        "    print('Howdy')\n",
        "else:\n",
        "    print('Greetings!')"
      ],
      "metadata": {
        "colab": {
          "base_uri": "https://localhost:8080/"
        },
        "id": "Bo8TgeFlBbZj",
        "outputId": "3f7d21f1-a81a-415d-80db-39cf23b5dae5"
      },
      "execution_count": 13,
      "outputs": [
        {
          "output_type": "stream",
          "name": "stdout",
          "text": [
            "Greetings!\n"
          ]
        }
      ]
    },
    {
      "cell_type": "markdown",
      "source": [
        "9.If your programme is stuck in an endless loop, what keys you’ll press?"
      ],
      "metadata": {
        "id": "jMKgEmnYCDY2"
      }
    },
    {
      "cell_type": "code",
      "source": [
        "print(\"crtl + c to get out of endless loop\")"
      ],
      "metadata": {
        "colab": {
          "base_uri": "https://localhost:8080/"
        },
        "id": "Fjz0YcOBCCKG",
        "outputId": "c00d184c-7494-4020-b2f7-6eb76dda0a84"
      },
      "execution_count": 14,
      "outputs": [
        {
          "output_type": "stream",
          "name": "stdout",
          "text": [
            "crtl + c to get out of endless loop\n"
          ]
        }
      ]
    },
    {
      "cell_type": "markdown",
      "source": [
        "10.How can you tell the difference between break and continue?"
      ],
      "metadata": {
        "id": "WuTL6bkvCkA4"
      }
    },
    {
      "cell_type": "code",
      "source": [
        "print(\"break is used to break out of loop execution\")\n",
        "print(\"continue is used to move from that step to start of the loop execution\")"
      ],
      "metadata": {
        "colab": {
          "base_uri": "https://localhost:8080/"
        },
        "id": "135ONwTdCjFF",
        "outputId": "1f82e456-ad28-4262-f20a-60c0c38ea8ad"
      },
      "execution_count": 15,
      "outputs": [
        {
          "output_type": "stream",
          "name": "stdout",
          "text": [
            "break is used to break out of loop execution\n",
            "continue is used to move from that step to start of the loop execution\n"
          ]
        }
      ]
    },
    {
      "cell_type": "markdown",
      "source": [
        "11.In a for loop, what is the difference between range(10), range(0, 10), and range(0, 10, 1)?"
      ],
      "metadata": {
        "id": "4iFRBIZGDMBn"
      }
    },
    {
      "cell_type": "code",
      "source": [
        "print(\"in range(10) it will start from 0 and will go upto 10 as we have given the end index \")\n",
        "print(\"in range(0,10) we are setting the range to start at 0 and go upto 10 \")\n",
        "print(\"in range(0,10,1) we are giving the starting, ending and the increament which means start from 0 upto 10 with an increment of 1\")"
      ],
      "metadata": {
        "id": "GYCFE4I7DXPb"
      },
      "execution_count": null,
      "outputs": []
    },
    {
      "cell_type": "markdown",
      "source": [
        "12.Write a short program that prints the numbers 1 to 10 using a for loop. Then write an equivalent\n",
        "program that prints the numbers 1 to 10 using a while loop."
      ],
      "metadata": {
        "id": "adJF44h4DR8E"
      }
    },
    {
      "cell_type": "code",
      "source": [
        "for i in range(1, 11):\n",
        "    print(i)"
      ],
      "metadata": {
        "colab": {
          "base_uri": "https://localhost:8080/"
        },
        "id": "YN0A3e4sEZ9A",
        "outputId": "063c7aca-9723-4666-9d10-8450e959d32d"
      },
      "execution_count": 16,
      "outputs": [
        {
          "output_type": "stream",
          "name": "stdout",
          "text": [
            "1\n",
            "2\n",
            "3\n",
            "4\n",
            "5\n",
            "6\n",
            "7\n",
            "8\n",
            "9\n",
            "10\n"
          ]
        }
      ]
    },
    {
      "cell_type": "code",
      "source": [
        "i = 1\n",
        "while i <= 10:\n",
        "    print(i)\n",
        "    i = i + 1"
      ],
      "metadata": {
        "colab": {
          "base_uri": "https://localhost:8080/"
        },
        "id": "Ha6HIYMLEh2a",
        "outputId": "83af0f7a-b552-40dc-fc44-4061552bc571"
      },
      "execution_count": 17,
      "outputs": [
        {
          "output_type": "stream",
          "name": "stdout",
          "text": [
            "1\n",
            "2\n",
            "3\n",
            "4\n",
            "5\n",
            "6\n",
            "7\n",
            "8\n",
            "9\n",
            "10\n"
          ]
        }
      ]
    },
    {
      "cell_type": "markdown",
      "source": [
        "13.If you had a function named bacon() inside a module named spam, how would you call it after\n",
        "importing spam?\n",
        "\n",
        "---\n",
        "\n"
      ],
      "metadata": {
        "id": "w7zfTCm_DT2L"
      }
    },
    {
      "cell_type": "code",
      "source": [
        "print(\"spam.bacon()\")"
      ],
      "metadata": {
        "colab": {
          "base_uri": "https://localhost:8080/"
        },
        "id": "10P2a_r0DHa8",
        "outputId": "c07f9533-e6d4-4398-d6d4-8f173374d35f"
      },
      "execution_count": 18,
      "outputs": [
        {
          "output_type": "stream",
          "name": "stdout",
          "text": [
            "spam.bacon()\n"
          ]
        }
      ]
    },
    {
      "cell_type": "code",
      "source": [
        ""
      ],
      "metadata": {
        "id": "LdJddAMbEtMu"
      },
      "execution_count": null,
      "outputs": []
    }
  ]
}