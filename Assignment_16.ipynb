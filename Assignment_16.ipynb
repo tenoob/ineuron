{
  "nbformat": 4,
  "nbformat_minor": 0,
  "metadata": {
    "colab": {
      "name": "Assignment_16.ipynb",
      "provenance": [],
      "authorship_tag": "ABX9TyMa7EUYvCx9Jh3mdKlnG9oo",
      "include_colab_link": true
    },
    "kernelspec": {
      "name": "python3",
      "display_name": "Python 3"
    },
    "language_info": {
      "name": "python"
    }
  },
  "cells": [
    {
      "cell_type": "markdown",
      "metadata": {
        "id": "view-in-github",
        "colab_type": "text"
      },
      "source": [
        "<a href=\"https://colab.research.google.com/github/tenoob/ineuron/blob/main/Assignment_16.ipynb\" target=\"_parent\"><img src=\"https://colab.research.google.com/assets/colab-badge.svg\" alt=\"Open In Colab\"/></a>"
      ]
    },
    {
      "cell_type": "markdown",
      "source": [
        "1. Create a list called years_list, starting with the year of your birth, and each year thereafter until\n",
        "the year of your fifth birthday. For example, if you were born in 1980. the list would be years_list =\n",
        "[1980, 1981, 1982, 1983, 1984, 1985]."
      ],
      "metadata": {
        "id": "qm3TyFrw21rx"
      }
    },
    {
      "cell_type": "code",
      "execution_count": 3,
      "metadata": {
        "colab": {
          "base_uri": "https://localhost:8080/"
        },
        "id": "hEe8mSl1xOoS",
        "outputId": "3b354261-b2cd-4d6e-c8dd-365992bb7c1f"
      },
      "outputs": [
        {
          "output_type": "stream",
          "name": "stdout",
          "text": [
            "2001\n",
            "[2001, 2002, 2003, 2004, 2005, 2006]\n"
          ]
        }
      ],
      "source": [
        "try:\n",
        "    year = int(input())\n",
        "    year_lst = [i for i in range(year,year+6)]\n",
        "    print(year_lst)\n",
        "except Exception as e:\n",
        "    print(\"Error : \",e)"
      ]
    },
    {
      "cell_type": "markdown",
      "source": [
        "2. In which year in years_list was your third birthday? Remember, you were 0 years of age for your\n",
        "first year."
      ],
      "metadata": {
        "id": "8xw4asgb3qZL"
      }
    },
    {
      "cell_type": "code",
      "source": [
        "try:\n",
        "    third_bd = year_lst[3]\n",
        "    print(\"3rd birthday year :\",third_bd)\n",
        "except Exception as e:\n",
        "    print(\"Error : \",e)"
      ],
      "metadata": {
        "colab": {
          "base_uri": "https://localhost:8080/"
        },
        "id": "2glserjD3h2c",
        "outputId": "30537763-fcd7-4715-c502-b434864b4cfa"
      },
      "execution_count": 2,
      "outputs": [
        {
          "output_type": "stream",
          "name": "stdout",
          "text": [
            "3rd birthday year : 2004\n"
          ]
        }
      ]
    },
    {
      "cell_type": "markdown",
      "source": [
        "3.In the years list, which year were you the oldest?"
      ],
      "metadata": {
        "id": "m7sG632Q4J7T"
      }
    },
    {
      "cell_type": "code",
      "source": [
        "try:\n",
        "    last_bd = year_lst[-1]\n",
        "    print(\"most oldest year :\",last_bd)\n",
        "except Exception as e:\n",
        "    print(\"Error : \",e)"
      ],
      "metadata": {
        "colab": {
          "base_uri": "https://localhost:8080/"
        },
        "id": "vzpbrrnf39lL",
        "outputId": "edfd6734-3da7-4aca-80a1-d7b59234e94a"
      },
      "execution_count": 4,
      "outputs": [
        {
          "output_type": "stream",
          "name": "stdout",
          "text": [
            "most oldest year : 2006\n"
          ]
        }
      ]
    },
    {
      "cell_type": "markdown",
      "source": [
        "4. Make a list called things with these three strings as elements: &quot;mozzarella&quot;, &quot;cinderella&quot;,\n",
        "&quot;salmonella&quot;."
      ],
      "metadata": {
        "id": "oxD8xspS4e3M"
      }
    },
    {
      "cell_type": "code",
      "source": [
        "things = [\"mozzarella\", \"cinderella\", \"salmonella\"]\n",
        "things"
      ],
      "metadata": {
        "colab": {
          "base_uri": "https://localhost:8080/"
        },
        "id": "FWXwOrv-4UP8",
        "outputId": "d35d4fb1-ada5-42bb-9ed6-fb94d57287e3"
      },
      "execution_count": 6,
      "outputs": [
        {
          "output_type": "execute_result",
          "data": {
            "text/plain": [
              "['mozzarella', 'cinderella', 'salmonella']"
            ]
          },
          "metadata": {},
          "execution_count": 6
        }
      ]
    },
    {
      "cell_type": "markdown",
      "source": [
        "5. Capitalize the element in things that refers to a person and then print the list. Did it change the\n",
        "element in the list?"
      ],
      "metadata": {
        "id": "40_BwBiw4qzf"
      }
    },
    {
      "cell_type": "code",
      "source": [
        "things[1] = things[1].upper()\n",
        "things"
      ],
      "metadata": {
        "colab": {
          "base_uri": "https://localhost:8080/"
        },
        "id": "1GgFJtMP4lVB",
        "outputId": "98073aa9-d41c-42e0-eb42-3aa06e61cbbe"
      },
      "execution_count": 7,
      "outputs": [
        {
          "output_type": "execute_result",
          "data": {
            "text/plain": [
              "['mozzarella', 'CINDERELLA', 'salmonella']"
            ]
          },
          "metadata": {},
          "execution_count": 7
        }
      ]
    },
    {
      "cell_type": "markdown",
      "source": [
        "6. Make a surprise list with the elements &quot;Groucho,&quot; &quot;Chico,&quot; and &quot;Harpo.&quot;"
      ],
      "metadata": {
        "id": "EKTHYLQX5Ool"
      }
    },
    {
      "cell_type": "code",
      "source": [
        "surprise = [ \"Groucho\", \"Chico\", \"Harpo\" ]\n",
        "surprise"
      ],
      "metadata": {
        "colab": {
          "base_uri": "https://localhost:8080/"
        },
        "id": "sEa8PABb5DNN",
        "outputId": "bfae5109-a8f2-4dd3-d985-8d79e9bd8468"
      },
      "execution_count": 11,
      "outputs": [
        {
          "output_type": "execute_result",
          "data": {
            "text/plain": [
              "['Groucho', 'Chico', 'Harpo']"
            ]
          },
          "metadata": {},
          "execution_count": 11
        }
      ]
    },
    {
      "cell_type": "markdown",
      "source": [
        "7. Lowercase the last element of the surprise list, reverse it, and then capitalize it."
      ],
      "metadata": {
        "id": "XH9a1-8-5kCL"
      }
    },
    {
      "cell_type": "code",
      "source": [
        "surprise[-1] = surprise[-1].lower()\n",
        "surprise[-1] = surprise[-1][::-1].upper()\n",
        "surprise"
      ],
      "metadata": {
        "colab": {
          "base_uri": "https://localhost:8080/"
        },
        "id": "ik2ejp4U5ZfV",
        "outputId": "45e080ff-4049-4ef7-cd3f-e8314a336a91"
      },
      "execution_count": 12,
      "outputs": [
        {
          "output_type": "execute_result",
          "data": {
            "text/plain": [
              "['Groucho', 'Chico', 'OPRAH']"
            ]
          },
          "metadata": {},
          "execution_count": 12
        }
      ]
    },
    {
      "cell_type": "markdown",
      "source": [
        "8. Make an English-to-French dictionary called e2f and print it. Here are your starter words: dog is\n",
        "chien, cat is chat, and walrus is morse."
      ],
      "metadata": {
        "id": "hOVVGcS7957h"
      }
    },
    {
      "cell_type": "code",
      "source": [
        "e2f = {'dog':'chien' , 'cat':'chat','walrus':'morse'}\n",
        "print(e2f)"
      ],
      "metadata": {
        "colab": {
          "base_uri": "https://localhost:8080/"
        },
        "id": "53vBmoOu9jKx",
        "outputId": "68e92668-d4f4-4ca8-8698-3405f8811d9e"
      },
      "execution_count": 14,
      "outputs": [
        {
          "output_type": "stream",
          "name": "stdout",
          "text": [
            "{'dog': 'chien', 'cat': 'chat', 'walrus': 'morse'}\n"
          ]
        }
      ]
    },
    {
      "cell_type": "markdown",
      "source": [
        "9. Write the French word for walrus in your three-word dictionary e2f."
      ],
      "metadata": {
        "id": "RK7iW1yK9h_u"
      }
    },
    {
      "cell_type": "code",
      "source": [
        "print(e2f['walrus'])"
      ],
      "metadata": {
        "colab": {
          "base_uri": "https://localhost:8080/"
        },
        "id": "oMmJNaHO-ZhL",
        "outputId": "3561ec09-d23c-45f5-e264-2fdf7acfc6a2"
      },
      "execution_count": 15,
      "outputs": [
        {
          "output_type": "stream",
          "name": "stdout",
          "text": [
            "morse\n"
          ]
        }
      ]
    },
    {
      "cell_type": "markdown",
      "source": [
        "10. Make a French-to-English dictionary called f2e from e2f. Use the items method."
      ],
      "metadata": {
        "id": "32x2OkLa-h22"
      }
    },
    {
      "cell_type": "code",
      "source": [
        "f2e = dict([(value,key) for key, value in e2f.items()])\n",
        "print(f2e)"
      ],
      "metadata": {
        "colab": {
          "base_uri": "https://localhost:8080/"
        },
        "id": "vJmRj-u_-dvw",
        "outputId": "f265d35d-d418-4021-8231-89fad0fe96d0"
      },
      "execution_count": 16,
      "outputs": [
        {
          "output_type": "stream",
          "name": "stdout",
          "text": [
            "{'chien': 'dog', 'chat': 'cat', 'morse': 'walrus'}\n"
          ]
        }
      ]
    },
    {
      "cell_type": "markdown",
      "source": [
        "11. Print the English version of the French word chien using f2e."
      ],
      "metadata": {
        "id": "o41u7WGQ_IhK"
      }
    },
    {
      "cell_type": "code",
      "source": [
        "print(f2e['chien'])"
      ],
      "metadata": {
        "colab": {
          "base_uri": "https://localhost:8080/"
        },
        "id": "pdNOUDhE_D1I",
        "outputId": "439cf75c-9c0c-4559-da5a-ebd81d6a609d"
      },
      "execution_count": 17,
      "outputs": [
        {
          "output_type": "stream",
          "name": "stdout",
          "text": [
            "dog\n"
          ]
        }
      ]
    },
    {
      "cell_type": "markdown",
      "source": [
        "12. Make and print a set of English words from the keys in e2f."
      ],
      "metadata": {
        "id": "C5iOxEB8_Rzt"
      }
    },
    {
      "cell_type": "code",
      "source": [
        "english_word = set(e2f.keys())\n",
        "print(english_word)"
      ],
      "metadata": {
        "colab": {
          "base_uri": "https://localhost:8080/"
        },
        "id": "GAeS70_2_MoA",
        "outputId": "02ee8d30-8105-4a9d-f6f4-c98e72646ee9"
      },
      "execution_count": 19,
      "outputs": [
        {
          "output_type": "stream",
          "name": "stdout",
          "text": [
            "{'cat', 'dog', 'walrus'}\n"
          ]
        }
      ]
    },
    {
      "cell_type": "markdown",
      "source": [
        "13. Make a multilevel dictionary called life. Use these strings for the topmost keys: &#39;animals&#39;, &#39;plants&#39;,\n",
        "and &#39;other&#39;. Make the &#39;animals&#39; key refer to another dictionary with the keys &#39;cats&#39;, &#39;octopi&#39;, and\n",
        "&#39;emus&#39;. Make the &#39;cats&#39; key refer to a list of strings with the values &#39;Henri&#39;, &#39;Grumpy&#39;, and &#39;Lucy&#39;.Make all the other keys refer to empty dictionaries."
      ],
      "metadata": {
        "id": "G13JBlLw_jmK"
      }
    },
    {
      "cell_type": "code",
      "source": [
        "life = {'animals': {'cats': ['Henri', 'Grumpy','Lucy'],\n",
        "                    'octopi':{},\n",
        "                    'emus':{} },\n",
        "        'plants' : {},\n",
        "        'others':{}\n",
        "        }"
      ],
      "metadata": {
        "id": "-cFk6z8l_ePP"
      },
      "execution_count": 21,
      "outputs": []
    },
    {
      "cell_type": "markdown",
      "source": [
        "14. Print the top-level keys of life."
      ],
      "metadata": {
        "id": "qppbEK6rAn-8"
      }
    },
    {
      "cell_type": "code",
      "source": [
        "print(life.keys())"
      ],
      "metadata": {
        "colab": {
          "base_uri": "https://localhost:8080/"
        },
        "id": "-Pydjpr9AZC1",
        "outputId": "6e523372-f45c-4367-b532-a7bc0ac3be15"
      },
      "execution_count": 22,
      "outputs": [
        {
          "output_type": "stream",
          "name": "stdout",
          "text": [
            "dict_keys(['animals', 'plants', 'others'])\n"
          ]
        }
      ]
    },
    {
      "cell_type": "markdown",
      "source": [
        "15. Print the keys for life[&#39;animals&#39;]."
      ],
      "metadata": {
        "id": "RKdeYxj0Avl8"
      }
    },
    {
      "cell_type": "code",
      "source": [
        "print(life['animals'].keys())"
      ],
      "metadata": {
        "colab": {
          "base_uri": "https://localhost:8080/"
        },
        "id": "u_v0pM3sArEd",
        "outputId": "9810a547-c79f-4db8-88c2-69a9b60671d2"
      },
      "execution_count": 23,
      "outputs": [
        {
          "output_type": "stream",
          "name": "stdout",
          "text": [
            "dict_keys(['cats', 'octopi', 'emus'])\n"
          ]
        }
      ]
    },
    {
      "cell_type": "markdown",
      "source": [
        "16. Print the values for life[&#39;animals&#39;][&#39;cats&#39;]"
      ],
      "metadata": {
        "id": "Wxhxp--ABENK"
      }
    },
    {
      "cell_type": "code",
      "source": [
        "print(life['animals']['cats'])"
      ],
      "metadata": {
        "colab": {
          "base_uri": "https://localhost:8080/"
        },
        "id": "YQpYQFxNA0TV",
        "outputId": "ea45e453-b815-4ac4-f863-cc897b2de8d7"
      },
      "execution_count": 24,
      "outputs": [
        {
          "output_type": "stream",
          "name": "stdout",
          "text": [
            "['Henri', 'Grumpy', 'Lucy']\n"
          ]
        }
      ]
    },
    {
      "cell_type": "code",
      "source": [
        ""
      ],
      "metadata": {
        "id": "ixXwnbEtBHsL"
      },
      "execution_count": null,
      "outputs": []
    }
  ]
}