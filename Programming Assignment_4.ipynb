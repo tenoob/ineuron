{
  "nbformat": 4,
  "nbformat_minor": 0,
  "metadata": {
    "colab": {
      "name": "Untitled18.ipynb",
      "provenance": [],
      "authorship_tag": "ABX9TyOp9R+u04GCZtnRaoMuNZ/g",
      "include_colab_link": true
    },
    "kernelspec": {
      "name": "python3",
      "display_name": "Python 3"
    },
    "language_info": {
      "name": "python"
    }
  },
  "cells": [
    {
      "cell_type": "markdown",
      "metadata": {
        "id": "view-in-github",
        "colab_type": "text"
      },
      "source": [
        "<a href=\"https://colab.research.google.com/github/tenoob/ineuron/blob/main/Programming%20Assignment_4.ipynb\" target=\"_parent\"><img src=\"https://colab.research.google.com/assets/colab-badge.svg\" alt=\"Open In Colab\"/></a>"
      ]
    },
    {
      "cell_type": "markdown",
      "source": [
        "1.Write a Python Program to Find the Factorial of a Number?"
      ],
      "metadata": {
        "id": "rRTiZ95z3fV1"
      }
    },
    {
      "cell_type": "code",
      "execution_count": 2,
      "metadata": {
        "colab": {
          "base_uri": "https://localhost:8080/"
        },
        "id": "e9rt3_722awI",
        "outputId": "995a45a8-13ad-4b05-e445-d91f868855af"
      },
      "outputs": [
        {
          "output_type": "stream",
          "name": "stdout",
          "text": [
            "Enter the number5\n",
            "5factorial = 120\n"
          ]
        }
      ],
      "source": [
        "try:\n",
        "    a = int(input(\"Enter the number\"))\n",
        "    b=a\n",
        "    fac = 1\n",
        "    while a>1:\n",
        "        fac = fac*a\n",
        "        a-=1\n",
        "    print(\"{} factorial = {}\".format(b,fac))\n",
        "except Exception as e:\n",
        "    print(\"Error : {}\".format(e))"
      ]
    },
    {
      "cell_type": "markdown",
      "source": [
        "2.Write a Python Program to Display the multiplication Table?"
      ],
      "metadata": {
        "id": "DbRka31N4fvG"
      }
    },
    {
      "cell_type": "code",
      "source": [
        "try:\n",
        "    a = int(input(\"Enter the number whose multiplication table is to be shown\"))\n",
        "    for i in range(1,11):\n",
        "        print('{} x {} = {}'.format(a,i,a*i))\n",
        "except Exception as e:\n",
        "    print(\"Error : {}\".format(e))"
      ],
      "metadata": {
        "colab": {
          "base_uri": "https://localhost:8080/"
        },
        "id": "eGlhZ9dF4Me0",
        "outputId": "72e0e697-80a7-426d-b915-ae5144133593"
      },
      "execution_count": 4,
      "outputs": [
        {
          "output_type": "stream",
          "name": "stdout",
          "text": [
            "Enter the number whose multiplication table is to be shown4\n",
            "4 x 1 = 4\n",
            "4 x 2 = 8\n",
            "4 x 3 = 12\n",
            "4 x 4 = 16\n",
            "4 x 5 = 20\n",
            "4 x 6 = 24\n",
            "4 x 7 = 28\n",
            "4 x 8 = 32\n",
            "4 x 9 = 36\n",
            "4 x 10 = 40\n"
          ]
        }
      ]
    },
    {
      "cell_type": "markdown",
      "source": [
        "3.Write a Python Program to Print the Fibonacci sequence?"
      ],
      "metadata": {
        "id": "2vjkqorj4_JJ"
      }
    },
    {
      "cell_type": "code",
      "source": [
        "def fibo(n):\n",
        "    if n==1 or n==2:\n",
        "        return 1\n",
        "    else:\n",
        "        return (fibo(n-1)+fibo(n-2))\n",
        "\n",
        "try:\n",
        "    a = int(input(\"Enter the number for fibonacci sequence : \"))\n",
        "    for i in range(1,a+1):\n",
        "        print(fibo(i))\n",
        "except Exception as e:\n",
        "    print(\"Error :\",e)"
      ],
      "metadata": {
        "colab": {
          "base_uri": "https://localhost:8080/"
        },
        "id": "rfQIDv-q43Pa",
        "outputId": "2330b41e-e012-4a93-d20d-15346e3448a9"
      },
      "execution_count": 13,
      "outputs": [
        {
          "output_type": "stream",
          "name": "stdout",
          "text": [
            "Enter the number for fibonacci sequence5\n",
            "1\n",
            "1\n",
            "2\n",
            "3\n",
            "5\n"
          ]
        }
      ]
    },
    {
      "cell_type": "markdown",
      "source": [
        "4.Write a Python Program to Check Armstrong Number?"
      ],
      "metadata": {
        "id": "69EnavmS7C5R"
      }
    },
    {
      "cell_type": "code",
      "source": [
        "try:\n",
        "    a = int(input(\"Enter the number to check for armstrong number: \"))\n",
        "    tem = a\n",
        "    sum=0\n",
        "    while tem > 0:\n",
        "        x = tem%10\n",
        "        sum+=x**3\n",
        "        tem//=10\n",
        "    \n",
        "    if a == sum:\n",
        "        print(\"{} is Armstrong number\".format(sum))\n",
        "    else:\n",
        "        print(\"{} is not a Armstrong number\".format(a))\n",
        "except Exception as e:\n",
        "    print(\"Error :\",e)"
      ],
      "metadata": {
        "colab": {
          "base_uri": "https://localhost:8080/"
        },
        "id": "Feq3orn952DU",
        "outputId": "8d8d5cea-d7cd-4c0a-9b75-efe48b9e78f2"
      },
      "execution_count": 21,
      "outputs": [
        {
          "output_type": "stream",
          "name": "stdout",
          "text": [
            "Enter the number to check for armstrong number: 407\n",
            "407 is Armstrong number\n"
          ]
        }
      ]
    },
    {
      "cell_type": "markdown",
      "source": [
        "5.Write a Python Program to Find Armstrong Number in an Interval?"
      ],
      "metadata": {
        "id": "_yS8nj9m8QcO"
      }
    },
    {
      "cell_type": "code",
      "source": [
        "try:\n",
        "    a = int(input(\"Enter the lower limit of range: \"))\n",
        "    b = int(input(\"Enter the upper limit of range: \"))\n",
        "    if a>b:\n",
        "        raise Exception(\"Lower and Upper limit of range is invalid\")\n",
        "    for i in range(a,b+1):\n",
        "        temp = i\n",
        "        sum=0\n",
        "        while temp > 0:\n",
        "            x = temp%10\n",
        "            sum+=x**3\n",
        "            temp//=10\n",
        "\n",
        "        if i == sum:\n",
        "            print(\"{} is Armstrong number\".format(i))\n",
        "except Exception as e:\n",
        "    print(\"Error :\",e)\n"
      ],
      "metadata": {
        "colab": {
          "base_uri": "https://localhost:8080/"
        },
        "id": "RA4s4Cho8Hzl",
        "outputId": "4cfb306a-b630-403b-c12b-039895c1067e"
      },
      "execution_count": 27,
      "outputs": [
        {
          "output_type": "stream",
          "name": "stdout",
          "text": [
            "Enter the lower limit of range: 100\n",
            "Enter the upper limit of range: 200\n",
            "153 is Armstrong number\n"
          ]
        }
      ]
    },
    {
      "cell_type": "markdown",
      "source": [
        "6.Write a Python Program to Find the Sum of Natural Numbers?"
      ],
      "metadata": {
        "id": "unEdzV90-3b7"
      }
    },
    {
      "cell_type": "code",
      "source": [
        "try:\n",
        "    a = int(input(\"Enter the number till which we want to find the sum : \"))\n",
        "    sum = 0\n",
        "    for i in range(a+1):\n",
        "        sum+=i\n",
        "    print(\"Sum of {} natural number = {}\".format(a,sum))\n",
        "except Exception as e:\n",
        "    print(\"Error :\",e)"
      ],
      "metadata": {
        "colab": {
          "base_uri": "https://localhost:8080/"
        },
        "id": "e5YYxGK1-x_q",
        "outputId": "0a069fe8-5152-45e2-c42e-46778dc1b4fd"
      },
      "execution_count": 28,
      "outputs": [
        {
          "output_type": "stream",
          "name": "stdout",
          "text": [
            "Enter the number till which we want to find the sum : 5\n",
            "Sum of 5 natural number = 15\n"
          ]
        }
      ]
    },
    {
      "cell_type": "code",
      "source": [
        ""
      ],
      "metadata": {
        "id": "ZsE8vKJa-QGZ"
      },
      "execution_count": null,
      "outputs": []
    }
  ]
}