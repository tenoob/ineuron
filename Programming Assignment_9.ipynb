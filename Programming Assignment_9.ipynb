{
  "nbformat": 4,
  "nbformat_minor": 0,
  "metadata": {
    "colab": {
      "name": "Untitled31.ipynb",
      "provenance": [],
      "authorship_tag": "ABX9TyNBWxZU1rMJsXqRlCMIFsPq",
      "include_colab_link": true
    },
    "kernelspec": {
      "name": "python3",
      "display_name": "Python 3"
    },
    "language_info": {
      "name": "python"
    }
  },
  "cells": [
    {
      "cell_type": "markdown",
      "metadata": {
        "id": "view-in-github",
        "colab_type": "text"
      },
      "source": [
        "<a href=\"https://colab.research.google.com/github/tenoob/ineuron/blob/main/Programming%20Assignment_9.ipynb\" target=\"_parent\"><img src=\"https://colab.research.google.com/assets/colab-badge.svg\" alt=\"Open In Colab\"/></a>"
      ]
    },
    {
      "cell_type": "markdown",
      "source": [
        "1.Write a Python program to check if the given number is a Disarium Number?"
      ],
      "metadata": {
        "id": "_LgFtBvAg25s"
      }
    },
    {
      "cell_type": "code",
      "execution_count": 19,
      "metadata": {
        "colab": {
          "base_uri": "https://localhost:8080/"
        },
        "id": "R-C6waIDfwjX",
        "outputId": "3e54461a-098f-45b3-cccc-c13de2b314b7"
      },
      "outputs": [
        {
          "output_type": "stream",
          "name": "stdout",
          "text": [
            "Enter a number :175\n",
            "its a Disarium number\n"
          ]
        }
      ],
      "source": [
        "try:\n",
        "    x = input(\"Enter a number :\")\n",
        "    total = 0\n",
        "    a = int(x)\n",
        "    a_len = len(x)\n",
        "    if a>=1:\n",
        "        while a>0:\n",
        "            rem=a%10\n",
        "            total=total+int(rem**a_len)\n",
        "            a = a//10\n",
        "            a_len= a_len-1\n",
        "\n",
        "        if total == int(x):\n",
        "            print(\"its a Disarium number\")\n",
        "        else:\n",
        "            print(\"its not a Disarium number\")\n",
        "\n",
        "    else:\n",
        "        raise Exception(\"number not inserted\")\n",
        "\n",
        "\n",
        "except Exception as e:\n",
        "    print(e)"
      ]
    },
    {
      "cell_type": "markdown",
      "source": [
        "2.Write a Python program to print all disarium numbers between 1 to 100?"
      ],
      "metadata": {
        "id": "AjDLzUJ5lQJD"
      }
    },
    {
      "cell_type": "code",
      "source": [
        "for i in range(1,101):\n",
        "    total = 0\n",
        "    length = len(str(i))\n",
        "    j=i\n",
        "    while i>0:\n",
        "        rem = i%10\n",
        "        total+=int(rem**length)\n",
        "        i=i//10\n",
        "        length-=1\n",
        "    \n",
        "    if total == j:\n",
        "        print(j,\" is Disaruim number\")\n"
      ],
      "metadata": {
        "colab": {
          "base_uri": "https://localhost:8080/"
        },
        "id": "Zv3pUHApiPFE",
        "outputId": "50f28fe6-d647-47bc-9c52-55825abdda4c"
      },
      "execution_count": 23,
      "outputs": [
        {
          "output_type": "stream",
          "name": "stdout",
          "text": [
            "1  is Disaruim number\n",
            "2  is Disaruim number\n",
            "3  is Disaruim number\n",
            "4  is Disaruim number\n",
            "5  is Disaruim number\n",
            "6  is Disaruim number\n",
            "7  is Disaruim number\n",
            "8  is Disaruim number\n",
            "9  is Disaruim number\n",
            "89  is Disaruim number\n"
          ]
        }
      ]
    },
    {
      "cell_type": "markdown",
      "source": [
        "3.Write a Python program to check if the given number is Happy Numbe?"
      ],
      "metadata": {
        "id": "33zSlvN4mfKV"
      }
    },
    {
      "cell_type": "code",
      "source": [
        "try:\n",
        "    x = int(input(\"Enter a number\"))\n",
        "    while(True):\n",
        "        if x==1:\n",
        "            print(\"Yes a happy number\")\n",
        "            break\n",
        "        elif x>=2 and x<=9:\n",
        "            print(\"Not a happy number\")\n",
        "            break\n",
        "        else:\n",
        "            sum=0\n",
        "            a = str(x)\n",
        "            for i in range(len(a)):\n",
        "                sum+=(int(a[i])**2)\n",
        "            x=sum\n",
        "except Exception as e:\n",
        "    print(e)\n"
      ],
      "metadata": {
        "colab": {
          "base_uri": "https://localhost:8080/"
        },
        "id": "xrwfbhZLloVG",
        "outputId": "faff5188-986c-48e2-adc5-321e371a163d"
      },
      "execution_count": 31,
      "outputs": [
        {
          "output_type": "stream",
          "name": "stdout",
          "text": [
            "Enter a number20\n",
            "Not a happy number\n"
          ]
        }
      ]
    },
    {
      "cell_type": "markdown",
      "source": [
        "4.Write a Python program to print all happy numbers between 1 and 100?"
      ],
      "metadata": {
        "id": "w-nQRKXfqDzt"
      }
    },
    {
      "cell_type": "code",
      "source": [
        "for i in range(1,101):\n",
        "    x=i\n",
        "    j=i\n",
        "    while(True):\n",
        "        if x==1:\n",
        "            print(j,\"is a happy number\")\n",
        "            break\n",
        "        elif x>=2 and x<=9:\n",
        "            #print(\"Not a happy number\")\n",
        "            break\n",
        "        else:\n",
        "            sum=0\n",
        "            a = str(x)\n",
        "            for i in range(len(a)):\n",
        "                sum+=(int(a[i])**2)\n",
        "            x=sum\n"
      ],
      "metadata": {
        "colab": {
          "base_uri": "https://localhost:8080/"
        },
        "id": "uxYVKDQ4lrZV",
        "outputId": "11e25cd0-6aaa-4fcc-91f9-94ad65ef3918"
      },
      "execution_count": 36,
      "outputs": [
        {
          "output_type": "stream",
          "name": "stdout",
          "text": [
            "1 is a happy number\n",
            "10 is a happy number\n",
            "13 is a happy number\n",
            "19 is a happy number\n",
            "23 is a happy number\n",
            "28 is a happy number\n",
            "31 is a happy number\n",
            "32 is a happy number\n",
            "44 is a happy number\n",
            "49 is a happy number\n",
            "68 is a happy number\n",
            "70 is a happy number\n",
            "79 is a happy number\n",
            "82 is a happy number\n",
            "86 is a happy number\n",
            "91 is a happy number\n",
            "94 is a happy number\n",
            "97 is a happy number\n",
            "100 is a happy number\n"
          ]
        }
      ]
    },
    {
      "cell_type": "markdown",
      "source": [
        "5.Write a Python program to determine whether the given number is a Harshad Number?"
      ],
      "metadata": {
        "id": "DiDBQR8grPGy"
      }
    },
    {
      "cell_type": "code",
      "source": [
        "try:\n",
        "    x = int(input(\"Enter a number\"))\n",
        "    a = str(x)\n",
        "    sum = 0\n",
        "    for i in range(len(a)):\n",
        "        sum+=int(a[i])\n",
        "\n",
        "    if x%sum==0:\n",
        "        print(x,\"is a Harshad number\")\n",
        "    else:\n",
        "        print(x,\"is not a Harshad number\")\n",
        "except Exception as e:\n",
        "    print(e)\n"
      ],
      "metadata": {
        "colab": {
          "base_uri": "https://localhost:8080/"
        },
        "id": "H1nYhkBOqlyH",
        "outputId": "7a1a94db-4946-41fa-ee2e-cb0aa94229c9"
      },
      "execution_count": 41,
      "outputs": [
        {
          "output_type": "stream",
          "name": "stdout",
          "text": [
            "Enter a number43\n",
            "43 is not a Harshad number\n"
          ]
        }
      ]
    },
    {
      "cell_type": "markdown",
      "source": [
        "6.Write a Python program to print all pronic numbers between 1 and 100?"
      ],
      "metadata": {
        "id": "p6oWic7kw37c"
      }
    },
    {
      "cell_type": "code",
      "source": [
        "for i in range(1,101):\n",
        "    for j in range(1,i+1):\n",
        "        if(j*(j+1) == i):\n",
        "            print(i,\"is pronic number\")\n",
        "            break"
      ],
      "metadata": {
        "colab": {
          "base_uri": "https://localhost:8080/"
        },
        "id": "oct5C8f9v19p",
        "outputId": "528cc184-6ef3-4c29-fa15-b1458ba9a951"
      },
      "execution_count": 42,
      "outputs": [
        {
          "output_type": "stream",
          "name": "stdout",
          "text": [
            "2 is pronic number\n",
            "6 is pronic number\n",
            "12 is pronic number\n",
            "20 is pronic number\n",
            "30 is pronic number\n",
            "42 is pronic number\n",
            "56 is pronic number\n",
            "72 is pronic number\n",
            "90 is pronic number\n"
          ]
        }
      ]
    },
    {
      "cell_type": "code",
      "source": [
        ""
      ],
      "metadata": {
        "id": "Z7cYMWVfwbSI"
      },
      "execution_count": null,
      "outputs": []
    }
  ]
}