{
  "nbformat": 4,
  "nbformat_minor": 0,
  "metadata": {
    "colab": {
      "name": "Programming Assignment_1.ipynb",
      "provenance": [],
      "authorship_tag": "ABX9TyPwA1sk2OPMku3BqZagPZ0U",
      "include_colab_link": true
    },
    "kernelspec": {
      "name": "python3",
      "display_name": "Python 3"
    },
    "language_info": {
      "name": "python"
    }
  },
  "cells": [
    {
      "cell_type": "markdown",
      "metadata": {
        "id": "view-in-github",
        "colab_type": "text"
      },
      "source": [
        "<a href=\"https://colab.research.google.com/github/tenoob/ineuron/blob/main/Python%20Advance%20Programming%20Assignment/Programming_Assignment_1.ipynb\" target=\"_parent\"><img src=\"https://colab.research.google.com/assets/colab-badge.svg\" alt=\"Open In Colab\"/></a>"
      ]
    },
    {
      "cell_type": "markdown",
      "source": [
        "1. Write a function that takes a list of lists and returns the value of all of the\n",
        "symbols in it, where each symbol adds or takes something from the total\n",
        "score. Symbol values:\n",
        "# = 5\n",
        "O = 3\n",
        "X = 1\n",
        "! = -1\n",
        "!! = -3\n",
        "!!! = -5\n",
        "A list of lists containing 2 #s, a O, and a !!! would equal (0 + 5 + 5 + 3 - 5) 8.\n",
        "If the final score is negative, return 0 (e.g. 3 #s, 3 !!s, 2 !!!s and a X would be\n",
        "(0 + 5 + 5 + 5 - 3 - 3 - 3 - 5 - 5 + 1) -3, so return 0.\n",
        "Examples\n",
        "check_score([\n",
        "[\"#\", \"!\"],\n",
        "[\"!!\", \"X\"]\n",
        "]) ➞ 2\n",
        "check_score([\n",
        "[\"!!!\", \"O\", \"!\"],\n",
        "[\"X\", \"#\", \"!!!\"],\n",
        "[\"!!\", \"X\", \"O\"]\n",
        "]) ➞ 0"
      ],
      "metadata": {
        "id": "zx2Lwoa2ZMO3"
      }
    },
    {
      "cell_type": "code",
      "execution_count": 12,
      "metadata": {
        "colab": {
          "base_uri": "https://localhost:8080/"
        },
        "id": "kqNiwR5zZFTL",
        "outputId": "710db592-8f24-44d9-e22f-62623b8f72d3"
      },
      "outputs": [
        {
          "output_type": "stream",
          "name": "stdout",
          "text": [
            "2\n",
            "0\n"
          ]
        }
      ],
      "source": [
        "def check_score(matrix):\n",
        "    dictonary = {'#':5,\n",
        "             'O':3,\n",
        "             'X':1,\n",
        "             '!':-1,\n",
        "             '!!':-3,\n",
        "             '!!!':-5}\n",
        "             \n",
        "    total = 0\n",
        "    for i in matrix:\n",
        "        for j in i:\n",
        "            total+=dictonary[j]\n",
        "\n",
        "    if total<0:\n",
        "        return 0\n",
        "    else:\n",
        "        return total\n",
        "            \n",
        "\n",
        "print(check_score([[\"#\", \"!\"],[\"!!\", \"X\"]]))\n",
        "print(check_score([[\"!!!\", \"O\", \"!\"],[\"X\", \"#\", \"!!!\"],[\"!!\", \"X\", \"O\"]]) )"
      ]
    },
    {
      "cell_type": "markdown",
      "source": [
        "2. Create a function that takes a variable number of arguments, each\n",
        "argument representing the number of items in a group, and returns the\n",
        "number of permutations (combinations) of items that you could get by taking\n",
        "one item from each group.\n",
        "Examples\n",
        "combinations(2, 3) ➞ 6\n",
        "combinations(3, 7, 4) ➞ 84\n",
        "combinations(2, 3, 4, 5) ➞ 120"
      ],
      "metadata": {
        "id": "QspOkl52b8-I"
      }
    },
    {
      "cell_type": "code",
      "source": [
        "def combinations(*args):\n",
        "    totalCombination = 1\n",
        "    for i in args:\n",
        "        totalCombination*=i\n",
        "\n",
        "    return totalCombination\n",
        "\n",
        "\n",
        "print(combinations(2, 3))\n",
        "print(combinations(3,7,4))\n",
        "print(combinations(2, 3,4,5))\n"
      ],
      "metadata": {
        "colab": {
          "base_uri": "https://localhost:8080/"
        },
        "id": "ZrAVMdTWaz3L",
        "outputId": "89f7511c-8017-45f9-8e9b-d29feba903ce"
      },
      "execution_count": 13,
      "outputs": [
        {
          "output_type": "stream",
          "name": "stdout",
          "text": [
            "6\n",
            "84\n",
            "120\n"
          ]
        }
      ]
    },
    {
      "cell_type": "markdown",
      "source": [
        "3. Create a function that takes a string as an argument and returns the Morse\n",
        "code equivalent.\n",
        "Examples\n",
        "encode_morse(\"IT CHALLENGE\") ➞ \". -.. .- -... -... .. - -.-. .... .- .-.. .-..\n",
        ". -. --. .\"\n",
        "encode_morse(\"HELP ME !\") ➞ \".... . .-.. .--. -- . -.-.--\"\n",
        "This dictionary can be used for coding:\n",
        "char_to_dots = {\n",
        "\"\".-\", \"B\": \"-...\", \"C\": \"-.-.\", \"D\": \"-..\", \"E\": \".\", \"F\": \"..-.\",\n",
        "\"G\": \"--.\", \"H\": \"....\", \"I\": \"..\", \"J\": \".---\", \"K\": \"-.-\", \"L\": \".-..\",\n",
        "\"M\": \"--\", \"N\": \"-.\", \"O\": \"---\", \"P\": \".--.\", \"Q\": \"--.-\", \"R\": \".-.\",\n",
        "\"S\": \"...\", \"T\": \"-\", \"U\": \"..-\", \"V\": \"...-\", \"W\": \".--\", \"X\": \"-..-\",\n",
        "\"Y\": \"-.--\", \"Z\": \"--..\", \" \": \" \", \"0\": \"-----\",\n",
        "\"1\": \".----\", \"2\": \"..---\", \"3\": \"...--\", \"4\": \"....-\", \"5\": \".....\",\n",
        "\"6\": \"-....\", \"7\": \"--...\", \"8\": \"---..\", \"9\": \"----.\",\n",
        "\"&amp;\": \".-...\", \"\"\": \".----.\", \"@\": \".--.-.\", \")\": \"-.--.-\", \"(\": \"-.--.\",\n",
        "\":\": \"---...\", \",\": \"--..--\", \"=\": \"-...-\", \"!\": \"-.-.--\", \".\": \".-.-.-\",\n",
        "\"-\": \"-....-\", \"+\": \".-.-.\", \"\"\": \".-..-.\", \"?\": \"..--..\", \"/\": \"-..-.\"\n",
        "}"
      ],
      "metadata": {
        "id": "eeZegxPBcqxZ"
      }
    },
    {
      "cell_type": "code",
      "source": [
        "def encode_morse(msg):\n",
        "    msg = msg.upper()\n",
        "    char_to_dots = {\n",
        "                    \"A\": \".-\", \"B\": \"-...\", \"C\": \"-.-.\", \"D\": \"-..\", \"E\": \".\", \"F\": \"..-.\",\n",
        "                    \"G\": \"--.\", \"H\": \"....\", \"I\": \"..\", \"J\": \".---\", \"K\": \"-.-\", \"L\": \".-..\",\n",
        "                    \"M\": \"--\", \"N\": \"-.\", \"O\": \"---\", \"P\": \".--.\", \"Q\": \"--.-\", \"R\": \".-.\",\n",
        "                    \"S\": \"...\", \"T\": \"-\", \"U\": \"..-\", \"V\": \"...-\", \"W\": \".--\", \"X\": \"-..-\",\n",
        "                    \"Y\": \"-.--\", \"Z\": \"--..\", \" \": \" \", \"0\": \"-----\",\n",
        "                    \"1\": \".----\", \"2\": \"..---\", \"3\": \"...--\", \"4\": \"....-\", \"5\": \".....\",\n",
        "                    \"6\": \"-....\", \"7\": \"--...\", \"8\": \"---..\", \"9\": \"----.\",\n",
        "                    \"&\": \".-...\", '\"\"': \".----.\", \"@\": \".--.-.\", \")\": \"-.--.-\", \"(\": \"-.--.\",\n",
        "                    \":\": \"---...\", \",\": \"--..--\", \"=\": \"-...-\", \"!\": \"-.-.--\", \".\": \".-.-.-\",\n",
        "                    \"-\": \"-....-\", \"+\": \".-.-.\", '\"': \".-..-.\", \"?\": \"..--..\", \"/\": \"-..-.\"\n",
        "                    }\n",
        "\n",
        "    encrptmsg = \"\"\n",
        "\n",
        "    for i in msg:\n",
        "        encrptmsg+=char_to_dots[i]\n",
        "\n",
        "    return encrptmsg\n",
        "              \n",
        "\n",
        "print(encode_morse(\"EDABBIT CHALLENGE\"))\n",
        "print(encode_morse(\"Help ME!\"))"
      ],
      "metadata": {
        "colab": {
          "base_uri": "https://localhost:8080/"
        },
        "id": "HjXoVzlacjlq",
        "outputId": "21f10cf4-16ad-4d22-bab6-abb19ac512e1"
      },
      "execution_count": 14,
      "outputs": [
        {
          "output_type": "stream",
          "name": "stdout",
          "text": [
            ".-...--...-.....- -.-......-.-...-...-.--..\n",
            "......-...--. --.-.-.--\n"
          ]
        }
      ]
    },
    {
      "cell_type": "markdown",
      "source": [
        "4. Write a function that takes a number and returns True if it&#39;s a prime; False\n",
        "otherwise. The number can be 2^64-1 (2 to the power of 63, not XOR). With\n",
        "the standard technique it would be O(2^64-1), which is much too large for the\n",
        "10 second time limit.\n",
        "Examples\n",
        "prime(7) ➞ True\n",
        "prime(56963) ➞ True\n",
        "prime(5151512515524) ➞ False"
      ],
      "metadata": {
        "id": "ygCv3YBdfERh"
      }
    },
    {
      "cell_type": "code",
      "source": [
        "import math\n",
        "import time\n",
        "\n",
        "def prime(x):\n",
        "    if x == 2 or x == 3 or x==5:\n",
        "        return True\n",
        "    if x == 1 or x == 4:\n",
        "        return False\n",
        "    num = 2\n",
        "    a= math.sqrt(x)+4 \n",
        "    while a > num:\n",
        "        if x % num == 0:\n",
        "            return False\n",
        "        else:\n",
        "            num = num + 1\n",
        "    return True\n",
        "\n",
        "\n",
        "print(prime(7))\n",
        "print(prime(56963))\n",
        "\n",
        "start = time.process_time()\n",
        "print(prime(5151512515524))\n",
        "y = time.time()\n",
        "print(time.process_time() - start, \"seconds\")"
      ],
      "metadata": {
        "colab": {
          "base_uri": "https://localhost:8080/"
        },
        "id": "ilJmfcTKeE0i",
        "outputId": "d6ef175f-e1e2-4258-e58d-b400fe4d9669"
      },
      "execution_count": 20,
      "outputs": [
        {
          "output_type": "stream",
          "name": "stdout",
          "text": [
            "True\n",
            "True\n",
            "False\n",
            "0.00013246599999838793 seconds\n"
          ]
        }
      ]
    },
    {
      "cell_type": "markdown",
      "source": [
        "5. Create a function that converts a word to a bitstring and then to a boolean\n",
        "list based on the following criteria:\n",
        "1. Locate the position of the letter in the English alphabet (from 1 to 26).\n",
        "2. Odd positions will be represented as 1 and 0 otherwise.\n",
        "3. Convert the represented positions to boolean values, 1 for True and 0\n",
        "for False.\n",
        "4. Store the conversions into an array.\n",
        "Examples\n",
        "to_boolean_list(&quot;deep&quot;) ➞ [False, True, True, False]\n",
        "# deep converts to 0110\n",
        "# d is the 4th alphabet - 0\n",
        "# e is the 5th alphabet - 1\n",
        "# e is the 5th alphabet - 1\n",
        "# p is the 16th alphabet - 0\n",
        "to_boolean_list(&quot;loves&quot;) ➞ [False, True, False, True, True]\n",
        "to_boolean_list(&quot;tesh&quot;) ➞ [False, True, True, False]"
      ],
      "metadata": {
        "id": "9Lyeba4zi_Pr"
      }
    },
    {
      "cell_type": "code",
      "source": [
        "def to_boolean_list(string):\n",
        "    lst = []\n",
        "    for i in string:\n",
        "        number = ord(i)-96\n",
        "        if number%2==0:\n",
        "            lst.append(False)\n",
        "        else:\n",
        "            lst.append(True)\n",
        "\n",
        "    return lst\n",
        "\n",
        "print(to_boolean_list(\"deep\"))\n",
        "print(to_boolean_list(\"loves\"))\n",
        "print(to_boolean_list(\"tesh\"))"
      ],
      "metadata": {
        "colab": {
          "base_uri": "https://localhost:8080/"
        },
        "id": "n2TkdS6vhPKw",
        "outputId": "6df3d090-f09e-413c-ff2b-d4a1ba7c08e6"
      },
      "execution_count": 22,
      "outputs": [
        {
          "output_type": "stream",
          "name": "stdout",
          "text": [
            "[False, True, True, False]\n",
            "[False, True, False, True, True]\n",
            "[False, True, True, False]\n"
          ]
        }
      ]
    },
    {
      "cell_type": "code",
      "source": [
        ""
      ],
      "metadata": {
        "id": "mBX7geinlyjN"
      },
      "execution_count": null,
      "outputs": []
    }
  ]
}