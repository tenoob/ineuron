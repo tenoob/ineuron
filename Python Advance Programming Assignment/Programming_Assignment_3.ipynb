{
  "nbformat": 4,
  "nbformat_minor": 0,
  "metadata": {
    "colab": {
      "name": "Programming Assignment_3.ipynb",
      "provenance": [],
      "authorship_tag": "ABX9TyM2TQBW/trv/uJcOEKJFcrQ",
      "include_colab_link": true
    },
    "kernelspec": {
      "name": "python3",
      "display_name": "Python 3"
    },
    "language_info": {
      "name": "python"
    }
  },
  "cells": [
    {
      "cell_type": "markdown",
      "metadata": {
        "id": "view-in-github",
        "colab_type": "text"
      },
      "source": [
        "<a href=\"https://colab.research.google.com/github/tenoob/ineuron/blob/main/Python%20Advance%20Programming%20Assignment/Programming_Assignment_3.ipynb\" target=\"_parent\"><img src=\"https://colab.research.google.com/assets/colab-badge.svg\" alt=\"Open In Colab\"/></a>"
      ]
    },
    {
      "cell_type": "markdown",
      "source": [
        "1. Create a function to perform basic arithmetic operations that includes\n",
        "addition, subtraction, multiplication and division on a string number (e.g. &quot;12 +\n",
        "24&quot; or &quot;23 - 21&quot; or &quot;12 // 12&quot; or &quot;12 * 21&quot;).\n",
        "Here, we have 1 followed by a space, oper followed by another space\n",
        "and 2. For the challenge, we are going to have only two numbers between 1\n",
        "valid oper. The return value should be a number.\n",
        "eval() is not allowed. In case of division, whenever the second number equals\n",
        "&quot;0&quot; return -1.\n",
        "For example:\n",
        "&quot;15 // 0&quot; ➞ -1\n",
        "Examples\n",
        "arithmetic_operation(&quot;12 + 12&quot;) ➞ 24 // 12 + 12 = 24\n",
        "arithmetic_operation(&quot;12 - 12&quot;) ➞ 24 // 12 - 12 = 0\n",
        "arithmetic_operation(&quot;12 * 12&quot;) ➞ 144 // 12 * 12 = 144\n",
        "arithmetic_operation(&quot;12 // 0&quot;) ➞ -1 // 12 / 0 = -1"
      ],
      "metadata": {
        "id": "8wmi4XLboHbb"
      }
    },
    {
      "cell_type": "code",
      "execution_count": 7,
      "metadata": {
        "colab": {
          "base_uri": "https://localhost:8080/"
        },
        "id": "yNu2Ac5PngX1",
        "outputId": "4732e4b3-c5f8-4808-905e-d5fa40412646"
      },
      "outputs": [
        {
          "output_type": "stream",
          "name": "stdout",
          "text": [
            "24\n",
            "0\n",
            "144\n",
            "-1\n"
          ]
        }
      ],
      "source": [
        "def arithmetic_operation(string):\n",
        "    lst = string.split(' ')\n",
        "    oper = lst[1]\n",
        "    if oper == '+':\n",
        "        ans = int(lst[0]) + int(lst[2])\n",
        "    elif oper == '-':\n",
        "        ans = int(lst[0]) - int(lst[2])\n",
        "    elif oper == '*':\n",
        "        ans = int(lst[0]) * int(lst[2])\n",
        "    elif  oper=='//' :\n",
        "        if int(lst[2])==0:\n",
        "            ans= -1\n",
        "        else:\n",
        "            ans = int(lst[0]) // int(lst[2])\n",
        "\n",
        "    return ans\n",
        "\n",
        "print(arithmetic_operation(\"12 + 12\"))\n",
        "print(arithmetic_operation(\"12 - 12\"))\n",
        "print(arithmetic_operation(\"12 * 12\"))\n",
        "print(arithmetic_operation(\"12 // 0\"))\n"
      ]
    },
    {
      "cell_type": "markdown",
      "source": [
        "2. Write a function that takes the coordinates of three points in the form of a\n",
        "2d array and returns the perimeter of the triangle. The given points are the\n",
        "vertices of a triangle on a two-dimensional plane.\n",
        "Examples\n",
        "perimeter( [ [15, 7], [5, 22], [11, 1] ] ) ➞ 47.08\n",
        "perimeter( [ [0, 0], [0, 1], [1, 0] ] ) ➞ 3.42\n",
        "perimeter( [ [-10, -10], [10, 10 ], [-10, 10] ] ) ➞ 68.28"
      ],
      "metadata": {
        "id": "vDK6s_1Bqui8"
      }
    },
    {
      "cell_type": "code",
      "source": [
        "import math\n",
        "\n",
        "def perimeter(coords):\n",
        "    a = coords[0]\n",
        "    b = coords[1]\n",
        "    c = coords[2]\n",
        "\n",
        "    ab = math.sqrt( (b[0] - a[0])**2 + (b[1] - a[1])**2 )\n",
        "    bc = math.sqrt( (c[0] - b[0])**2 + (c[1] - b[1])**2 )\n",
        "    ca = math.sqrt( (a[0] - c[0])**2 + (a[1] - c[1])**2 )\n",
        "\n",
        "    return round(ab+bc+ca,2)\n",
        "\n",
        "print(perimeter( [ [15, 7], [5, 22], [11, 1] ] ))\n",
        "print(perimeter( [ [0, 0], [0, 1], [1, 0] ] ))\n",
        "print(perimeter( [[-10, -10], [10, 10 ], [-10, 10] ] ))"
      ],
      "metadata": {
        "colab": {
          "base_uri": "https://localhost:8080/"
        },
        "id": "GhZgvNbtp0BI",
        "outputId": "f9790da1-eba0-483e-999f-55b647bc8e17"
      },
      "execution_count": 14,
      "outputs": [
        {
          "output_type": "stream",
          "name": "stdout",
          "text": [
            "47.08\n",
            "3.41\n",
            "68.28\n"
          ]
        }
      ]
    },
    {
      "cell_type": "markdown",
      "source": [
        "3. A city skyline can be represented as a 2-D list with 1s representing\n",
        "buildings. In the example below, the height of the tallest building is 4 (second-\n",
        "most right column).\n",
        "[[0, 0, 0, 0, 0, 0],\n",
        "[0, 0, 0, 0, 1, 0],\n",
        "[0, 0, 1, 0, 1, 0],\n",
        "[0, 1, 1, 1, 1, 0],\n",
        "\n",
        "[1, 1, 1, 1, 1, 1]]\n",
        "Create a function that takes a skyline (2-D list of 0&#39;s and 1&#39;s) and returns the\n",
        "height of the tallest skyscraper."
      ],
      "metadata": {
        "id": "4FifA6IbvY8S"
      }
    },
    {
      "cell_type": "code",
      "source": [
        "import pandas as pd\n",
        "\n",
        "def  tallest_skyscraper(matrix):\n",
        "    df = pd.DataFrame(matrix)\n",
        "    height = 0\n",
        "    for col in df.columns:\n",
        "        x = df[col].value_counts()\n",
        "        if x[1]>height:\n",
        "            height=x[1]\n",
        "\n",
        "    return height\n",
        "              \n",
        "\n",
        "print(tallest_skyscraper([\n",
        "[0, 0, 0, 0],\n",
        "[0, 1, 0, 0],\n",
        "[0, 1, 1, 0],\n",
        "[1, 1, 1, 1]]))\n",
        "\n",
        "print(tallest_skyscraper([\n",
        "[0, 1, 0, 0],\n",
        "[0, 1, 0, 0],\n",
        "[0, 1, 1, 0],\n",
        "[1, 1, 1, 1]\n",
        "]))\n",
        "print(tallest_skyscraper([\n",
        "[0, 0, 0, 0],\n",
        "[0, 0, 0, 0],\n",
        "[1, 1, 1, 0],\n",
        "[1, 1, 1, 1]\n",
        "]))"
      ],
      "metadata": {
        "colab": {
          "base_uri": "https://localhost:8080/"
        },
        "id": "OS_w6oe3qmUP",
        "outputId": "7b9d18a0-063e-449d-cdf4-ccfe5ba3f3ef"
      },
      "execution_count": 25,
      "outputs": [
        {
          "output_type": "stream",
          "name": "stdout",
          "text": [
            "3\n",
            "4\n",
            "2\n"
          ]
        }
      ]
    },
    {
      "cell_type": "markdown",
      "source": [
        "4. A financial institution provides professional services to banks and claims\n",
        "charges from the customers based on the number of man-days provided.\n",
        "Internally, it has set a scheme to motivate and reward staff to meet and\n",
        "exceed targeted billable utilization and revenues by paying a bonus for each\n",
        "day claimed from customers in excess of a threshold target.\n",
        "This quarterly scheme is calculated with a threshold target of 32 days per\n",
        "quarter, and the incentive payment for each billable day in excess of such\n",
        "threshold target is shown as follows:\n",
        "Days Bonus\n",
        "0 to 32 days Zero\n",
        "33 to 40 days SGD$325 per billable day\n",
        "41 to 48 days SGD$550 per billable day\n",
        "Greater than 48 days SGD$600 per billable day\n",
        "\n",
        "Please note that incentive payment is calculated progressively. As an\n",
        "example, if an employee reached total billable days of 45 in a quarter, his/her\n",
        "incentive payment is computed as follows:\n",
        "32*0 + 8*325 + 5*550 = 5350\n",
        "Write a function to read the billable days of an employee and return the bonus\n",
        "he/she has obtained in that quarter.\n",
        "Examples\n",
        "bonus(15) ➞ 0\n",
        "bonus(37) ➞ 1625\n",
        "bonus(50) ➞ 8200"
      ],
      "metadata": {
        "id": "gC2NQBh6yTuT"
      }
    },
    {
      "cell_type": "code",
      "source": [
        "def bonus(days):\n",
        "    bonus = 0\n",
        "    if days<=32:\n",
        "        return 0\n",
        "    elif days > 32 and days<=40:\n",
        "        bonus = (days - 32 ) * 325\n",
        "    elif days > 41 and days<=48:\n",
        "        bonus = (8 * 325) + ((days - 40)*550)\n",
        "    else:\n",
        "        bonus = (8 * 325) + (8*550) +((days - 48)*600)\n",
        "\n",
        "    return bonus\n",
        "\n",
        "print(bonus(15))\n",
        "print(bonus(37))\n",
        "print(bonus(50))"
      ],
      "metadata": {
        "colab": {
          "base_uri": "https://localhost:8080/"
        },
        "id": "AgsgxO3pwUSa",
        "outputId": "a1ad0cf9-5978-4192-c5e0-b71eb020d04c"
      },
      "execution_count": 27,
      "outputs": [
        {
          "output_type": "stream",
          "name": "stdout",
          "text": [
            "0\n",
            "1625\n",
            "8200\n"
          ]
        }
      ]
    },
    {
      "cell_type": "markdown",
      "source": [
        "5. A number is said to be Disarium if the sum of its digits raised to their\n",
        "respective positions is the number itself.\n",
        "Create a function that determines whether a number is a Disarium or not.\n",
        "Examples\n",
        "is_disarium(75) ➞ False\n",
        "# 7^1 + 5^2 = 7 + 25 = 32\n",
        "is_disarium(135) ➞ True\n",
        "# 1^1 + 3^2 + 5^3 = 1 + 9 + 125 = 135\n",
        "is_disarium(544) ➞ False\n",
        "is_disarium(518) ➞ True\n",
        "is_disarium(466) ➞ False\n",
        "is_disarium(8) ➞ True"
      ],
      "metadata": {
        "id": "uxpnrK5M1URv"
      }
    },
    {
      "cell_type": "code",
      "source": [
        "def is_disarium(number):\n",
        "    num = str(number)\n",
        "    x = 0\n",
        "    for i in range(len(num)):\n",
        "        x += (int(num[i])**(i+1))\n",
        "\n",
        "    if x==number:\n",
        "        return True\n",
        "    else:\n",
        "        return False\n",
        "\n",
        "\n",
        "print(is_disarium(75))\n",
        "print(is_disarium(135))\n",
        "print(is_disarium(544))\n",
        "print(is_disarium(518))\n",
        "print(is_disarium(466))\n",
        "print(is_disarium(8))"
      ],
      "metadata": {
        "colab": {
          "base_uri": "https://localhost:8080/"
        },
        "id": "wwV2tCWD0t1N",
        "outputId": "6b932dab-ea76-4780-9dd7-08fa4ef41ba5"
      },
      "execution_count": 36,
      "outputs": [
        {
          "output_type": "stream",
          "name": "stdout",
          "text": [
            "False\n",
            "True\n",
            "False\n",
            "True\n",
            "False\n",
            "True\n"
          ]
        }
      ]
    },
    {
      "cell_type": "code",
      "source": [
        ""
      ],
      "metadata": {
        "id": "8WLDGfQB1v5v"
      },
      "execution_count": null,
      "outputs": []
    }
  ]
}