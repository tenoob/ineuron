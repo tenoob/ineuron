{
  "nbformat": 4,
  "nbformat_minor": 0,
  "metadata": {
    "colab": {
      "name": "Programming Assignment_4.ipynb",
      "provenance": [],
      "authorship_tag": "ABX9TyPukARe9CWdbx5dE3/C3Uzb",
      "include_colab_link": true
    },
    "kernelspec": {
      "name": "python3",
      "display_name": "Python 3"
    },
    "language_info": {
      "name": "python"
    }
  },
  "cells": [
    {
      "cell_type": "markdown",
      "metadata": {
        "id": "view-in-github",
        "colab_type": "text"
      },
      "source": [
        "<a href=\"https://colab.research.google.com/github/tenoob/ineuron/blob/main/Python%20Advance%20Programming%20Assignment/Programming_Assignment_4.ipynb\" target=\"_parent\"><img src=\"https://colab.research.google.com/assets/colab-badge.svg\" alt=\"Open In Colab\"/></a>"
      ]
    },
    {
      "cell_type": "markdown",
      "source": [
        "1. In mathematics, the Fibonacci numbers, commonly denoted Fn, form a\n",
        "sequence, called the Fibonacci sequence, such that each number is the sum\n",
        "of the two preceding ones, starting from 0 and 1:\n",
        "\n",
        "The beginning of the sequence is this:\n",
        "0, 1, 1, 2, 3, 5, 8, 13, 21, 34, 55, 89, 144, ...\n",
        "The function fastFib(num) returns the fibonacci number Fn, of the given num\n",
        "as an argument."
      ],
      "metadata": {
        "id": "EkMm7Cq1-W3r"
      }
    },
    {
      "cell_type": "code",
      "execution_count": 16,
      "metadata": {
        "colab": {
          "base_uri": "https://localhost:8080/"
        },
        "id": "VDXoFiCo9zHp",
        "outputId": "65cf214b-bcf0-44ca-8d79-556eeab5e54d"
      },
      "outputs": [
        {
          "output_type": "stream",
          "name": "stdout",
          "text": [
            "5\n",
            "55\n",
            "6765\n",
            "12586269025\n"
          ]
        }
      ],
      "source": [
        "import math\n",
        "def fib_fast(num):\n",
        "    phi = (1 + math.sqrt(5)) / 2\n",
        " \n",
        "    return round(pow(phi, num) / math.sqrt(5))\n",
        "\n",
        "        \n",
        "print(fib_fast(5))\n",
        "print(fib_fast(10))\n",
        "print(fib_fast(20))\n",
        "print(fib_fast(50))\n",
        "\n"
      ]
    },
    {
      "cell_type": "markdown",
      "source": [
        "2. Create a function that takes a strings characters as ASCII and returns each\n",
        "characters hexadecimal value as a string.\n",
        "Examples\n",
        "convert_to_hex(\" world\") ➞ \"68 65 6c 6c 6f 20 77 6f 72 6c 64\"\n",
        "convert_to_hex(\"Big Boi\") ➞ \"42 69 67 20 42 6f 69\"\n",
        "convert_to_hex(\"Marty Poppinson\") ➞ \"4d 61 72 74 79 20 50 6f 70 70 69 6e\n",
        "73 6f 6e\""
      ],
      "metadata": {
        "id": "BRJph2JvDFyd"
      }
    },
    {
      "cell_type": "code",
      "source": [
        "def convert_to_hex(string):\n",
        "    lst = []\n",
        "    for i in string:\n",
        "        lst.append( hex(ord(i)) )\n",
        "\n",
        "    return ' '.join(str(i) for i in lst)\n",
        "\n",
        "print(convert_to_hex(\"hello world\"))\n",
        "print(convert_to_hex(\"Big Boi\"))\n",
        "print(convert_to_hex(\"Marty Poppinson\"))"
      ],
      "metadata": {
        "colab": {
          "base_uri": "https://localhost:8080/"
        },
        "id": "9A6-gE1a-vr9",
        "outputId": "47090c83-f431-405b-beb0-4150c831d495"
      },
      "execution_count": 19,
      "outputs": [
        {
          "output_type": "stream",
          "name": "stdout",
          "text": [
            "0x68 0x65 0x6c 0x6c 0x6f 0x20 0x77 0x6f 0x72 0x6c 0x64\n",
            "0x42 0x69 0x67 0x20 0x42 0x6f 0x69\n",
            "0x4d 0x61 0x72 0x74 0x79 0x20 0x50 0x6f 0x70 0x70 0x69 0x6e 0x73 0x6f 0x6e\n"
          ]
        }
      ]
    },
    {
      "cell_type": "markdown",
      "source": [
        "3. Someone has attempted to censor my strings by replacing every vowel\n",
        "with a *, l*k* th*s. Luckily, I&#39;ve been able to find the vowels that were\n",
        "removed.\n",
        "Given a censored string and a string of the censored vowels, return the\n",
        "original uncensored string.\n",
        "Example\n",
        "uncensor(\"Wh*r* d*d my v*w*ls g*?\", \"eeioeo\") ➞ \"Where did my vowels go?\"\n",
        "uncensor(\"abcd\", \"\") ➞ \"abcd\"\n",
        "uncensor(\"*PP*RC*S*\", \"UEAE\") ➞ \"UPPERCASE\""
      ],
      "metadata": {
        "id": "ciUHjk8VE_xp"
      }
    },
    {
      "cell_type": "code",
      "source": [
        "def uncensor(word,vowels):\n",
        "    indexs = []\n",
        "    for i in range(len(word)):\n",
        "        if word[i]=='*':\n",
        "            indexs.append(i)\n",
        "    #print(indexs)\n",
        "\n",
        "    for i in range(len(vowels)):\n",
        "        x = indexs[i]\n",
        "        word = word[:x] + vowels[i]+word[x+1:]\n",
        "\n",
        "    return word\n",
        "\n",
        "\n",
        "\n",
        "print(uncensor(\"Wh*r* d*d my v*w*ls g*?\", \"eeioeo\"))\n",
        "print(uncensor(\"abcd\", \"\"))\n",
        "print(uncensor(\"*PP*RC*S*\", \"UEAE\"))"
      ],
      "metadata": {
        "colab": {
          "base_uri": "https://localhost:8080/"
        },
        "id": "k3X7FJBrEOtM",
        "outputId": "83b01bac-c03d-462e-fbc9-95fdd1b3b563"
      },
      "execution_count": 31,
      "outputs": [
        {
          "output_type": "stream",
          "name": "stdout",
          "text": [
            "Where did my vowels go?\n",
            "abcd\n",
            "UPPERCASE\n"
          ]
        }
      ]
    },
    {
      "cell_type": "markdown",
      "source": [
        "4. Write a function that takes an IP address and returns the domain name\n",
        "using PTR DNS records.\n",
        "Example\n",
        "get_domain(&quot;8.8.8.8&quot;) ➞ &quot;dns.google&quot;\n",
        "get_domain(&quot;8.8.4.4&quot;) ➞ &quot;dns.google&quot;"
      ],
      "metadata": {
        "id": "iqNS9LPWIPNX"
      }
    },
    {
      "cell_type": "code",
      "source": [
        "import socket\n",
        "\n",
        "def get_domain(ip_address):\n",
        "  result=socket.gethostbyaddr(ip_address)\n",
        "  return list(result)[0]\n",
        "\n",
        "\n",
        "print(get_domain(\"8.8.8.8\"))\n",
        "print(get_domain(\"8.8.4.4\"))\n"
      ],
      "metadata": {
        "colab": {
          "base_uri": "https://localhost:8080/"
        },
        "id": "z6J1vQlFFccj",
        "outputId": "74870cf4-b18f-4e1b-8ce4-8d9637824ae4"
      },
      "execution_count": 33,
      "outputs": [
        {
          "output_type": "stream",
          "name": "stdout",
          "text": [
            "dns.google\n",
            "dns.google\n"
          ]
        }
      ]
    },
    {
      "cell_type": "markdown",
      "source": [
        "5. Create a function that takes an integer n and returns the factorial of\n",
        "factorials. See below examples for a better understanding:\n",
        "Examples\n",
        "fact_of_fact(4) ➞ 288\n",
        "# 4! * 3! * 2! * 1! = 288\n",
        "fact_of_fact(5) ➞ 34560\n",
        "fact_of_fact(6) ➞ 24883200"
      ],
      "metadata": {
        "id": "DJjuXxlmIyQk"
      }
    },
    {
      "cell_type": "code",
      "source": [
        "def factorial(n):\n",
        "    if n==0:\n",
        "        return 1\n",
        "    return n* factorial(n-1)\n",
        "\n",
        "def fact_of_fact(n):\n",
        "    ans = 1\n",
        "    for i in range(n+1):\n",
        "        ans*=factorial(i)\n",
        "\n",
        "    return ans\n",
        "\n",
        "print(fact_of_fact(4))\n",
        "print(fact_of_fact(5))\n",
        "print(fact_of_fact(6))"
      ],
      "metadata": {
        "colab": {
          "base_uri": "https://localhost:8080/"
        },
        "id": "H1JyFZbSIoNs",
        "outputId": "df04f9ea-b99a-410b-cba1-14ed70393767"
      },
      "execution_count": 35,
      "outputs": [
        {
          "output_type": "stream",
          "name": "stdout",
          "text": [
            "288\n",
            "34560\n",
            "24883200\n"
          ]
        }
      ]
    },
    {
      "cell_type": "code",
      "source": [
        ""
      ],
      "metadata": {
        "id": "unaEPUMfKBhV"
      },
      "execution_count": null,
      "outputs": []
    }
  ]
}