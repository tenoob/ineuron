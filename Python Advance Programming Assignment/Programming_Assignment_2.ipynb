{
  "nbformat": 4,
  "nbformat_minor": 0,
  "metadata": {
    "colab": {
      "name": "Programming Assignment_2.ipynb",
      "provenance": [],
      "authorship_tag": "ABX9TyOaE4RMEHZLe05djPEsJoDe",
      "include_colab_link": true
    },
    "kernelspec": {
      "name": "python3",
      "display_name": "Python 3"
    },
    "language_info": {
      "name": "python"
    }
  },
  "cells": [
    {
      "cell_type": "markdown",
      "metadata": {
        "id": "view-in-github",
        "colab_type": "text"
      },
      "source": [
        "<a href=\"https://colab.research.google.com/github/tenoob/ineuron/blob/main/Python%20Advance%20Programming%20Assignment/Programming_Assignment_2.ipynb\" target=\"_parent\"><img src=\"https://colab.research.google.com/assets/colab-badge.svg\" alt=\"Open In Colab\"/></a>"
      ]
    },
    {
      "cell_type": "markdown",
      "source": [
        "1. Write a function that takes a positive integer num and calculates how many\n",
        "dots exist in a pentagonal shape around the center dot on the Nth iteration.\n",
        "In the image below you can see the first iteration is only a single dot. On the\n",
        "second, there are 6 dots. On the third, there are 16 dots, and on the fourth\n",
        "there are 31 dots.\n",
        "\n",
        "Return the number of dots that exist in the whole pentagon on the Nth\n",
        "iteration.\n",
        "Examples\n",
        "pentagonal(1) ➞ 1\n",
        "pentagonal(2) ➞ 6\n",
        "pentagonal(3) ➞ 16\n",
        "pentagonal(8) ➞ 141"
      ],
      "metadata": {
        "id": "yyVwhJHUUR2n"
      }
    },
    {
      "cell_type": "code",
      "execution_count": 1,
      "metadata": {
        "colab": {
          "base_uri": "https://localhost:8080/"
        },
        "id": "s3nLN3e-UGqP",
        "outputId": "48ec6545-bb09-4ee8-e75b-29e01aaee7ad"
      },
      "outputs": [
        {
          "output_type": "stream",
          "name": "stdout",
          "text": [
            "1\n",
            "6\n",
            "16\n",
            "141\n"
          ]
        }
      ],
      "source": [
        "def pentagonal(n):\n",
        "    return (5*n*n-5*n+2)//2\n",
        "\n",
        "print(pentagonal(1))\n",
        "print(pentagonal(2))\n",
        "print(pentagonal(3))\n",
        "print(pentagonal(8))"
      ]
    },
    {
      "cell_type": "markdown",
      "source": [
        "2. Make a function that encrypts a given input with these steps:\n",
        "Input: &quot;apple&quot;\n",
        "Step 1: Reverse the input: &quot;elppa&quot;\n",
        "Step 2: Replace all vowels using the following chart:\n",
        "a =&gt; 0\n",
        "e =&gt; 1\n",
        "i =&gt; 2\n",
        "o =&gt; 2\n",
        "u =&gt; 3\n",
        "# &quot;1lpp0&quot;\n",
        "\n",
        "Step 3: Add &quot;aca&quot; to the end of the word: &quot;1lpp0aca&quot;\n",
        "Output: &quot;1lpp0aca&quot;\n",
        "Examples\n",
        "encrypt(&quot;banana&quot;) ➞ &quot;0n0n0baca&quot;\n",
        "encrypt(&quot;karaca&quot;) ➞ &quot;0c0r0kaca&quot;\n",
        "encrypt(&quot;burak&quot;) ➞ &quot;k0r3baca&quot;\n",
        "encrypt(&quot;alpaca&quot;) ➞ &quot;0c0pl0aca&quot;"
      ],
      "metadata": {
        "id": "_K3YOYDPUwHm"
      }
    },
    {
      "cell_type": "code",
      "source": [
        "def encrypt(n):\n",
        "    dic = {'a':0,'e':1,'i':2,'o':2,'u':3}\n",
        "\n",
        "    #step 1\n",
        "    n = n[::-1]\n",
        "\n",
        "    #step 2\n",
        "    for i in range(len(n)):\n",
        "        if n[i] in dic:\n",
        "            n = n[:i] + str(dic[n[i]]) + n[i+1:]\n",
        "\n",
        "    #step 3\n",
        "    n = n+'aca'\n",
        "\n",
        "    return n\n",
        "\n",
        "print(encrypt('banana'))\n",
        "print(encrypt('karaca'))\n",
        "print(encrypt('burak'))\n",
        "print(encrypt('alpaca'))\n"
      ],
      "metadata": {
        "colab": {
          "base_uri": "https://localhost:8080/"
        },
        "id": "-EMg7UO_UqGv",
        "outputId": "e1035054-dda5-4e45-f607-f3ad6c882784"
      },
      "execution_count": 15,
      "outputs": [
        {
          "output_type": "stream",
          "name": "stdout",
          "text": [
            "0n0n0baca\n",
            "0c0r0kaca\n",
            "k0r3baca\n",
            "0c0pl0aca\n"
          ]
        }
      ]
    },
    {
      "cell_type": "markdown",
      "source": [
        "3. Given the month and year as numbers, return whether that month contains\n",
        "a Friday 13th.(i.e You can check Python&#39;s datetime module)\n",
        "Examples\n",
        "has_friday_13(3, 2020) ➞ True\n",
        "has_friday_13(10, 2017) ➞ True\n",
        "has_friday_13(1, 1985) ➞ False"
      ],
      "metadata": {
        "id": "7sNtSyycYBsC"
      }
    },
    {
      "cell_type": "code",
      "source": [
        "import calendar\n",
        "\n",
        "def has_friday_13(m,y):\n",
        "    try:\n",
        "        a = calendar.month(y,m)\n",
        "        s = a.index(\"Mo\")\n",
        "        a = (a[s:])\n",
        "        sun = 21\n",
        "        f =0\n",
        "        for mon in range(0,sun,3):\n",
        "            temp = []\n",
        "            for j in range(mon,len(a),sun):\n",
        "                mon=j\n",
        "                val = (a[mon:mon+2])\n",
        "                temp.append(val)\n",
        "                if \"Fr\" in temp and '13' in temp:\n",
        "                    return True\n",
        "        if f==0:\n",
        "            return False\n",
        "    except Exception as e:\n",
        "        print(\"error :\",e)\n",
        "\n",
        "print(has_friday_13(3, 2020))\n",
        "print(has_friday_13(10, 2017))\n",
        "print(has_friday_13(1, 1985))"
      ],
      "metadata": {
        "colab": {
          "base_uri": "https://localhost:8080/"
        },
        "outputId": "ccd2361c-59c3-4cb4-ec1e-76beb3f9ca8a",
        "id": "-oD3yS-KXmw0"
      },
      "execution_count": 22,
      "outputs": [
        {
          "output_type": "stream",
          "name": "stdout",
          "text": [
            "True\n",
            "True\n",
            "False\n"
          ]
        }
      ]
    },
    {
      "cell_type": "markdown",
      "source": [
        "4. Write a regular expression that will help us count how many bad cookies\n",
        "are produced every day. You must use RegEx negative lookbehind.\n",
        "Example\n",
        "lst = [&quot;bad cookie&quot;, &quot;good cookie&quot;, &quot;bad cookie&quot;, &quot;good cookie&quot;, &quot;good cookie&quot;]\n",
        "pattern = &quot;yourregularexpressionhere&quot;\n",
        "len(re.findall(pattern, &quot;, &quot;.join(lst))) ➞ 2"
      ],
      "metadata": {
        "id": "KIbHlwaNcssm"
      }
    },
    {
      "cell_type": "code",
      "source": [
        "import re\n",
        "patt = \"(?<!bad).*\"\n",
        "lst = [\"bad cookie\", \"good cookie\", \"bad cookie\", \"good cookie\", \"good cookie\"]\n",
        "\n",
        "len(re.findall(patt, \", \".join(lst)))"
      ],
      "metadata": {
        "colab": {
          "base_uri": "https://localhost:8080/"
        },
        "id": "-dA_li7tVhjZ",
        "outputId": "125e7425-4f08-4208-f4fc-474638a20f35"
      },
      "execution_count": 26,
      "outputs": [
        {
          "output_type": "execute_result",
          "data": {
            "text/plain": [
              "2"
            ]
          },
          "metadata": {},
          "execution_count": 26
        }
      ]
    },
    {
      "cell_type": "markdown",
      "source": [
        "5. Given a list of words in the singular form, return a set of those words in the\n",
        "plural form if they appear more than once in the list.\n",
        "Examples\n",
        "pluralize([&quot;cow&quot;, &quot;pig&quot;, &quot;cow&quot;, &quot;cow&quot;]) ➞ { &quot;cows&quot;, &quot;pig&quot; }\n",
        "pluralize([&quot;table&quot;, &quot;table&quot;, &quot;table&quot;]) ➞ { &quot;tables&quot; }\n",
        "\n",
        "pluralize([&quot;chair&quot;, &quot;pencil&quot;, &quot;arm&quot;]) ➞ { &quot;chair&quot;, &quot;pencil&quot;, &quot;arm&quot; }"
      ],
      "metadata": {
        "id": "Ax_-JYEvgxrG"
      }
    },
    {
      "cell_type": "code",
      "source": [
        "def pluralize(lst):\n",
        "    set1 = set(lst)\n",
        "    set2 = set()\n",
        "    for i in set1:\n",
        "        if lst.count(i)>1:\n",
        "            set2.add(i+'s')\n",
        "        else:\n",
        "            set2.add(i)\n",
        "    return set2\n",
        "\n",
        "print(pluralize([\"cow\", \"pig\", \"cow\", \"cow\"]))\n",
        "print(pluralize([\"table\", \"table\", \"table\"]))\n",
        "print(pluralize([\"chair\", \"pencil\", \"arm\"]))"
      ],
      "metadata": {
        "colab": {
          "base_uri": "https://localhost:8080/"
        },
        "id": "XpBhxbQbfy1N",
        "outputId": "a05303f0-2358-4000-b60d-5ce33ac875d8"
      },
      "execution_count": 29,
      "outputs": [
        {
          "output_type": "stream",
          "name": "stdout",
          "text": [
            "{'cows', 'pig'}\n",
            "{'tables'}\n",
            "{'chair', 'pencil', 'arm'}\n"
          ]
        }
      ]
    },
    {
      "cell_type": "code",
      "source": [
        ""
      ],
      "metadata": {
        "id": "xYaCmXheiOYf"
      },
      "execution_count": null,
      "outputs": []
    }
  ]
}