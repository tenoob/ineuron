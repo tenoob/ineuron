{
  "nbformat": 4,
  "nbformat_minor": 0,
  "metadata": {
    "colab": {
      "name": "Untitled38.ipynb",
      "provenance": [],
      "authorship_tag": "ABX9TyNTJuOLYS8eEJzYgkHJbcgp",
      "include_colab_link": true
    },
    "kernelspec": {
      "name": "python3",
      "display_name": "Python 3"
    },
    "language_info": {
      "name": "python"
    }
  },
  "cells": [
    {
      "cell_type": "markdown",
      "metadata": {
        "id": "view-in-github",
        "colab_type": "text"
      },
      "source": [
        "<a href=\"https://colab.research.google.com/github/tenoob/ineuron/blob/main/Programming%20Assignment_13.ipynb\" target=\"_parent\"><img src=\"https://colab.research.google.com/assets/colab-badge.svg\" alt=\"Open In Colab\"/></a>"
      ]
    },
    {
      "cell_type": "markdown",
      "source": [
        "Question 1:\n",
        "Write a program that calculates and prints the value according to the given formula:\n",
        "Q = Square root of [(2 * C * D)/H]\n",
        "Following are the fixed values of C and H:\n",
        "C is 50. H is 30.\n",
        "D is the variable whose values should be input to your program in a comma-separated\n",
        "sequence.\n",
        "Example\n",
        "Let us assume the following comma separated input sequence is given to the program:\n",
        "100,150,180\n",
        "The output of the program should be:\n",
        "18,22,24"
      ],
      "metadata": {
        "id": "lt5H3uNkzBpb"
      }
    },
    {
      "cell_type": "code",
      "execution_count": 7,
      "metadata": {
        "colab": {
          "base_uri": "https://localhost:8080/"
        },
        "id": "kA-UZtKcy735",
        "outputId": "0ceeaf74-0f6a-46a6-8b4c-795585fd20bd"
      },
      "outputs": [
        {
          "output_type": "stream",
          "name": "stdout",
          "text": [
            "Enter D: 100,150\n",
            "[18, 22]\n"
          ]
        }
      ],
      "source": [
        "try:\n",
        "    c=50\n",
        "    h=30\n",
        "    d = list(map(int,input(\"Enter D: \").split(\",\")))\n",
        "    q = []\n",
        "    for i in d:\n",
        "        x = ((2*c*int(i))/h)**0.5\n",
        "        q.append(int(x))\n",
        "    print(\",\".join(q))\n",
        "except Exception as e:\n",
        "    print(\"Error : \",e)"
      ]
    },
    {
      "cell_type": "markdown",
      "source": [
        "Question 2:\n",
        "Write a program which takes 2 digits, X,Y as input and generates a 2-dimensional array. The\n",
        "element value in the i-th row and j-th column of the array should be i*j.\n",
        "Note: i=0,1.., X-1; j=0,1,¡Y-1.\n",
        "Example\n",
        "Suppose the following inputs are given to the program:\n",
        "3,5\n",
        "Then, the output of the program should be:\n",
        "[[0, 0, 0, 0, 0], [0, 1, 2, 3, 4], [0, 2, 4, 6, 8]]"
      ],
      "metadata": {
        "id": "BKN3xlIX5nnz"
      }
    },
    {
      "cell_type": "code",
      "source": [
        "try:\n",
        "    x = int(input(\"Enter x :\"))\n",
        "    y = int(input(\"Enter y :\"))\n",
        "\n",
        "    ans = []\n",
        "\n",
        "    for i in range(x):\n",
        "        ans.append([i*j for j in range(0,y)])\n",
        "    \n",
        "    print(ans)\n",
        "except Exception as e:\n",
        "    print(\"Error : \",e)"
      ],
      "metadata": {
        "colab": {
          "base_uri": "https://localhost:8080/"
        },
        "id": "zwPw9Q_N1Ekd",
        "outputId": "b6a7aeb8-9fca-4ef1-e600-6794f6c66e98"
      },
      "execution_count": 11,
      "outputs": [
        {
          "output_type": "stream",
          "name": "stdout",
          "text": [
            "Enter x :3\n",
            "Enter y :5\n",
            "[[0, 0, 0, 0, 0], [0, 1, 2, 3, 4], [0, 2, 4, 6, 8]]\n"
          ]
        }
      ]
    },
    {
      "cell_type": "markdown",
      "source": [
        "Question 3:\n",
        "Write a program that accepts a comma separated sequence of words as input and prints the\n",
        "words in a comma-separated sequence after sorting them alphabetically.\n",
        "Suppose the following input is supplied to the program:\n",
        "without,hello,bag,world\n",
        "Then, the output should be:\n",
        "bag,hello,without,world"
      ],
      "metadata": {
        "id": "-5TmgVLs969u"
      }
    },
    {
      "cell_type": "code",
      "source": [
        "try:\n",
        "    x = input(\"Enter string :\").split(\",\")\n",
        "    x.sort()\n",
        "    print(\",\".join(x))\n",
        "except Exception as e:\n",
        "    print(\"Error :\",e)\n"
      ],
      "metadata": {
        "colab": {
          "base_uri": "https://localhost:8080/"
        },
        "id": "GHTWDpzB2-St",
        "outputId": "c0acd2de-5cf2-47cd-c66b-6bd05e84d152"
      },
      "execution_count": 12,
      "outputs": [
        {
          "output_type": "stream",
          "name": "stdout",
          "text": [
            "Enter string :without,hello,bag,world\n",
            "bag,hello,without,world\n"
          ]
        }
      ]
    },
    {
      "cell_type": "markdown",
      "source": [
        "Question 4:\n",
        "Write a program that accepts a sequence of whitespace separated words as input and prints\n",
        "the words after removing all duplicate words and sorting them alphanumerically.\n",
        "Suppose the following input is supplied to the program:\n",
        "hello world and practice makes perfect and hello world again\n",
        "Then, the output should be:\n",
        "again and hello makes perfect practice world"
      ],
      "metadata": {
        "id": "KbqmxW5D_ld3"
      }
    },
    {
      "cell_type": "code",
      "source": [
        "try :\n",
        "    x = input(\"Enter a string :\").split(\" \")\n",
        "    new_lst = []\n",
        "\n",
        "    for i in x:\n",
        "        if i not in new_lst:\n",
        "            new_lst.append(i)\n",
        "    new_lst.sort()\n",
        "    print(\" \".join(new_lst))\n",
        "\n",
        "except Exception as e:\n",
        "    print(\"Error :\",e)\n"
      ],
      "metadata": {
        "colab": {
          "base_uri": "https://localhost:8080/"
        },
        "id": "AdCfRYx3_cJ0",
        "outputId": "1186189e-28d2-4685-a1c0-6d36648c7fe2"
      },
      "execution_count": 14,
      "outputs": [
        {
          "output_type": "stream",
          "name": "stdout",
          "text": [
            "Enter a string :hello world and practice makes perfect and hello world again\n",
            "again and hello makes perfect practice world\n"
          ]
        }
      ]
    },
    {
      "cell_type": "markdown",
      "source": [
        "Question 5:\n",
        "Write a program that accepts a sentence and calculate the number of letters and digits.\n",
        "Suppose the following input is supplied to the program:\n",
        "hello world! 123\n",
        "Then, the output should be:\n",
        "LETTERS 10\n",
        "\n",
        "DIGITS 3"
      ],
      "metadata": {
        "id": "OXBnr94WGP6Y"
      }
    },
    {
      "cell_type": "code",
      "source": [
        "try:\n",
        "    x = input(\"Enter a string :\")\n",
        "    letter = 0\n",
        "    digit = 0\n",
        "    for i in x.lower():\n",
        "        if i>='a' and i<='z':\n",
        "            letter+=1\n",
        "        if i>='0' and i<='9':\n",
        "            digit+=1\n",
        "    print(\"LETTERS \",letter)\n",
        "    print(\"DIGIT \",digit)\n",
        "except Exception as e:\n",
        "    print(\"Error :\",e)"
      ],
      "metadata": {
        "colab": {
          "base_uri": "https://localhost:8080/"
        },
        "id": "n2MwC-rCGAqb",
        "outputId": "fed55e82-8326-48a1-d4db-3e48a4cc5ef2"
      },
      "execution_count": 20,
      "outputs": [
        {
          "output_type": "stream",
          "name": "stdout",
          "text": [
            "Enter a string :hello world! 123\n",
            "LETTERS  10\n",
            "DIGIT  3\n"
          ]
        }
      ]
    },
    {
      "cell_type": "markdown",
      "source": [
        "Question 6:\n",
        "A website requires the users to input username and password to register. Write a program to\n",
        "check the validity of password input by users.\n",
        "Following are the criteria for checking the password:\n",
        "1. At least 1 letter between [a-z]\n",
        "2. At least 1 number between [0-9]\n",
        "1. At least 1 letter between [A-Z]\n",
        "3. At least 1 character from [$#@]\n",
        "4. Minimum length of transaction password: 6\n",
        "5. Maximum length of transaction password: 12\n",
        "Your program should accept a sequence of comma separated passwords and will check them\n",
        "according to the above criteria. Passwords that match the criteria are to be printed, each\n",
        "separated by a comma."
      ],
      "metadata": {
        "id": "30xtlhcoIrR8"
      }
    },
    {
      "cell_type": "code",
      "source": [
        "import re\n",
        "try:\n",
        "    x = input(\"enter the passwords\").split(\",\")\n",
        "    lst = []\n",
        "    for i in x:\n",
        "        if len(i)<6 or len(i)>12:\n",
        "            continue\n",
        "        if not re.search('[a-z]',i):\n",
        "            continue\n",
        "        if not re.search('[A-Z]',i):\n",
        "            continue\n",
        "        if not re.search('[0-9]',i):\n",
        "            continue\n",
        "        if not re.search('[$#@]',i):\n",
        "            continue\n",
        "        else:\n",
        "            lst.append(i)\n",
        "\n",
        "    print(','.join(lst))\n",
        "except Exception as e:\n",
        "    print(\"Error :\",e)\n",
        "\n",
        "\n"
      ],
      "metadata": {
        "colab": {
          "base_uri": "https://localhost:8080/"
        },
        "id": "jBtkC1bfHh4L",
        "outputId": "b5507967-1c0e-4dad-abc5-55a5ff1dc819"
      },
      "execution_count": 21,
      "outputs": [
        {
          "output_type": "stream",
          "name": "stdout",
          "text": [
            "enter the passwordsABd1234@1,a F1#,2w3E*,2We3345\n",
            "ABd1234@1\n"
          ]
        }
      ]
    },
    {
      "cell_type": "code",
      "source": [
        ""
      ],
      "metadata": {
        "id": "rU-VFlsWIDG4"
      },
      "execution_count": null,
      "outputs": []
    }
  ]
}