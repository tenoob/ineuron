{
  "nbformat": 4,
  "nbformat_minor": 0,
  "metadata": {
    "colab": {
      "name": "Programming Assignment_17.ipynb",
      "provenance": [],
      "authorship_tag": "ABX9TyOV3iUJaRILkCxtvDV8xTOr",
      "include_colab_link": true
    },
    "kernelspec": {
      "name": "python3",
      "display_name": "Python 3"
    },
    "language_info": {
      "name": "python"
    }
  },
  "cells": [
    {
      "cell_type": "markdown",
      "metadata": {
        "id": "view-in-github",
        "colab_type": "text"
      },
      "source": [
        "<a href=\"https://colab.research.google.com/github/tenoob/ineuron/blob/main/Programming_Assignment_17.ipynb\" target=\"_parent\"><img src=\"https://colab.research.google.com/assets/colab-badge.svg\" alt=\"Open In Colab\"/></a>"
      ]
    },
    {
      "cell_type": "markdown",
      "source": [
        "Question1. Create a function that takes three arguments a, b, c and returns the sum of the\n",
        "numbers that are evenly divided by c from the range a, b inclusive.\n",
        "Examples\n",
        "evenly_divisible(1, 10, 20) ➞ 0\n",
        "# No number between 1 and 10 can be evenly divided by 20.\n",
        "evenly_divisible(1, 10, 2) ➞ 30\n",
        "# 2 + 4 + 6 + 8 + 10 = 30\n",
        "evenly_divisible(1, 10, 3) ➞ 18\n",
        "# 3 + 6 + 9 = 18"
      ],
      "metadata": {
        "id": "29Rbe7G8xY4J"
      }
    },
    {
      "cell_type": "code",
      "execution_count": 2,
      "metadata": {
        "colab": {
          "base_uri": "https://localhost:8080/"
        },
        "id": "4GsZofxxxVPF",
        "outputId": "dd3316ae-2ab7-4fbb-f635-8b1037d1186f"
      },
      "outputs": [
        {
          "output_type": "stream",
          "name": "stdout",
          "text": [
            "1 10 2\n",
            "30\n"
          ]
        }
      ],
      "source": [
        "def evenly_divisible(a,b,c):\n",
        "    sum=0\n",
        "    for i in range(a,b+1):\n",
        "        if i%c==0:\n",
        "            sum+=i\n",
        "\n",
        "    return sum\n",
        "\n",
        "try:\n",
        "    num = list(map(int,input().split(' ')))\n",
        "    print(evenly_divisible(num[0],num[1],num[2]))\n",
        "except Exception as e:\n",
        "    print(\"Error : \",e)\n"
      ]
    },
    {
      "cell_type": "markdown",
      "source": [
        "Question2. Create a function that returns True if a given inequality expression is correct and\n",
        "False otherwise.\n",
        "Examples\n",
        "correct_signs(&quot;3 &lt; 7 &lt; 11&quot;) ➞ True\n",
        "correct_signs(&quot;13 &gt; 44 &gt; 33 &gt; 1&quot;) ➞ False\n",
        "correct_signs(&quot;1 &lt; 2 &lt; 6 &lt; 9 &gt; 3&quot;) ➞ True"
      ],
      "metadata": {
        "id": "1CS3j3MgyhcE"
      }
    },
    {
      "cell_type": "code",
      "source": [
        "import re\n",
        "\n",
        "def correct_signs(expresson):\n",
        "    exp = ''\n",
        "    num = re.split('<|>', expresson)\n",
        "    cond = []\n",
        "\n",
        "    for i in expresson:\n",
        "        if i == '>' or i == '<':\n",
        "            cond.append(i)\n",
        "            \n",
        "    index=0\n",
        "    for i in range(len(cond)):\n",
        "        if (cond[i]=='<' and num[index] < num[index+1]) or (cond[i]=='>' and num[index] > num[index+1]):\n",
        "            index+=1\n",
        "        else:\n",
        "            return False\n",
        "\n",
        "    return True\n",
        "    \n",
        "\n",
        "\n",
        "print(correct_signs('13>44>33>1'))\n"
      ],
      "metadata": {
        "colab": {
          "base_uri": "https://localhost:8080/"
        },
        "id": "kPf-mnFP3FlZ",
        "outputId": "9fbb40fb-fffa-4ce2-ddb6-9c21004a32aa"
      },
      "execution_count": 13,
      "outputs": [
        {
          "output_type": "stream",
          "name": "stdout",
          "text": [
            "False\n"
          ]
        }
      ]
    },
    {
      "cell_type": "markdown",
      "source": [
        "Question3. Create a function that replaces all the vowels in a string with a specified character.\n",
        "Examples\n",
        "replace_vowels(&quot;the aardvark&quot;, &quot;#&quot;) ➞ &quot;th# ##rdv#rk&quot;\n",
        "replace_vowels(&quot;minnie mouse&quot;, &quot;?&quot;) ➞ &quot;m?nn?? m??s?&quot;\n",
        "replace_vowels(&quot;shakespeare&quot;, &quot;*&quot;) ➞ &quot;sh*k*sp**r*&quot;"
      ],
      "metadata": {
        "id": "AbcyJH4t5Xgp"
      }
    },
    {
      "cell_type": "code",
      "source": [
        "def replace_vowels(expresson,ele):\n",
        "    vowel = ['a','e','i','o','u']\n",
        "    expresson = expresson.lower()\n",
        "    for i in vowel:\n",
        "        expresson = expresson.replace(i,ele)\n",
        "    return expresson\n",
        "\n",
        "print(replace_vowels(\"the aardvark\", \"#\"))"
      ],
      "metadata": {
        "colab": {
          "base_uri": "https://localhost:8080/"
        },
        "id": "999knOH636tp",
        "outputId": "36a95f0b-98bf-474e-d564-6d720713f309"
      },
      "execution_count": 17,
      "outputs": [
        {
          "output_type": "stream",
          "name": "stdout",
          "text": [
            "th# ##rdv#rk\n"
          ]
        }
      ]
    },
    {
      "cell_type": "markdown",
      "source": [
        "Question4. Write a function that calculates the factorial of a number recursively.\n",
        "Examples\n",
        "factorial(5) ➞ 120\n",
        "factorial(3) ➞ 6\n",
        "factorial(1) ➞ 1\n",
        "factorial(0) ➞ 1"
      ],
      "metadata": {
        "id": "GQeWhYGs6quR"
      }
    },
    {
      "cell_type": "code",
      "source": [
        "def factorial(n):\n",
        "    if n==1 :\n",
        "        return 1\n",
        "    else:\n",
        "        return n*factorial(n-1)\n",
        "\n",
        "print(factorial(5))"
      ],
      "metadata": {
        "colab": {
          "base_uri": "https://localhost:8080/"
        },
        "id": "NBrAvBqG6ERR",
        "outputId": "c54607c7-fe5a-4296-cdcd-c37dfb30e7a3"
      },
      "execution_count": 18,
      "outputs": [
        {
          "output_type": "stream",
          "name": "stdout",
          "text": [
            "120\n"
          ]
        }
      ]
    },
    {
      "cell_type": "markdown",
      "source": [
        "Question 5\n",
        "Hamming distance is the number of characters that differ between two strings.\n",
        "To illustrate:\n",
        "String1: &quot;abcbba&quot;\n",
        "String2: &quot;abcbda&quot;\n",
        "Hamming Distance: 1 - &quot;b&quot; vs. &quot;d&quot; is the only difference.\n",
        "Create a function that computes the hamming distance between two strings.\n",
        "Examples\n",
        "hamming_distance(&quot;abcde&quot;, &quot;bcdef&quot;) ➞ 5\n",
        "hamming_distance(&quot;abcde&quot;, &quot;abcde&quot;) ➞ 0\n",
        "hamming_distance(&quot;strong&quot;, &quot;strung&quot;) ➞ 1"
      ],
      "metadata": {
        "id": "vLDxOWaR8J1k"
      }
    },
    {
      "cell_type": "code",
      "source": [
        "def hamming_distance(str1,str2):\n",
        "    count = 0\n",
        "    if len(str1)<len(str2):\n",
        "        str1 , str2 = str2 , str1\n",
        "    \n",
        "    for i in range(len(str1)):\n",
        "        if str1[i]!=str2[i]:\n",
        "            count+=1\n",
        "\n",
        "    return count\n",
        "\n",
        "print(hamming_distance( \"abcde\",\"bcdef\"))"
      ],
      "metadata": {
        "colab": {
          "base_uri": "https://localhost:8080/"
        },
        "id": "R2i__F_U7Auf",
        "outputId": "bd9439b8-c7d6-49a0-aacc-0d8731df43d6"
      },
      "execution_count": 21,
      "outputs": [
        {
          "output_type": "stream",
          "name": "stdout",
          "text": [
            "5\n"
          ]
        }
      ]
    },
    {
      "cell_type": "code",
      "source": [
        ""
      ],
      "metadata": {
        "id": "Ti5PCUKU8Pcu"
      },
      "execution_count": null,
      "outputs": []
    }
  ]
}