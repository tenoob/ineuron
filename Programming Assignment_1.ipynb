{
  "nbformat": 4,
  "nbformat_minor": 0,
  "metadata": {
    "colab": {
      "name": "Untitled12.ipynb",
      "provenance": [],
      "authorship_tag": "ABX9TyOxO9itj733tOoMvijwPuNW",
      "include_colab_link": true
    },
    "kernelspec": {
      "name": "python3",
      "display_name": "Python 3"
    },
    "language_info": {
      "name": "python"
    }
  },
  "cells": [
    {
      "cell_type": "markdown",
      "metadata": {
        "id": "view-in-github",
        "colab_type": "text"
      },
      "source": [
        "<a href=\"https://colab.research.google.com/github/tenoob/ineuron/blob/main/Programming%20Assignment_1.ipynb\" target=\"_parent\"><img src=\"https://colab.research.google.com/assets/colab-badge.svg\" alt=\"Open In Colab\"/></a>"
      ]
    },
    {
      "cell_type": "markdown",
      "source": [
        "Write a Python program to print &quot;Hello Python&quot;?"
      ],
      "metadata": {
        "id": "L2PGt5MsqgX-"
      }
    },
    {
      "cell_type": "code",
      "source": [
        "print(\"Hello Python\")"
      ],
      "metadata": {
        "colab": {
          "base_uri": "https://localhost:8080/"
        },
        "id": "-sNkHMjxqgFT",
        "outputId": "36635133-7405-4b8a-d8e3-2d543d0052ad"
      },
      "execution_count": 1,
      "outputs": [
        {
          "output_type": "stream",
          "name": "stdout",
          "text": [
            "Hello Python\n"
          ]
        }
      ]
    },
    {
      "cell_type": "markdown",
      "source": [
        "Write a Python program to do arithmetical operations addition and division.?"
      ],
      "metadata": {
        "id": "gYLLHE2iqpyO"
      }
    },
    {
      "cell_type": "code",
      "execution_count": 2,
      "metadata": {
        "colab": {
          "base_uri": "https://localhost:8080/"
        },
        "id": "4olY2GO7qXyD",
        "outputId": "93a49ec5-476e-4baf-d9c9-b41b20dbc8da"
      },
      "outputs": [
        {
          "output_type": "stream",
          "name": "stdout",
          "text": [
            "5 + 3 = 8\n",
            "5 / 3 = 1.6666666666666667\n"
          ]
        }
      ],
      "source": [
        "a = 5\n",
        "b = 3\n",
        "print(a,'+',b,'=',a+b)\n",
        "print(a,'/',b,'=',a/b) "
      ]
    },
    {
      "cell_type": "markdown",
      "source": [
        "Write a Python program to find the area of a triangle?"
      ],
      "metadata": {
        "id": "VTfrU_QZrBbM"
      }
    },
    {
      "cell_type": "code",
      "source": [
        "base = 9\n",
        "height = 5\n",
        "area = (base*height)/2\n",
        "print(area)"
      ],
      "metadata": {
        "colab": {
          "base_uri": "https://localhost:8080/"
        },
        "id": "J_VxsZCvq9A1",
        "outputId": "0644c9ea-351c-43e1-e29d-a10f672fa9c7"
      },
      "execution_count": 3,
      "outputs": [
        {
          "output_type": "stream",
          "name": "stdout",
          "text": [
            "22.5\n"
          ]
        }
      ]
    },
    {
      "cell_type": "markdown",
      "source": [
        "Write a Python program to swap two variables?"
      ],
      "metadata": {
        "id": "TVQXtkHvr76I"
      }
    },
    {
      "cell_type": "code",
      "source": [
        "a=5\n",
        "b=8\n",
        "\n",
        "a,b = b,a\n",
        "print(\"a = {} \\nb = {}\".format(a,b))"
      ],
      "metadata": {
        "colab": {
          "base_uri": "https://localhost:8080/"
        },
        "id": "AoYYrfp6rmVB",
        "outputId": "db751f98-8b94-4ef0-c34a-cb9e731f940f"
      },
      "execution_count": 7,
      "outputs": [
        {
          "output_type": "stream",
          "name": "stdout",
          "text": [
            "a = 8 \n",
            "b = 5\n"
          ]
        }
      ]
    },
    {
      "cell_type": "markdown",
      "source": [
        "Write a Python program to generate a random number?"
      ],
      "metadata": {
        "id": "9yN4It1Cscbm"
      }
    },
    {
      "cell_type": "code",
      "source": [
        "import random\n",
        "print(random.randint(0,10))"
      ],
      "metadata": {
        "colab": {
          "base_uri": "https://localhost:8080/"
        },
        "id": "Hdm5tyLUsKMN",
        "outputId": "36847b36-4aa6-44f4-c72b-ebacce9b734b"
      },
      "execution_count": 12,
      "outputs": [
        {
          "output_type": "stream",
          "name": "stdout",
          "text": [
            "6\n"
          ]
        }
      ]
    },
    {
      "cell_type": "code",
      "source": [
        ""
      ],
      "metadata": {
        "id": "tPtr86MXstja"
      },
      "execution_count": null,
      "outputs": []
    }
  ]
}