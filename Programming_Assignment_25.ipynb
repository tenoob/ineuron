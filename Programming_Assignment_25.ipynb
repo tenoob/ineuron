{
  "nbformat": 4,
  "nbformat_minor": 0,
  "metadata": {
    "colab": {
      "name": "Programming Assignment_25.ipynb",
      "provenance": [],
      "authorship_tag": "ABX9TyPbeL58l6/9mARwZiCDBd/E",
      "include_colab_link": true
    },
    "kernelspec": {
      "name": "python3",
      "display_name": "Python 3"
    },
    "language_info": {
      "name": "python"
    }
  },
  "cells": [
    {
      "cell_type": "markdown",
      "metadata": {
        "id": "view-in-github",
        "colab_type": "text"
      },
      "source": [
        "<a href=\"https://colab.research.google.com/github/tenoob/ineuron/blob/main/Programming_Assignment_25.ipynb\" target=\"_parent\"><img src=\"https://colab.research.google.com/assets/colab-badge.svg\" alt=\"Open In Colab\"/></a>"
      ]
    },
    {
      "cell_type": "markdown",
      "source": [
        "Question1\n",
        "Create a function that takes three integer arguments (a, b, c) and returns the amount of\n",
        "integers which are of equal value.\n",
        "Examples\n",
        "equal(3, 4, 3) ➞ 2\n",
        "equal(1, 1, 1) ➞ 3\n",
        "equal(3, 4, 1) ➞ 0\n",
        "Notes\n",
        "Your function must return 0, 2 or 3."
      ],
      "metadata": {
        "id": "kQLWiQACAo93"
      }
    },
    {
      "cell_type": "code",
      "execution_count": 1,
      "metadata": {
        "colab": {
          "base_uri": "https://localhost:8080/"
        },
        "id": "VRzVFQSoAU-6",
        "outputId": "946446e0-d42c-4f75-ef09-5d5da6206125"
      },
      "outputs": [
        {
          "output_type": "stream",
          "name": "stdout",
          "text": [
            "2\n",
            "3\n",
            "0\n"
          ]
        }
      ],
      "source": [
        "def equal(a,b,c):\n",
        "    if a==b==c:\n",
        "        return 3\n",
        "    elif a==b or b==c or a==c:\n",
        "        return 2\n",
        "    else:\n",
        "        return 0\n",
        "\n",
        "print(equal(3,4,3))\n",
        "print(equal(1,1,1))\n",
        "print(equal(3,4,1))"
      ]
    },
    {
      "cell_type": "markdown",
      "source": [
        "Question2\n",
        "Write a function that converts a dictionary into a list of keys-values tuples.\n",
        "Examples\n",
        "dict_to_list({\n",
        "&quot;D&quot;: 1,\n",
        "&quot;B&quot;: 2,\n",
        "&quot;C&quot;: 3\n",
        "}) ➞ [(&quot;B&quot;, 2), (&quot;C&quot;, 3), (&quot;D&quot;, 1)]\n",
        "dict_to_list({\n",
        "&quot;likes&quot;: 2,\n",
        "&quot;dislikes&quot;: 3,\n",
        "&quot;followers&quot;: 10\n",
        "}) ➞ [(&quot;dislikes&quot;, 3), (&quot;followers&quot;, 10), (&quot;likes&quot;, 2)]\n",
        "Notes\n",
        "Return the elements in the list in alphabetical order."
      ],
      "metadata": {
        "id": "9Ilq9RB5BrsW"
      }
    },
    {
      "cell_type": "code",
      "source": [
        "def dict_to_list(dic):\n",
        "    lst = [(k,v) for k,v in dic.items()]\n",
        "    sorted_lst = sorted(lst,key= lambda x:x[0])\n",
        "    return sorted_lst\n",
        "\n",
        "print(dict_to_list({ \"D\": 1, \"B\": 2, \"C\": 3 }))\n",
        "print(dict_to_list({ \"likes\": 2, \"dislikes\": 3, \"followers\": 10 }))\n"
      ],
      "metadata": {
        "colab": {
          "base_uri": "https://localhost:8080/"
        },
        "id": "52ROVPNDBgp9",
        "outputId": "71a47b7f-a736-4827-ca56-600d792d2594"
      },
      "execution_count": 9,
      "outputs": [
        {
          "output_type": "stream",
          "name": "stdout",
          "text": [
            "[('B', 2), ('C', 3), ('D', 1)]\n",
            "[('dislikes', 3), ('followers', 10), ('likes', 2)]\n"
          ]
        }
      ]
    },
    {
      "cell_type": "markdown",
      "source": [
        "Question3\n",
        "Write a function that creates a dictionary with each (key, value) pair being the (lower case,\n",
        "upper case) versions of a letter, respectively.\n",
        "Examples\n",
        "mapping([&quot;p&quot;, &quot;s&quot;]) ➞ { &quot;p&quot;: &quot;P&quot;, &quot;s&quot;: &quot;S&quot; }\n",
        "\n",
        "mapping([&quot;a&quot;, &quot;b&quot;, &quot;c&quot;]) ➞ { &quot;a&quot;: &quot;A&quot;, &quot;b&quot;: &quot;B&quot;, &quot;c&quot;: &quot;C&quot; }\n",
        "mapping([&quot;a&quot;, &quot;v&quot;, &quot;y&quot;, &quot;z&quot;]) ➞ { &quot;a&quot;: &quot;A&quot;, &quot;v&quot;: &quot;V&quot;, &quot;y&quot;: &quot;Y&quot;, &quot;z&quot;: &quot;Z&quot; }\n",
        "Notes\n",
        "All of the letters in the input list will always be lowercase."
      ],
      "metadata": {
        "id": "IcLEAmC4DjrJ"
      }
    },
    {
      "cell_type": "code",
      "source": [
        "def mapping(lst):\n",
        "    dic = {}\n",
        "    for i in lst:\n",
        "        dic[i]=i.upper()\n",
        "\n",
        "    return dic\n",
        "\n",
        "print(mapping([\"a\", \"b\", \"c\"]))\n",
        "print(mapping([\"a\", \"v\", \"y\", \"z\"]))\n",
        "print(mapping([\"p\", \"s\"]))"
      ],
      "metadata": {
        "colab": {
          "base_uri": "https://localhost:8080/"
        },
        "id": "_XbggiKXCST7",
        "outputId": "a85de655-7b1d-4f1c-e362-766fa902adad"
      },
      "execution_count": 11,
      "outputs": [
        {
          "output_type": "stream",
          "name": "stdout",
          "text": [
            "{'a': 'A', 'b': 'B', 'c': 'C'}\n",
            "{'a': 'A', 'v': 'V', 'y': 'Y', 'z': 'Z'}\n",
            "{'p': 'P', 's': 'S'}\n"
          ]
        }
      ]
    },
    {
      "cell_type": "markdown",
      "source": [
        "Question4\n",
        "Write a function, that replaces all vowels in a string with a specified vowel.\n",
        "Examples\n",
        "vow_replace(&quot;apples and bananas&quot;, &quot;u&quot;) ➞ &quot;upplus und bununus&quot;\n",
        "vow_replace(&quot;cheese casserole&quot;, &quot;o&quot;) ➞ &quot;chooso cossorolo&quot;\n",
        "vow_replace(&quot;stuffed jalapeno poppers&quot;, &quot;e&quot;) ➞ &quot;steffed jelepene peppers&quot;\n",
        "Notes\n",
        "All words will be lowercase. Y is not considered a vowel."
      ],
      "metadata": {
        "id": "bx1v_Ws4EFrJ"
      }
    },
    {
      "cell_type": "code",
      "source": [
        "def vow_replace(expresson,ele):\n",
        "    vowel = ['a','e','i','o','u']\n",
        "    expresson = expresson.lower()\n",
        "    for i in vowel:\n",
        "        expresson = expresson.replace(i,ele)\n",
        "    return expresson\n",
        "\n",
        "print(vow_replace(\"apples and bananas\", \"u\"))\n",
        "print(vow_replace(\"cheese casserole\", \"o\"))\n",
        "print(vow_replace(\"stuffed jalapeno poppers\", \"e\"))"
      ],
      "metadata": {
        "colab": {
          "base_uri": "https://localhost:8080/"
        },
        "id": "GFppaQo6DmgH",
        "outputId": "fe76093f-f055-40f4-a023-0fe38911e07e"
      },
      "execution_count": 12,
      "outputs": [
        {
          "output_type": "stream",
          "name": "stdout",
          "text": [
            "upplus und bununus\n",
            "chooso cossorolo\n",
            "steffed jelepene peppers\n"
          ]
        }
      ]
    },
    {
      "cell_type": "markdown",
      "source": [
        "Question5\n",
        "Create a function that takes a string as input and capitalizes a letter if its ASCII code is even\n",
        "and returns its lower case version if its ASCII code is odd.\n",
        "Examples\n",
        "ascii_capitalize(&quot;to be or not to be!&quot;) ➞ &quot;To Be oR NoT To Be!&quot;\n",
        "ascii_capitalize(&quot;THE LITTLE MERMAID&quot;) ➞ &quot;THe LiTTLe meRmaiD&quot;\n",
        "ascii_capitalize(&quot;Oh what a beautiful morning.&quot;) ➞ &quot;oH wHaT a BeauTiFuL\n",
        "moRNiNg.&quot;"
      ],
      "metadata": {
        "id": "AW_kczGlE_3w"
      }
    },
    {
      "cell_type": "code",
      "source": [
        "def ascii_captialze(string):\n",
        "    lst = []\n",
        "    for i in string:\n",
        "        if ord(i)%2==0:\n",
        "            lst.append(i.upper())\n",
        "        else:\n",
        "            lst.append(i.lower())\n",
        "\n",
        "    return \"\".join(lst)\n",
        "\n",
        "print(ascii_captialze(\"to be or not to be!\"))\n",
        "print(ascii_captialze(\"THE LITTLE MERMAID\"))\n",
        "print(ascii_captialze(\"Oh what a beautiful morning.\"))"
      ],
      "metadata": {
        "colab": {
          "base_uri": "https://localhost:8080/"
        },
        "id": "xpvVHwxEExt9",
        "outputId": "f46066b8-2fba-4615-bfc4-aa8836a00f65"
      },
      "execution_count": 14,
      "outputs": [
        {
          "output_type": "stream",
          "name": "stdout",
          "text": [
            "To Be oR NoT To Be!\n",
            "THe LiTTLe meRmaiD\n",
            "oH wHaT a BeauTiFuL moRNiNg.\n"
          ]
        }
      ]
    },
    {
      "cell_type": "code",
      "source": [
        ""
      ],
      "metadata": {
        "id": "bxG9980yFjY5"
      },
      "execution_count": null,
      "outputs": []
    }
  ]
}