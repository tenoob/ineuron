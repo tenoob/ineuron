{
  "nbformat": 4,
  "nbformat_minor": 0,
  "metadata": {
    "colab": {
      "name": "Untitled30.ipynb",
      "provenance": [],
      "authorship_tag": "ABX9TyOtIzBzTDvcp4AcJbO0a0qh",
      "include_colab_link": true
    },
    "kernelspec": {
      "name": "python3",
      "display_name": "Python 3"
    },
    "language_info": {
      "name": "python"
    }
  },
  "cells": [
    {
      "cell_type": "markdown",
      "metadata": {
        "id": "view-in-github",
        "colab_type": "text"
      },
      "source": [
        "<a href=\"https://colab.research.google.com/github/tenoob/ineuron/blob/main/Assignment_10.ipynb\" target=\"_parent\"><img src=\"https://colab.research.google.com/assets/colab-badge.svg\" alt=\"Open In Colab\"/></a>"
      ]
    },
    {
      "cell_type": "markdown",
      "source": [
        "1.How do you distinguish between shutil.copy() and shutil.copytree()?"
      ],
      "metadata": {
        "id": "LTFRvWCMohDN"
      }
    },
    {
      "cell_type": "code",
      "execution_count": 1,
      "metadata": {
        "colab": {
          "base_uri": "https://localhost:8080/"
        },
        "id": "6NNsP13OoYsk",
        "outputId": "38bbf48a-cf6c-44da-a27e-b8fd7a1846e2"
      },
      "outputs": [
        {
          "output_type": "stream",
          "name": "stdout",
          "text": [
            "shutil.copy() copies a single file\n",
            "shutil.copytree() will copy an all content of an entire folder \n"
          ]
        }
      ],
      "source": [
        "print(\"shutil.copy() copies a single file\")\n",
        "print(\"shutil.copytree() will copy an all content of an entire folder \")"
      ]
    },
    {
      "cell_type": "markdown",
      "source": [
        "2.What function is used to rename files??"
      ],
      "metadata": {
        "id": "q7revpNqpNTy"
      }
    },
    {
      "cell_type": "code",
      "source": [
        "print(\"shutil.move()\")"
      ],
      "metadata": {
        "colab": {
          "base_uri": "https://localhost:8080/"
        },
        "id": "xIXL6pFspJSj",
        "outputId": "95b1e5e1-b4f7-43ee-c458-3281a5d753f8"
      },
      "execution_count": 2,
      "outputs": [
        {
          "output_type": "stream",
          "name": "stdout",
          "text": [
            "shutil.move()\n"
          ]
        }
      ]
    },
    {
      "cell_type": "markdown",
      "source": [
        "3.What is the difference between the delete functions in the send2trash and shutil modules?"
      ],
      "metadata": {
        "id": "Ak1851iApZyG"
      }
    },
    {
      "cell_type": "code",
      "source": [
        "print(\"send2trash will move folder or file to recycle bin\")\n",
        "print(\"shutil will delete the files or folders permanently\")"
      ],
      "metadata": {
        "colab": {
          "base_uri": "https://localhost:8080/"
        },
        "id": "RInGmIwRpVgs",
        "outputId": "f2bb8dd8-6df9-43e7-8f6f-dc5e71713212"
      },
      "execution_count": 3,
      "outputs": [
        {
          "output_type": "stream",
          "name": "stdout",
          "text": [
            "send2trash will move folder or file to recycle bin\n",
            "shutil will delete the files or folders permanently\n"
          ]
        }
      ]
    },
    {
      "cell_type": "markdown",
      "source": [
        "4.ZipFile objects have a close() method just like File objects’ close() method. What ZipFile method is\n",
        "equivalent to File objects’ open() method?"
      ],
      "metadata": {
        "id": "S1AbT5iYpvir"
      }
    },
    {
      "cell_type": "code",
      "source": [
        "print(\"zipfile.ZipFile() is equivalennt to file objects open()\")"
      ],
      "metadata": {
        "colab": {
          "base_uri": "https://localhost:8080/"
        },
        "id": "Lo-LiWxepsMd",
        "outputId": "2cdf5549-84d4-417c-86b1-731d4fdfaba7"
      },
      "execution_count": 5,
      "outputs": [
        {
          "output_type": "stream",
          "name": "stdout",
          "text": [
            "zipfile.ZipFile() is equivalennt to file objects open()\n"
          ]
        }
      ]
    },
    {
      "cell_type": "markdown",
      "source": [
        "5.Create a programme that searches a folder tree for files with a certain file extension (such as .pdf\n",
        "or .jpg). Copy these files from whatever location they are in to a new folder."
      ],
      "metadata": {
        "id": "l0-Pi_uDqHir"
      }
    },
    {
      "cell_type": "code",
      "source": [
        "import os , shutil\n",
        "\n",
        "def searchfoler(folder, extension,destfolder):\n",
        "    folder = os.path.abspath(folder)\n",
        "    destfolder = os.path.abspath(destfolder)\n",
        "    print('Folder :',folder,'entensions ',','.join(extensions))\n",
        "    for foldername,subfolder,filenames in os.walk(folder):\n",
        "        for filename in filenames:\n",
        "            name , extenstion = os.path.splitext(filename)\n",
        "            if extenstion in extension:\n",
        "                abspath = foldername+os.path.sep+filename\n",
        "                print('copy:',abspath,'to',destfolder)\n",
        "                shutil.copy(abspath,destfolder)\n",
        "\n",
        "\n",
        "extensions = ['.json']\n",
        "folder = 'sample_data/'\n",
        "destfolder = 'sample/'\n",
        "\n",
        "searchfoler(folder,extensions,destfolder)\n"
      ],
      "metadata": {
        "colab": {
          "base_uri": "https://localhost:8080/"
        },
        "id": "7J1LNxuNp_vr",
        "outputId": "ad7e69db-75bf-479d-85b2-279f2261b5cd"
      },
      "execution_count": 6,
      "outputs": [
        {
          "output_type": "stream",
          "name": "stdout",
          "text": [
            "Folder : /content/sample_data entensions  .json\n",
            "copy: /content/sample_data/anscombe.json to /content/sample\n"
          ]
        }
      ]
    },
    {
      "cell_type": "code",
      "source": [
        ""
      ],
      "metadata": {
        "id": "ZApCHrIIsKFR"
      },
      "execution_count": null,
      "outputs": []
    }
  ]
}