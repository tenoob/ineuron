{
  "nbformat": 4,
  "nbformat_minor": 0,
  "metadata": {
    "colab": {
      "name": "Untitled21.ipynb",
      "provenance": [],
      "authorship_tag": "ABX9TyPubsOnNF33bGcEzq6Jxket",
      "include_colab_link": true
    },
    "kernelspec": {
      "name": "python3",
      "display_name": "Python 3"
    },
    "language_info": {
      "name": "python"
    }
  },
  "cells": [
    {
      "cell_type": "markdown",
      "metadata": {
        "id": "view-in-github",
        "colab_type": "text"
      },
      "source": [
        "<a href=\"https://colab.research.google.com/github/tenoob/ineuron/blob/main/Assignment_6.ipynb\" target=\"_parent\"><img src=\"https://colab.research.google.com/assets/colab-badge.svg\" alt=\"Open In Colab\"/></a>"
      ]
    },
    {
      "cell_type": "markdown",
      "source": [
        "1.What are escape characters, and how do you use them?"
      ],
      "metadata": {
        "id": "w0gEuiWiFoJ3"
      }
    },
    {
      "cell_type": "code",
      "execution_count": 1,
      "metadata": {
        "colab": {
          "base_uri": "https://localhost:8080/",
          "height": 54
        },
        "id": "C4K9-d9jFQ6q",
        "outputId": "7231f578-e3c5-4896-b018-09991d348297"
      },
      "outputs": [
        {
          "output_type": "stream",
          "name": "stdout",
          "text": [
            "an escape character is a backslash \\ followed by a character we want to insert\n"
          ]
        },
        {
          "output_type": "execute_result",
          "data": {
            "application/vnd.google.colaboratory.intrinsic+json": {
              "type": "string"
            },
            "text/plain": [
              "\"Hey, what's up\""
            ]
          },
          "metadata": {},
          "execution_count": 1
        }
      ],
      "source": [
        "print(\"an escape character is a backslash \\ followed by a character we want to insert\")\n",
        "s = 'Hey, what\\'s up'\n",
        "s"
      ]
    },
    {
      "cell_type": "markdown",
      "source": [
        "2.What do the escape characters n and t stand for?"
      ],
      "metadata": {
        "id": "nHYktZTpHioJ"
      }
    },
    {
      "cell_type": "code",
      "source": [
        "print(\"\\\\n stands for new line\")\n",
        "print(\"\\\\t stands for tab\")"
      ],
      "metadata": {
        "colab": {
          "base_uri": "https://localhost:8080/"
        },
        "id": "kM2D8GiMHeAb",
        "outputId": "62bbe8f8-33d2-43d9-973c-842a63f474c1"
      },
      "execution_count": 2,
      "outputs": [
        {
          "output_type": "stream",
          "name": "stdout",
          "text": [
            "\\n stands for new line\n",
            "\\t stands for tab\n"
          ]
        }
      ]
    },
    {
      "cell_type": "markdown",
      "source": [
        "3.What is the way to include backslash characters in a string?"
      ],
      "metadata": {
        "id": "a1Rsj_5VH39a"
      }
    },
    {
      "cell_type": "code",
      "source": [
        "print(\"to include backslash character in a string we have to use double backslash \\\\ \")"
      ],
      "metadata": {
        "colab": {
          "base_uri": "https://localhost:8080/"
        },
        "id": "bg5vSGRQHzLp",
        "outputId": "6b504909-e529-4bda-eaf6-fb4466c2610b"
      },
      "execution_count": 3,
      "outputs": [
        {
          "output_type": "stream",
          "name": "stdout",
          "text": [
            "to include backslash character in a string we have to use double backslash \\\n"
          ]
        }
      ]
    },
    {
      "cell_type": "markdown",
      "source": [
        "4.The string &quot;Howl&#39;s Moving Castle&quot; is a correct value. Why isn&#39;t the single quote character in the\n",
        "word Howl&#39;s not escaped a problem?"
      ],
      "metadata": {
        "id": "_dkVzM7nIUK4"
      }
    },
    {
      "cell_type": "code",
      "source": [
        "print(\"it is fine as the start and end of the string is represented in double quotes\")"
      ],
      "metadata": {
        "colab": {
          "base_uri": "https://localhost:8080/"
        },
        "id": "lSvW-j7ZIMcq",
        "outputId": "3b309cf2-8c35-4c51-bbb5-4ded64b8f2bd"
      },
      "execution_count": 4,
      "outputs": [
        {
          "output_type": "stream",
          "name": "stdout",
          "text": [
            "it is fine as the start and end of the string is represented in double quotes\n"
          ]
        }
      ]
    },
    {
      "cell_type": "markdown",
      "source": [
        "5.How do you write a string of newlines if you don&#39;t want to use the n character?"
      ],
      "metadata": {
        "id": "hgvjfs_rIyZT"
      }
    },
    {
      "cell_type": "code",
      "source": [
        "a = \"\"\"This can be\n",
        "achived by using multiline string \n",
        "insted of \\\\n\"\"\"\n",
        "\n",
        "print(a)"
      ],
      "metadata": {
        "colab": {
          "base_uri": "https://localhost:8080/"
        },
        "id": "YzlT4eVxIuIr",
        "outputId": "72e584f9-c6d4-469b-ef2a-1c908c33e055"
      },
      "execution_count": 7,
      "outputs": [
        {
          "output_type": "stream",
          "name": "stdout",
          "text": [
            "This can be\n",
            "achived by using multiline string \n",
            "insted of \\n\n"
          ]
        }
      ]
    },
    {
      "cell_type": "markdown",
      "source": [
        "6. What are the values of the given expressions?\n",
        "&#39;Hello, world!&#39;[1]\n",
        "&#39;Hello, world!&#39;[0:5]\n",
        "&#39;Hello, world!&#39;[:5]\n",
        "&#39;Hello, world!&#39;[3:]"
      ],
      "metadata": {
        "id": "Tl7-HWetJYLJ"
      }
    },
    {
      "cell_type": "code",
      "source": [
        "print('e')\n",
        "print('Hello')\n",
        "print('Hello')\n",
        "print('llo, world!')\n"
      ],
      "metadata": {
        "colab": {
          "base_uri": "https://localhost:8080/"
        },
        "id": "uZX1oDWYJMsv",
        "outputId": "01cb21be-a6a9-4ca3-adbe-f082b18fec2a"
      },
      "execution_count": 8,
      "outputs": [
        {
          "output_type": "stream",
          "name": "stdout",
          "text": [
            "e\n",
            "Hello\n",
            "Hello\n",
            "llo, world!\n"
          ]
        }
      ]
    },
    {
      "cell_type": "markdown",
      "source": [
        "7.What are the values of the following expressions?\n",
        "&#39;Hello&#39;.upper()\n",
        "&#39;Hello&#39;.upper().isupper()\n",
        "&#39;Hello&#39;.upper().lower()"
      ],
      "metadata": {
        "id": "yjhP5JY4J5Rv"
      }
    },
    {
      "cell_type": "code",
      "source": [
        "print(\"HELLO\")\n",
        "print(\"True\")\n",
        "print(\"hello\")"
      ],
      "metadata": {
        "colab": {
          "base_uri": "https://localhost:8080/"
        },
        "id": "wjYMsKWXJ-8Q",
        "outputId": "9e89524e-d373-495e-d58a-3ac9fe6e4650"
      },
      "execution_count": 9,
      "outputs": [
        {
          "output_type": "stream",
          "name": "stdout",
          "text": [
            "HELLO\n",
            "True\n",
            "hello\n"
          ]
        }
      ]
    },
    {
      "cell_type": "markdown",
      "source": [
        "8.What are the values of the following expressions?\n",
        "&#39;Remember, remember, the fifth of July.&#39;.split()\n",
        "&#39;-&#39;.join(&#39;There can only one.&#39;.split())"
      ],
      "metadata": {
        "id": "3x-YxhzGJ-iE"
      }
    },
    {
      "cell_type": "code",
      "source": [
        "a = 'Remember, remember, the fifth of July.'.split()\n",
        "b =  '-'.join('There can only one.'.split())"
      ],
      "metadata": {
        "id": "os9oWmwaJx0X"
      },
      "execution_count": 15,
      "outputs": []
    },
    {
      "cell_type": "code",
      "source": [
        "a "
      ],
      "metadata": {
        "colab": {
          "base_uri": "https://localhost:8080/"
        },
        "id": "jK4KwULmKf1w",
        "outputId": "0dc73b3d-6ae2-4413-89c1-d6a8e2ba898e"
      },
      "execution_count": 16,
      "outputs": [
        {
          "output_type": "execute_result",
          "data": {
            "text/plain": [
              "['Remember,', 'remember,', 'the', 'fifth', 'of', 'July.']"
            ]
          },
          "metadata": {},
          "execution_count": 16
        }
      ]
    },
    {
      "cell_type": "code",
      "source": [
        "b"
      ],
      "metadata": {
        "colab": {
          "base_uri": "https://localhost:8080/",
          "height": 35
        },
        "id": "B5MfVDddLDnP",
        "outputId": "085ceb53-9e57-4975-a42b-d3108eb9549a"
      },
      "execution_count": 17,
      "outputs": [
        {
          "output_type": "execute_result",
          "data": {
            "application/vnd.google.colaboratory.intrinsic+json": {
              "type": "string"
            },
            "text/plain": [
              "'There-can-only-one.'"
            ]
          },
          "metadata": {},
          "execution_count": 17
        }
      ]
    },
    {
      "cell_type": "markdown",
      "source": [
        "9.What are the methods for right-justifying, left-justifying, and centering a string?"
      ],
      "metadata": {
        "id": "_tgkFjEDLPM4"
      }
    },
    {
      "cell_type": "code",
      "source": [
        "print(\"rjust() , ljust() and center() \")"
      ],
      "metadata": {
        "colab": {
          "base_uri": "https://localhost:8080/"
        },
        "id": "LVB86D6-LGeK",
        "outputId": "bb22ce45-1d0a-4557-f2d8-e2aaf304849e"
      },
      "execution_count": 19,
      "outputs": [
        {
          "output_type": "stream",
          "name": "stdout",
          "text": [
            "rjust() , ljust() and center() \n"
          ]
        }
      ]
    },
    {
      "cell_type": "markdown",
      "source": [
        "10.What is the best way to remove whitespace characters from the start or end?"
      ],
      "metadata": {
        "id": "AIN6iBWQLb3S"
      }
    },
    {
      "cell_type": "code",
      "source": [
        "print(\"by using lstrip() and rstrip() \")"
      ],
      "metadata": {
        "colab": {
          "base_uri": "https://localhost:8080/"
        },
        "id": "DpEm9kl3LYdj",
        "outputId": "bfa52f5d-c984-4eae-e38b-d1c68e5fd31a"
      },
      "execution_count": 20,
      "outputs": [
        {
          "output_type": "stream",
          "name": "stdout",
          "text": [
            "by using lstrip() and rstrip() \n"
          ]
        }
      ]
    },
    {
      "cell_type": "code",
      "source": [
        ""
      ],
      "metadata": {
        "id": "DACQEX49Lmr0"
      },
      "execution_count": null,
      "outputs": []
    }
  ]
}