{
  "nbformat": 4,
  "nbformat_minor": 0,
  "metadata": {
    "colab": {
      "name": "Untitled19.ipynb",
      "provenance": [],
      "authorship_tag": "ABX9TyMqF6sCTFmu6eDb0gw4fFtt",
      "include_colab_link": true
    },
    "kernelspec": {
      "name": "python3",
      "display_name": "Python 3"
    },
    "language_info": {
      "name": "python"
    }
  },
  "cells": [
    {
      "cell_type": "markdown",
      "metadata": {
        "id": "view-in-github",
        "colab_type": "text"
      },
      "source": [
        "<a href=\"https://colab.research.google.com/github/tenoob/ineuron/blob/main/Assignment_4.ipynb\" target=\"_parent\"><img src=\"https://colab.research.google.com/assets/colab-badge.svg\" alt=\"Open In Colab\"/></a>"
      ]
    },
    {
      "cell_type": "markdown",
      "source": [
        "1.What exactly is []?"
      ],
      "metadata": {
        "id": "3uEP8UcieF7j"
      }
    },
    {
      "cell_type": "code",
      "execution_count": 1,
      "metadata": {
        "colab": {
          "base_uri": "https://localhost:8080/"
        },
        "id": "hzCMzWj9buNV",
        "outputId": "b5c66e20-9ff2-4f9f-f6ed-9494e024c0cd"
      },
      "outputs": [
        {
          "output_type": "stream",
          "name": "stdout",
          "text": [
            "[] in python denotes an empty list\n"
          ]
        }
      ],
      "source": [
        "print(\"[] in python denotes an empty list\")"
      ]
    },
    {
      "cell_type": "markdown",
      "source": [
        "2.In a list of values stored in a variable called spam, how would you assign the value &#39;hello&#39; as the\n",
        "third value? (Assume [2, 4, 6, 8, 10] are in spam.)"
      ],
      "metadata": {
        "id": "1dECOGNuf1x6"
      }
    },
    {
      "cell_type": "code",
      "source": [
        "spam =[2, 4, 6, 8, 10]\n",
        "print(spam)\n",
        "spam[2]='hello'\n",
        "print(spam)"
      ],
      "metadata": {
        "colab": {
          "base_uri": "https://localhost:8080/"
        },
        "id": "6Hve5Dp4fxoj",
        "outputId": "79406d72-8808-4aa6-d7df-8b5673d7326c"
      },
      "execution_count": 2,
      "outputs": [
        {
          "output_type": "stream",
          "name": "stdout",
          "text": [
            "[2, 4, 6, 8, 10]\n",
            "[2, 4, 'hello', 8, 10]\n"
          ]
        }
      ]
    },
    {
      "cell_type": "markdown",
      "source": [
        "Let&#39;s pretend the spam includes the list [&#39;a&#39;, &#39;b&#39;, &#39;c&#39;, &#39;d&#39;] for the next three queries.<br>\n",
        "3.What is the value of spam[int(int(&#39;3&#39; * 2) / 11)]?"
      ],
      "metadata": {
        "id": "FBqCLLI6gXVq"
      }
    },
    {
      "cell_type": "code",
      "source": [
        "spam = ['a', 'b', 'c', 'd']\n",
        "print(\"when we calculate int(int('3' * 2) / 11) it comes out to 3 so spam[3]=d\")"
      ],
      "metadata": {
        "colab": {
          "base_uri": "https://localhost:8080/"
        },
        "id": "QtiWMaWigNGf",
        "outputId": "7a62dd1e-4181-44c6-8b4d-ddc4ac120a58"
      },
      "execution_count": 5,
      "outputs": [
        {
          "output_type": "stream",
          "name": "stdout",
          "text": [
            "when we calculate int(int('3' * 2) / 11) it comes out to 3 so spam[3]=d\n"
          ]
        }
      ]
    },
    {
      "cell_type": "markdown",
      "source": [
        "4.What is the value of spam[-1]?"
      ],
      "metadata": {
        "id": "vNsorguZiHSw"
      }
    },
    {
      "cell_type": "code",
      "source": [
        "print(\"-1 means last element which is d\")"
      ],
      "metadata": {
        "colab": {
          "base_uri": "https://localhost:8080/"
        },
        "id": "BlRh9XhTh5kk",
        "outputId": "11db5999-8ba0-4fdf-b10f-6693ef54addf"
      },
      "execution_count": 6,
      "outputs": [
        {
          "output_type": "stream",
          "name": "stdout",
          "text": [
            "-1 means last element which is d\n"
          ]
        }
      ]
    },
    {
      "cell_type": "markdown",
      "source": [
        "5.What is the value of spam[:2]?"
      ],
      "metadata": {
        "id": "65DpSxHQiUtd"
      }
    },
    {
      "cell_type": "code",
      "source": [
        "print(\"[:2] means upto 2 which means from index 0 to 2 but not including 2 which will print ['a','b'] \")"
      ],
      "metadata": {
        "colab": {
          "base_uri": "https://localhost:8080/"
        },
        "id": "PJAqNo99iOXh",
        "outputId": "0b0e8be3-1418-4fd0-9421-b107dda531a3"
      },
      "execution_count": 8,
      "outputs": [
        {
          "output_type": "stream",
          "name": "stdout",
          "text": [
            "[:2] means upto 2 which means from index 0 to 2 but not including 2 which will print ['a','b'] \n"
          ]
        }
      ]
    },
    {
      "cell_type": "markdown",
      "source": [
        "Let&#39;s pretend bacon has the list [3.14, &#39;cat,&#39; 11, &#39;cat,&#39; True] for the next three questions.<br>\n",
        "6.What is the value of bacon.index(&#39;cat&#39;)?"
      ],
      "metadata": {
        "id": "38oECSyJiw9y"
      }
    },
    {
      "cell_type": "code",
      "source": [
        "bacon = [3.14, 'cat', 11, 'cat', True] \n",
        "print(\"it will print the first index which is cat means 1\")"
      ],
      "metadata": {
        "colab": {
          "base_uri": "https://localhost:8080/"
        },
        "id": "0h54ezeXim97",
        "outputId": "f96a5536-1581-4585-b361-07d4985ee859"
      },
      "execution_count": 11,
      "outputs": [
        {
          "output_type": "stream",
          "name": "stdout",
          "text": [
            "it will print the first index which is cat means 1\n"
          ]
        }
      ]
    },
    {
      "cell_type": "markdown",
      "source": [
        "7.How does bacon.append(99) change the look of the list value in bacon?"
      ],
      "metadata": {
        "id": "f_8ecG58kNQV"
      }
    },
    {
      "cell_type": "code",
      "source": [
        "print(\".append() will add the element to the end of the list\")\n",
        "print(\"so the list will be [3.14, 'cat', 11, 'cat', True,99]\")"
      ],
      "metadata": {
        "colab": {
          "base_uri": "https://localhost:8080/"
        },
        "id": "kquR9Y_rjCFI",
        "outputId": "12268446-ea8a-4e15-fee0-6163df64985b"
      },
      "execution_count": 12,
      "outputs": [
        {
          "output_type": "stream",
          "name": "stdout",
          "text": [
            ".append() will add the element to the end of the list\n",
            "so the list will be [3.14, 'cat', 11, 'cat', True,99]\n"
          ]
        }
      ]
    },
    {
      "cell_type": "markdown",
      "source": [
        "8.How does bacon.remove(&#39;cat&#39;) change the look of the list in bacon?"
      ],
      "metadata": {
        "id": "PZPeMA01kxi_"
      }
    },
    {
      "cell_type": "code",
      "source": [
        "print(\".remove() will remove the first occurance of the element from the list\")\n",
        "print(\"the list will now be [3.14, 11, 'cat', True]\")"
      ],
      "metadata": {
        "colab": {
          "base_uri": "https://localhost:8080/"
        },
        "id": "2qSV9c6-kuNu",
        "outputId": "21f9f312-42f7-49f0-be9f-17cdc3b7e673"
      },
      "execution_count": 13,
      "outputs": [
        {
          "output_type": "stream",
          "name": "stdout",
          "text": [
            ".remove() will remove the first occurance of the element from the list\n",
            "the list will now be [3.14, 11, 'cat', True]\n"
          ]
        }
      ]
    },
    {
      "cell_type": "markdown",
      "source": [
        "9.What are the list concatenation and list replication operators?"
      ],
      "metadata": {
        "id": "PjX1XDhxlMXX"
      }
    },
    {
      "cell_type": "code",
      "source": [
        "print(\"for list concatenation + operator is used\")\n",
        "print(\"for list replication * operator is used\")"
      ],
      "metadata": {
        "colab": {
          "base_uri": "https://localhost:8080/"
        },
        "id": "f4n1s05nlK0p",
        "outputId": "40be81c8-7b10-4c37-ab2e-8e066583df00"
      },
      "execution_count": 14,
      "outputs": [
        {
          "output_type": "stream",
          "name": "stdout",
          "text": [
            "for list concatenation + operator is used\n",
            "for list replication * operator is used\n"
          ]
        }
      ]
    },
    {
      "cell_type": "markdown",
      "source": [
        "10.What is difference between the list methods append() and insert()?"
      ],
      "metadata": {
        "id": "qTZ5lrb1l_wx"
      }
    },
    {
      "cell_type": "code",
      "source": [
        "print(\"append() is used to add element to the end of the list\")\n",
        "print(\"insert() is used to add element anywhere in the list\")"
      ],
      "metadata": {
        "colab": {
          "base_uri": "https://localhost:8080/"
        },
        "id": "zngZ9CLal66m",
        "outputId": "a51e8d1e-defc-4ac0-be8b-7d5103a56c77"
      },
      "execution_count": 15,
      "outputs": [
        {
          "output_type": "stream",
          "name": "stdout",
          "text": [
            "append() is used to add element to the end of the list\n",
            "insert() is used to add element anywhere in the list\n"
          ]
        }
      ]
    },
    {
      "cell_type": "markdown",
      "source": [
        "11.What are the two methods for removing items from a list?"
      ],
      "metadata": {
        "id": "2m31E259mWvR"
      }
    },
    {
      "cell_type": "code",
      "source": [
        "print(\"del and remove() can be used to remove items from a list\")"
      ],
      "metadata": {
        "colab": {
          "base_uri": "https://localhost:8080/"
        },
        "id": "Gth_zL5-mTnU",
        "outputId": "fed4ffb1-0dff-4881-9086-4e4b1dd79479"
      },
      "execution_count": 16,
      "outputs": [
        {
          "output_type": "stream",
          "name": "stdout",
          "text": [
            "del and remove() can be used to remove items from a list\n"
          ]
        }
      ]
    },
    {
      "cell_type": "markdown",
      "source": [
        "12.Describe how list values and string values are identical."
      ],
      "metadata": {
        "id": "eInaZfhNmr2z"
      }
    },
    {
      "cell_type": "code",
      "source": [
        "print(\"they both are identical as we can use them in loops, do slicing and indexing and use len()\")"
      ],
      "metadata": {
        "colab": {
          "base_uri": "https://localhost:8080/"
        },
        "id": "KrjgH1qqmn3J",
        "outputId": "3af1b6a3-1b0d-4529-e47d-29a2fb8a3380"
      },
      "execution_count": 17,
      "outputs": [
        {
          "output_type": "stream",
          "name": "stdout",
          "text": [
            "they both are identical as we can use them in loops, do slicing and indexing and use len()\n"
          ]
        }
      ]
    },
    {
      "cell_type": "markdown",
      "source": [
        "13.What&#39;s the difference between tuples and lists?"
      ],
      "metadata": {
        "id": "VnqHNg7wnUY8"
      }
    },
    {
      "cell_type": "code",
      "source": [
        "print(\"list are initilize using [] , they can be mutable, we can add, remove or change values in a list \")\n",
        "print(\"tuples are initilize using (), they are immutable, we can just add and remove but not change values in a list\")"
      ],
      "metadata": {
        "colab": {
          "base_uri": "https://localhost:8080/"
        },
        "id": "fU1uwJ-jnJ7G",
        "outputId": "7fd43c79-f3d4-4193-a44f-aa7b52856045"
      },
      "execution_count": 18,
      "outputs": [
        {
          "output_type": "stream",
          "name": "stdout",
          "text": [
            "list are initilize using [] , they can be mutable, we can add, remove or change values in a list \n",
            "tuples are initilize using (), they are immutable, we can just add and remove but not change values in a list\n"
          ]
        }
      ]
    },
    {
      "cell_type": "markdown",
      "source": [
        "14.How do you type a tuple value that only contains the integer 42?"
      ],
      "metadata": {
        "id": "Ly9VsT_JpeX1"
      }
    },
    {
      "cell_type": "code",
      "source": [
        "a = (42,)"
      ],
      "metadata": {
        "id": "WTSDercbpaSo"
      },
      "execution_count": 19,
      "outputs": []
    },
    {
      "cell_type": "markdown",
      "source": [
        "15.How do you get a list value&#39;s tuple form? How do you get a tuple value&#39;s list form?"
      ],
      "metadata": {
        "id": "fZqrjmuqppGo"
      }
    },
    {
      "cell_type": "code",
      "source": [
        "print(\"by using list() and tuple() function\")"
      ],
      "metadata": {
        "colab": {
          "base_uri": "https://localhost:8080/"
        },
        "id": "czDTSuwvpmHG",
        "outputId": "48c9949b-96f3-4926-cca8-0eae67fac909"
      },
      "execution_count": 20,
      "outputs": [
        {
          "output_type": "stream",
          "name": "stdout",
          "text": [
            "by using list() and tuple() function\n"
          ]
        }
      ]
    },
    {
      "cell_type": "markdown",
      "source": [
        "16.Variables that &quot;contain&quot; list values are not necessarily lists themselves. Instead, what do they\n",
        "contain?"
      ],
      "metadata": {
        "id": "K-Q5OoQip61m"
      }
    },
    {
      "cell_type": "code",
      "source": [
        "print(\"they contain reference to list value\")"
      ],
      "metadata": {
        "colab": {
          "base_uri": "https://localhost:8080/"
        },
        "id": "T4Euzz1Wp4U2",
        "outputId": "fe1cf044-1c3e-47b4-aaf2-e4cc248fd053"
      },
      "execution_count": 21,
      "outputs": [
        {
          "output_type": "stream",
          "name": "stdout",
          "text": [
            "they contain reference to list value\n"
          ]
        }
      ]
    },
    {
      "cell_type": "markdown",
      "source": [
        "17.How do you distinguish between copy.copy() and copy.deepcopy()?"
      ],
      "metadata": {
        "id": "J--w2Ga8qHws"
      }
    },
    {
      "cell_type": "code",
      "source": [
        "print(\"copy.copy() creates a shallow copy\")\n",
        "print(\"copy.deepcopy() creates a deep copy\")"
      ],
      "metadata": {
        "colab": {
          "base_uri": "https://localhost:8080/"
        },
        "id": "nrdqedWaqFdQ",
        "outputId": "812c093d-6e0c-4108-a259-5c2843ace981"
      },
      "execution_count": 22,
      "outputs": [
        {
          "output_type": "stream",
          "name": "stdout",
          "text": [
            "copy.copy() creates a shallow copy\n",
            "copy.deepcopy() creates a deep copy\n"
          ]
        }
      ]
    },
    {
      "cell_type": "code",
      "source": [
        ""
      ],
      "metadata": {
        "id": "aqrhcGvoqv4c"
      },
      "execution_count": null,
      "outputs": []
    }
  ]
}